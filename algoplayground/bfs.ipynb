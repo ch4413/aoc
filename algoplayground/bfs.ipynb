{
 "cells": [
  {
   "cell_type": "code",
   "execution_count": 5,
   "metadata": {},
   "outputs": [
    {
     "name": "stdout",
     "output_type": "stream",
     "text": [
      "Shortest path: [(0, 0), (1, 0), (2, 0), (3, 0), (4, 0), (4, 1), (4, 2), (4, 3)]\n"
     ]
    }
   ],
   "source": [
    "from collections import deque\n",
    "\n",
    "def bfs_shortest_path(grid, start, goal):\n",
    "    \"\"\"\n",
    "    Find the shortest path from start to goal in a grid using BFS.\n",
    "    \n",
    "    Parameters:\n",
    "        grid (list of list of int): 2D list representing the grid (0 for open, 1 for blocked)\n",
    "        start (tuple): Starting position in the grid (row, col)\n",
    "        goal (tuple): Goal position in the grid (row, col)\n",
    "    \n",
    "    Returns:\n",
    "        list: The shortest path from start to goal, or an empty list if no path exists\n",
    "    \"\"\"\n",
    "    # Directions for moving up, down, left, right\n",
    "    directions = [(-1, 0), (1, 0), (0, -1), (0, 1)]\n",
    "    \n",
    "    # Get grid dimensions\n",
    "    rows, cols = len(grid), len(grid[0])\n",
    "    \n",
    "    # Check if start or goal is out of bounds or blocked\n",
    "    if (not (0 <= start[0] < rows and 0 <= start[1] < cols) or\n",
    "        not (0 <= goal[0] < rows and 0 <= goal[1] < cols) or\n",
    "        grid[start[0]][start[1]] == 1 or\n",
    "        grid[goal[0]][goal[1]] == 1):\n",
    "        return []\n",
    "    \n",
    "    # Initialize BFS queue\n",
    "    queue = deque([(start, [start])])\n",
    "    visited = set()\n",
    "    visited.add(start)\n",
    "    \n",
    "    while queue:\n",
    "        (current_row, current_col), path = queue.popleft()\n",
    "        \n",
    "        # Check if we have reached the goal\n",
    "        if (current_row, current_col) == goal:\n",
    "            return path\n",
    "        \n",
    "        # Explore neighbors\n",
    "        for d_row, d_col in directions:\n",
    "            new_row, new_col = current_row + d_row, current_col + d_col\n",
    "            \n",
    "            if (0 <= new_row < rows and 0 <= new_col < cols and\n",
    "                grid[new_row][new_col] == 0 and\n",
    "                (new_row, new_col) not in visited):\n",
    "                visited.add((new_row, new_col))\n",
    "                queue.append(((new_row, new_col), path + [(new_row, new_col)]))\n",
    "    \n",
    "    # Return an empty list if there is no path\n",
    "    return []\n",
    "\n",
    "# Example usage:\n",
    "grid = [\n",
    "    [0, 0, 0, 0, 0],\n",
    "    [0, 1, 1, 1, 0],\n",
    "    [0, 0, 0, 0, 0],\n",
    "    [0, 1, 1, 1, 0],\n",
    "    [0, 0, 0, 0, 0]\n",
    "]\n",
    "start = (0, 0)\n",
    "goal = (4, 3)\n",
    "\n",
    "path = bfs_shortest_path(grid, start, goal)\n",
    "print(\"Shortest path:\", path)"
   ]
  }
 ],
 "metadata": {
  "kernelspec": {
   "display_name": "base",
   "language": "python",
   "name": "python3"
  },
  "language_info": {
   "codemirror_mode": {
    "name": "ipython",
    "version": 3
   },
   "file_extension": ".py",
   "mimetype": "text/x-python",
   "name": "python",
   "nbconvert_exporter": "python",
   "pygments_lexer": "ipython3",
   "version": "3.11.7"
  }
 },
 "nbformat": 4,
 "nbformat_minor": 2
}

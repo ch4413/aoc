{
 "cells": [
  {
   "cell_type": "code",
   "execution_count": 3,
   "metadata": {},
   "outputs": [],
   "source": [
    "with open('input8.txt', \"r\") as file:\n",
    "        text = file.read().split('\\n')[:-1]"
   ]
  },
  {
   "cell_type": "code",
   "execution_count": 4,
   "metadata": {},
   "outputs": [
    {
     "data": {
      "text/plain": [
       "488"
      ]
     },
     "execution_count": 4,
     "metadata": {},
     "output_type": "execute_result"
    }
   ],
   "source": [
    "# Part 1\n",
    "sum([sum([len(x) in [2, 3, 4, 7] for x in i.split('|')[1].strip().split(' ')]) for i in text])"
   ]
  },
  {
   "cell_type": "code",
   "execution_count": 6,
   "metadata": {},
   "outputs": [],
   "source": [
    "match_dict = {'a': '', 'b': '', 'c':'', 'd':'', 'e':'', 'f':'', 'g':''}"
   ]
  },
  {
   "cell_type": "code",
   "execution_count": null,
   "metadata": {},
   "outputs": [],
   "source": [
    "test_sample = text[0]\n",
    "nums = test_sample.split('|')[0].strip().split(' ')\n",
    "nums_len = [len(x) for x in nums ]"
   ]
  },
  {
   "cell_type": "code",
   "execution_count": null,
   "metadata": {},
   "outputs": [
    {
     "data": {
      "text/plain": [
       "Counter({'b': 9, 'e': 8, 'f': 8, 'a': 7, 'c': 7, 'd': 6, 'g': 4})"
      ]
     },
     "execution_count": 65,
     "metadata": {},
     "output_type": "execute_result"
    }
   ],
   "source": [
    "from collections import Counter\n",
    "# create counter then invert?\n",
    "Counter(list(test_sample.split('|')[0].strip(' ').replace(' ', '')))\n",
    "# e = 4\n",
    "# b = 6\n",
    "# f = 9\n",
    "# a = 7 - 1\n",
    "one = nums[nums_len.index(2)]\n",
    "seven = nums[nums_len.index(3)]\n",
    "''.join(set(seven) ^ set(one))\n",
    "# c = counter 8 but not a (the other one)\n",
    "# d = 4 not with set made of b, c, f\n",
    "four = nums[nums_len.index(4)]\n",
    "set(four) ^ set(['d', 'f', 'b'])\n",
    "# g is all chars not what has been found\n",
    "set('abcdefg') ^ set(dict_vals...)"
   ]
  },
  {
   "cell_type": "code",
   "execution_count": null,
   "metadata": {},
   "outputs": [],
   "source": [
    "# loop over 4 strings\n",
    "# Take string, change to list\n",
    "# Use list against dict, turn into new string, sort string\n",
    "# Compare with strings sets for number, return number as string e.g. '5'\n",
    "# Concat with others until 4 digits, int, add to total, cont."
   ]
  }
 ],
 "metadata": {
  "kernelspec": {
   "display_name": "base",
   "language": "python",
   "name": "python3"
  },
  "language_info": {
   "codemirror_mode": {
    "name": "ipython",
    "version": 3
   },
   "file_extension": ".py",
   "mimetype": "text/x-python",
   "name": "python",
   "nbconvert_exporter": "python",
   "pygments_lexer": "ipython3",
   "version": "3.11.7"
  }
 },
 "nbformat": 4,
 "nbformat_minor": 2
}

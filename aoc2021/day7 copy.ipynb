{
 "cells": [
  {
   "cell_type": "code",
   "execution_count": 26,
   "metadata": {},
   "outputs": [],
   "source": [
    "with open('input7.txt', \"r\") as file:\n",
    "        text = file.read().split(',')\n",
    "        numbers = list(map(int, text))\n",
    "#numbers = [16,1,2,0,4,2,7,1,2,14]"
   ]
  },
  {
   "cell_type": "code",
   "execution_count": 27,
   "metadata": {},
   "outputs": [
    {
     "name": "stdout",
     "output_type": "stream",
     "text": [
      "343441\n"
     ]
    }
   ],
   "source": [
    "diff = 1e15\n",
    "for i in range(max(numbers)):\n",
    "    steps = sum([abs(x - i) for x in numbers])\n",
    "    if steps < diff:\n",
    "        diff = steps\n",
    "print(diff)"
   ]
  },
  {
   "cell_type": "code",
   "execution_count": 28,
   "metadata": {},
   "outputs": [
    {
     "name": "stdout",
     "output_type": "stream",
     "text": [
      "98925151\n"
     ]
    }
   ],
   "source": [
    "def triangle(n):\n",
    "    return (n * (n + 1)) // 2\n",
    "\n",
    "diff = 1e15\n",
    "for i in range(max(numbers)):\n",
    "    steps = sum([triangle(abs(x - i)) for x in numbers])\n",
    "    if steps < diff:\n",
    "        diff = steps\n",
    "print(diff)"
   ]
  }
 ],
 "metadata": {
  "kernelspec": {
   "display_name": "base",
   "language": "python",
   "name": "python3"
  },
  "language_info": {
   "codemirror_mode": {
    "name": "ipython",
    "version": 3
   },
   "file_extension": ".py",
   "mimetype": "text/x-python",
   "name": "python",
   "nbconvert_exporter": "python",
   "pygments_lexer": "ipython3",
   "version": "3.11.7"
  }
 },
 "nbformat": 4,
 "nbformat_minor": 2
}

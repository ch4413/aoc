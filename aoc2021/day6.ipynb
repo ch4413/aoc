{
 "cells": [
  {
   "cell_type": "code",
   "execution_count": 4,
   "metadata": {},
   "outputs": [],
   "source": [
    "from collections import Counter"
   ]
  },
  {
   "cell_type": "code",
   "execution_count": 5,
   "metadata": {},
   "outputs": [],
   "source": [
    "with open('input6.txt', \"r\") as file:\n",
    "        text = file.read().split(',')\n",
    "        numbers = list(map(int, text))"
   ]
  },
  {
   "cell_type": "code",
   "execution_count": 87,
   "metadata": {},
   "outputs": [
    {
     "name": "stdout",
     "output_type": "stream",
     "text": [
      "362740\n"
     ]
    }
   ],
   "source": [
    "day = 0\n",
    "init_state = [[1, 112], [2, 60], [3, 42], [4, 50], [5, 36]]\n",
    "while day < 80:\n",
    "    day += 1\n",
    "    for group in init_state:\n",
    "        if group[0] == 0:\n",
    "            group[0] = 7\n",
    "            init_state.append([9, group[1]])\n",
    "        group[0] -= 1\n",
    "print(sum([x[1] for x in init_state]))"
   ]
  },
  {
   "cell_type": "code",
   "execution_count": 88,
   "metadata": {},
   "outputs": [
    {
     "name": "stdout",
     "output_type": "stream",
     "text": [
      "1644874076764\n"
     ]
    }
   ],
   "source": [
    "cc = {0: 0, 1: 112, 2: 60, 3: 42, 4:50, 5: 36, 6: 0, 7:0, 8:0, 9:0}\n",
    "#cc = {0: 0, 1: 1, 2: 1, 3: 2, 4:1, 5: 0, 6: 0, 7:0, 8:0, 9:0}\n",
    "day = 0\n",
    "while day < 256:\n",
    "    day += 1\n",
    "    cc[9] += cc[0]\n",
    "    cc[7] += cc[0]\n",
    "    cc[0] = 0\n",
    "    for i in cc.keys():\n",
    "        if i < 9:\n",
    "            cc[i] = cc[i+1]\n",
    "    cc[9] = 0\n",
    "print(sum(cc.values()))"
   ]
  }
 ],
 "metadata": {
  "kernelspec": {
   "display_name": "base",
   "language": "python",
   "name": "python3"
  },
  "language_info": {
   "codemirror_mode": {
    "name": "ipython",
    "version": 3
   },
   "file_extension": ".py",
   "mimetype": "text/x-python",
   "name": "python",
   "nbconvert_exporter": "python",
   "pygments_lexer": "ipython3",
   "version": "3.11.7"
  }
 },
 "nbformat": 4,
 "nbformat_minor": 2
}

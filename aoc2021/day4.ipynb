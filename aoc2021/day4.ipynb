{
 "cells": [
  {
   "cell_type": "code",
   "execution_count": 134,
   "metadata": {},
   "outputs": [],
   "source": [
    "import numpy as np"
   ]
  },
  {
   "cell_type": "code",
   "execution_count": 135,
   "metadata": {},
   "outputs": [],
   "source": [
    "with open('input4.txt', \"r\") as file:\n",
    "        text = file.read().split('\\n')\n",
    "\n",
    "def numpy_5(data):\n",
    "    flattened_data = \" \".join(data[0])\n",
    "    numbers = list(map(int, flattened_data.split()))\n",
    "    return np.array(numbers).reshape(5, 5)"
   ]
  },
  {
   "cell_type": "code",
   "execution_count": 136,
   "metadata": {},
   "outputs": [
    {
     "name": "stdout",
     "output_type": "stream",
     "text": [
      "45031\n"
     ]
    }
   ],
   "source": [
    "values = list(map(int, text[0].split(',')))\n",
    "boards = []\n",
    "found = False\n",
    "for i in range(2, len(text) - 5, 6):\n",
    "    boards.append([text[i:i+5]])\n",
    "boards = [numpy_5(x) for x in boards]\n",
    "\n",
    "for i in values:\n",
    "    for board in boards:\n",
    "        board[board == i] = 0\n",
    "        if any(board.sum(axis=0) == 0) | any(board.sum(axis=1) == 0):\n",
    "            print(board.sum() * i)\n",
    "            found = True\n",
    "            break\n",
    "    if found:\n",
    "        break"
   ]
  },
  {
   "cell_type": "code",
   "execution_count": 137,
   "metadata": {},
   "outputs": [
    {
     "name": "stdout",
     "output_type": "stream",
     "text": [
      "2568\n"
     ]
    }
   ],
   "source": [
    "values = list(map(int, text[0].split(',')))\n",
    "boards = []\n",
    "found = False\n",
    "for i in range(2, len(text) - 5, 6):\n",
    "    boards.append([text[i:i+5]])\n",
    "boards = [numpy_5(x) for x in boards]\n",
    "\n",
    "board_nums = set()\n",
    "for i in values:\n",
    "    for board_num in range(len(boards)):\n",
    "        boards[board_num][boards[board_num] == i] = 0\n",
    "        if any(boards[board_num].sum(axis=0) == 0) | any(boards[board_num].sum(axis=1) == 0):\n",
    "            board_nums.add(board_num)\n",
    "            if len(board_nums) == 100:\n",
    "                print(boards[board_num].sum() * i)\n",
    "                found = True\n",
    "                break\n",
    "    if found:\n",
    "        break"
   ]
  }
 ],
 "metadata": {
  "kernelspec": {
   "display_name": "base",
   "language": "python",
   "name": "python3"
  },
  "language_info": {
   "codemirror_mode": {
    "name": "ipython",
    "version": 3
   },
   "file_extension": ".py",
   "mimetype": "text/x-python",
   "name": "python",
   "nbconvert_exporter": "python",
   "pygments_lexer": "ipython3",
   "version": "3.11.7"
  }
 },
 "nbformat": 4,
 "nbformat_minor": 2
}

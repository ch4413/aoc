{
 "cells": [
  {
   "cell_type": "code",
   "execution_count": 1,
   "metadata": {},
   "outputs": [],
   "source": [
    "import re\n",
    "import numpy as np"
   ]
  },
  {
   "cell_type": "code",
   "execution_count": 2,
   "metadata": {},
   "outputs": [],
   "source": [
    "def find_coordinates(x1, y1, x2, y2):\n",
    "    coordinates = []\n",
    "    # Determine the direction and distance of the line\n",
    "    dx = abs(x2 - x1)\n",
    "    dy = abs(y2 - y1)\n",
    "    sx = 1 if x2 > x1 else -1\n",
    "    sy = 1 if y2 > y1 else -1\n",
    "    # Bresenham's Line Algorithm\n",
    "    if dx > dy:  # Line is more horizontal\n",
    "        err = dx / 2.0\n",
    "        while x1 != x2:\n",
    "            coordinates.append((x1, y1))\n",
    "            err -= dy\n",
    "            if err < 0:\n",
    "                y1 += sy\n",
    "                err += dx\n",
    "            x1 += sx\n",
    "    else:  # Line is more vertical\n",
    "        err = dy / 2.0\n",
    "        while y1 != y2:\n",
    "            coordinates.append((x1, y1))\n",
    "            err -= dx\n",
    "            if err < 0:\n",
    "                x1 += sx\n",
    "                err += dy\n",
    "            y1 += sy\n",
    "    # Add the last point\n",
    "    coordinates.append((x2, y2))\n",
    "    return coordinates"
   ]
  },
  {
   "cell_type": "code",
   "execution_count": 3,
   "metadata": {},
   "outputs": [],
   "source": [
    "with open('input5.txt', \"r\") as file:\n",
    "        text = file.read().strip('').split('\\n')\n",
    "values = [list(map(int, re.findall('\\d+', x))) for x in text]\n",
    "values = values[:-1]\n",
    "max_values = np.array(values).max(axis=0)"
   ]
  },
  {
   "cell_type": "code",
   "execution_count": 4,
   "metadata": {},
   "outputs": [],
   "source": [
    "xmax = max_values.max() + 1\n",
    "ymax = max_values.max() + 1\n",
    "grid = np.zeros((xmax, ymax))"
   ]
  },
  {
   "cell_type": "code",
   "execution_count": 5,
   "metadata": {},
   "outputs": [
    {
     "data": {
      "text/plain": [
       "3990"
      ]
     },
     "execution_count": 5,
     "metadata": {},
     "output_type": "execute_result"
    }
   ],
   "source": [
    "for value in values:\n",
    "    if (value[0]==value[2]) | (value[1]==value[3]):\n",
    "        coords = find_coordinates(value[0], value[1], value[2], value[3])\n",
    "        for coord in coords:\n",
    "            grid[coord] += 1\n",
    "    else:\n",
    "        pass\n",
    "(grid > 1).sum()"
   ]
  },
  {
   "cell_type": "code",
   "execution_count": 7,
   "metadata": {},
   "outputs": [
    {
     "data": {
      "text/plain": [
       "21305"
      ]
     },
     "execution_count": 7,
     "metadata": {},
     "output_type": "execute_result"
    }
   ],
   "source": [
    "grid = np.zeros((xmax, ymax))\n",
    "for value in values:\n",
    "    coords = find_coordinates(value[0], value[1], value[2], value[3])\n",
    "    for coord in coords:\n",
    "        grid[coord] += 1\n",
    "(grid > 1).sum()"
   ]
  }
 ],
 "metadata": {
  "kernelspec": {
   "display_name": "base",
   "language": "python",
   "name": "python3"
  },
  "language_info": {
   "codemirror_mode": {
    "name": "ipython",
    "version": 3
   },
   "file_extension": ".py",
   "mimetype": "text/x-python",
   "name": "python",
   "nbconvert_exporter": "python",
   "pygments_lexer": "ipython3",
   "version": "3.11.7"
  }
 },
 "nbformat": 4,
 "nbformat_minor": 2
}

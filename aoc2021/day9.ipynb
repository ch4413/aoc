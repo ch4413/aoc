{
 "cells": [
  {
   "cell_type": "code",
   "execution_count": 88,
   "metadata": {},
   "outputs": [],
   "source": [
    "import numpy as np"
   ]
  },
  {
   "cell_type": "code",
   "execution_count": 89,
   "metadata": {},
   "outputs": [],
   "source": [
    "with open('input9.txt', \"r\") as file:\n",
    "        text = file.read().split('\\n')[:-1]"
   ]
  },
  {
   "cell_type": "code",
   "execution_count": 90,
   "metadata": {},
   "outputs": [],
   "source": [
    "grid = np.array([list(x) for x in text]).astype('int')"
   ]
  },
  {
   "cell_type": "code",
   "execution_count": 91,
   "metadata": {},
   "outputs": [],
   "source": [
    "# start at corner\n",
    "# find all adjacent that are in range\n",
    "# if current is lower than all adjacent, return\n",
    "# else take lowest as next point, until return\n",
    "# Add x, y and value to dict\n",
    "# Move onto next point"
   ]
  },
  {
   "cell_type": "code",
   "execution_count": 92,
   "metadata": {},
   "outputs": [
    {
     "data": {
      "text/plain": [
       "array([[2, 1, 9, 9, 9, 4, 3, 2, 1, 0],\n",
       "       [3, 9, 8, 7, 8, 9, 4, 9, 2, 1],\n",
       "       [9, 8, 5, 6, 7, 8, 9, 8, 9, 2],\n",
       "       [8, 7, 6, 7, 8, 9, 6, 7, 8, 9],\n",
       "       [9, 8, 9, 9, 9, 6, 5, 6, 7, 8]])"
      ]
     },
     "execution_count": 92,
     "metadata": {},
     "output_type": "execute_result"
    }
   ],
   "source": [
    "test_s = np.array([list(x) for x in ['2199943210',\n",
    "'3987894921',\n",
    "'9856789892',\n",
    "'8767896789',\n",
    "'9899965678']]).astype('int')\n",
    "test_s"
   ]
  },
  {
   "cell_type": "code",
   "execution_count": 93,
   "metadata": {},
   "outputs": [
    {
     "data": {
      "text/plain": [
       "[(0, 1, 1),\n",
       " (0, 1, 1),\n",
       " (0, 9, 0),\n",
       " (0, 9, 0),\n",
       " (0, 9, 0),\n",
       " (0, 9, 0),\n",
       " (0, 9, 0),\n",
       " (0, 9, 0),\n",
       " (0, 9, 0),\n",
       " (0, 9, 0),\n",
       " (1, 0, 3),\n",
       " (1, 3, 7),\n",
       " (1, 3, 7),\n",
       " (1, 3, 7),\n",
       " (1, 4, 8),\n",
       " (1, 6, 4),\n",
       " (1, 6, 4),\n",
       " (1, 9, 1),\n",
       " (1, 9, 1),\n",
       " (1, 9, 1),\n",
       " (2, 2, 5),\n",
       " (2, 2, 5),\n",
       " (2, 2, 5),\n",
       " (2, 3, 6),\n",
       " (2, 4, 7),\n",
       " (2, 5, 8),\n",
       " (2, 7, 8),\n",
       " (2, 7, 8),\n",
       " (2, 9, 2),\n",
       " (2, 9, 2),\n",
       " (3, 2, 6),\n",
       " (3, 2, 6),\n",
       " (3, 2, 6),\n",
       " (3, 3, 7),\n",
       " (3, 4, 8),\n",
       " (3, 6, 6),\n",
       " (3, 6, 6),\n",
       " (3, 7, 7),\n",
       " (3, 8, 8),\n",
       " (3, 8, 8),\n",
       " (4, 1, 8),\n",
       " (4, 1, 8),\n",
       " (4, 6, 5),\n",
       " (4, 6, 5),\n",
       " (4, 6, 5),\n",
       " (4, 6, 5),\n",
       " (4, 6, 5),\n",
       " (4, 7, 6),\n",
       " (4, 8, 7),\n",
       " (4, 8, 7)]"
      ]
     },
     "execution_count": 93,
     "metadata": {},
     "output_type": "execute_result"
    }
   ],
   "source": [
    "def find_min_coord(x, y, array):\n",
    "    # Get coords\n",
    "    adj =  ((x, y + 1), (x, y - 1), (x - 1, y), (x + 1, y))\n",
    "    # Filter for in range\n",
    "    adj_filter = tuple([x for x in adj if 0 <= x[0] < array.shape[0] and 0 <= x[1] < array.shape[1]])\n",
    "    for i in adj_filter:\n",
    "        if array[x, y] >= array[i]:\n",
    "            return find_min_coord(i[0], i[1], array)\n",
    "        else:\n",
    "            return x, y, array[x, y]\n",
    "\n",
    "mins = []\n",
    "for i in range(test_s.shape[0]):\n",
    "    for j in range(test_s.shape[1]):\n",
    "        local_min = find_min_coord(i, j, test_s)\n",
    "        mins.append(local_min)\n",
    "mins\n"
   ]
  },
  {
   "cell_type": "code",
   "execution_count": 94,
   "metadata": {},
   "outputs": [
    {
     "name": "stdout",
     "output_type": "stream",
     "text": [
      "Local minima coordinates and values: [(2, 2, 5), (0, 9, 0), (4, 6, 5), (0, 1, 1)]\n"
     ]
    }
   ],
   "source": [
    "import numpy as np\n",
    "\n",
    "def find_min_coord(x, y, array):\n",
    "    # Get adjacent coordinates\n",
    "    adj = [(x, y + 1), (x, y - 1), (x - 1, y), (x + 1, y)]\n",
    "    # Filter for in-range coordinates\n",
    "    adj_filter = [(i, j) for i, j in adj if 0 <= i < array.shape[0] and 0 <= j < array.shape[1]]\n",
    "    \n",
    "    # Find the minimum value in the neighborhood (including current point)\n",
    "    current_value = array[x, y]\n",
    "    min_value = current_value\n",
    "    next_coord = None\n",
    "\n",
    "    for i, j in adj_filter:\n",
    "        if array[i, j] < min_value:  # Strictly smaller neighbor\n",
    "            min_value = array[i, j]\n",
    "            next_coord = (i, j)\n",
    "\n",
    "    if next_coord is not None:  # Move to the neighbor with the smallest value\n",
    "        return find_min_coord(next_coord[0], next_coord[1], array)\n",
    "    else:  # Local minimum found\n",
    "        return x, y, current_value\n",
    "\n",
    "mins = []\n",
    "for i in range(test_s.shape[0]):\n",
    "    for j in range(test_s.shape[1]):\n",
    "        local_min = find_min_coord(i, j, test_s)\n",
    "        mins.append(local_min)\n",
    "\n",
    "# Remove duplicates since multiple points may lead to the same local minimum\n",
    "unique_mins = list(set(mins))\n",
    "\n",
    "print(\"Local minima coordinates and values:\", unique_mins)"
   ]
  },
  {
   "cell_type": "code",
   "execution_count": 95,
   "metadata": {},
   "outputs": [
    {
     "data": {
      "text/plain": [
       "15"
      ]
     },
     "execution_count": 95,
     "metadata": {},
     "output_type": "execute_result"
    }
   ],
   "source": [
    "sum([x[2] + 1 for x in set(mins)])"
   ]
  },
  {
   "cell_type": "code",
   "execution_count": 96,
   "metadata": {},
   "outputs": [],
   "source": [
    "mins = []\n",
    "for i in range(grid.shape[0]):\n",
    "    for j in range(grid.shape[1]):\n",
    "        local_min = find_min_coord(i, j, grid)\n",
    "        mins.append(local_min)"
   ]
  },
  {
   "cell_type": "code",
   "execution_count": 97,
   "metadata": {},
   "outputs": [
    {
     "data": {
      "text/plain": [
       "1280"
      ]
     },
     "execution_count": 97,
     "metadata": {},
     "output_type": "execute_result"
    }
   ],
   "source": [
    "sum([x[2] + 1 for x in set(mins)])"
   ]
  },
  {
   "cell_type": "code",
   "execution_count": 104,
   "metadata": {},
   "outputs": [
    {
     "name": "stdout",
     "output_type": "stream",
     "text": [
      "Local minima (coordinates and values): [(0, 17, 0), (0, 46, 5), (0, 73, 1), (0, 86, 2), (1, 6, 0), (1, 13, 5), (1, 37, 0), (1, 58, 0), (1, 95, 0), (1, 99, 3), (2, 26, 0), (2, 49, 0), (4, 2, 1), (4, 81, 2), (5, 42, 0), (5, 67, 1), (5, 94, 0), (6, 53, 0), (6, 86, 1), (7, 9, 1), (7, 30, 4), (7, 60, 0), (8, 16, 0), (8, 25, 0), (8, 67, 1), (9, 36, 5), (9, 73, 0), (9, 99, 3), (10, 43, 3), (11, 40, 2), (12, 3, 0), (12, 34, 2), (12, 56, 2), (13, 13, 1), (14, 22, 0), (14, 49, 0), (14, 79, 0), (14, 89, 1), (15, 11, 5), (15, 39, 1), (15, 65, 0), (15, 96, 0), (16, 29, 0), (17, 6, 5), (17, 9, 0), (17, 72, 2), (18, 2, 4), (18, 55, 1), (19, 42, 2), (19, 85, 4), (20, 15, 0), (20, 38, 0), (21, 26, 0), (21, 82, 4), (22, 71, 0), (23, 60, 1), (23, 77, 2), (24, 1, 2), (24, 6, 1), (24, 54, 1), (24, 88, 0), (25, 32, 2), (25, 96, 1), (26, 54, 1), (27, 10, 1), (27, 38, 1), (29, 20, 0), (29, 47, 0), (29, 88, 0), (30, 4, 0), (30, 83, 1), (31, 26, 0), (31, 64, 2), (32, 34, 0), (32, 41, 0), (32, 53, 0), (33, 19, 2), (33, 59, 0), (33, 73, 1), (33, 98, 2), (34, 11, 0), (35, 93, 1), (36, 79, 1), (38, 46, 0), (38, 50, 2), (38, 65, 3), (38, 89, 2), (39, 0, 2), (39, 6, 0), (39, 38, 0), (40, 20, 1), (40, 84, 0), (41, 16, 2), (41, 31, 2), (43, 70, 0), (43, 80, 0), (43, 98, 2), (44, 47, 1), (44, 55, 1), (44, 66, 0), (45, 0, 0), (45, 23, 0), (46, 28, 3), (47, 14, 2), (47, 37, 3), (48, 8, 0), (48, 93, 1), (49, 32, 0), (49, 48, 1), (50, 41, 1), (50, 86, 1), (50, 89, 6), (51, 20, 3), (52, 2, 3), (52, 15, 0), (52, 55, 4), (52, 73, 0), (53, 66, 0), (53, 96, 0), (54, 28, 1), (54, 36, 0), (54, 60, 1), (54, 80, 4), (54, 84, 1), (55, 43, 0), (55, 51, 0), (56, 0, 3), (56, 20, 0), (56, 89, 1), (58, 5, 0), (58, 11, 0), (58, 77, 0), (59, 17, 2), (59, 31, 3), (59, 55, 5), (59, 97, 1), (60, 37, 1), (60, 64, 0), (60, 86, 0), (63, 56, 0), (63, 79, 2), (64, 1, 0), (64, 22, 0), (64, 31, 0), (64, 95, 0), (65, 6, 2), (65, 38, 0), (65, 49, 0), (65, 62, 0), (65, 72, 0), (66, 88, 0), (67, 84, 0), (68, 1, 4), (68, 15, 1), (68, 43, 0), (69, 36, 2), (69, 66, 3), (70, 57, 4), (70, 94, 2), (72, 23, 0), (72, 53, 0), (72, 80, 2), (73, 18, 2), (73, 32, 1), (73, 99, 0), (74, 1, 0), (74, 45, 1), (74, 72, 1), (74, 85, 2), (75, 6, 0), (75, 60, 0), (77, 15, 1), (77, 94, 0), (78, 29, 4), (78, 34, 2), (78, 50, 0), (78, 67, 0), (79, 22, 1), (79, 79, 1), (80, 1, 0), (80, 63, 0), (81, 58, 1), (81, 86, 2), (82, 26, 3), (82, 72, 0), (82, 99, 0), (83, 11, 2), (83, 39, 1), (84, 6, 0), (84, 53, 3), (85, 1, 1), (86, 21, 1), (86, 66, 0), (86, 90, 3), (87, 32, 1), (87, 58, 1), (87, 95, 0), (88, 15, 1), (88, 39, 3), (88, 82, 0), (89, 46, 1), (89, 76, 2), (91, 8, 0), (91, 89, 3), (92, 19, 0), (92, 28, 1), (92, 41, 2), (93, 15, 4), (93, 77, 3), (93, 86, 0), (94, 0, 2), (94, 52, 1), (94, 58, 0), (95, 95, 0), (96, 46, 1), (96, 85, 3), (97, 9, 1), (97, 34, 0), (97, 70, 1), (98, 21, 1), (98, 27, 0), (98, 39, 0), (98, 53, 1), (98, 75, 0), (99, 62, 0), (99, 87, 0)]\n"
     ]
    }
   ],
   "source": [
    "import numpy as np\n",
    "\n",
    "def find_local_minima(array):\n",
    "    # Get the shape of the array\n",
    "    rows, cols = array.shape\n",
    "    local_minima = []\n",
    "\n",
    "    # Iterate through each element in the array\n",
    "    for i in range(rows):\n",
    "        for j in range(cols):\n",
    "            # Get the value of the current element\n",
    "            current_value = array[i, j]\n",
    "            \n",
    "            # Define adjacent coordinates\n",
    "            adj = [\n",
    "                (i - 1, j),  # Up\n",
    "                (i + 1, j),  # Down\n",
    "                (i, j - 1),  # Left\n",
    "                (i, j + 1)   # Right\n",
    "            ]\n",
    "            \n",
    "            # Filter for valid coordinates within bounds\n",
    "            adj_values = [\n",
    "                array[x, y] for x, y in adj if 0 <= x < rows and 0 <= y < cols\n",
    "            ]\n",
    "            \n",
    "            # Check if the current element is smaller than all its neighbors\n",
    "            if all(current_value < val for val in adj_values):\n",
    "                local_minima.append((i, j, current_value))\n",
    "    \n",
    "    return local_minima\n",
    "\n",
    "local_minima = find_local_minima(grid)\n",
    "print(\"Local minima (coordinates and values):\", local_minima)\n"
   ]
  },
  {
   "cell_type": "code",
   "execution_count": 105,
   "metadata": {},
   "outputs": [
    {
     "data": {
      "text/plain": [
       "480"
      ]
     },
     "execution_count": 105,
     "metadata": {},
     "output_type": "execute_result"
    }
   ],
   "source": [
    "sum([x[2] + 1 for x in set(local_minima)])"
   ]
  }
 ],
 "metadata": {
  "kernelspec": {
   "display_name": "base",
   "language": "python",
   "name": "python3"
  },
  "language_info": {
   "codemirror_mode": {
    "name": "ipython",
    "version": 3
   },
   "file_extension": ".py",
   "mimetype": "text/x-python",
   "name": "python",
   "nbconvert_exporter": "python",
   "pygments_lexer": "ipython3",
   "version": "3.11.7"
  }
 },
 "nbformat": 4,
 "nbformat_minor": 2
}

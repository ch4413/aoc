{
 "cells": [
  {
   "cell_type": "code",
   "execution_count": 5,
   "metadata": {},
   "outputs": [],
   "source": [
    "import numpy as np"
   ]
  },
  {
   "cell_type": "code",
   "execution_count": 6,
   "metadata": {},
   "outputs": [],
   "source": [
    "with open('input9.txt', \"r\") as file:\n",
    "        text = file.read().split('\\n')[:-1]"
   ]
  },
  {
   "cell_type": "code",
   "execution_count": 7,
   "metadata": {},
   "outputs": [],
   "source": [
    "grid = np.array([list(x) for x in text]).astype('int')"
   ]
  },
  {
   "cell_type": "code",
   "execution_count": 8,
   "metadata": {},
   "outputs": [],
   "source": [
    "# start at corner\n",
    "# find all "
   ]
  },
  {
   "cell_type": "code",
   "execution_count": 11,
   "metadata": {},
   "outputs": [
    {
     "ename": "IndexError",
     "evalue": "list index out of range",
     "output_type": "error",
     "traceback": [
      "\u001b[1;31m---------------------------------------------------------------------------\u001b[0m",
      "\u001b[1;31mIndexError\u001b[0m                                Traceback (most recent call last)",
      "Cell \u001b[1;32mIn[11], line 44\u001b[0m\n\u001b[0;32m     35\u001b[0m \u001b[38;5;66;03m# Example usage\u001b[39;00m\n\u001b[0;32m     36\u001b[0m matrix \u001b[38;5;241m=\u001b[39m [\n\u001b[0;32m     37\u001b[0m     [\u001b[38;5;241m10\u001b[39m, \u001b[38;5;241m3\u001b[39m, \u001b[38;5;241m4\u001b[39m, \u001b[38;5;241m20\u001b[39m],\n\u001b[0;32m     38\u001b[0m     [\u001b[38;5;241m2\u001b[39m, \u001b[38;5;241m3\u001b[39m, \u001b[38;5;241m5\u001b[39m, \u001b[38;5;241m1\u001b[39m],\n\u001b[1;32m   (...)\u001b[0m\n\u001b[0;32m     41\u001b[0m     [\u001b[38;5;241m8\u001b[39m, \u001b[38;5;241m6\u001b[39m, \u001b[38;5;241m4\u001b[39m, \u001b[38;5;241m3\u001b[39m]\n\u001b[0;32m     42\u001b[0m ]\n\u001b[1;32m---> 44\u001b[0m \u001b[38;5;28mprint\u001b[39m(find_local_minima_dfs(matrix))\n",
      "Cell \u001b[1;32mIn[11], line 31\u001b[0m, in \u001b[0;36mfind_local_minima_dfs\u001b[1;34m(matrix)\u001b[0m\n\u001b[0;32m     29\u001b[0m     \u001b[38;5;28;01mfor\u001b[39;00m j \u001b[38;5;129;01min\u001b[39;00m \u001b[38;5;28mrange\u001b[39m(n):\n\u001b[0;32m     30\u001b[0m         \u001b[38;5;28;01mif\u001b[39;00m (i, j) \u001b[38;5;129;01mnot\u001b[39;00m \u001b[38;5;129;01min\u001b[39;00m visited:\n\u001b[1;32m---> 31\u001b[0m             local_minima\u001b[38;5;241m.\u001b[39mextend(dfs_local_minima_2d(matrix, i, j, n, visited))\n\u001b[0;32m     33\u001b[0m \u001b[38;5;28;01mreturn\u001b[39;00m local_minima\n",
      "Cell \u001b[1;32mIn[11], line 10\u001b[0m, in \u001b[0;36mdfs_local_minima_2d\u001b[1;34m(matrix, x, y, n, visited)\u001b[0m\n\u001b[0;32m      8\u001b[0m nx, ny \u001b[38;5;241m=\u001b[39m x \u001b[38;5;241m+\u001b[39m dx, y \u001b[38;5;241m+\u001b[39m dy\n\u001b[0;32m      9\u001b[0m \u001b[38;5;28;01mif\u001b[39;00m \u001b[38;5;241m0\u001b[39m \u001b[38;5;241m<\u001b[39m\u001b[38;5;241m=\u001b[39m nx \u001b[38;5;241m<\u001b[39m n \u001b[38;5;129;01mand\u001b[39;00m \u001b[38;5;241m0\u001b[39m \u001b[38;5;241m<\u001b[39m\u001b[38;5;241m=\u001b[39m ny \u001b[38;5;241m<\u001b[39m n:  \u001b[38;5;66;03m# Check if the neighbor is within bounds\u001b[39;00m\n\u001b[1;32m---> 10\u001b[0m     \u001b[38;5;28;01mif\u001b[39;00m matrix[x][y] \u001b[38;5;241m>\u001b[39m\u001b[38;5;241m=\u001b[39m matrix[nx][ny]:  \u001b[38;5;66;03m# Not a local minima\u001b[39;00m\n\u001b[0;32m     11\u001b[0m         is_local_min \u001b[38;5;241m=\u001b[39m \u001b[38;5;28;01mFalse\u001b[39;00m\n\u001b[0;32m     12\u001b[0m         \u001b[38;5;28;01mbreak\u001b[39;00m\n",
      "\u001b[1;31mIndexError\u001b[0m: list index out of range"
     ]
    }
   ],
   "source": [
    "def dfs_local_minima_2d(matrix, x, y, n, visited):\n",
    "    # Directions for the four neighbors: up, down, left, right\n",
    "    directions = [(-1, 0), (1, 0), (0, -1), (0, 1)]\n",
    "    \n",
    "    # Check if the current element is a local minima\n",
    "    is_local_min = True\n",
    "    for dx, dy in directions:\n",
    "        nx, ny = x + dx, y + dy\n",
    "        if 0 <= nx < n and 0 <= ny < n:  # Check if the neighbor is within bounds\n",
    "            if matrix[x][y] >= matrix[nx][ny]:  # Not a local minima\n",
    "                is_local_min = False\n",
    "                break\n",
    "\n",
    "    if is_local_min:\n",
    "        visited.add((x, y))\n",
    "        return [matrix[x][y]]\n",
    "    return []\n",
    "\n",
    "def find_local_minima_dfs(matrix):\n",
    "    if not matrix or not matrix[0]:\n",
    "        return []\n",
    "    \n",
    "    n = len(matrix)\n",
    "    visited = set()  # Set to track visited nodes\n",
    "    local_minima = []\n",
    "    \n",
    "    # Iterate through each element in the matrix\n",
    "    for i in range(n):\n",
    "        for j in range(n):\n",
    "            if (i, j) not in visited:\n",
    "                local_minima.extend(dfs_local_minima_2d(matrix, i, j, n, visited))\n",
    "    \n",
    "    return local_minima\n",
    "\n",
    "# Example usage\n",
    "matrix = [\n",
    "    [10, 3, 4, 20],\n",
    "    [2, 3, 5, 1],\n",
    "    [9, 12, 1, 8],\n",
    "    [6, 7, 2, 4],\n",
    "    [8, 6, 4, 3]\n",
    "]\n",
    "\n",
    "print(find_local_minima_dfs(matrix))\n"
   ]
  },
  {
   "cell_type": "code",
   "execution_count": null,
   "metadata": {},
   "outputs": [],
   "source": []
  }
 ],
 "metadata": {
  "kernelspec": {
   "display_name": "base",
   "language": "python",
   "name": "python3"
  },
  "language_info": {
   "codemirror_mode": {
    "name": "ipython",
    "version": 3
   },
   "file_extension": ".py",
   "mimetype": "text/x-python",
   "name": "python",
   "nbconvert_exporter": "python",
   "pygments_lexer": "ipython3",
   "version": "3.11.7"
  }
 },
 "nbformat": 4,
 "nbformat_minor": 2
}

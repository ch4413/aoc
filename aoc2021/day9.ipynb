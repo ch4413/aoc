{
 "cells": [
  {
   "cell_type": "code",
   "execution_count": 4,
   "metadata": {},
   "outputs": [],
   "source": [
    "import numpy as np"
   ]
  },
  {
   "cell_type": "code",
   "execution_count": 5,
   "metadata": {},
   "outputs": [],
   "source": [
    "with open('input9.txt', \"r\") as file:\n",
    "        text = file.read().split('\\n')[:-1]"
   ]
  },
  {
   "cell_type": "code",
   "execution_count": 6,
   "metadata": {},
   "outputs": [],
   "source": [
    "grid = np.array([list(x) for x in text]).astype('int')"
   ]
  },
  {
   "cell_type": "code",
   "execution_count": 7,
   "metadata": {},
   "outputs": [],
   "source": [
    "# start at corner\n",
    "# find all adjacent that are in range\n",
    "# if current is lower than all adjacent, return\n",
    "# else take lowest as next point, until return\n",
    "# Add x, y and value to dict\n",
    "# Move onto next point"
   ]
  },
  {
   "cell_type": "code",
   "execution_count": 8,
   "metadata": {},
   "outputs": [],
   "source": [
    "test_s = np.array([list(x) for x in ['2199943210',\n",
    "'3987894921',\n",
    "'9856789892',\n",
    "'8767896789',\n",
    "'9899965678']]).astype('int')"
   ]
  },
  {
   "cell_type": "code",
   "execution_count": 15,
   "metadata": {},
   "outputs": [
    {
     "data": {
      "text/plain": [
       "array([[2, 1, 9, 9, 9, 4, 3, 2, 1, 0],\n",
       "       [3, 9, 8, 7, 8, 9, 4, 9, 2, 1],\n",
       "       [9, 8, 5, 6, 7, 8, 9, 8, 9, 2],\n",
       "       [8, 7, 6, 7, 8, 9, 6, 7, 8, 9],\n",
       "       [9, 8, 9, 9, 9, 6, 5, 6, 7, 8]])"
      ]
     },
     "execution_count": 15,
     "metadata": {},
     "output_type": "execute_result"
    }
   ],
   "source": [
    "test_s"
   ]
  },
  {
   "cell_type": "code",
   "execution_count": 29,
   "metadata": {},
   "outputs": [],
   "source": [
    "def find_min_coord(x, y, array):\n",
    "    adj =  [(x, y + 1), (x, y - 1), (x - 1, y), (x + 1, y)]\n",
    "    print(adj)\n",
    "    print(array[adj])\n",
    "    if array[x, y] < min(array[adj]):\n",
    "        return (x, y) \n",
    "\n"
   ]
  },
  {
   "cell_type": "code",
   "execution_count": 30,
   "metadata": {},
   "outputs": [
    {
     "data": {
      "text/plain": [
       "5"
      ]
     },
     "execution_count": 30,
     "metadata": {},
     "output_type": "execute_result"
    }
   ],
   "source": [
    "min(grid[(0, 2), [0, 0]])"
   ]
  },
  {
   "cell_type": "code",
   "execution_count": 31,
   "metadata": {},
   "outputs": [
    {
     "name": "stdout",
     "output_type": "stream",
     "text": [
      "[(0, 1), (0, -1), (-1, 0), (1, 0)]\n",
      "[[[7 6 7 8 9 2 1 2 3 4 9 8 8 6 7 8 9 0 1 2 3 8 9 5 4 3 2 3 4 9 8 7 6 5 4\n",
      "   3 2 1 2 5 7 8 9 9 9 9 5 6 7 8 9 8 7 6 5 4 5 4 2 2 3 7 8 9 9 8 9 8 6 5\n",
      "   4 3 2 1 2 4 5 6 9 8 9 9 8 9 4 3 2 5 6 7 8 9 8 9 2 1 2 9 6 5]\n",
      "  [6 5 6 7 8 9 0 1 3 9 8 7 6 5 8 9 9 9 2 3 6 7 8 9 6 5 1 2 9 8 7 6 5 4 3\n",
      "   2 1 0 3 4 5 6 9 9 8 8 9 7 9 9 9 9 8 7 9 3 2 1 0 1 2 5 6 9 8 7 6 9 8 7\n",
      "   5 7 3 2 4 5 9 7 9 7 6 7 7 9 9 4 3 4 5 9 9 8 7 8 9 0 9 8 9 3]]\n",
      "\n",
      " [[7 6 7 8 9 2 1 2 3 4 9 8 8 6 7 8 9 0 1 2 3 8 9 5 4 3 2 3 4 9 8 7 6 5 4\n",
      "   3 2 1 2 5 7 8 9 9 9 9 5 6 7 8 9 8 7 6 5 4 5 4 2 2 3 7 8 9 9 8 9 8 6 5\n",
      "   4 3 2 1 2 4 5 6 9 8 9 9 8 9 4 3 2 5 6 7 8 9 8 9 2 1 2 9 6 5]\n",
      "  [7 9 9 9 9 8 6 5 4 3 4 5 6 7 9 8 7 6 7 5 3 2 3 4 5 7 8 9 9 8 7 5 4 3 2\n",
      "   5 6 9 3 2 3 9 9 7 6 7 8 9 9 9 9 5 3 2 3 9 9 9 8 7 6 2 0 1 9 9 8 7 5 4\n",
      "   3 6 5 7 8 9 2 3 4 5 6 7 8 9 7 8 9 0 1 2 9 8 7 8 9 6 8 7 9 8]]\n",
      "\n",
      " [[7 9 9 9 9 8 6 5 4 3 4 5 6 7 9 8 7 6 7 5 3 2 3 4 5 7 8 9 9 8 7 5 4 3 2\n",
      "   5 6 9 3 2 3 9 9 7 6 7 8 9 9 9 9 5 3 2 3 9 9 9 8 7 6 2 0 1 9 9 8 7 5 4\n",
      "   3 6 5 7 8 9 2 3 4 5 6 7 8 9 7 8 9 0 1 2 9 8 7 8 9 6 8 7 9 8]\n",
      "  [7 6 7 8 9 2 1 2 3 4 9 8 8 6 7 8 9 0 1 2 3 8 9 5 4 3 2 3 4 9 8 7 6 5 4\n",
      "   3 2 1 2 5 7 8 9 9 9 9 5 6 7 8 9 8 7 6 5 4 5 4 2 2 3 7 8 9 9 8 9 8 6 5\n",
      "   4 3 2 1 2 4 5 6 9 8 9 9 8 9 4 3 2 5 6 7 8 9 8 9 2 1 2 9 6 5]]\n",
      "\n",
      " [[6 5 6 7 8 9 0 1 3 9 8 7 6 5 8 9 9 9 2 3 6 7 8 9 6 5 1 2 9 8 7 6 5 4 3\n",
      "   2 1 0 3 4 5 6 9 9 8 8 9 7 9 9 9 9 8 7 9 3 2 1 0 1 2 5 6 9 8 7 6 9 8 7\n",
      "   5 7 3 2 4 5 9 7 9 7 6 7 7 9 9 4 3 4 5 9 9 8 7 8 9 0 9 8 9 3]\n",
      "  [7 6 7 8 9 2 1 2 3 4 9 8 8 6 7 8 9 0 1 2 3 8 9 5 4 3 2 3 4 9 8 7 6 5 4\n",
      "   3 2 1 2 5 7 8 9 9 9 9 5 6 7 8 9 8 7 6 5 4 5 4 2 2 3 7 8 9 9 8 9 8 6 5\n",
      "   4 3 2 1 2 4 5 6 9 8 9 9 8 9 4 3 2 5 6 7 8 9 8 9 2 1 2 9 6 5]]]\n"
     ]
    },
    {
     "ename": "ValueError",
     "evalue": "The truth value of an array with more than one element is ambiguous. Use a.any() or a.all()",
     "output_type": "error",
     "traceback": [
      "\u001b[1;31m---------------------------------------------------------------------------\u001b[0m",
      "\u001b[1;31mValueError\u001b[0m                                Traceback (most recent call last)",
      "Cell \u001b[1;32mIn[31], line 1\u001b[0m\n\u001b[1;32m----> 1\u001b[0m find_min_coord(\u001b[38;5;241m0\u001b[39m, \u001b[38;5;241m0\u001b[39m, grid)\n",
      "Cell \u001b[1;32mIn[29], line 5\u001b[0m, in \u001b[0;36mfind_min_coord\u001b[1;34m(x, y, array)\u001b[0m\n\u001b[0;32m      3\u001b[0m \u001b[38;5;28mprint\u001b[39m(adj)\n\u001b[0;32m      4\u001b[0m \u001b[38;5;28mprint\u001b[39m(array[adj])\n\u001b[1;32m----> 5\u001b[0m \u001b[38;5;28;01mif\u001b[39;00m array[x, y] \u001b[38;5;241m<\u001b[39m \u001b[38;5;28mmin\u001b[39m(array[adj]):\n\u001b[0;32m      6\u001b[0m     \u001b[38;5;28;01mreturn\u001b[39;00m (x, y)\n",
      "\u001b[1;31mValueError\u001b[0m: The truth value of an array with more than one element is ambiguous. Use a.any() or a.all()"
     ]
    }
   ],
   "source": [
    "find_min_coord(0, 0, grid)"
   ]
  },
  {
   "cell_type": "code",
   "execution_count": null,
   "metadata": {},
   "outputs": [
    {
     "name": "stdout",
     "output_type": "stream",
     "text": [
      "2\n",
      "1\n",
      "9\n",
      "9\n",
      "9\n",
      "4\n",
      "3\n",
      "2\n",
      "1\n",
      "0\n",
      "3\n",
      "9\n",
      "8\n",
      "7\n",
      "8\n",
      "9\n",
      "4\n",
      "9\n",
      "2\n",
      "1\n",
      "9\n",
      "8\n",
      "5\n",
      "6\n",
      "7\n",
      "8\n",
      "9\n",
      "8\n",
      "9\n",
      "2\n",
      "8\n",
      "7\n",
      "6\n",
      "7\n",
      "8\n",
      "9\n",
      "6\n",
      "7\n",
      "8\n",
      "9\n",
      "9\n",
      "8\n",
      "9\n",
      "9\n",
      "9\n",
      "6\n",
      "5\n",
      "6\n",
      "7\n",
      "8\n"
     ]
    }
   ],
   "source": [
    "for i in range(test_s.shape[0]):\n",
    "    for j in range(test_s.shape[1]):\n",
    "        get_"
   ]
  },
  {
   "cell_type": "code",
   "execution_count": null,
   "metadata": {},
   "outputs": [],
   "source": []
  }
 ],
 "metadata": {
  "kernelspec": {
   "display_name": "base",
   "language": "python",
   "name": "python3"
  },
  "language_info": {
   "codemirror_mode": {
    "name": "ipython",
    "version": 3
   },
   "file_extension": ".py",
   "mimetype": "text/x-python",
   "name": "python",
   "nbconvert_exporter": "python",
   "pygments_lexer": "ipython3",
   "version": "3.11.7"
  }
 },
 "nbformat": 4,
 "nbformat_minor": 2
}

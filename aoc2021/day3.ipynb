{
 "cells": [
  {
   "cell_type": "code",
   "execution_count": 20,
   "metadata": {},
   "outputs": [],
   "source": [
    "with open('input3.txt', \"r\") as file:\n",
    "        text = file.read().strip().split('\\n')"
   ]
  },
  {
   "cell_type": "code",
   "execution_count": 21,
   "metadata": {},
   "outputs": [
    {
     "data": {
      "text/plain": [
       "1071734"
      ]
     },
     "execution_count": 21,
     "metadata": {},
     "output_type": "execute_result"
    }
   ],
   "source": [
    "gamma = ''\n",
    "epsilon = ''\n",
    "for i in range(len(text[0])):\n",
    "    sum_tot = 0\n",
    "    for j in text:\n",
    "        sum_tot += int(j[i])\n",
    "    if sum_tot > (len(text) / 2):\n",
    "        gamma += '1'\n",
    "        epsilon += '0'\n",
    "    else:\n",
    "        gamma += '0'\n",
    "        epsilon += '1'\n",
    "int(gamma, 2) * int(epsilon, 2)"
   ]
  },
  {
   "cell_type": "code",
   "execution_count": 49,
   "metadata": {},
   "outputs": [
    {
     "data": {
      "text/plain": [
       "1679"
      ]
     },
     "execution_count": 49,
     "metadata": {},
     "output_type": "execute_result"
    }
   ],
   "source": [
    "# Part 2\n",
    "text_2 = text.copy() \n",
    "# text_2 = ['00100', '11110', '10110', '10111', '10101',\n",
    "# '01111', '00111', '11100', '10000', '11001', '00010', '01010']\n",
    "pos = 0\n",
    "while len(text_2) > 1:\n",
    "    # take the first value of all elements and put in vector\n",
    "    # sum values\n",
    "    # if value greater or equal to half of length, keep the values using 0, 1, index\n",
    "    # if value less than, invert 0, 1 rep and index\n",
    "    # replace list with new shortened list\n",
    "    values = []\n",
    "    for i in text_2:\n",
    "        values.append(int(i[pos]))\n",
    "    if sum(values) >= (len(text_2) / 2):\n",
    "        text_2 = [value for value, selector in zip(text_2, values) if selector == 1]\n",
    "    else:\n",
    "        text_2 = [value for value, selector in zip(text_2, values) if selector == 0]\n",
    "    pos += 1\n",
    "int(text_2[0], 2)"
   ]
  },
  {
   "cell_type": "code",
   "execution_count": 52,
   "metadata": {},
   "outputs": [
    {
     "data": {
      "text/plain": [
       "1679"
      ]
     },
     "execution_count": 52,
     "metadata": {},
     "output_type": "execute_result"
    }
   ],
   "source": [
    "# Part 2\n",
    "text_2 = text.copy() \n",
    "# text_2 = ['00100', '11110', '10110', '10111', '10101',\n",
    "# '01111', '00111', '11100', '10000', '11001', '00010', '01010']\n",
    "pos = 0\n",
    "while len(text_2) > 1:\n",
    "    # take the first value of all elements and put in vector\n",
    "    # sum values\n",
    "    # if value greater or equal to half of length, keep the values using 0, 1, index\n",
    "    # if value less than, invert 0, 1 rep and index\n",
    "    # replace list with new shortened list\n",
    "    values = []\n",
    "    for i in text_2:\n",
    "        values.append(int(i[pos]))\n",
    "    if sum(values) < (len(text_2) / 2):\n",
    "        text_2 = [value for value, selector in zip(text_2, values) if selector == 0]\n",
    "    else:\n",
    "        text_2 = [value for value, selector in zip(text_2, values) if selector == 1]\n",
    "    pos += 1\n",
    "int(text_2[0], 2)"
   ]
  },
  {
   "cell_type": "code",
   "execution_count": 51,
   "metadata": {},
   "outputs": [
    {
     "data": {
      "text/plain": [
       "2793856"
      ]
     },
     "execution_count": 51,
     "metadata": {},
     "output_type": "execute_result"
    }
   ],
   "source": [
    "1664 * 1679"
   ]
  },
  {
   "cell_type": "code",
   "execution_count": null,
   "metadata": {},
   "outputs": [],
   "source": []
  }
 ],
 "metadata": {
  "kernelspec": {
   "display_name": "base",
   "language": "python",
   "name": "python3"
  },
  "language_info": {
   "codemirror_mode": {
    "name": "ipython",
    "version": 3
   },
   "file_extension": ".py",
   "mimetype": "text/x-python",
   "name": "python",
   "nbconvert_exporter": "python",
   "pygments_lexer": "ipython3",
   "version": "3.11.7"
  }
 },
 "nbformat": 4,
 "nbformat_minor": 2
}

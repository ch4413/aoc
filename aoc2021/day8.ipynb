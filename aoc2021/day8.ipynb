{
 "cells": [
  {
   "cell_type": "code",
   "execution_count": 1,
   "metadata": {},
   "outputs": [],
   "source": [
    "from collections import Counter"
   ]
  },
  {
   "cell_type": "code",
   "execution_count": 2,
   "metadata": {},
   "outputs": [],
   "source": [
    "with open('input8.txt', \"r\") as file:\n",
    "        text = file.read().split('\\n')[:-1]"
   ]
  },
  {
   "cell_type": "code",
   "execution_count": 3,
   "metadata": {},
   "outputs": [
    {
     "data": {
      "text/plain": [
       "488"
      ]
     },
     "execution_count": 3,
     "metadata": {},
     "output_type": "execute_result"
    }
   ],
   "source": [
    "# Part 1\n",
    "sum([sum([len(x) in [2, 3, 4, 7] for x in i.split('|')[1].strip().split(' ')]) for i in text])"
   ]
  },
  {
   "cell_type": "code",
   "execution_count": 76,
   "metadata": {},
   "outputs": [
    {
     "name": "stdout",
     "output_type": "stream",
     "text": [
      "1040429\n"
     ]
    }
   ],
   "source": [
    "# Part 2\n",
    "total = 0\n",
    "for line in text:\n",
    "    code, number = line.split('|')\n",
    "    alph_count = Counter(list(code.split('|')[0].strip(' ').replace(' ', '')))\n",
    "    match_dict = {}\n",
    "    nums = code.split('|')[0].strip().split(' ')\n",
    "    nums_len = [len(x) for x in nums ]\n",
    "    inverted_dict = {value: key for key, value in alph_count.items()}\n",
    "    # Get letters\n",
    "    match_dict[inverted_dict[4]] = 'e'\n",
    "    match_dict[inverted_dict[6]] = 'b'\n",
    "    match_dict[inverted_dict[9]] = 'f'\n",
    "    one = nums[nums_len.index(2)]\n",
    "    seven = nums[nums_len.index(3)]\n",
    "    match_dict[''.join(set(seven) ^ set(one))] = 'a'\n",
    "    keys_with_value_2 = [key for key, value in alph_count.items() if value == 8]\n",
    "    match_dict[''.join(set(keys_with_value_2) - set(match_dict.keys()))] = 'c'\n",
    "    four = nums[nums_len.index(4)]\n",
    "    keys_with_target_values = [key for key, value in match_dict.items() if value in ['b', 'c', 'f']]\n",
    "    match_dict[''.join(set(four) ^ set(keys_with_target_values))] = 'd'\n",
    "    match_dict[''.join(set('abcdefg') ^ set(match_dict.keys()))] = 'g'\n",
    "\n",
    "    numb = ''\n",
    "    for lets in number.strip().split():\n",
    "        result = \"\".join(sorted(match_dict[char] for char in lets))\n",
    "        if result == 'abcefg':\n",
    "            ans = '0'\n",
    "        if result == 'cf':\n",
    "            ans = '1'\n",
    "        if result == 'acdeg':\n",
    "            ans = '2'\n",
    "        if result == 'acdfg':\n",
    "            ans = '3'\n",
    "        if result == 'bcdf':\n",
    "            ans = '4'\n",
    "        if result == 'abdfg':\n",
    "            ans = '5'\n",
    "        if result == 'abdefg':\n",
    "            ans = '6'\n",
    "        if result == 'acf':\n",
    "            ans = '7'\n",
    "        if result == 'abcdefg':\n",
    "            ans = '8'\n",
    "        if result == 'abcdfg':\n",
    "            ans = '9'\n",
    "        numb += ans\n",
    "    total += int(numb)\n",
    "print(total)"
   ]
  }
 ],
 "metadata": {
  "kernelspec": {
   "display_name": "base",
   "language": "python",
   "name": "python3"
  },
  "language_info": {
   "codemirror_mode": {
    "name": "ipython",
    "version": 3
   },
   "file_extension": ".py",
   "mimetype": "text/x-python",
   "name": "python",
   "nbconvert_exporter": "python",
   "pygments_lexer": "ipython3",
   "version": "3.11.7"
  }
 },
 "nbformat": 4,
 "nbformat_minor": 2
}

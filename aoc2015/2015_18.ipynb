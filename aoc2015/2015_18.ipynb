{
 "cells": [
  {
   "cell_type": "code",
   "execution_count": 4,
   "metadata": {},
   "outputs": [],
   "source": [
    "import pandas as pd\n",
    "import numpy as np"
   ]
  },
  {
   "cell_type": "code",
   "execution_count": 20,
   "metadata": {},
   "outputs": [],
   "source": [
    "with open('input18.txt', \"r\") as file:\n",
    "        text = file.read().strip().split('\\n')\n",
    "text = [list(x) for x in text]"
   ]
  },
  {
   "cell_type": "code",
   "execution_count": 95,
   "metadata": {},
   "outputs": [],
   "source": [
    "light_grid = np.array(text)\n",
    "light_grid[np.where(light_grid=='#')] = 1\n",
    "light_grid[np.where(light_grid=='.')] = 0#\n",
    "light_grid = light_grid.astype('int')"
   ]
  },
  {
   "cell_type": "code",
   "execution_count": 96,
   "metadata": {},
   "outputs": [],
   "source": [
    "# Part 1"
   ]
  },
  {
   "cell_type": "code",
   "execution_count": 97,
   "metadata": {},
   "outputs": [],
   "source": [
    "def update_value(grid, x, y):\n",
    "    surround = [(x-1, y-1), (x, y-1), (x+1, y-1), (x-1, y), (x+1, y),\n",
    "                (x-1, y+1), (x, y+1), (x+1, y+1)]\n",
    "    score = 0\n",
    "    dim = grid.shape\n",
    "    for i in surround:\n",
    "        if (0 <= i[0] <= dim[0] - 1) and (0 <= i[1] <= dim[0] - 1):\n",
    "            score += grid[i]\n",
    "    if ((grid[x, y] == 1) and (2 <= score <= 3)) or ((grid[x, y] == 0) and (score == 3)):\n",
    "        return 1\n",
    "    else:\n",
    "        return 0"
   ]
  },
  {
   "cell_type": "code",
   "execution_count": 98,
   "metadata": {},
   "outputs": [
    {
     "data": {
      "text/plain": [
       "1061.0"
      ]
     },
     "execution_count": 98,
     "metadata": {},
     "output_type": "execute_result"
    }
   ],
   "source": [
    "for i in range(100):\n",
    "    update_grid = np.zeros(light_grid.shape)\n",
    "    for x in range(len(light_grid)):\n",
    "        for y in range(len(light_grid)):\n",
    "            update_grid[x, y] = update_value(light_grid, x, y)\n",
    "    light_grid = update_grid\n",
    "light_grid.sum()"
   ]
  },
  {
   "cell_type": "code",
   "execution_count": 99,
   "metadata": {},
   "outputs": [],
   "source": [
    "# Part 2"
   ]
  },
  {
   "cell_type": "code",
   "execution_count": 103,
   "metadata": {},
   "outputs": [],
   "source": [
    "#1 get original light grid\n",
    "light_grid = np.array(text)\n",
    "light_grid[np.where(light_grid=='#')] = 1\n",
    "light_grid[np.where(light_grid=='.')] = 0#\n",
    "light_grid = light_grid.astype('int')\n",
    "# Update 4 corners\n",
    "light_grid[(0, 0)] = 1\n",
    "light_grid[(0, 99)] = 1\n",
    "light_grid[(99, 0)] = 1\n",
    "light_grid[(99, 99)] = 1"
   ]
  },
  {
   "cell_type": "code",
   "execution_count": 104,
   "metadata": {},
   "outputs": [],
   "source": [
    "# if corner, return 1, else do the same as before\n",
    "def update_value_corners(grid, x, y):\n",
    "    surround = [(x-1, y-1), (x, y-1), (x+1, y-1), (x-1, y), (x+1, y),\n",
    "                (x-1, y+1), (x, y+1), (x+1, y+1)]\n",
    "    score = 0\n",
    "    dim = grid.shape\n",
    "    if (x, y) in [(0, 0), (0, 99), (99, 0), (99, 99)]:\n",
    "        return 1\n",
    "    for i in surround:\n",
    "        if (0 <= i[0] <= dim[0] - 1) and (0 <= i[1] <= dim[0] - 1):\n",
    "            score += grid[i]\n",
    "    if ((grid[x, y] == 1) and (2 <= score <= 3)) or ((grid[x, y] == 0) and (score == 3)):\n",
    "        return 1\n",
    "    else:\n",
    "        return 0"
   ]
  },
  {
   "cell_type": "code",
   "execution_count": 105,
   "metadata": {},
   "outputs": [
    {
     "data": {
      "text/plain": [
       "1006.0"
      ]
     },
     "execution_count": 105,
     "metadata": {},
     "output_type": "execute_result"
    }
   ],
   "source": [
    "for i in range(100):\n",
    "    update_grid = np.zeros(light_grid.shape)\n",
    "    for x in range(len(light_grid)):\n",
    "        for y in range(len(light_grid)):\n",
    "            update_grid[x, y] = update_value_corners(light_grid, x, y)\n",
    "    light_grid = update_grid\n",
    "light_grid.sum()"
   ]
  }
 ],
 "metadata": {
  "kernelspec": {
   "display_name": "chgen",
   "language": "python",
   "name": "python3"
  },
  "language_info": {
   "codemirror_mode": {
    "name": "ipython",
    "version": 3
   },
   "file_extension": ".py",
   "mimetype": "text/x-python",
   "name": "python",
   "nbconvert_exporter": "python",
   "pygments_lexer": "ipython3",
   "version": "3.11.7"
  }
 },
 "nbformat": 4,
 "nbformat_minor": 2
}

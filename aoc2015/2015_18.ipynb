{
 "cells": [
  {
   "cell_type": "code",
   "execution_count": 4,
   "metadata": {},
   "outputs": [],
   "source": [
    "import pandas as pd\n",
    "import numpy as np"
   ]
  },
  {
   "cell_type": "code",
   "execution_count": 20,
   "metadata": {},
   "outputs": [],
   "source": [
    "with open('input18.txt', \"r\") as file:\n",
    "        text = file.read().strip().split('\\n')\n",
    "text = [list(x) for x in text]"
   ]
  },
  {
   "cell_type": "code",
   "execution_count": 26,
   "metadata": {},
   "outputs": [],
   "source": [
    "light_grid = np.array(text)\n",
    "light_grid[np.where(light_grid=='#')] = 1\n",
    "light_grid[np.where(light_grid=='.')] = 0#\n",
    "light_grid = light_grid.astype('int')"
   ]
  },
  {
   "cell_type": "code",
   "execution_count": 28,
   "metadata": {},
   "outputs": [
    {
     "data": {
      "text/plain": [
       "array([[1, 0, 0, ..., 0, 0, 0],\n",
       "       [0, 1, 0, ..., 0, 1, 1],\n",
       "       [1, 0, 0, ..., 1, 1, 1],\n",
       "       ...,\n",
       "       [0, 0, 0, ..., 1, 0, 1],\n",
       "       [0, 0, 1, ..., 1, 1, 0],\n",
       "       [0, 0, 0, ..., 0, 1, 1]])"
      ]
     },
     "execution_count": 28,
     "metadata": {},
     "output_type": "execute_result"
    }
   ],
   "source": [
    "light_grid"
   ]
  },
  {
   "cell_type": "code",
   "execution_count": 62,
   "metadata": {},
   "outputs": [],
   "source": [
    "def update_value(grid, x, y):\n",
    "    surround = [(x-1, y-1), (x, y-1), (x+1, y-1), (x-1, y), (x+1, y),\n",
    "                (x-1, y+1), (x, y+1), (x+1, y+1)]\n",
    "    score = 0\n",
    "    dim = grid.shape\n",
    "    for i in surround:\n",
    "        if (0 <= i[0] <= dim[0] - 1) and (0 <= i[1] <= dim[0] - 1):\n",
    "            score += grid[i]\n",
    "    if ((grid[x, y] == 1) and (2 <= score <= 3)) or ((grid[x, y] == 0) and (score == 3)):\n",
    "        return 1\n",
    "    else:\n",
    "        return 0"
   ]
  },
  {
   "cell_type": "code",
   "execution_count": 66,
   "metadata": {},
   "outputs": [],
   "source": [
    "for i in range(100):\n",
    "    update_grid = np.zeros(light_grid.shape)\n",
    "    for x in range(len(light_grid)):\n",
    "        for y in range(len(light_grid)):\n",
    "            update_grid[x, y] = update_value(light_grid, x, y)\n",
    "    light_grid = update_grid"
   ]
  },
  {
   "cell_type": "code",
   "execution_count": 68,
   "metadata": {},
   "outputs": [
    {
     "data": {
      "text/plain": [
       "1061.0"
      ]
     },
     "execution_count": 68,
     "metadata": {},
     "output_type": "execute_result"
    }
   ],
   "source": [
    "light_grid.sum()"
   ]
  },
  {
   "cell_type": "code",
   "execution_count": null,
   "metadata": {},
   "outputs": [],
   "source": [
    "# Part 2\n",
    "#1 get original light grid and update 4 corners\n",
    "#2 add exception to return 1 if in corner every time\n",
    "#3 run same loop"
   ]
  }
 ],
 "metadata": {
  "kernelspec": {
   "display_name": "chgen",
   "language": "python",
   "name": "python3"
  },
  "language_info": {
   "codemirror_mode": {
    "name": "ipython",
    "version": 3
   },
   "file_extension": ".py",
   "mimetype": "text/x-python",
   "name": "python",
   "nbconvert_exporter": "python",
   "pygments_lexer": "ipython3",
   "version": "3.11.7"
  }
 },
 "nbformat": 4,
 "nbformat_minor": 2
}

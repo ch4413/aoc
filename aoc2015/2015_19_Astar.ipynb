{
 "cells": [
  {
   "cell_type": "code",
   "execution_count": 4,
   "metadata": {},
   "outputs": [],
   "source": [
    "from queue import PriorityQueue\n",
    "import math"
   ]
  },
  {
   "cell_type": "code",
   "execution_count": 5,
   "metadata": {},
   "outputs": [],
   "source": [
    "replacements = []\n",
    "with open('input19.txt', 'r') as f:\n",
    "    get_molecule = False\n",
    "    for line in f.readlines():\n",
    "        if get_molecule:\n",
    "            molecule = line.strip()\n",
    "            break\n",
    "        elif not line.strip():\n",
    "            get_molecule = True\n",
    "            continue\n",
    "        l, r = line.strip().split(' => ')\n",
    "        replacements.append((l, r))"
   ]
  },
  {
   "cell_type": "code",
   "execution_count": 6,
   "metadata": {},
   "outputs": [
    {
     "data": {
      "text/plain": [
       "'CRnCaCaCaSiRnBPTiMgArSiRnSiRnMgArSiRnCaFArTiTiBSiThFYCaFArCaCaSiThCaPBSiThSiThCaCaPTiRnPBSiThRnFArArCaCaSiThCaSiThSiRnMgArCaPTiBPRnFArSiThCaSiRnFArBCaSiRnCaPRnFArPMgYCaFArCaPTiTiTiBPBSiThCaPTiBPBSiRnFArBPBSiRnCaFArBPRnSiRnFArRnSiRnBFArCaFArCaCaCaSiThSiThCaCaPBPTiTiRnFArCaPTiBSiAlArPBCaCaCaCaCaSiRnMgArCaSiThFArThCaSiThCaSiRnCaFYCaSiRnFYFArFArCaSiRnFYFArCaSiRnBPMgArSiThPRnFArCaSiRnFArTiRnSiRnFYFArCaSiRnBFArCaSiRnTiMgArSiThCaSiThCaFArPRnFArSiRnFArTiTiTiTiBCaCaSiRnCaCaFYFArSiThCaPTiBPTiBCaSiThSiRnMgArCaF'"
      ]
     },
     "execution_count": 6,
     "metadata": {},
     "output_type": "execute_result"
    }
   ],
   "source": [
    "molecule"
   ]
  },
  {
   "cell_type": "code",
   "execution_count": 9,
   "metadata": {},
   "outputs": [],
   "source": [
    "def astar(start, goal):\n",
    "    def h(x):\n",
    "        return int(math.ceil(len(x) - 1) / 9) # 9 is the highest reduction\n",
    "    \n",
    "    q = PriorityQueue()\n",
    "    q.put((h(start), start))\n",
    "    dist = {start: 0}\n",
    "\n",
    "    while not q.empty():\n",
    "        _, current = q.get()\n",
    "        if current == goal:\n",
    "            return dist[current]\n",
    "        \n",
    "        def get_nbrs(x):\n",
    "            for word, s in replacements:\n",
    "                for i in range(len(x) - len(s) + 1): # not sure\n",
    "                    if x[i:i + len(s)] == s:\n",
    "                        yield x[:i] + word + x[i + len(s):]\n",
    "        \n",
    "        for nbr in get_nbrs(current):\n",
    "            tent_dist = dist[current] + 1\n",
    "            if nbr not in dist or tent_dist < dist[nbr]:\n",
    "                dist[nbr] = tent_dist\n",
    "                q.put((h(nbr), nbr))\n",
    "\n",
    "    print(dist)"
   ]
  },
  {
   "cell_type": "code",
   "execution_count": 10,
   "metadata": {},
   "outputs": [
    {
     "data": {
      "text/plain": [
       "212"
      ]
     },
     "execution_count": 10,
     "metadata": {},
     "output_type": "execute_result"
    }
   ],
   "source": [
    "astar(molecule, 'e')"
   ]
  }
 ],
 "metadata": {
  "kernelspec": {
   "display_name": "base",
   "language": "python",
   "name": "python3"
  },
  "language_info": {
   "codemirror_mode": {
    "name": "ipython",
    "version": 3
   },
   "file_extension": ".py",
   "mimetype": "text/x-python",
   "name": "python",
   "nbconvert_exporter": "python",
   "pygments_lexer": "ipython3",
   "version": "3.11.7"
  }
 },
 "nbformat": 4,
 "nbformat_minor": 2
}

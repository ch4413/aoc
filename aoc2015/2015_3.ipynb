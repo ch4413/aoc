{
 "cells": [
  {
   "cell_type": "code",
   "execution_count": 29,
   "metadata": {},
   "outputs": [],
   "source": [
    "with open('input3.txt', \"r\") as file:\n",
    "    text = file.read()"
   ]
  },
  {
   "cell_type": "code",
   "execution_count": 30,
   "metadata": {},
   "outputs": [],
   "source": [
    "def pres_drop(x, y, present_dict, text):\n",
    "    for i in text:\n",
    "        if '^' == i:\n",
    "            y += 1\n",
    "        if '<' == i:\n",
    "            x -= 1\n",
    "        if 'v' == i:\n",
    "            y -= 1\n",
    "        if '>' == i:\n",
    "            x += 1\n",
    "        if present_dict.get((x, y)) is None:\n",
    "            present_dict[(x, y)] = 1\n",
    "        else:\n",
    "            present_dict[(x, y)] += 1\n",
    "    return present_dict"
   ]
  },
  {
   "cell_type": "code",
   "execution_count": 31,
   "metadata": {},
   "outputs": [
    {
     "data": {
      "text/plain": [
       "2081"
      ]
     },
     "execution_count": 31,
     "metadata": {},
     "output_type": "execute_result"
    }
   ],
   "source": [
    "# Part 1\n",
    "x = 0\n",
    "y = 0\n",
    "present_dict = {(0, 0): 1}\n",
    "pdict = pres_drop(x, y, present_dict, text)\n",
    "len(pdict)"
   ]
  },
  {
   "cell_type": "code",
   "execution_count": 32,
   "metadata": {},
   "outputs": [
    {
     "data": {
      "text/plain": [
       "2341"
      ]
     },
     "execution_count": 32,
     "metadata": {},
     "output_type": "execute_result"
    }
   ],
   "source": [
    "# Part 2\n",
    "x = 0\n",
    "y = 0\n",
    "present_dict = {(0, 0): 2}\n",
    "pdict = pres_drop(x, y, present_dict, text[0::2])\n",
    "x = 0\n",
    "y = 0\n",
    "pdict = pres_drop(x, y, pdict, text[1::2])\n",
    "len(pdict)"
   ]
  }
 ],
 "metadata": {
  "kernelspec": {
   "display_name": "chgen",
   "language": "python",
   "name": "python3"
  },
  "language_info": {
   "codemirror_mode": {
    "name": "ipython",
    "version": 3
   },
   "file_extension": ".py",
   "mimetype": "text/x-python",
   "name": "python",
   "nbconvert_exporter": "python",
   "pygments_lexer": "ipython3",
   "version": "3.12.2"
  }
 },
 "nbformat": 4,
 "nbformat_minor": 2
}

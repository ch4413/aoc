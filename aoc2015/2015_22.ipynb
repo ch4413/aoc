{
 "cells": [
  {
   "cell_type": "code",
   "execution_count": 1,
   "metadata": {},
   "outputs": [],
   "source": [
    "from itertools import combinations"
   ]
  },
  {
   "cell_type": "code",
   "execution_count": 2,
   "metadata": {},
   "outputs": [],
   "source": [
    "with open('input21.txt', \"r\") as file:\n",
    "        text = file.read().strip().split('\\n')"
   ]
  },
  {
   "cell_type": "code",
   "execution_count": 3,
   "metadata": {},
   "outputs": [
    {
     "data": {
      "text/plain": [
       "['Hit Points: 100', 'Damage: 8', 'Armor: 2']"
      ]
     },
     "execution_count": 3,
     "metadata": {},
     "output_type": "execute_result"
    }
   ],
   "source": [
    "text"
   ]
  },
  {
   "cell_type": "code",
   "execution_count": 4,
   "metadata": {},
   "outputs": [],
   "source": [
    "shop = \"\"\"Weapons:    Cost  Damage  Armor\n",
    "Dagger        8     4       0\n",
    "Shortsword   10     5       0\n",
    "Warhammer    25     6       0\n",
    "Longsword    40     7       0\n",
    "Greataxe     74     8       0\n",
    "\n",
    "Armor:      Cost  Damage  Armor\n",
    "Leather      13     0       1\n",
    "Chainmail    31     0       2\n",
    "Splintmail   53     0       3\n",
    "Bandedmail   75     0       4\n",
    "Platemail   102     0       5\n",
    "\n",
    "Rings:      Cost  Damage  Armor\n",
    "Damage +1    25     1       0\n",
    "Damage +2    50     2       0\n",
    "Damage +3   100     3       0\n",
    "Defense +1   20     0       1\n",
    "Defense +2   40     0       2\n",
    "Defense +3   80     0       3\"\"\".split('\\n')"
   ]
  },
  {
   "cell_type": "code",
   "execution_count": 5,
   "metadata": {},
   "outputs": [
    {
     "name": "stdout",
     "output_type": "stream",
     "text": [
      "91\n"
     ]
    }
   ],
   "source": [
    "weapons = [line.split() for line in shop[1:6]]\n",
    "armour = [line.split() for line in shop[8:13]]\n",
    "rings = [line.split() for line in shop[15:]]\n",
    "armour.append([0 for i in range(4)]) # blank entry to count as none chosen\n",
    "rings.extend([[0 for i in range(5)] for j in range(2)]) # same as above\n",
    "\n",
    "def db(w, a, i): # damage per round to boss\n",
    "    return max(1, int(w[2]) + int(i[0][3]) + int(i[1][3]) - 2)\n",
    "def dm(w, a, i): # damage per round to me\n",
    "    return max(1, 8 - int(a[3]) - int(i[0][4]) - int(i[1][4]))\n",
    "\n",
    "print(min([int(w[1]) + int(a[1]) + int(i[0][2]) + int(i[1][2])\n",
    "for w in weapons\n",
    "    for a in armour\n",
    "        for i in combinations(rings, 2)\n",
    "           if (100//db(w,a,i)) <= (100//dm(w,a,i))]))"
   ]
  },
  {
   "cell_type": "code",
   "execution_count": 6,
   "metadata": {},
   "outputs": [
    {
     "name": "stdout",
     "output_type": "stream",
     "text": [
      "158\n"
     ]
    }
   ],
   "source": [
    "print(max([int(w[1]) + int(a[1]) + int(i[0][2]) + int(i[1][2])\n",
    "for w in weapons\n",
    "    for a in armour\n",
    "        for i in combinations(rings, 2)\n",
    "           if (100//db(w,a,i)) > (100//dm(w,a,i))]))"
   ]
  }
 ],
 "metadata": {
  "kernelspec": {
   "display_name": "chgen",
   "language": "python",
   "name": "python3"
  },
  "language_info": {
   "codemirror_mode": {
    "name": "ipython",
    "version": 3
   },
   "file_extension": ".py",
   "mimetype": "text/x-python",
   "name": "python",
   "nbconvert_exporter": "python",
   "pygments_lexer": "ipython3",
   "version": "3.11.7"
  }
 },
 "nbformat": 4,
 "nbformat_minor": 2
}

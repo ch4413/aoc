{
 "cells": [
  {
   "cell_type": "code",
   "execution_count": 1,
   "metadata": {},
   "outputs": [],
   "source": [
    "from itertools import combinations"
   ]
  },
  {
   "cell_type": "code",
   "execution_count": 7,
   "metadata": {},
   "outputs": [],
   "source": [
    "with open('input22.txt', \"r\") as file:\n",
    "        text = file.read().strip().split('\\n')"
   ]
  },
  {
   "cell_type": "code",
   "execution_count": 8,
   "metadata": {},
   "outputs": [
    {
     "data": {
      "text/plain": [
       "['Hit Points: 51', 'Damage: 9']"
      ]
     },
     "execution_count": 8,
     "metadata": {},
     "output_type": "execute_result"
    }
   ],
   "source": [
    "text"
   ]
  },
  {
   "cell_type": "code",
   "execution_count": 23,
   "metadata": {},
   "outputs": [],
   "source": [
    "import random\n",
    "\n",
    "min_mana = 100000000\n",
    "\n",
    "def fight():\n",
    "\n",
    "    mana_used = 0\n",
    "\n",
    "    boss_hp = 51\n",
    "    boss_dmg = 9\n",
    "\n",
    "    player_hp = 50\n",
    "    player_mp = 500\n",
    "    player_armor = 0\n",
    "\n",
    "    spells = [['Magic Missile', 53],['Drain', 73],['Shield', 113],['Poison', 173],['Recharge', 229]]\n",
    "\n",
    "    turn = 'player'\n",
    "\n",
    "    shield_active = False\n",
    "    shield_count = 0\n",
    "\n",
    "    poison_active = False\n",
    "    poison_count = 0\n",
    "\n",
    "    recharge_active = False\n",
    "    recharge_count = 0\n",
    "\n",
    "    while True:\n",
    "\n",
    "        if shield_active:\n",
    "            player_armor = 7\n",
    "            shield_count += 1\n",
    "            if shield_count == 6:\n",
    "                shield_active = False\n",
    "        else:\n",
    "            player_armor = 0\n",
    "\n",
    "        if poison_active:\n",
    "            boss_hp -= 3\n",
    "            if boss_hp <= 0:\n",
    "                return ['player wins', mana_used]\n",
    "            poison_count += 1\n",
    "            if poison_count == 6:\n",
    "                poison_active = False\n",
    "\n",
    "        if recharge_active:\n",
    "            player_mp += 101\n",
    "            recharge_count += 1\n",
    "            if recharge_count == 5:\n",
    "                recharge_active = False\n",
    "\n",
    "        if turn == 'player':\n",
    "\n",
    "         #   uncomment this section for part 2\n",
    "            player_hp -= 1\n",
    "            if player_hp <= 0:\n",
    "                return ['boss wins', mana_used]\n",
    "\n",
    "            spell = None\n",
    "\n",
    "            random.shuffle(spells)\n",
    "\n",
    "            for s in spells:\n",
    "                if player_mp >= s[1]:\n",
    "                    if s[0] == 'Shield':\n",
    "                        if shield_active:\n",
    "                            continue\n",
    "                    if s[0] == 'Poison':\n",
    "                        if poison_active:\n",
    "                            continue\n",
    "                    if s[0] == 'Recharge':\n",
    "                        if recharge_active:\n",
    "                            continue\n",
    "                    spell = s \n",
    "                    break\n",
    "\n",
    "            if spell == None:\n",
    "                return ['boss wins', mana_used]\n",
    "\n",
    "            player_mp -= spell[1]\n",
    "            if player_mp < 0:\n",
    "                player_mp = 0\n",
    "\n",
    "            mana_used += spell[1]\n",
    "\n",
    "            if spell[0] == 'Magic Missile':\n",
    "                boss_hp -= 4\n",
    "                if boss_hp <= 0:\n",
    "                    return ['player wins', mana_used]\n",
    "\n",
    "            if spell[0] == 'Drain':\n",
    "                boss_hp -= 2\n",
    "                if boss_hp <= 0:\n",
    "                    return ['player wins', mana_used]\n",
    "                player_hp += 2\n",
    "\n",
    "            if spell[0] == 'Shield':\n",
    "                player_armor = 7\n",
    "                shield_active = True\n",
    "                shield_count = 0\n",
    "\n",
    "            if spell[0] == 'Poison':\n",
    "                poison_active = True\n",
    "                poison_count = 0\n",
    "\n",
    "            if spell[0] == 'Recharge':\n",
    "                recharge_active = True\n",
    "                recharge_count = 0\n",
    "\n",
    "            turn = 'boss'\n",
    "\n",
    "        else:\n",
    "\n",
    "            dmg = boss_dmg - player_armor\n",
    "\n",
    "            if dmg < 1:\n",
    "                dmg = 1\n",
    "\n",
    "            player_hp -= dmg\n",
    "\n",
    "            if player_hp <= 0:\n",
    "                return ['boss wins', mana_used]\n",
    "\n",
    "            turn = 'player'\n",
    "\n",
    "\n",
    "#result = fight()\n",
    "results = []\n",
    "n = 0\n",
    "while n < 10000:\n",
    "    result = fight()\n",
    "    if result[0] == 'player wins':\n",
    "        results.append(result[1])\n",
    "        if result[1] < min_mana:\n",
    "            min_mana = result[1]\n",
    "    n += 1"
   ]
  },
  {
   "cell_type": "code",
   "execution_count": 19,
   "metadata": {},
   "outputs": [],
   "source": [
    "import pandas as pd"
   ]
  },
  {
   "cell_type": "code",
   "execution_count": 28,
   "metadata": {},
   "outputs": [
    {
     "data": {
      "text/plain": [
       "42    1216\n",
       "34    1242\n",
       "36    1242\n",
       "13    1309\n",
       "3     1329\n",
       "4     1329\n",
       "40    1349\n",
       "20    1369\n",
       "23    1382\n",
       "33    1402\n",
       "31    1422\n",
       "10    1442\n",
       "6     1448\n",
       "30    1448\n",
       "21    1462\n",
       "14    1475\n",
       "25    1475\n",
       "7     1475\n",
       "15    1485\n",
       "39    1485\n",
       "32    1495\n",
       "27    1495\n",
       "0     1495\n",
       "22    1495\n",
       "19    1495\n",
       "1     1495\n",
       "11    1495\n",
       "35    1505\n",
       "45    1538\n",
       "17    1538\n",
       "2     1558\n",
       "5     1558\n",
       "44    1558\n",
       "12    1558\n",
       "24    1618\n",
       "37    1651\n",
       "28    1691\n",
       "26    1704\n",
       "41    1744\n",
       "16    1744\n",
       "9     1744\n",
       "38    1764\n",
       "18    1764\n",
       "8     1910\n",
       "43    1910\n",
       "29    2003\n",
       "dtype: int64"
      ]
     },
     "execution_count": 28,
     "metadata": {},
     "output_type": "execute_result"
    }
   ],
   "source": [
    "pd.Series(results).sort_values()"
   ]
  },
  {
   "cell_type": "code",
   "execution_count": 24,
   "metadata": {},
   "outputs": [
    {
     "data": {
      "text/plain": [
       "<Axes: >"
      ]
     },
     "execution_count": 24,
     "metadata": {},
     "output_type": "execute_result"
    },
    {
     "data": {
      "image/png": "[encoded data removed]",
      "text/plain": [
       "<Figure size 640x480 with 1 Axes>"
      ]
     },
     "metadata": {},
     "output_type": "display_data"
    }
   ],
   "source": [
    "pd.Series(results).hist()"
   ]
  }
 ],
 "metadata": {
  "kernelspec": {
   "display_name": "chgen",
   "language": "python",
   "name": "python3"
  },
  "language_info": {
   "codemirror_mode": {
    "name": "ipython",
    "version": 3
   },
   "file_extension": ".py",
   "mimetype": "text/x-python",
   "name": "python",
   "nbconvert_exporter": "python",
   "pygments_lexer": "ipython3",
   "version": "3.11.7"
  }
 },
 "nbformat": 4,
 "nbformat_minor": 2
}

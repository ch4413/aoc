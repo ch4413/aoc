{
 "cells": [
  {
   "cell_type": "code",
   "execution_count": 1,
   "metadata": {},
   "outputs": [],
   "source": [
    "import re"
   ]
  },
  {
   "cell_type": "code",
   "execution_count": 7,
   "metadata": {},
   "outputs": [
    {
     "name": "stdout",
     "output_type": "stream",
     "text": [
      "abd\n"
     ]
    }
   ],
   "source": [
    "def increment_string(s):\n",
    "    s = list(s)  # Convert the string to a list for mutability\n",
    "    n = len(s)\n",
    "    \n",
    "    # Start from the end of the string\n",
    "    for i in range(n - 1, -1, -1):\n",
    "        if s[i] == 'z':  # If the character is 'z', it wraps around to 'a'\n",
    "            s[i] = 'a'\n",
    "            # then loop onto check the next character\n",
    "        else:\n",
    "            s[i] = chr(ord(s[i]) + 1)  # Increment the character\n",
    "            break # Only increment the last character in the check if it's not z\n",
    "    else:\n",
    "        # If all characters were 'z', add 'a' at the beginning\n",
    "        s.insert(0, 'a')\n",
    "    \n",
    "    return ''.join(s)\n",
    "\n",
    "# Example usage\n",
    "print(increment_string(\"abc\"))  # Should print 'abd'"
   ]
  },
  {
   "cell_type": "code",
   "execution_count": 8,
   "metadata": {},
   "outputs": [],
   "source": [
    "pattern_1 = r'(?:(abc)|(bcd)|(cde)|(def)|(efg)|(fgh)|(ghi)|(hij)|(ijk)|(jkl)|(klm)|(lmn)|(mno)|(nop)|(opq)|(pqr)|(qrs)|(rst)|(stu)|(tuv)|(uvw)|(vwx)|(wxy)|(xyz))'\n",
    "pattern_2 = r'(\\w)\\1'\n",
    "pattern_3 = r'[ilo]'"
   ]
  },
  {
   "cell_type": "code",
   "execution_count": 9,
   "metadata": {},
   "outputs": [],
   "source": [
    "# Part 1 and 2"
   ]
  },
  {
   "cell_type": "code",
   "execution_count": 10,
   "metadata": {},
   "outputs": [],
   "source": [
    "code = 'hepxcrrq'"
   ]
  },
  {
   "cell_type": "code",
   "execution_count": 11,
   "metadata": {},
   "outputs": [
    {
     "name": "stdout",
     "output_type": "stream",
     "text": [
      "hepxcrrq\n",
      "hepxxyzz\n"
     ]
    }
   ],
   "source": [
    "string = code\n",
    "print(code)\n",
    "while not (len(re.findall(pattern_2, string)) > 1 and len(re.findall(pattern_1, string)) > 0\n",
    "and len(re.findall(pattern_3, string)) == 0):\n",
    "    string = increment_string(string)\n",
    "print(string)"
   ]
  },
  {
   "cell_type": "code",
   "execution_count": 12,
   "metadata": {},
   "outputs": [
    {
     "name": "stdout",
     "output_type": "stream",
     "text": [
      "hepxcrrq\n",
      "heqaabcc\n"
     ]
    }
   ],
   "source": [
    "string = increment_string(string)\n",
    "print(code)\n",
    "while not (len(re.findall(pattern_2, string)) > 1 and len(re.findall(pattern_1, string)) > 0\n",
    "and len(re.findall(pattern_3, string)) == 0):\n",
    "    string = increment_string(string)\n",
    "print(string)"
   ]
  }
 ],
 "metadata": {
  "kernelspec": {
   "display_name": "chgen",
   "language": "python",
   "name": "python3"
  },
  "language_info": {
   "codemirror_mode": {
    "name": "ipython",
    "version": 3
   },
   "file_extension": ".py",
   "mimetype": "text/x-python",
   "name": "python",
   "nbconvert_exporter": "python",
   "pygments_lexer": "ipython3",
   "version": "3.11.7"
  }
 },
 "nbformat": 4,
 "nbformat_minor": 2
}

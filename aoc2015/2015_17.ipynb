{
 "cells": [
  {
   "cell_type": "code",
   "execution_count": 25,
   "metadata": {},
   "outputs": [],
   "source": [
    "import pandas as pd\n",
    "import re"
   ]
  },
  {
   "cell_type": "code",
   "execution_count": 2,
   "metadata": {},
   "outputs": [],
   "source": [
    "with open('input17.txt', \"r\") as file:\n",
    "        text = file.read().strip().split('\\n')\n",
    "text = [int(value) for value in text]"
   ]
  },
  {
   "cell_type": "code",
   "execution_count": 7,
   "metadata": {},
   "outputs": [
    {
     "data": {
      "text/plain": [
       "[50, 44, 11, 49, 42, 46, 18, 32, 26, 40, 21, 7, 18, 43, 10, 47, 36, 24, 22, 40]"
      ]
     },
     "execution_count": 7,
     "metadata": {},
     "output_type": "execute_result"
    }
   ],
   "source": [
    "text"
   ]
  },
  {
   "cell_type": "code",
   "execution_count": 10,
   "metadata": {},
   "outputs": [],
   "source": [
    "ordered_buckets = sorted(text)[::-1]"
   ]
  },
  {
   "cell_type": "code",
   "execution_count": 5,
   "metadata": {},
   "outputs": [],
   "source": [
    "test_cont = [20, 15, 10, 5, 5]\n",
    "total = 25"
   ]
  },
  {
   "cell_type": "code",
   "execution_count": 42,
   "metadata": {},
   "outputs": [
    {
     "name": "stdout",
     "output_type": "stream",
     "text": [
      "[[20, 5], [20, 5], [15, 10], [15, 5, 5]]\n"
     ]
    }
   ],
   "source": [
    "def find_combinations(nums, target):\n",
    "    result = []\n",
    "    nums = sorted(nums)[::-1]\n",
    "\n",
    "    def backtrack(start, path, target, nums):\n",
    "        if target == 0:\n",
    "            result.append(path)\n",
    "            return\n",
    "        if target < 0:\n",
    "            return\n",
    "        for i in range(start, len(nums)):\n",
    "            # Include nums[i] in the combination and recurse with the next start index\n",
    "            backtrack(i + 1, path + [nums[i]], target - nums[i], nums)\n",
    "\n",
    "    backtrack(0, [], target, nums)\n",
    "    return result\n",
    "# Example usage:\n",
    "nums = [20, 10, 15, 5, 5]\n",
    "target = 25\n",
    "# combinations = find_combinations(text, 150)\n",
    "# print(combinations)\n",
    "combinations = find_combinations(nums, 25)\n",
    "print(combinations)"
   ]
  },
  {
   "cell_type": "code",
   "execution_count": 44,
   "metadata": {},
   "outputs": [
    {
     "data": {
      "text/plain": [
       "Counter({2: 3, 3: 1})"
      ]
     },
     "execution_count": 44,
     "metadata": {},
     "output_type": "execute_result"
    }
   ],
   "source": [
    "# part 2\n",
    "from collections import Counter\n",
    "\n",
    "counts = [len(x) for x in combinations]\n",
    "Counter(counts)"
   ]
  },
  {
   "cell_type": "code",
   "execution_count": null,
   "metadata": {},
   "outputs": [],
   "source": []
  }
 ],
 "metadata": {
  "kernelspec": {
   "display_name": "chgen",
   "language": "python",
   "name": "python3"
  },
  "language_info": {
   "codemirror_mode": {
    "name": "ipython",
    "version": 3
   },
   "file_extension": ".py",
   "mimetype": "text/x-python",
   "name": "python",
   "nbconvert_exporter": "python",
   "pygments_lexer": "ipython3",
   "version": "3.11.7"
  }
 },
 "nbformat": 4,
 "nbformat_minor": 2
}

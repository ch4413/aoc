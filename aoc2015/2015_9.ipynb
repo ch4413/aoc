{
 "cells": [
  {
   "cell_type": "code",
   "execution_count": 2,
   "metadata": {},
   "outputs": [],
   "source": [
    "import re\n",
    "from itertools import combinations\n",
    "from itertools import permutations"
   ]
  },
  {
   "cell_type": "code",
   "execution_count": 12,
   "metadata": {},
   "outputs": [],
   "source": [
    "with open('input9.txt', \"r\") as file:\n",
    "        text = file.read().strip().split('\\n')"
   ]
  },
  {
   "cell_type": "code",
   "execution_count": 57,
   "metadata": {},
   "outputs": [],
   "source": [
    "# 1. Extract names with re, digits too\n",
    "# 2. Find unique set of places\n",
    "# 3. Create lookup - key with reversed places, digital as value\n",
    "# 4. Get all combinations\n",
    "# 5. Use combinations in look up using concatenated keys\n",
    "# 6. Store results in dictionary"
   ]
  },
  {
   "cell_type": "code",
   "execution_count": 58,
   "metadata": {},
   "outputs": [],
   "source": [
    "unique_places = set()\n",
    "all_distances = {}\n",
    "for i in text:\n",
    "    list_deets = re.findall('\\w+', i)\n",
    "    unique_places.add(list_deets[0])\n",
    "    unique_places.add(list_deets[2])\n",
    "    all_distances[list_deets[0]+list_deets[2]] = int(list_deets[-1])\n",
    "    all_distances[list_deets[2]+list_deets[0]] = int(list_deets[-1])\n",
    "permutations_of_places = list(permutations(unique_places, len(unique_places)))"
   ]
  },
  {
   "cell_type": "code",
   "execution_count": 59,
   "metadata": {},
   "outputs": [],
   "source": [
    "full_journeys = {}\n",
    "for i in permutations_of_places:\n",
    "    full_journeys[i[0]+i[1]+i[2]+i[3]+i[4]+i[5]+i[6]+i[7]] = (all_distances[i[0]+i[1]] + \n",
    "                                                              all_distances[i[1]+i[2]] + \n",
    "                                                              all_distances[i[2]+i[3]] +\n",
    "                                                              all_distances[i[3]+i[4]] +\n",
    "                                                              all_distances[i[4]+i[5]] +\n",
    "                                                              all_distances[i[5]+i[6]] +\n",
    "                                                              all_distances[i[6]+i[7]])"
   ]
  },
  {
   "cell_type": "code",
   "execution_count": 60,
   "metadata": {},
   "outputs": [
    {
     "data": {
      "text/plain": [
       "251"
      ]
     },
     "execution_count": 60,
     "metadata": {},
     "output_type": "execute_result"
    }
   ],
   "source": [
    "min(full_journeys.values())"
   ]
  },
  {
   "cell_type": "code",
   "execution_count": 61,
   "metadata": {},
   "outputs": [
    {
     "data": {
      "text/plain": [
       "898"
      ]
     },
     "execution_count": 61,
     "metadata": {},
     "output_type": "execute_result"
    }
   ],
   "source": [
    "max(full_journeys.values())"
   ]
  }
 ],
 "metadata": {
  "kernelspec": {
   "display_name": "chgen",
   "language": "python",
   "name": "python3"
  },
  "language_info": {
   "codemirror_mode": {
    "name": "ipython",
    "version": 3
   },
   "file_extension": ".py",
   "mimetype": "text/x-python",
   "name": "python",
   "nbconvert_exporter": "python",
   "pygments_lexer": "ipython3",
   "version": "3.11.7"
  }
 },
 "nbformat": 4,
 "nbformat_minor": 2
}

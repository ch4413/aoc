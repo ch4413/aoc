{
 "cells": [
  {
   "cell_type": "code",
   "execution_count": 112,
   "metadata": {},
   "outputs": [],
   "source": [
    "import re\n",
    "import numpy as np"
   ]
  },
  {
   "cell_type": "code",
   "execution_count": 113,
   "metadata": {},
   "outputs": [],
   "source": [
    "with open('input6.txt', \"r\") as file:\n",
    "    text = file.read().split('\\n')"
   ]
  },
  {
   "cell_type": "code",
   "execution_count": 114,
   "metadata": {},
   "outputs": [
    {
     "data": {
      "text/plain": [
       "['turn on 887,9 through 959,629',\n",
       " 'turn on 454,398 through 844,448',\n",
       " 'turn off 539,243 through 559,965',\n",
       " 'turn off 370,819 through 676,868',\n",
       " 'turn off 145,40 through 370,997']"
      ]
     },
     "execution_count": 114,
     "metadata": {},
     "output_type": "execute_result"
    }
   ],
   "source": [
    "text[:5]"
   ]
  },
  {
   "cell_type": "code",
   "execution_count": 115,
   "metadata": {},
   "outputs": [],
   "source": [
    "# 1. Create 1000x1000 of zeros in numpy\n",
    "# 2. Get apply word: remove turn, find first word\n",
    "# 3. Extract digits: take first two sort, take second two sort\n",
    "# 4. Create indices: x[a1:a2 +1, b1, b2+1]\n",
    "# 5. Create if statement: if on, v=1, if off, v=0, if toggle np.where(mat == 1, 0, 1)\n",
    "# 6. loop through commands\n"
   ]
  },
  {
   "cell_type": "code",
   "execution_count": 116,
   "metadata": {},
   "outputs": [],
   "source": [
    "zeros = np.zeros([1000, 1000])"
   ]
  },
  {
   "cell_type": "code",
   "execution_count": 117,
   "metadata": {},
   "outputs": [],
   "source": [
    "def get_data(line):\n",
    "    a = line.replace('turn', '').strip()\n",
    "    instruction = re.findall('\\w+', a)[0]\n",
    "    digits = list(map(int, re.findall('\\d+', a)))\n",
    "    x = digits[:2]\n",
    "    #x.sort()\n",
    "    #x[1] += 1\n",
    "    y = digits[2:]\n",
    "    y = [x + 1 for x in y]\n",
    "    #[1] += 1\n",
    "    return instruction, x, y"
   ]
  },
  {
   "cell_type": "code",
   "execution_count": 118,
   "metadata": {},
   "outputs": [],
   "source": [
    "zeros = np.zeros([1000, 1000])\n",
    "#text = ['turn on 0,0 through 999,999']\n",
    "for i in text:\n",
    "    instruction = get_data(i)\n",
    "    x = instruction[1]\n",
    "    y = instruction[2]\n",
    "    if instruction[0] == 'on':\n",
    "        zeros[x[0]:y[0], x[1]:y[1]] = 1\n",
    "    if instruction[0] == 'off':\n",
    "        zeros[x[0]:y[0], x[1]:y[1]] = 0\n",
    "    if instruction[0] == 'toggle':\n",
    "        zeros[x[0]:y[0], x[1]:y[1]] = np.where(zeros[x[0]:y[0], x[1]:y[1]] == 1, 0, 1)"
   ]
  },
  {
   "cell_type": "code",
   "execution_count": 119,
   "metadata": {},
   "outputs": [
    {
     "data": {
      "text/plain": [
       "377891.0"
      ]
     },
     "execution_count": 119,
     "metadata": {},
     "output_type": "execute_result"
    }
   ],
   "source": [
    "zeros.sum()"
   ]
  },
  {
   "cell_type": "code",
   "execution_count": 129,
   "metadata": {},
   "outputs": [],
   "source": [
    "## 2\n",
    "zeros = np.zeros([1000, 1000])\n",
    "for i in text:\n",
    "    instruction = get_data(i)\n",
    "    x = instruction[1]\n",
    "    y = instruction[2]\n",
    "    if instruction[0] == 'on':\n",
    "        zeros[x[0]:y[0], x[1]:y[1]] += 1\n",
    "    if instruction[0] == 'off':\n",
    "        zeros[x[0]:y[0], x[1]:y[1]] -= 1\n",
    "        zeros[x[0]:y[0], x[1]:y[1]] = np.where(zeros[x[0]:y[0], x[1]:y[1]] < 0, 0, zeros[x[0]:y[0], x[1]:y[1]])\n",
    "    if instruction[0] == 'toggle':\n",
    "        zeros[x[0]:y[0], x[1]:y[1]] += 2\n"
   ]
  },
  {
   "cell_type": "code",
   "execution_count": 131,
   "metadata": {},
   "outputs": [
    {
     "data": {
      "text/plain": [
       "14110788.0"
      ]
     },
     "execution_count": 131,
     "metadata": {},
     "output_type": "execute_result"
    }
   ],
   "source": [
    "zeros.sum()"
   ]
  }
 ],
 "metadata": {
  "kernelspec": {
   "display_name": "chgen",
   "language": "python",
   "name": "python3"
  },
  "language_info": {
   "codemirror_mode": {
    "name": "ipython",
    "version": 3
   },
   "file_extension": ".py",
   "mimetype": "text/x-python",
   "name": "python",
   "nbconvert_exporter": "python",
   "pygments_lexer": "ipython3",
   "version": "3.11.7"
  }
 },
 "nbformat": 4,
 "nbformat_minor": 2
}

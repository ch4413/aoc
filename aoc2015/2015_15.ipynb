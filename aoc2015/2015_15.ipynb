{
 "cells": [
  {
   "cell_type": "code",
   "execution_count": 2,
   "metadata": {},
   "outputs": [],
   "source": [
    "import re"
   ]
  },
  {
   "cell_type": "code",
   "execution_count": 3,
   "metadata": {},
   "outputs": [],
   "source": [
    "with open('input15.txt', \"r\") as file:\n",
    "        text = file.read().split('\\n')"
   ]
  },
  {
   "cell_type": "code",
   "execution_count": 4,
   "metadata": {},
   "outputs": [
    {
     "data": {
      "text/plain": [
       "['Sugar: capacity 3, durability 0, flavor 0, texture -3, calories 2',\n",
       " 'Sprinkles: capacity -3, durability 3, flavor 0, texture 0, calories 9',\n",
       " 'Candy: capacity -1, durability 0, flavor 4, texture 0, calories 1',\n",
       " 'Chocolate: capacity 0, durability 0, flavor -2, texture 2, calories 8',\n",
       " '']"
      ]
     },
     "execution_count": 4,
     "metadata": {},
     "output_type": "execute_result"
    }
   ],
   "source": [
    "text"
   ]
  },
  {
   "cell_type": "code",
   "execution_count": 14,
   "metadata": {},
   "outputs": [
    {
     "data": {
      "text/plain": [
       "[[0, 0, 0, 100],\n",
       " [0, 0, 1, 99],\n",
       " [0, 0, 2, 98],\n",
       " [0, 0, 3, 97],\n",
       " [0, 0, 4, 96],\n",
       " [0, 0, 5, 95],\n",
       " [0, 0, 6, 94],\n",
       " [0, 0, 7, 93],\n",
       " [0, 0, 8, 92],\n",
       " [0, 0, 9, 91]]"
      ]
     },
     "execution_count": 14,
     "metadata": {},
     "output_type": "execute_result"
    }
   ],
   "source": [
    "import itertools\n",
    "\n",
    "# Define the total sum and the number of parts\n",
    "total_sum = 100\n",
    "num_parts = 4\n",
    "\n",
    "# Generate all combinations of num_parts non-negative integers that sum up to total_sum\n",
    "combinations = []\n",
    "for combination in itertools.combinations_with_replacement(range(total_sum + 1), num_parts - 1):\n",
    "    combination = (0,) + combination + (total_sum,)\n",
    "    combination = [j - i for i, j in zip(combination[:-1], combination[1:])]\n",
    "    if sum(combination) == total_sum:\n",
    "        combinations.append(combination)\n",
    "\n",
    "# Display the first 10 combinations to check\n",
    "combinations[:10]"
   ]
  },
  {
   "cell_type": "code",
   "execution_count": 16,
   "metadata": {},
   "outputs": [
    {
     "data": {
      "text/plain": [
       "[0, 0, 0, 100]"
      ]
     },
     "execution_count": 16,
     "metadata": {},
     "output_type": "execute_result"
    }
   ],
   "source": [
    "combinations[0]"
   ]
  },
  {
   "cell_type": "code",
   "execution_count": 18,
   "metadata": {},
   "outputs": [],
   "source": [
    "flavour_stats = [[3, 0, 0, -3, 2], [-3, 3, 0, 0, 9], [-1, 0, 4, 0, 1], [0, 0, -2, 2, 8]]"
   ]
  },
  {
   "cell_type": "code",
   "execution_count": 40,
   "metadata": {},
   "outputs": [],
   "source": [
    "flavour_all = (multiply_combinations(flavour_stats[0], combinations[0][0]), multiply_combinations(flavour_stats[0], combinations[0][1])\n",
    " , multiply_combinations(flavour_stats[0], combinations[0][2]), multiply_combinations(flavour_stats[0], combinations[0][3])\n",
    " )"
   ]
  },
  {
   "cell_type": "code",
   "execution_count": 41,
   "metadata": {},
   "outputs": [],
   "source": [
    "def multiply_combinations(list_a, scalar):\n",
    "    return [element * scalar for element in list_a]"
   ]
  },
  {
   "cell_type": "code",
   "execution_count": 42,
   "metadata": {},
   "outputs": [],
   "source": [
    "def add_element_wise(lists):\n",
    "    return [sum(elements) for elements in zip(*lists)]"
   ]
  },
  {
   "cell_type": "code",
   "execution_count": 45,
   "metadata": {},
   "outputs": [
    {
     "data": {
      "text/plain": [
       "[300, 0, 0, -300]"
      ]
     },
     "execution_count": 45,
     "metadata": {},
     "output_type": "execute_result"
    }
   ],
   "source": [
    "add_element_wise(flavour_all)[:4]"
   ]
  },
  {
   "cell_type": "code",
   "execution_count": 47,
   "metadata": {},
   "outputs": [],
   "source": [
    "import functools\n",
    "import operator"
   ]
  },
  {
   "cell_type": "code",
   "execution_count": 48,
   "metadata": {},
   "outputs": [
    {
     "data": {
      "text/plain": [
       "0"
      ]
     },
     "execution_count": 48,
     "metadata": {},
     "output_type": "execute_result"
    }
   ],
   "source": [
    "functools.reduce(operator.mul, add_element_wise(flavour_all)[:4], 1)"
   ]
  },
  {
   "cell_type": "code",
   "execution_count": null,
   "metadata": {},
   "outputs": [],
   "source": []
  }
 ],
 "metadata": {
  "kernelspec": {
   "display_name": "chgen",
   "language": "python",
   "name": "python3"
  },
  "language_info": {
   "codemirror_mode": {
    "name": "ipython",
    "version": 3
   },
   "file_extension": ".py",
   "mimetype": "text/x-python",
   "name": "python",
   "nbconvert_exporter": "python",
   "pygments_lexer": "ipython3",
   "version": "3.11.7"
  }
 },
 "nbformat": 4,
 "nbformat_minor": 2
}

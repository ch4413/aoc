{
 "cells": [
  {
   "cell_type": "code",
   "execution_count": 2,
   "metadata": {},
   "outputs": [],
   "source": [
    "import re"
   ]
  },
  {
   "cell_type": "code",
   "execution_count": 3,
   "metadata": {},
   "outputs": [],
   "source": [
    "with open('input15.txt', \"r\") as file:\n",
    "        text = file.read().split('\\n')"
   ]
  },
  {
   "cell_type": "code",
   "execution_count": 4,
   "metadata": {},
   "outputs": [
    {
     "data": {
      "text/plain": [
       "['Sugar: capacity 3, durability 0, flavor 0, texture -3, calories 2',\n",
       " 'Sprinkles: capacity -3, durability 3, flavor 0, texture 0, calories 9',\n",
       " 'Candy: capacity -1, durability 0, flavor 4, texture 0, calories 1',\n",
       " 'Chocolate: capacity 0, durability 0, flavor -2, texture 2, calories 8',\n",
       " '']"
      ]
     },
     "execution_count": 4,
     "metadata": {},
     "output_type": "execute_result"
    }
   ],
   "source": [
    "text"
   ]
  },
  {
   "cell_type": "code",
   "execution_count": 14,
   "metadata": {},
   "outputs": [
    {
     "data": {
      "text/plain": [
       "[[0, 0, 0, 100],\n",
       " [0, 0, 1, 99],\n",
       " [0, 0, 2, 98],\n",
       " [0, 0, 3, 97],\n",
       " [0, 0, 4, 96],\n",
       " [0, 0, 5, 95],\n",
       " [0, 0, 6, 94],\n",
       " [0, 0, 7, 93],\n",
       " [0, 0, 8, 92],\n",
       " [0, 0, 9, 91]]"
      ]
     },
     "execution_count": 14,
     "metadata": {},
     "output_type": "execute_result"
    }
   ],
   "source": [
    "import itertools\n",
    "\n",
    "# Define the total sum and the number of parts\n",
    "total_sum = 100\n",
    "num_parts = 4\n",
    "\n",
    "# Generate all combinations of num_parts non-negative integers that sum up to total_sum\n",
    "combinations = []\n",
    "for combination in itertools.combinations_with_replacement(range(total_sum + 1), num_parts - 1):\n",
    "    combination = (0,) + combination + (total_sum,)\n",
    "    combination = [j - i for i, j in zip(combination[:-1], combination[1:])]\n",
    "    if sum(combination) == total_sum:\n",
    "        combinations.append(combination)\n",
    "\n",
    "# Display the first 10 combinations to check\n",
    "combinations[:10]"
   ]
  },
  {
   "cell_type": "code",
   "execution_count": 16,
   "metadata": {},
   "outputs": [
    {
     "data": {
      "text/plain": [
       "[0, 0, 0, 100]"
      ]
     },
     "execution_count": 16,
     "metadata": {},
     "output_type": "execute_result"
    }
   ],
   "source": [
    "combinations[0]"
   ]
  },
  {
   "cell_type": "code",
   "execution_count": 18,
   "metadata": {},
   "outputs": [],
   "source": [
    "flavour_stats = [[3, 0, 0, -3, 2], [-3, 3, 0, 0, 9], [-1, 0, 4, 0, 1], [0, 0, -2, 2, 8]]"
   ]
  },
  {
   "cell_type": "code",
   "execution_count": 21,
   "metadata": {},
   "outputs": [
    {
     "data": {
      "text/plain": [
       "([], [], [], [])"
      ]
     },
     "execution_count": 21,
     "metadata": {},
     "output_type": "execute_result"
    }
   ],
   "source": [
    "(multiply_combinations(flavour_stats[0], combinations[0][0]), combinations[0][0] * flavour_stats[1],\n",
    "combinations[0][0] * flavour_stats[2], combinations[0][0] * flavour_stats[3] )"
   ]
  },
  {
   "cell_type": "code",
   "execution_count": 28,
   "metadata": {},
   "outputs": [],
   "source": [
    "def multiply_combinations(combinations, scalar):\n",
    "    return [[x * scalar for x in combo] for combo in combinations]"
   ]
  },
  {
   "cell_type": "code",
   "execution_count": 30,
   "metadata": {},
   "outputs": [
    {
     "ename": "TypeError",
     "evalue": "'int' object is not iterable",
     "output_type": "error",
     "traceback": [
      "\u001b[1;31m---------------------------------------------------------------------------\u001b[0m",
      "\u001b[1;31mTypeError\u001b[0m                                 Traceback (most recent call last)",
      "Cell \u001b[1;32mIn[30], line 1\u001b[0m\n\u001b[1;32m----> 1\u001b[0m multiply_combinations(flavour_stats[\u001b[38;5;241m0\u001b[39m], combinations[\u001b[38;5;241m0\u001b[39m][\u001b[38;5;241m0\u001b[39m])\n",
      "Cell \u001b[1;32mIn[28], line 2\u001b[0m, in \u001b[0;36mmultiply_combinations\u001b[1;34m(combinations, scalar)\u001b[0m\n\u001b[0;32m      1\u001b[0m \u001b[38;5;28;01mdef\u001b[39;00m \u001b[38;5;21mmultiply_combinations\u001b[39m(combinations, scalar):\n\u001b[1;32m----> 2\u001b[0m     \u001b[38;5;28;01mreturn\u001b[39;00m [[x \u001b[38;5;241m*\u001b[39m scalar \u001b[38;5;28;01mfor\u001b[39;00m x \u001b[38;5;129;01min\u001b[39;00m combo] \u001b[38;5;28;01mfor\u001b[39;00m combo \u001b[38;5;129;01min\u001b[39;00m combinations]\n",
      "Cell \u001b[1;32mIn[28], line 2\u001b[0m, in \u001b[0;36m<listcomp>\u001b[1;34m(.0)\u001b[0m\n\u001b[0;32m      1\u001b[0m \u001b[38;5;28;01mdef\u001b[39;00m \u001b[38;5;21mmultiply_combinations\u001b[39m(combinations, scalar):\n\u001b[1;32m----> 2\u001b[0m     \u001b[38;5;28;01mreturn\u001b[39;00m [[x \u001b[38;5;241m*\u001b[39m scalar \u001b[38;5;28;01mfor\u001b[39;00m x \u001b[38;5;129;01min\u001b[39;00m combo] \u001b[38;5;28;01mfor\u001b[39;00m combo \u001b[38;5;129;01min\u001b[39;00m combinations]\n",
      "\u001b[1;31mTypeError\u001b[0m: 'int' object is not iterable"
     ]
    }
   ],
   "source": [
    "multiply_combinations(flavour_stats[0], combinations[0][0])"
   ]
  },
  {
   "cell_type": "code",
   "execution_count": 26,
   "metadata": {},
   "outputs": [
    {
     "data": {
      "text/plain": [
       "100"
      ]
     },
     "execution_count": 26,
     "metadata": {},
     "output_type": "execute_result"
    }
   ],
   "source": [
    "combinations[0][3]"
   ]
  }
 ],
 "metadata": {
  "kernelspec": {
   "display_name": "chgen",
   "language": "python",
   "name": "python3"
  },
  "language_info": {
   "codemirror_mode": {
    "name": "ipython",
    "version": 3
   },
   "file_extension": ".py",
   "mimetype": "text/x-python",
   "name": "python",
   "nbconvert_exporter": "python",
   "pygments_lexer": "ipython3",
   "version": "3.11.7"
  }
 },
 "nbformat": 4,
 "nbformat_minor": 2
}

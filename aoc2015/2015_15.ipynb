{
 "cells": [
  {
   "cell_type": "code",
   "execution_count": 52,
   "metadata": {},
   "outputs": [],
   "source": [
    "import itertools\n",
    "import numpy as np\n",
    "import pandas as pd"
   ]
  },
  {
   "cell_type": "code",
   "execution_count": 55,
   "metadata": {},
   "outputs": [
    {
     "data": {
      "text/plain": [
       "['Sugar: capacity 3, durability 0, flavor 0, texture -3, calories 2',\n",
       " 'Sprinkles: capacity -3, durability 3, flavor 0, texture 0, calories 9',\n",
       " 'Candy: capacity -1, durability 0, flavor 4, texture 0, calories 1',\n",
       " 'Chocolate: capacity 0, durability 0, flavor -2, texture 2, calories 8',\n",
       " '']"
      ]
     },
     "execution_count": 55,
     "metadata": {},
     "output_type": "execute_result"
    }
   ],
   "source": [
    "with open('input15.txt', \"r\") as file:\n",
    "        text = file.read().split('\\n')\n",
    "text"
   ]
  },
  {
   "cell_type": "code",
   "execution_count": 67,
   "metadata": {},
   "outputs": [],
   "source": [
    "def calc_score(flav_array):\n",
    "    flav_array_sum = flav_array.sum(axis=0)\n",
    "    flav_array_sum[flav_array_sum < 0] = 0\n",
    "\n",
    "    return flav_array_sum[:4].prod()"
   ]
  },
  {
   "cell_type": "code",
   "execution_count": 59,
   "metadata": {},
   "outputs": [],
   "source": [
    "def create_flav_ing_grid():\n",
    "    return np.array([[3, 0, 0, -3, 2], [-3, 3, 0, 0, 9], [-1, 0, 4, 0, 1], [0, 0, -2, 2, 8]])"
   ]
  },
  {
   "cell_type": "code",
   "execution_count": 60,
   "metadata": {},
   "outputs": [],
   "source": [
    "def multiply_up(flav_stats, comb):\n",
    "    fs_arry = flav_stats.copy()\n",
    "    fs_arry[0] = fs_arry[0] * comb[0]\n",
    "    fs_arry[1] = fs_arry[1] * comb[1]\n",
    "    fs_arry[2] = fs_arry[2] * comb[2]\n",
    "    fs_arry[3] = fs_arry[3] * comb[3]\n",
    "    \n",
    "    return fs_arry"
   ]
  },
  {
   "cell_type": "code",
   "execution_count": 61,
   "metadata": {},
   "outputs": [],
   "source": [
    "# 1 Create grid\n",
    "flavour_stats = create_flav_ing_grid()\n",
    "# 2 Create values\n",
    "# Define the total sum and the number of parts\n",
    "total_sum = 100 # teaspoons\n",
    "num_parts = 4 # ingredients\n",
    "\n",
    "# Generate all combinations of num_parts non-negative integers that sum up to total_sum\n",
    "combinations = []\n",
    "for combination in itertools.combinations_with_replacement(range(total_sum + 1), num_parts - 1):\n",
    "    combination = (0,) + combination + (total_sum,)\n",
    "    combination = [j - i for i, j in zip(combination[:-1], combination[1:])]\n",
    "    if sum(combination) == total_sum:\n",
    "        combinations.append(combination)"
   ]
  },
  {
   "cell_type": "code",
   "execution_count": 70,
   "metadata": {},
   "outputs": [
    {
     "name": "stdout",
     "output_type": "stream",
     "text": [
      "4212\n",
      "5472\n",
      "10512\n",
      "14910\n",
      "16560\n",
      "18360\n",
      "25344\n",
      "29568\n",
      "31248\n",
      "34560\n",
      "35712\n",
      "36234\n",
      "42480\n",
      "46170\n",
      "47520\n",
      "56640\n",
      "62244\n",
      "63360\n",
      "64512\n",
      "78408\n",
      "87360\n",
      "91800\n",
      "92160\n",
      "94500\n",
      "98784\n",
      "109980\n",
      "116640\n",
      "119196\n",
      "120978\n",
      "129600\n",
      "132354\n",
      "136800\n",
      "140448\n",
      "148176\n",
      "159120\n",
      "164160\n",
      "169830\n",
      "181440\n",
      "187110\n",
      "187488\n",
      "188160\n",
      "195624\n",
      "196416\n",
      "199584\n",
      "208080\n",
      "215040\n",
      "215280\n",
      "216000\n",
      "220248\n",
      "222870\n"
     ]
    }
   ],
   "source": [
    "high_score = 0\n",
    "for i in combinations:\n",
    "    flav_score = multiply_up(flavour_stats, i)\n",
    "    total_score = calc_score(flav_score)\n",
    "    if total_score > high_score:\n",
    "        high_score = total_score\n",
    "        print(high_score)"
   ]
  },
  {
   "cell_type": "code",
   "execution_count": 71,
   "metadata": {},
   "outputs": [
    {
     "data": {
      "text/plain": [
       "222870"
      ]
     },
     "execution_count": 71,
     "metadata": {},
     "output_type": "execute_result"
    }
   ],
   "source": [
    "high_score"
   ]
  },
  {
   "cell_type": "code",
   "execution_count": 72,
   "metadata": {},
   "outputs": [],
   "source": [
    "# Part 2\n",
    "def calc_score(flav_array):\n",
    "    flav_array_sum = flav_array.sum(axis=0)\n",
    "    flav_array_sum[flav_array_sum < 0] = 0\n",
    "\n",
    "    return flav_array_sum[:4].prod(), flav_array_sum[4]"
   ]
  },
  {
   "cell_type": "code",
   "execution_count": 73,
   "metadata": {},
   "outputs": [
    {
     "name": "stdout",
     "output_type": "stream",
     "text": [
      "8844\n",
      "25344\n",
      "88830\n",
      "92736\n",
      "117936\n"
     ]
    }
   ],
   "source": [
    "high_score = 0\n",
    "for i in combinations:\n",
    "    flav_score = multiply_up(flavour_stats, i)\n",
    "    total_score, total_cal = calc_score(flav_score)\n",
    "    if (total_cal == 500) and (total_score > high_score):\n",
    "        high_score = total_score\n",
    "        print(high_score)"
   ]
  }
 ],
 "metadata": {
  "kernelspec": {
   "display_name": "chgen",
   "language": "python",
   "name": "python3"
  },
  "language_info": {
   "codemirror_mode": {
    "name": "ipython",
    "version": 3
   },
   "file_extension": ".py",
   "mimetype": "text/x-python",
   "name": "python",
   "nbconvert_exporter": "python",
   "pygments_lexer": "ipython3",
   "version": "3.11.7"
  }
 },
 "nbformat": 4,
 "nbformat_minor": 2
}

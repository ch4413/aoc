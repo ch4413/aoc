{
 "cells": [
  {
   "cell_type": "code",
   "execution_count": 106,
   "metadata": {},
   "outputs": [],
   "source": [
    "import re"
   ]
  },
  {
   "cell_type": "code",
   "execution_count": 263,
   "metadata": {},
   "outputs": [],
   "source": [
    "with open('input7.txt', \"r\") as file:\n",
    "        commands = file.read().strip().split('\\n')"
   ]
  },
  {
   "cell_type": "code",
   "execution_count": 264,
   "metadata": {},
   "outputs": [
    {
     "name": "stdout",
     "output_type": "stream",
     "text": [
      "a: 46065\n"
     ]
    }
   ],
   "source": [
    "calc = dict()\n",
    "results = dict()\n",
    "\n",
    "for command in commands:\n",
    "    (ops, res) = command.split('->')\n",
    "    calc[res.strip()] = ops.strip().split(' ')\n",
    "\n",
    "def calculate(name):\n",
    "    try:\n",
    "        return int(name)\n",
    "    except ValueError:\n",
    "        pass\n",
    "\n",
    "    if name not in results:\n",
    "        ops = calc[name]\n",
    "        if len(ops) == 1:\n",
    "            res = calculate(ops[0])\n",
    "        else:\n",
    "            op = ops[-2] # as not is\n",
    "            if op == 'AND':\n",
    "              res = calculate(ops[0]) & calculate(ops[2])\n",
    "            elif op == 'OR':\n",
    "              res = calculate(ops[0]) | calculate(ops[2])\n",
    "            elif op == 'NOT':\n",
    "              res = ~calculate(ops[1]) #& 0xffff\n",
    "            elif op == 'RSHIFT':\n",
    "              res = calculate(ops[0]) >> calculate(ops[2])\n",
    "            elif op == 'LSHIFT':\n",
    "              res = calculate(ops[0]) << calculate(ops[2])\n",
    "        results[name] = res\n",
    "    return results[name]\n",
    "\n",
    "print(f\"a: {calculate('a')}\")"
   ]
  },
  {
   "cell_type": "code",
   "execution_count": 267,
   "metadata": {},
   "outputs": [],
   "source": [
    "all_res = {}\n",
    "for i in calc:\n",
    "    all_res[i] = calculate(i)"
   ]
  },
  {
   "cell_type": "code",
   "execution_count": 269,
   "metadata": {},
   "outputs": [
    {
     "data": {
      "text/plain": [
       "339"
      ]
     },
     "execution_count": 269,
     "metadata": {},
     "output_type": "execute_result"
    }
   ],
   "source": [
    "len(all_res)"
   ]
  },
  {
   "cell_type": "code",
   "execution_count": 268,
   "metadata": {},
   "outputs": [],
   "source": [
    "new_data = text.split('\\n')\n",
    "for i in range(len(new_data)):\n",
    "    if new_data[i][-3:] == '> b':\n",
    "        new_data[i] = '46065 -> b'\n",
    "    else:\n",
    "        pass"
   ]
  },
  {
   "cell_type": "code",
   "execution_count": 265,
   "metadata": {},
   "outputs": [
    {
     "name": "stdout",
     "output_type": "stream",
     "text": [
      "a: 14134\n"
     ]
    }
   ],
   "source": [
    "calc = dict()\n",
    "results = dict()\n",
    "\n",
    "for command in new_data:\n",
    "    (ops, res) = command.split('->')\n",
    "    calc[res.strip()] = ops.strip().split(' ')\n",
    "\n",
    "def calculate(name):\n",
    "    try:\n",
    "        return int(name)\n",
    "    except ValueError:\n",
    "        pass\n",
    "\n",
    "    if name not in results:\n",
    "        ops = calc[name]\n",
    "        if len(ops) == 1:\n",
    "            res = calculate(ops[0])\n",
    "        else:\n",
    "            op = ops[-2]\n",
    "            if op == 'AND':\n",
    "              res = calculate(ops[0]) & calculate(ops[2])\n",
    "            elif op == 'OR':\n",
    "              res = calculate(ops[0]) | calculate(ops[2])\n",
    "            elif op == 'NOT':\n",
    "              res = ~calculate(ops[1]) #& 0xffff\n",
    "            elif op == 'RSHIFT':\n",
    "              res = calculate(ops[0]) >> calculate(ops[2])\n",
    "            elif op == 'LSHIFT':\n",
    "              res = calculate(ops[0]) << calculate(ops[2])\n",
    "        results[name] = res\n",
    "    return results[name]\n",
    "\n",
    "print(f\"a: {calculate('a')}\")"
   ]
  },
  {
   "cell_type": "code",
   "execution_count": null,
   "metadata": {},
   "outputs": [],
   "source": []
  }
 ],
 "metadata": {
  "kernelspec": {
   "display_name": "chgen",
   "language": "python",
   "name": "python3"
  },
  "language_info": {
   "codemirror_mode": {
    "name": "ipython",
    "version": 3
   },
   "file_extension": ".py",
   "mimetype": "text/x-python",
   "name": "python",
   "nbconvert_exporter": "python",
   "pygments_lexer": "ipython3",
   "version": "3.11.7"
  }
 },
 "nbformat": 4,
 "nbformat_minor": 2
}

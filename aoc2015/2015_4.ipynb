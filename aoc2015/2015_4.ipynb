{
 "cells": [
  {
   "cell_type": "code",
   "execution_count": 22,
   "metadata": {},
   "outputs": [],
   "source": [
    "import hashlib\n",
    "a = 'iwrupvqb'"
   ]
  },
  {
   "cell_type": "code",
   "execution_count": 28,
   "metadata": {},
   "outputs": [
    {
     "name": "stdout",
     "output_type": "stream",
     "text": [
      "346386\n"
     ]
    }
   ],
   "source": [
    "# Part 1\n",
    "num = -1\n",
    "md5_hash = ''\n",
    "while md5_hash[:5] != '00000':\n",
    "    num += 1\n",
    "    input_string = a + str(num)\n",
    "    input_bytes = input_string.encode('utf-8')\n",
    "    md5_hash = hashlib.md5(input_bytes).hexdigest()\n",
    "print(num)"
   ]
  },
  {
   "cell_type": "code",
   "execution_count": 29,
   "metadata": {},
   "outputs": [
    {
     "name": "stdout",
     "output_type": "stream",
     "text": [
      "9958218\n"
     ]
    }
   ],
   "source": [
    "# Part 2\n",
    "num = -1\n",
    "md5_hash = ''\n",
    "while md5_hash[:6] != '000000':\n",
    "    num += 1\n",
    "    input_string = a + str(num)\n",
    "    input_bytes = input_string.encode('utf-8')\n",
    "    md5_hash = hashlib.md5(input_bytes).hexdigest()\n",
    "print(num)"
   ]
  }
 ],
 "metadata": {
  "kernelspec": {
   "display_name": "chgen",
   "language": "python",
   "name": "python3"
  },
  "language_info": {
   "codemirror_mode": {
    "name": "ipython",
    "version": 3
   },
   "file_extension": ".py",
   "mimetype": "text/x-python",
   "name": "python",
   "nbconvert_exporter": "python",
   "pygments_lexer": "ipython3",
   "version": "3.12.2"
  }
 },
 "nbformat": 4,
 "nbformat_minor": 2
}

{
 "cells": [
  {
   "cell_type": "code",
   "execution_count": 55,
   "metadata": {},
   "outputs": [],
   "source": [
    "import re"
   ]
  },
  {
   "cell_type": "code",
   "execution_count": 56,
   "metadata": {},
   "outputs": [],
   "source": [
    "with open('input19.txt', \"r\") as file:\n",
    "        text = file.read().strip().split('\\n')"
   ]
  },
  {
   "cell_type": "code",
   "execution_count": 57,
   "metadata": {},
   "outputs": [],
   "source": [
    "start_c = text[-1]\n",
    "convs = text[:-2]"
   ]
  },
  {
   "cell_type": "code",
   "execution_count": 58,
   "metadata": {},
   "outputs": [],
   "source": [
    "convs_dict = {}\n",
    "for i in convs:\n",
    "    x, y = i.split(' => ')\n",
    "    if x in convs_dict:\n",
    "        list_values = convs_dict[x]\n",
    "        list_values.extend([y])\n",
    "        convs_dict[x] = list_values\n",
    "    else:\n",
    "        convs_dict[x] = [y]"
   ]
  },
  {
   "cell_type": "code",
   "execution_count": 59,
   "metadata": {},
   "outputs": [],
   "source": [
    "def generate_single_replacements(string, target, replacements):\n",
    "    # Find all indices of the target character\n",
    "    indices = [m.start() for m in re.finditer(target, string)]\n",
    "    \n",
    "    result_strings = []\n",
    "    \n",
    "    for index in indices:\n",
    "        for replacement in replacements:\n",
    "            new_string = list(string)\n",
    "            new_string[index] = replacement\n",
    "            result_strings.append(''.join(new_string))\n",
    "    \n",
    "    return result_strings"
   ]
  },
  {
   "cell_type": "code",
   "execution_count": 60,
   "metadata": {},
   "outputs": [],
   "source": [
    "# Example usage\n",
    "string = \"HOH\"\n",
    "target_replacements = {'H': ['OH', 'HO'], 'O' : ['HH']}\n",
    "\n",
    "all_strings = []\n",
    "for key in target_replacements:\n",
    "    new_strings = generate_single_replacements(string, key, target_replacements[key])\n",
    "    all_strings += new_strings"
   ]
  },
  {
   "cell_type": "code",
   "execution_count": 61,
   "metadata": {},
   "outputs": [
    {
     "data": {
      "text/plain": [
       "4"
      ]
     },
     "execution_count": 61,
     "metadata": {},
     "output_type": "execute_result"
    }
   ],
   "source": [
    "len(set(all_strings))"
   ]
  },
  {
   "cell_type": "code",
   "execution_count": 62,
   "metadata": {},
   "outputs": [],
   "source": [
    "# Full use\n",
    "all_strings = []\n",
    "for key in convs_dict:\n",
    "    new_strings = generate_single_replacements(start_c, key, convs_dict[key])\n",
    "    all_strings += new_strings"
   ]
  },
  {
   "cell_type": "code",
   "execution_count": 63,
   "metadata": {},
   "outputs": [
    {
     "data": {
      "text/plain": [
       "662"
      ]
     },
     "execution_count": 63,
     "metadata": {},
     "output_type": "execute_result"
    }
   ],
   "source": [
    "len(all_strings)"
   ]
  },
  {
   "cell_type": "code",
   "execution_count": 64,
   "metadata": {},
   "outputs": [
    {
     "data": {
      "text/plain": [
       "638"
      ]
     },
     "execution_count": 64,
     "metadata": {},
     "output_type": "execute_result"
    }
   ],
   "source": [
    "len(set(all_strings))"
   ]
  },
  {
   "cell_type": "code",
   "execution_count": 65,
   "metadata": {},
   "outputs": [
    {
     "data": {
      "text/plain": [
       "535"
      ]
     },
     "execution_count": 65,
     "metadata": {},
     "output_type": "execute_result"
    }
   ],
   "source": [
    "def read(s):\n",
    "    return [i.strip() for i in open(s, 'r')]\n",
    "lines = read('input19.txt')\n",
    "\n",
    "replacements = []\n",
    "for i in lines[:-2]:\n",
    "    m = re.findall(r'(\\S+) => (\\S+)', i)\n",
    "    replacements.append(m[0])\n",
    "X = lines[-1]\n",
    "\n",
    "S = set()\n",
    "for i, j in replacements:\n",
    "    for k in range(len(X)):\n",
    "        if X[k:k+len(i)] == i:\n",
    "            y = X[:k] + j + X[k+len(i):]\n",
    "            S.add(y)\n",
    "len(S)"
   ]
  },
  {
   "cell_type": "code",
   "execution_count": 79,
   "metadata": {},
   "outputs": [
    {
     "name": "stdout",
     "output_type": "stream",
     "text": [
      "{'e'}\n",
      "{'O', 'H'}\n",
      "{'O', 'H', 'OH', 'HO', 'HH'}\n",
      "{'HOH', 'OHH', 'HHO', 'OHO', 'HHH', 'O', 'H', 'OH', 'HOO', 'OOH', 'HO', 'HH'}\n",
      "{'OHHH', 'HOOO', 'HOH', 'HHO', 'HHHO', 'HHHH', 'OOOH', 'HHH', 'H', 'OHOO', 'OHOH', 'OOHO', 'HHOH', 'HHOO', 'HH', 'OHHO', 'OHH', 'HOOH', 'HOHO', 'OHO', 'O', 'OOHH', 'OH', 'HOO', 'OOH', 'HOHH', 'HO'}\n",
      "{'OHHH', 'HOOO', 'HOH', 'HHOOO', 'HHHOH', 'HHO', 'HHHO', 'OHHHH', 'HHOOH', 'HOHOO', 'H', 'OHOO', 'OOHHH', 'OOHO', 'OHOHO', 'OHHHO', 'OOHOO', 'HHOO', 'HH', 'OHHOH', 'OHHO', 'OOOOH', 'OHH', 'OOOHH', 'HOHO', 'HHHHO', 'OHO', 'HOOHO', 'OHOHH', 'HOOHH', 'O', 'HOHHH', 'OOHH', 'OH', 'HHHOO', 'HHHH', 'OOOH', 'OHOOH', 'HHH', 'OOHOH', 'OOOHO', 'OHOH', 'HHOH', 'HHOHO', 'HOHOH', 'OHOOO', 'HHOHH', 'HOOH', 'HOOOH', 'HHHHH', 'OOHHO', 'HOOOO', 'HOHHO', 'OHHOO', 'HOO', 'OOH', 'HOHH', 'HO'}\n",
      "6\n"
     ]
    }
   ],
   "source": [
    "replacements = [('e', 'H'),\n",
    "                ('e', 'O'),\n",
    "                ('H', 'HO'),\n",
    "                ('H', 'OH'),\n",
    "                ('O', 'HH')]\n",
    "X = 'e'\n",
    "\n",
    "S = set()\n",
    "S.add('e')\n",
    "S_new = set()\n",
    "iters = 0\n",
    "while 'HOHOHO' not in S:\n",
    "    iters += 1\n",
    "    for X in S:\n",
    "        for i, j in replacements:\n",
    "            for k in range(len(X)):\n",
    "                if X[k:k+len(i)] == i:\n",
    "                    y = X[:k] + j + X[k+len(i):]\n",
    "                    S_new.add(y)\n",
    "    S = S_new.copy()\n",
    "    print(iters)"
   ]
  },
  {
   "cell_type": "code",
   "execution_count": 83,
   "metadata": {},
   "outputs": [
    {
     "name": "stdout",
     "output_type": "stream",
     "text": [
      "1\n",
      "2\n",
      "3\n",
      "4\n",
      "5\n",
      "6\n",
      "7\n",
      "8\n",
      "9\n",
      "10\n",
      "Unexpected exception formatting exception. Falling back to standard exception\n"
     ]
    },
    {
     "name": "stderr",
     "output_type": "stream",
     "text": [
      "Traceback (most recent call last):\n",
      "  File \"c:\\Users\\chris\\anaconda3\\Lib\\site-packages\\IPython\\core\\interactiveshell.py\", line 3553, in run_code\n",
      "    exec(code_obj, self.user_global_ns, self.user_ns)\n",
      "  File \"C:\\Users\\chris\\AppData\\Local\\Temp\\ipykernel_10728\\1557046627.py\", line None, in <module>\n",
      "KeyboardInterrupt\n",
      "\n",
      "During handling of the above exception, another exception occurred:\n",
      "\n",
      "Traceback (most recent call last):\n",
      "  File \"c:\\Users\\chris\\anaconda3\\Lib\\site-packages\\IPython\\core\\interactiveshell.py\", line 2144, in showtraceback\n",
      "    stb = self.InteractiveTB.structured_traceback(\n",
      "          ^^^^^^^^^^^^^^^^^^^^^^^^^^^^^^^^^^^^^^^^\n",
      "  File \"c:\\Users\\chris\\anaconda3\\Lib\\site-packages\\IPython\\core\\ultratb.py\", line 1435, in structured_traceback\n",
      "    return FormattedTB.structured_traceback(\n",
      "           ^^^^^^^^^^^^^^^^^^^^^^^^^^^^^^^^^\n",
      "  File \"c:\\Users\\chris\\anaconda3\\Lib\\site-packages\\IPython\\core\\ultratb.py\", line 1326, in structured_traceback\n",
      "    return VerboseTB.structured_traceback(\n",
      "           ^^^^^^^^^^^^^^^^^^^^^^^^^^^^^^^\n",
      "  File \"c:\\Users\\chris\\anaconda3\\Lib\\site-packages\\IPython\\core\\ultratb.py\", line 1173, in structured_traceback\n",
      "    formatted_exception = self.format_exception_as_a_whole(etype, evalue, etb, number_of_lines_of_context,\n",
      "                          ^^^^^^^^^^^^^^^^^^^^^^^^^^^^^^^^^^^^^^^^^^^^^^^^^^^^^^^^^^^^^^^^^^^^^^^^^^^^^^^^\n",
      "  File \"c:\\Users\\chris\\anaconda3\\Lib\\site-packages\\IPython\\core\\ultratb.py\", line 1088, in format_exception_as_a_whole\n",
      "    frames.append(self.format_record(record))\n",
      "                  ^^^^^^^^^^^^^^^^^^^^^^^^^^\n",
      "  File \"c:\\Users\\chris\\anaconda3\\Lib\\site-packages\\IPython\\core\\ultratb.py\", line 970, in format_record\n",
      "    frame_info.lines, Colors, self.has_colors, lvals\n",
      "    ^^^^^^^^^^^^^^^^\n",
      "  File \"c:\\Users\\chris\\anaconda3\\Lib\\site-packages\\IPython\\core\\ultratb.py\", line 792, in lines\n",
      "    return self._sd.lines\n",
      "           ^^^^^^^^^^^^^^\n",
      "  File \"c:\\Users\\chris\\anaconda3\\Lib\\site-packages\\stack_data\\utils.py\", line 145, in cached_property_wrapper\n",
      "    value = obj.__dict__[self.func.__name__] = self.func(obj)\n",
      "                                               ^^^^^^^^^^^^^^\n",
      "  File \"c:\\Users\\chris\\anaconda3\\Lib\\site-packages\\stack_data\\core.py\", line 698, in lines\n",
      "    pieces = self.included_pieces\n",
      "             ^^^^^^^^^^^^^^^^^^^^\n",
      "  File \"c:\\Users\\chris\\anaconda3\\Lib\\site-packages\\stack_data\\utils.py\", line 145, in cached_property_wrapper\n",
      "    value = obj.__dict__[self.func.__name__] = self.func(obj)\n",
      "                                               ^^^^^^^^^^^^^^\n",
      "  File \"c:\\Users\\chris\\anaconda3\\Lib\\site-packages\\stack_data\\core.py\", line 649, in included_pieces\n",
      "    pos = scope_pieces.index(self.executing_piece)\n",
      "                             ^^^^^^^^^^^^^^^^^^^^\n",
      "  File \"c:\\Users\\chris\\anaconda3\\Lib\\site-packages\\stack_data\\utils.py\", line 145, in cached_property_wrapper\n",
      "    value = obj.__dict__[self.func.__name__] = self.func(obj)\n",
      "                                               ^^^^^^^^^^^^^^\n",
      "  File \"c:\\Users\\chris\\anaconda3\\Lib\\site-packages\\stack_data\\core.py\", line 628, in executing_piece\n",
      "    return only(\n",
      "           ^^^^^\n",
      "  File \"c:\\Users\\chris\\anaconda3\\Lib\\site-packages\\executing\\executing.py\", line 164, in only\n",
      "    raise NotOneValueFound('Expected one value, found 0')\n",
      "executing.executing.NotOneValueFound: Expected one value, found 0\n"
     ]
    }
   ],
   "source": [
    "replacements = []\n",
    "for i in lines[:-2]:\n",
    "    m = re.findall(r'(\\S+) => (\\S+)', i)\n",
    "    replacements.append(m[0])\n",
    "X = lines[-1]\n",
    "\n",
    "S = set()\n",
    "S.add('e')\n",
    "S_new = set()\n",
    "iters = 0\n",
    "while X not in S:\n",
    "    iters += 1\n",
    "    print(iters)\n",
    "    for X in S:\n",
    "        for i, j in replacements:\n",
    "            for k in range(len(X)):\n",
    "                if X[k:k+len(i)] == i:\n",
    "                    y = X[:k] + j + X[k+len(i):]\n",
    "                    S_new.add(y)\n",
    "    X = lines[-1]\n",
    "    S = S_new.copy()\n",
    "print(iters)"
   ]
  },
  {
   "cell_type": "code",
   "execution_count": 85,
   "metadata": {},
   "outputs": [
    {
     "data": {
      "text/plain": [
       "'CRnCaCaCaSiRnBPTiMgArSiRnSiRnMgArSiRnCaFArTiTiBSiThFYCaFArCaCaSiThCaPBSiThSiThCaCaPTiRnPBSiThRnFArArCaCaSiThCaSiThSiRnMgArCaPTiBPRnFArSiThCaSiRnFArBCaSiRnCaPRnFArPMgYCaFArCaPTiTiTiBPBSiThCaPTiBPBSiRnFArBPBSiRnCaFArBPRnSiRnFArRnSiRnBFArCaFArCaCaCaSiThSiThCaCaPBPTiTiRnFArCaPTiBSiAlArPBCaCaCaCaCaSiRnMgArCaSiThFArThCaSiThCaSiRnCaFYCaSiRnFYFArFArCaSiRnFYFArCaSiRnBPMgArSiThPRnFArCaSiRnFArTiRnSiRnFYFArCaSiRnBFArCaSiRnTiMgArSiThCaSiThCaFArPRnFArSiRnFArTiTiTiTiBCaCaSiRnCaCaFYFArSiThCaPTiBPTiBCaSiThSiRnMgArCaF'"
      ]
     },
     "execution_count": 85,
     "metadata": {},
     "output_type": "execute_result"
    }
   ],
   "source": [
    "lines[-1]"
   ]
  },
  {
   "cell_type": "code",
   "execution_count": 92,
   "metadata": {},
   "outputs": [
    {
     "name": "stdout",
     "output_type": "stream",
     "text": [
      "535\n",
      "212\n"
     ]
    }
   ],
   "source": [
    "from collections import defaultdict\n",
    "import re\n",
    "\n",
    "\n",
    "def parse(stream):\n",
    "    replacements = defaultdict(list)\n",
    "    for k, v in re.findall(r\"(\\w+) => (\\w+)\", stream):\n",
    "        replacements[k].append(v)\n",
    "    return replacements, stream.strip().split(\"\\n\")[-1]\n",
    "\n",
    "\n",
    "def reverse_dict(d):\n",
    "    reverse = defaultdict(list)\n",
    "    for k, v in d.items():\n",
    "        for i in v:\n",
    "            reverse[i].append(k)\n",
    "    return reverse\n",
    "\n",
    "\n",
    "def generate_next(starter, replacements):\n",
    "    molecules = set()\n",
    "\n",
    "    for i, char in enumerate(starter):\n",
    "        try:\n",
    "            if char in replacements:\n",
    "                for replacement in replacements[char]:\n",
    "                    molecules.add(starter[:i] + replacement + starter[i + 1:])\n",
    "            else:\n",
    "                for replacement in replacements[starter[i:i + 2]]:\n",
    "                    molecules.add(starter[:i] + replacement + starter[i + 2:])\n",
    "        except KeyError:\n",
    "            continue\n",
    "\n",
    "    return molecules\n",
    "\n",
    "\n",
    "def generate_prev(target, replacements):\n",
    "    molecules = set()\n",
    "\n",
    "    for k, v in replacements.items():\n",
    "        idx = target.find(k)\n",
    "        while idx >= 0:\n",
    "            for i in v:\n",
    "                if i == \"e\":\n",
    "                    continue\n",
    "                try:\n",
    "                    molecules.add(target[:idx] + i + target[idx + len(k):])\n",
    "                except IndexError:\n",
    "                    molecules.add(target[:idx] + i)\n",
    "            idx = target.find(k, idx+1)\n",
    "\n",
    "    if not molecules:\n",
    "        molecules = {\"e\"}\n",
    "    return molecules\n",
    "\n",
    "\n",
    "def count_molecules(starter, replacements):\n",
    "    return len(generate_next(starter, replacements))\n",
    "\n",
    "\n",
    "def steps_to_generate(target, replacements):\n",
    "    replacements = reverse_dict(replacements)\n",
    "    seen = {}\n",
    "    last_generation = generate_prev(target, replacements)\n",
    "    n_steps = 1\n",
    "\n",
    "    while last_generation != {\"e\"}:\n",
    "        current_generation = set()\n",
    "        molecule = min(last_generation, key=len)\n",
    "\n",
    "        try:\n",
    "            new_molecules = seen[molecule]\n",
    "        except KeyError:\n",
    "            new_molecules = generate_prev(molecule, replacements)\n",
    "            seen[molecule] = new_molecules\n",
    "        current_generation |= new_molecules\n",
    "        last_generation = current_generation\n",
    "\n",
    "        n_steps += 1\n",
    "\n",
    "    return n_steps\n",
    "\n",
    "\n",
    "def part_one():\n",
    "    with open(\"input19.txt\") as fin:\n",
    "        replacements, starter = parse(fin.read())\n",
    "    print(count_molecules(starter, replacements))\n",
    "\n",
    "\n",
    "def part_two():\n",
    "    with open(\"input19.txt\") as fin:\n",
    "        replacements, target = parse(fin.read())\n",
    "    print(steps_to_generate(target, replacements))\n",
    "\n",
    "\n",
    "if __name__ == '__main__':\n",
    "    part_one()\n",
    "    part_two()"
   ]
  },
  {
   "cell_type": "code",
   "execution_count": null,
   "metadata": {},
   "outputs": [],
   "source": []
  }
 ],
 "metadata": {
  "kernelspec": {
   "display_name": "chgen",
   "language": "python",
   "name": "python3"
  },
  "language_info": {
   "codemirror_mode": {
    "name": "ipython",
    "version": 3
   },
   "file_extension": ".py",
   "mimetype": "text/x-python",
   "name": "python",
   "nbconvert_exporter": "python",
   "pygments_lexer": "ipython3",
   "version": "3.11.7"
  }
 },
 "nbformat": 4,
 "nbformat_minor": 2
}

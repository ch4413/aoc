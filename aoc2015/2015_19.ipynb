{
 "cells": [
  {
   "cell_type": "code",
   "execution_count": 5,
   "metadata": {},
   "outputs": [],
   "source": [
    "import re\n",
    "from collections import defaultdict"
   ]
  },
  {
   "cell_type": "code",
   "execution_count": 7,
   "metadata": {},
   "outputs": [],
   "source": [
    "with open('input19.txt', \"r\") as file:\n",
    "        text = file.read().strip().split('\\n')"
   ]
  },
  {
   "cell_type": "code",
   "execution_count": 8,
   "metadata": {},
   "outputs": [
    {
     "data": {
      "text/plain": [
       "535"
      ]
     },
     "execution_count": 8,
     "metadata": {},
     "output_type": "execute_result"
    }
   ],
   "source": [
    "def read(s):\n",
    "    return [i.strip() for i in open(s, 'r')]\n",
    "lines = read('input19.txt')\n",
    "\n",
    "replacements = []\n",
    "for i in lines[:-2]:\n",
    "    m = re.findall(r'(\\S+) => (\\S+)', i)\n",
    "    replacements.append(m[0])\n",
    "X = lines[-1]\n",
    "\n",
    "S = set()\n",
    "for i, j in replacements:\n",
    "    for k in range(len(X)):\n",
    "        if X[k:k+len(i)] == i:\n",
    "            y = X[:k] + j + X[k+len(i):]\n",
    "            S.add(y)\n",
    "len(S)"
   ]
  },
  {
   "cell_type": "code",
   "execution_count": 10,
   "metadata": {},
   "outputs": [
    {
     "name": "stdout",
     "output_type": "stream",
     "text": [
      "535\n",
      "212\n"
     ]
    }
   ],
   "source": [
    "def parse(stream):\n",
    "    replacements = defaultdict(list)\n",
    "    for k, v in re.findall(r\"(\\w+) => (\\w+)\", stream):\n",
    "        replacements[k].append(v)\n",
    "    return replacements, stream.strip().split(\"\\n\")[-1]\n",
    "\n",
    "\n",
    "def reverse_dict(d):\n",
    "    reverse = defaultdict(list)\n",
    "    for k, v in d.items():\n",
    "        for i in v:\n",
    "            reverse[i].append(k)\n",
    "    return reverse\n",
    "\n",
    "def generate_next(starter, replacements):\n",
    "    molecules = set()\n",
    "\n",
    "    for i, char in enumerate(starter):\n",
    "        try:\n",
    "            if char in replacements:\n",
    "                for replacement in replacements[char]:\n",
    "                    molecules.add(starter[:i] + replacement + starter[i + 1:])\n",
    "            else:\n",
    "                for replacement in replacements[starter[i:i + 2]]:\n",
    "                    molecules.add(starter[:i] + replacement + starter[i + 2:])\n",
    "        except KeyError:\n",
    "            continue\n",
    "\n",
    "    return molecules\n",
    "\n",
    "\n",
    "def generate_prev(target, replacements):\n",
    "    molecules = set()\n",
    "\n",
    "    for k, v in replacements.items():\n",
    "        idx = target.find(k)\n",
    "        while idx >= 0:\n",
    "            for i in v:\n",
    "                if i == \"e\":\n",
    "                    continue\n",
    "                try:\n",
    "                    molecules.add(target[:idx] + i + target[idx + len(k):])\n",
    "                except IndexError:\n",
    "                    molecules.add(target[:idx] + i)\n",
    "            idx = target.find(k, idx+1)\n",
    "\n",
    "    if not molecules:\n",
    "        molecules = {\"e\"}\n",
    "    return molecules\n",
    "\n",
    "\n",
    "def count_molecules(starter, replacements):\n",
    "    return len(generate_next(starter, replacements))\n",
    "\n",
    "def steps_to_generate(target, replacements):\n",
    "    replacements = reverse_dict(replacements)\n",
    "    seen = {}\n",
    "    last_generation = generate_prev(target, replacements)\n",
    "    n_steps = 1\n",
    "\n",
    "    while last_generation != {\"e\"}:\n",
    "        current_generation = set()\n",
    "        molecule = min(last_generation, key=len)\n",
    "\n",
    "        try:\n",
    "            new_molecules = seen[molecule]\n",
    "        except KeyError:\n",
    "            new_molecules = generate_prev(molecule, replacements)\n",
    "            seen[molecule] = new_molecules\n",
    "        current_generation |= new_molecules\n",
    "        last_generation = current_generation\n",
    "\n",
    "        n_steps += 1\n",
    "\n",
    "    return n_steps\n",
    "\n",
    "def part_one():\n",
    "    with open(\"input19.txt\") as fin:\n",
    "        replacements, starter = parse(fin.read())\n",
    "    print(count_molecules(starter, replacements))\n",
    "\n",
    "\n",
    "def part_two():\n",
    "    with open(\"input19.txt\") as fin:\n",
    "        replacements, target = parse(fin.read())\n",
    "    print(steps_to_generate(target, replacements))\n",
    "\n",
    "\n",
    "if __name__ == '__main__':\n",
    "    part_one()\n",
    "    part_two()"
   ]
  }
 ],
 "metadata": {
  "kernelspec": {
   "display_name": "chgen",
   "language": "python",
   "name": "python3"
  },
  "language_info": {
   "codemirror_mode": {
    "name": "ipython",
    "version": 3
   },
   "file_extension": ".py",
   "mimetype": "text/x-python",
   "name": "python",
   "nbconvert_exporter": "python",
   "pygments_lexer": "ipython3",
   "version": "3.11.7"
  }
 },
 "nbformat": 4,
 "nbformat_minor": 2
}

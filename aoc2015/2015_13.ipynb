{
 "cells": [
  {
   "cell_type": "code",
   "execution_count": 40,
   "metadata": {},
   "outputs": [],
   "source": [
    "import re\n",
    "from itertools import permutations"
   ]
  },
  {
   "cell_type": "code",
   "execution_count": 41,
   "metadata": {},
   "outputs": [],
   "source": [
    "#1. Read data\n",
    "#2. Create happiness look up. Person, Person, +/- points\n",
    "#3. Create create list of lists inc. all permutations of people\n",
    "#4. Write calc function loop from start to finish of list for\n",
    "# each person look back, look forward and sum value to running total\n",
    "# 5. Loop through list and save all resutlts"
   ]
  },
  {
   "cell_type": "code",
   "execution_count": 42,
   "metadata": {},
   "outputs": [],
   "source": [
    "with open('input13.txt', \"r\") as file:\n",
    "        text = file.read().strip().replace('.', '').split('\\n')"
   ]
  },
  {
   "cell_type": "code",
   "execution_count": 43,
   "metadata": {},
   "outputs": [
    {
     "data": {
      "text/plain": [
       "['Alice would gain 2 happiness units by sitting next to Bob',\n",
       " 'Alice would gain 26 happiness units by sitting next to Carol',\n",
       " 'Alice would lose 82 happiness units by sitting next to David',\n",
       " 'Alice would lose 75 happiness units by sitting next to Eric',\n",
       " 'Alice would gain 42 happiness units by sitting next to Frank',\n",
       " 'Alice would gain 38 happiness units by sitting next to George',\n",
       " 'Alice would gain 39 happiness units by sitting next to Mallory',\n",
       " 'Bob would gain 40 happiness units by sitting next to Alice',\n",
       " 'Bob would lose 61 happiness units by sitting next to Carol',\n",
       " 'Bob would lose 15 happiness units by sitting next to David',\n",
       " 'Bob would gain 63 happiness units by sitting next to Eric',\n",
       " 'Bob would gain 41 happiness units by sitting next to Frank',\n",
       " 'Bob would gain 30 happiness units by sitting next to George',\n",
       " 'Bob would gain 87 happiness units by sitting next to Mallory',\n",
       " 'Carol would lose 35 happiness units by sitting next to Alice',\n",
       " 'Carol would lose 99 happiness units by sitting next to Bob',\n",
       " 'Carol would lose 51 happiness units by sitting next to David',\n",
       " 'Carol would gain 95 happiness units by sitting next to Eric',\n",
       " 'Carol would gain 90 happiness units by sitting next to Frank',\n",
       " 'Carol would lose 16 happiness units by sitting next to George',\n",
       " 'Carol would gain 94 happiness units by sitting next to Mallory',\n",
       " 'David would gain 36 happiness units by sitting next to Alice',\n",
       " 'David would lose 18 happiness units by sitting next to Bob',\n",
       " 'David would lose 65 happiness units by sitting next to Carol',\n",
       " 'David would lose 18 happiness units by sitting next to Eric',\n",
       " 'David would lose 22 happiness units by sitting next to Frank',\n",
       " 'David would gain 2 happiness units by sitting next to George',\n",
       " 'David would gain 42 happiness units by sitting next to Mallory',\n",
       " 'Eric would lose 65 happiness units by sitting next to Alice',\n",
       " 'Eric would gain 24 happiness units by sitting next to Bob',\n",
       " 'Eric would gain 100 happiness units by sitting next to Carol',\n",
       " 'Eric would gain 51 happiness units by sitting next to David',\n",
       " 'Eric would gain 21 happiness units by sitting next to Frank',\n",
       " 'Eric would gain 55 happiness units by sitting next to George',\n",
       " 'Eric would lose 44 happiness units by sitting next to Mallory',\n",
       " 'Frank would lose 48 happiness units by sitting next to Alice',\n",
       " 'Frank would gain 91 happiness units by sitting next to Bob',\n",
       " 'Frank would gain 8 happiness units by sitting next to Carol',\n",
       " 'Frank would lose 66 happiness units by sitting next to David',\n",
       " 'Frank would gain 97 happiness units by sitting next to Eric',\n",
       " 'Frank would lose 9 happiness units by sitting next to George',\n",
       " 'Frank would lose 92 happiness units by sitting next to Mallory',\n",
       " 'George would lose 44 happiness units by sitting next to Alice',\n",
       " 'George would lose 25 happiness units by sitting next to Bob',\n",
       " 'George would gain 17 happiness units by sitting next to Carol',\n",
       " 'George would gain 92 happiness units by sitting next to David',\n",
       " 'George would lose 92 happiness units by sitting next to Eric',\n",
       " 'George would gain 18 happiness units by sitting next to Frank',\n",
       " 'George would gain 97 happiness units by sitting next to Mallory',\n",
       " 'Mallory would gain 92 happiness units by sitting next to Alice',\n",
       " 'Mallory would lose 96 happiness units by sitting next to Bob',\n",
       " 'Mallory would lose 51 happiness units by sitting next to Carol',\n",
       " 'Mallory would lose 81 happiness units by sitting next to David',\n",
       " 'Mallory would gain 31 happiness units by sitting next to Eric',\n",
       " 'Mallory would lose 73 happiness units by sitting next to Frank',\n",
       " 'Mallory would lose 89 happiness units by sitting next to George']"
      ]
     },
     "execution_count": 43,
     "metadata": {},
     "output_type": "execute_result"
    }
   ],
   "source": [
    "text"
   ]
  },
  {
   "cell_type": "code",
   "execution_count": 67,
   "metadata": {},
   "outputs": [],
   "source": [
    "lookup = {}\n",
    "unique_names = set()\n",
    "for line in text:\n",
    "    person_1 = line.split()[0].strip()\n",
    "    person_2 = line.split()[-1].strip()\n",
    "    unique_names.add(person_1)\n",
    "    unique_names.add(person_2)\n",
    "    score = int(re.findall('\\d+', line)[0]) * (1 if 'gain' in line else -1)\n",
    "    lookup[person_1 + '-' + person_2] = score"
   ]
  },
  {
   "cell_type": "code",
   "execution_count": 68,
   "metadata": {},
   "outputs": [],
   "source": [
    "permutations_of_people = list(permutations(unique_names, len(unique_names)))"
   ]
  },
  {
   "cell_type": "code",
   "execution_count": 69,
   "metadata": {},
   "outputs": [],
   "source": [
    "def calc_score(list_people, lookup):\n",
    "    score = 0\n",
    "    nop = len(list_people)\n",
    "    for i in range(nop):\n",
    "        person = list_people[i]\n",
    "        lhs = list_people[i - 1]\n",
    "        rhs = list_people[(i + 1) % nop]\n",
    "        score += lookup[person + '-' + lhs] + lookup[person + '-' + rhs]\n",
    "        #print(person, score)\n",
    "    return score\n"
   ]
  },
  {
   "cell_type": "code",
   "execution_count": 70,
   "metadata": {},
   "outputs": [
    {
     "name": "stdout",
     "output_type": "stream",
     "text": [
      "Score updated to 69\n",
      "Score updated to 172\n",
      "Score updated to 375\n",
      "Score updated to 461\n",
      "Score updated to 733\n"
     ]
    }
   ],
   "source": [
    "tot_score = 0\n",
    "for i in permutations_of_people:\n",
    "    new_score = calc_score(i, lookup)\n",
    "    if new_score > tot_score:\n",
    "        tot_score = new_score\n",
    "        print(f'Score updated to {new_score}')"
   ]
  },
  {
   "cell_type": "code",
   "execution_count": 71,
   "metadata": {},
   "outputs": [
    {
     "data": {
      "text/plain": [
       "733"
      ]
     },
     "execution_count": 71,
     "metadata": {},
     "output_type": "execute_result"
    }
   ],
   "source": [
    "tot_score"
   ]
  },
  {
   "cell_type": "code",
   "execution_count": 72,
   "metadata": {},
   "outputs": [],
   "source": [
    "## Part 2"
   ]
  },
  {
   "cell_type": "code",
   "execution_count": 73,
   "metadata": {},
   "outputs": [],
   "source": [
    "for name in unique_names:\n",
    "    lookup[name + '-' + 'Me'] = 0\n",
    "    lookup['Me' + '-' + name] = 0"
   ]
  },
  {
   "cell_type": "code",
   "execution_count": 75,
   "metadata": {},
   "outputs": [],
   "source": [
    "unique_names.add('Me')"
   ]
  },
  {
   "cell_type": "code",
   "execution_count": 77,
   "metadata": {},
   "outputs": [],
   "source": [
    "permutations_of_people = list(permutations(unique_names, len(unique_names)))"
   ]
  },
  {
   "cell_type": "code",
   "execution_count": 79,
   "metadata": {},
   "outputs": [
    {
     "data": {
      "text/plain": [
       "362880"
      ]
     },
     "execution_count": 79,
     "metadata": {},
     "output_type": "execute_result"
    }
   ],
   "source": [
    "len(permutations_of_people)"
   ]
  },
  {
   "cell_type": "code",
   "execution_count": 80,
   "metadata": {},
   "outputs": [
    {
     "name": "stdout",
     "output_type": "stream",
     "text": [
      "Score updated to 78\n",
      "Score updated to 281\n",
      "Score updated to 367\n",
      "Score updated to 639\n",
      "Score updated to 700\n",
      "Score updated to 720\n",
      "Score updated to 725\n"
     ]
    }
   ],
   "source": [
    "tot_score = 0\n",
    "for i in permutations_of_people:\n",
    "    new_score = calc_score(i, lookup)\n",
    "    if new_score > tot_score:\n",
    "        tot_score = new_score\n",
    "        print(f'Score updated to {new_score}')"
   ]
  },
  {
   "cell_type": "code",
   "execution_count": null,
   "metadata": {},
   "outputs": [],
   "source": []
  }
 ],
 "metadata": {
  "kernelspec": {
   "display_name": "chgen",
   "language": "python",
   "name": "python3"
  },
  "language_info": {
   "codemirror_mode": {
    "name": "ipython",
    "version": 3
   },
   "file_extension": ".py",
   "mimetype": "text/x-python",
   "name": "python",
   "nbconvert_exporter": "python",
   "pygments_lexer": "ipython3",
   "version": "3.11.7"
  }
 },
 "nbformat": 4,
 "nbformat_minor": 2
}

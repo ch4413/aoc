{
 "cells": [
  {
   "cell_type": "code",
   "execution_count": 18,
   "metadata": {},
   "outputs": [],
   "source": [
    "def count_consecutive_characters(s):\n",
    "    if not s:\n",
    "        return []\n",
    "\n",
    "    result = []\n",
    "    count = 1\n",
    "\n",
    "    for i in range(1, len(s)):\n",
    "        if s[i] == s[i - 1]:\n",
    "            count += 1\n",
    "        else:\n",
    "            result.append([str(count), s[i - 1]])\n",
    "            count = 1\n",
    "\n",
    "    result.append([str(count), s[-1]])  # Add the last character and its count\n",
    "    return result"
   ]
  },
  {
   "cell_type": "code",
   "execution_count": 33,
   "metadata": {},
   "outputs": [],
   "source": [
    "# Example usage\n",
    "input_string = \"1113222113\"\n",
    "n = 50\n",
    "for i in range(n):\n",
    "    consecutive_counts = count_consecutive_characters(input_string)\n",
    "    input_string = ''.join([item for sublist in consecutive_counts for item in sublist])\n",
    "len(input_string)"
   ]
  }
 ],
 "metadata": {
  "kernelspec": {
   "display_name": "chgen",
   "language": "python",
   "name": "python3"
  },
  "language_info": {
   "codemirror_mode": {
    "name": "ipython",
    "version": 3
   },
   "file_extension": ".py",
   "mimetype": "text/x-python",
   "name": "python",
   "nbconvert_exporter": "python",
   "pygments_lexer": "ipython3",
   "version": "3.11.7"
  }
 },
 "nbformat": 4,
 "nbformat_minor": 2
}

{
 "cells": [
  {
   "cell_type": "code",
   "execution_count": 37,
   "metadata": {},
   "outputs": [],
   "source": [
    "def count_consecutive_characters(s):\n",
    "    result = [] # empty string result\n",
    "    count = 1 # default count\n",
    "\n",
    "    for i in range(1, len(s)): # loop through as lookback\n",
    "        if s[i] == s[i - 1]: # compare current to previous, if the same\n",
    "            count += 1 # increase count\n",
    "        else:\n",
    "            result.append([str(count), s[i - 1]]) # if not add the result count and character\n",
    "            count = 1 # reset count\n",
    "\n",
    "    result.append([str(count), s[-1]])  # Add the last character and its count when loop finishes\n",
    "    return result"
   ]
  },
  {
   "cell_type": "code",
   "execution_count": 38,
   "metadata": {},
   "outputs": [
    {
     "data": {
      "text/plain": [
       "252594"
      ]
     },
     "execution_count": 38,
     "metadata": {},
     "output_type": "execute_result"
    }
   ],
   "source": [
    "# Example usage\n",
    "input_string = \"1113222113\"\n",
    "n = 40\n",
    "for i in range(n):\n",
    "    consecutive_counts = count_consecutive_characters(input_string)\n",
    "    input_string = ''.join([item for sublist in consecutive_counts for item in sublist])\n",
    "len(input_string)"
   ]
  }
 ],
 "metadata": {
  "kernelspec": {
   "display_name": "chgen",
   "language": "python",
   "name": "python3"
  },
  "language_info": {
   "codemirror_mode": {
    "name": "ipython",
    "version": 3
   },
   "file_extension": ".py",
   "mimetype": "text/x-python",
   "name": "python",
   "nbconvert_exporter": "python",
   "pygments_lexer": "ipython3",
   "version": "3.11.7"
  }
 },
 "nbformat": 4,
 "nbformat_minor": 2
}

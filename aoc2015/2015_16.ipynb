{
 "cells": [
  {
   "cell_type": "code",
   "execution_count": 25,
   "metadata": {},
   "outputs": [],
   "source": [
    "import pandas as pd\n",
    "import re"
   ]
  },
  {
   "cell_type": "code",
   "execution_count": 24,
   "metadata": {},
   "outputs": [
    {
     "data": {
      "text/plain": [
       "['Sue 1: children: 1, cars: 8, vizslas: 7',\n",
       " 'Sue 2: akitas: 10, perfumes: 10, children: 5',\n",
       " 'Sue 3: cars: 5, pomeranians: 4, vizslas: 1',\n",
       " 'Sue 4: goldfish: 5, children: 8, perfumes: 3',\n",
       " 'Sue 5: vizslas: 2, akitas: 7, perfumes: 6']"
      ]
     },
     "execution_count": 24,
     "metadata": {},
     "output_type": "execute_result"
    }
   ],
   "source": [
    "with open('input16.txt', \"r\") as file:\n",
    "        text = file.read().strip().split('\\n')\n",
    "text[:5]"
   ]
  },
  {
   "cell_type": "code",
   "execution_count": 31,
   "metadata": {},
   "outputs": [
    {
     "data": {
      "text/html": [
       "<div>\n",
       "<style scoped>\n",
       "    .dataframe tbody tr th:only-of-type {\n",
       "        vertical-align: middle;\n",
       "    }\n",
       "\n",
       "    .dataframe tbody tr th {\n",
       "        vertical-align: top;\n",
       "    }\n",
       "\n",
       "    .dataframe thead th {\n",
       "        text-align: right;\n",
       "    }\n",
       "</style>\n",
       "<table border=\"1\" class=\"dataframe\">\n",
       "  <thead>\n",
       "    <tr style=\"text-align: right;\">\n",
       "      <th></th>\n",
       "      <th>index</th>\n",
       "      <th>children</th>\n",
       "      <th>cars</th>\n",
       "      <th>vizslas</th>\n",
       "      <th>akitas</th>\n",
       "      <th>perfumes</th>\n",
       "      <th>pomeranians</th>\n",
       "      <th>goldfish</th>\n",
       "      <th>cats</th>\n",
       "      <th>trees</th>\n",
       "      <th>samoyeds</th>\n",
       "    </tr>\n",
       "  </thead>\n",
       "  <tbody>\n",
       "    <tr>\n",
       "      <th>0</th>\n",
       "      <td>0</td>\n",
       "      <td>1.0</td>\n",
       "      <td>8.0</td>\n",
       "      <td>7.0</td>\n",
       "      <td>NaN</td>\n",
       "      <td>NaN</td>\n",
       "      <td>NaN</td>\n",
       "      <td>NaN</td>\n",
       "      <td>NaN</td>\n",
       "      <td>NaN</td>\n",
       "      <td>NaN</td>\n",
       "    </tr>\n",
       "    <tr>\n",
       "      <th>1</th>\n",
       "      <td>0</td>\n",
       "      <td>5.0</td>\n",
       "      <td>NaN</td>\n",
       "      <td>NaN</td>\n",
       "      <td>10.0</td>\n",
       "      <td>10.0</td>\n",
       "      <td>NaN</td>\n",
       "      <td>NaN</td>\n",
       "      <td>NaN</td>\n",
       "      <td>NaN</td>\n",
       "      <td>NaN</td>\n",
       "    </tr>\n",
       "    <tr>\n",
       "      <th>2</th>\n",
       "      <td>0</td>\n",
       "      <td>NaN</td>\n",
       "      <td>5.0</td>\n",
       "      <td>1.0</td>\n",
       "      <td>NaN</td>\n",
       "      <td>NaN</td>\n",
       "      <td>4.0</td>\n",
       "      <td>NaN</td>\n",
       "      <td>NaN</td>\n",
       "      <td>NaN</td>\n",
       "      <td>NaN</td>\n",
       "    </tr>\n",
       "    <tr>\n",
       "      <th>3</th>\n",
       "      <td>0</td>\n",
       "      <td>8.0</td>\n",
       "      <td>NaN</td>\n",
       "      <td>NaN</td>\n",
       "      <td>NaN</td>\n",
       "      <td>3.0</td>\n",
       "      <td>NaN</td>\n",
       "      <td>5.0</td>\n",
       "      <td>NaN</td>\n",
       "      <td>NaN</td>\n",
       "      <td>NaN</td>\n",
       "    </tr>\n",
       "    <tr>\n",
       "      <th>4</th>\n",
       "      <td>0</td>\n",
       "      <td>NaN</td>\n",
       "      <td>NaN</td>\n",
       "      <td>2.0</td>\n",
       "      <td>7.0</td>\n",
       "      <td>6.0</td>\n",
       "      <td>NaN</td>\n",
       "      <td>NaN</td>\n",
       "      <td>NaN</td>\n",
       "      <td>NaN</td>\n",
       "      <td>NaN</td>\n",
       "    </tr>\n",
       "  </tbody>\n",
       "</table>\n",
       "</div>"
      ],
      "text/plain": [
       "   index  children  cars  vizslas  akitas  perfumes  pomeranians  goldfish  \\\n",
       "0      0       1.0   8.0      7.0     NaN       NaN          NaN       NaN   \n",
       "1      0       5.0   NaN      NaN    10.0      10.0          NaN       NaN   \n",
       "2      0       NaN   5.0      1.0     NaN       NaN          4.0       NaN   \n",
       "3      0       8.0   NaN      NaN     NaN       3.0          NaN       5.0   \n",
       "4      0       NaN   NaN      2.0     7.0       6.0          NaN       NaN   \n",
       "\n",
       "   cats  trees  samoyeds  \n",
       "0   NaN    NaN       NaN  \n",
       "1   NaN    NaN       NaN  \n",
       "2   NaN    NaN       NaN  \n",
       "3   NaN    NaN       NaN  \n",
       "4   NaN    NaN       NaN  "
      ]
     },
     "execution_count": 31,
     "metadata": {},
     "output_type": "execute_result"
    }
   ],
   "source": [
    "df = pd.DataFrame()\n",
    "for line in text:\n",
    "\n",
    "    # Regex to find key-value pairs\n",
    "    pattern = r'(\\w+): (\\d+)'\n",
    "    # Extract key-value pairs as tuples\n",
    "    matches = re.findall(pattern, line)\n",
    "    # Convert list of tuples into a dictionary\n",
    "    result_dict = {key: int(value) for key, value in matches}\n",
    "    df = pd.concat([df, pd.DataFrame([result_dict])])\n",
    "df.reset_index(inplace=True)\n",
    "df.head()"
   ]
  },
  {
   "cell_type": "code",
   "execution_count": 42,
   "metadata": {},
   "outputs": [],
   "source": [
    "result_query = df[((df['children']==3) | df['children'].isna()) &\n",
    "    ((df['cats']==7) | df['cats'].isna()) &\n",
    "   ((df['samoyeds']==2) | df['samoyeds'].isna()) &\n",
    "    ((df['pomeranians']==3) | df['pomeranians'].isna()) &\n",
    "    ((df['akitas']==0) | df['akitas'].isna()) &\n",
    "    ((df['vizslas']==0) | df['vizslas'].isna()) &\n",
    "    ((df['goldfish']==5) | df['goldfish'].isna()) &\n",
    "    ((df['trees']==3) | df['trees'].isna()) &\n",
    "    ((df['cars']==2) | df['cars'].isna()) &\n",
    "    ((df['goldfish']==5) | df['goldfish'].isna()) &\n",
    "    ((df['perfumes']==1) | df['perfumes'].isna())\n",
    "    ]"
   ]
  },
  {
   "cell_type": "code",
   "execution_count": 47,
   "metadata": {},
   "outputs": [
    {
     "data": {
      "text/plain": [
       "213"
      ]
     },
     "execution_count": 47,
     "metadata": {},
     "output_type": "execute_result"
    }
   ],
   "source": [
    "(result_query.index + 1).values[0]"
   ]
  },
  {
   "cell_type": "code",
   "execution_count": 69,
   "metadata": {},
   "outputs": [],
   "source": [
    "# Part 2\n",
    "result_query = df[\n",
    "   ((df['children']==3) | df['children'].isna()) &\n",
    "    ((df['cats'] > 7) | df['cats'].isna()) &\n",
    "   ((df['samoyeds']==2) | df['samoyeds'].isna()) &\n",
    "    ((df['pomeranians'] == 3) | df['pomeranians'].isna()) &\n",
    "    ((df['akitas']==0) | df['akitas'].isna()) &\n",
    "    ((df['vizslas']==0) | df['vizslas'].isna()) &\n",
    "    ((df['goldfish'] < 5) | df['goldfish'].isna()) &\n",
    "    ((df['trees'] > 3) | df['trees'].isna()) &\n",
    "    ((df['cars']==2) | df['cars'].isna()) &\n",
    "    ((df['perfumes']==1) | df['perfumes'].isna())\n",
    "    ]"
   ]
  },
  {
   "cell_type": "code",
   "execution_count": 73,
   "metadata": {},
   "outputs": [
    {
     "data": {
      "text/plain": [
       "323"
      ]
     },
     "execution_count": 73,
     "metadata": {},
     "output_type": "execute_result"
    }
   ],
   "source": [
    "result_query.index[0] + 1"
   ]
  }
 ],
 "metadata": {
  "kernelspec": {
   "display_name": "chgen",
   "language": "python",
   "name": "python3"
  },
  "language_info": {
   "codemirror_mode": {
    "name": "ipython",
    "version": 3
   },
   "file_extension": ".py",
   "mimetype": "text/x-python",
   "name": "python",
   "nbconvert_exporter": "python",
   "pygments_lexer": "ipython3",
   "version": "3.11.7"
  }
 },
 "nbformat": 4,
 "nbformat_minor": 2
}

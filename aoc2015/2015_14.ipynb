{
 "cells": [
  {
   "cell_type": "code",
   "execution_count": 5,
   "metadata": {},
   "outputs": [],
   "source": [
    "import re"
   ]
  },
  {
   "cell_type": "code",
   "execution_count": 16,
   "metadata": {},
   "outputs": [],
   "source": [
    "with open('input14.txt', \"r\") as file:\n",
    "        text = file.read().split('\\n')"
   ]
  },
  {
   "cell_type": "code",
   "execution_count": 7,
   "metadata": {},
   "outputs": [],
   "source": [
    "dict_r = {'vixen': [19, 7, 124],\n",
    "          'Rudolph': [3, 15, 28],\n",
    "          'Donner': [19, 9, 164],\n",
    "          'Blitzen': [19, 9, 158],\n",
    "          'Comet': [13, 7, 82],\n",
    "          'Cupid': [25, 6, 145],\n",
    "          'Dasher': [14, 3, 38],\n",
    "          'Dancer': [3, 16, 37],\n",
    "          'Prancer': [25, 6, 143]}"
   ]
  },
  {
   "cell_type": "code",
   "execution_count": 8,
   "metadata": {},
   "outputs": [],
   "source": [
    "race_time = 2503"
   ]
  },
  {
   "cell_type": "code",
   "execution_count": 9,
   "metadata": {},
   "outputs": [
    {
     "data": {
      "text/plain": [
       "19"
      ]
     },
     "execution_count": 9,
     "metadata": {},
     "output_type": "execute_result"
    }
   ],
   "source": [
    "dict_r['vixen'][0]"
   ]
  },
  {
   "cell_type": "code",
   "execution_count": 10,
   "metadata": {},
   "outputs": [],
   "source": [
    "full = race_time % (dict_r['vixen'][1] + dict_r['vixen'][2]) * dict_r['vixen'][0]\n",
    "remainder = (race_time % (dict_r['vixen'][1] + dict_r['vixen'][2]))\n",
    "extra = dict_r['vixen'][0] * dict_r['vixen'][1] if remainder > dict_r['vixen'][1] else remainder * dict_r['vixen'][0]\n",
    "distance = full + extra"
   ]
  },
  {
   "cell_type": "code",
   "execution_count": 11,
   "metadata": {},
   "outputs": [
    {
     "name": "stdout",
     "output_type": "stream",
     "text": [
      "vixen [19, 7, 124]\n",
      "Rudolph [3, 15, 28]\n",
      "Donner [19, 9, 164]\n",
      "Blitzen [19, 9, 158]\n",
      "Comet [13, 7, 82]\n",
      "Cupid [25, 6, 145]\n",
      "Dasher [14, 3, 38]\n",
      "Dancer [3, 16, 37]\n",
      "Prancer [25, 6, 143]\n"
     ]
    }
   ],
   "source": [
    "for key, value in dict_r.items():\n",
    "    print(key, value)"
   ]
  },
  {
   "cell_type": "code",
   "execution_count": 12,
   "metadata": {},
   "outputs": [],
   "source": [
    "dict_t = {'Comet': [14, 10, 127],\n",
    "          'Dancer': [16, 11, 162]}"
   ]
  },
  {
   "cell_type": "code",
   "execution_count": 13,
   "metadata": {},
   "outputs": [
    {
     "name": "stdout",
     "output_type": "stream",
     "text": [
      "vixen 2660\n",
      "Rudolph 2637\n",
      "Donner 2565\n",
      "Blitzen 2565\n",
      "Comet 2639\n",
      "Cupid 2550\n",
      "Dasher 2590\n",
      "Dancer 2292\n",
      "Prancer 2550\n"
     ]
    }
   ],
   "source": [
    "race_time = 2503\n",
    "max_race = 0\n",
    "for key, value in dict_r.items():\n",
    "    full = (race_time // (value[1] + value[2])) * (value[0] * value[1])\n",
    "    remainder = (race_time % (value[1] + value[2]))\n",
    "    extra = value[0] * value[1] if remainder > value[1] else remainder * value[0]\n",
    "    print(key, full + extra)\n",
    "    if max_race < full + extra:\n",
    "        max_race = full + extra"
   ]
  },
  {
   "cell_type": "code",
   "execution_count": 14,
   "metadata": {},
   "outputs": [],
   "source": [
    "tok = re.compile(r'(?P<name>\\w+) can fly (?P<fly_rate>\\d+) km/s for (?P<fly_time>\\d+) seconds, but then must rest for (?P<rest_time>\\d+) seconds.')\n",
    "\n",
    "def parse_line(line):\n",
    "    m = tok.search(line)\n",
    "    return m.group('name'), int(m.group('fly_rate')), int(m.group('fly_time')), int(m.group('rest_time'))"
   ]
  },
  {
   "cell_type": "code",
   "execution_count": 27,
   "metadata": {},
   "outputs": [],
   "source": [
    "def distance(fly_rate, fly_time, rest_time, stop_time):\n",
    "    d, r = divmod(stop_time, fly_time + rest_time)\n",
    "    return d * fly_rate * fly_time + min(r, fly_time) * fly_rate"
   ]
  },
  {
   "cell_type": "code",
   "execution_count": 28,
   "metadata": {},
   "outputs": [],
   "source": [
    "def day14_part2():\n",
    "    deer = [parse_line(line) for line in open('input14.txt')]\n",
    "    print(deer)\n",
    "    points = {d[0]: 0 for d in deer}\n",
    "    stop_time = 2503\n",
    "    for t in range(1, stop_time+1):\n",
    "        dists = [(distance(*d[1:], stop_time=t), d[0]) for d in deer]\n",
    "        dists.sort()\n",
    "        dists.reverse()\n",
    "        m = dists[0][0]\n",
    "        i = 0\n",
    "        while i < len(dists) and dists[i][0] == m:\n",
    "            points[dists[i][1]] += 1\n",
    "            i += 1\n",
    "    print (max(points.values()))"
   ]
  },
  {
   "cell_type": "code",
   "execution_count": 29,
   "metadata": {},
   "outputs": [
    {
     "name": "stdout",
     "output_type": "stream",
     "text": [
      "[('Vixen', 19, 7, 124), ('Rudolph', 3, 15, 28), ('Donner', 19, 9, 164), ('Blitzen', 19, 9, 158), ('Comet', 13, 7, 82), ('Cupid', 25, 6, 145), ('Dasher', 14, 3, 38), ('Dancer', 3, 16, 37), ('Prancer', 25, 6, 143)]\n",
      "1256\n"
     ]
    }
   ],
   "source": [
    "day14_part2()"
   ]
  }
 ],
 "metadata": {
  "kernelspec": {
   "display_name": "chgen",
   "language": "python",
   "name": "python3"
  },
  "language_info": {
   "codemirror_mode": {
    "name": "ipython",
    "version": 3
   },
   "file_extension": ".py",
   "mimetype": "text/x-python",
   "name": "python",
   "nbconvert_exporter": "python",
   "pygments_lexer": "ipython3",
   "version": "3.11.7"
  }
 },
 "nbformat": 4,
 "nbformat_minor": 2
}

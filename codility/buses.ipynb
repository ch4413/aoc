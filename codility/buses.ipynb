{
 "cells": [
  {
   "cell_type": "code",
   "execution_count": 7,
   "metadata": {},
   "outputs": [],
   "source": [
    "import pandas as pd\n",
    "import sqlite3"
   ]
  },
  {
   "cell_type": "code",
   "execution_count": 8,
   "metadata": {},
   "outputs": [],
   "source": [
    "buses = pd.read_csv('C:/Users/chris/Downloads/Buses - Sheet1.csv')\n",
    "passengers = pd.read_csv('C:/Users/chris/Downloads/passengers - Sheet1.csv')"
   ]
  },
  {
   "cell_type": "code",
   "execution_count": 9,
   "metadata": {},
   "outputs": [
    {
     "data": {
      "text/plain": [
       "15"
      ]
     },
     "execution_count": 9,
     "metadata": {},
     "output_type": "execute_result"
    }
   ],
   "source": [
    "conn = sqlite3.connect(':memory:')\n",
    "\n",
    "buses.to_sql('buses', conn, index=False, if_exists='replace')\n",
    "passengers.to_sql('passengers', conn, index=False, if_exists='replace')"
   ]
  },
  {
   "cell_type": "code",
   "execution_count": 10,
   "metadata": {},
   "outputs": [],
   "source": [
    "next_highest = \"\"\"\n",
    "WITH NextHighestTimes AS (\n",
    "    SELECT\n",
    "        id,\n",
    "        Origin,\n",
    "        Destination,\n",
    "        Departure,\n",
    "        LAG(Departure) OVER (PARTITION BY Origin, Destination ORDER BY Departure) AS PreviousDeparture\n",
    "    FROM\n",
    "        buses\n",
    ")\n",
    "SELECT\n",
    "    t1.id,\n",
    "    t1.Origin,\n",
    "    t1.Destination,\n",
    "    COUNT(t2.id) AS passengercount\n",
    "FROM\n",
    "    NextHighestTimes t1\n",
    "LEFT JOIN\n",
    "    passengers t2\n",
    "ON t2.Departure BETWEEN t1.PreviousDeparture AND t1.Departure\n",
    "    AND t1.Origin=t2.Origin\n",
    "    AND t1.Destination=t2.Destination \n",
    "GROUP BY\n",
    "    t1.id, t1.origin, t1.destination\n",
    "\"\"\""
   ]
  },
  {
   "cell_type": "code",
   "execution_count": 11,
   "metadata": {},
   "outputs": [],
   "source": [
    "results = pd.read_sql(next_highest, conn)"
   ]
  },
  {
   "cell_type": "code",
   "execution_count": 12,
   "metadata": {},
   "outputs": [
    {
     "name": "stdout",
     "output_type": "stream",
     "text": [
      "   id Origin Destination  passengercount\n",
      "0   1      A           B               0\n",
      "1   2      A           B               1\n",
      "2   3      A           B               1\n",
      "3   4      B           C               0\n",
      "4   5      B           C               1\n",
      "5   6      B           C               0\n",
      "6   7      B           C               5\n",
      "7   8      B           A               0\n",
      "8   9      B           A               2\n",
      "9  10      B           A               5\n"
     ]
    }
   ],
   "source": [
    "print(results)"
   ]
  }
 ],
 "metadata": {
  "kernelspec": {
   "display_name": "base",
   "language": "python",
   "name": "python3"
  },
  "language_info": {
   "codemirror_mode": {
    "name": "ipython",
    "version": 3
   },
   "file_extension": ".py",
   "mimetype": "text/x-python",
   "name": "python",
   "nbconvert_exporter": "python",
   "pygments_lexer": "ipython3",
   "version": "3.11.7"
  }
 },
 "nbformat": 4,
 "nbformat_minor": 2
}

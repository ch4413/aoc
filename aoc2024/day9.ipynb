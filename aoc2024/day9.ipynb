{
 "cells": [
  {
   "cell_type": "code",
   "execution_count": 120,
   "metadata": {},
   "outputs": [],
   "source": [
    "from itertools import product\n",
    "from collections import defaultdict, Counter, deque"
   ]
  },
  {
   "cell_type": "code",
   "execution_count": 145,
   "metadata": {},
   "outputs": [],
   "source": [
    "with open('input9.txt', \"r\") as file:\n",
    "        text = file.read().strip()\n",
    "#text = '2333133121414131402'\n",
    "#text = '12345'"
   ]
  },
  {
   "cell_type": "code",
   "execution_count": 146,
   "metadata": {},
   "outputs": [
    {
     "data": {
      "text/plain": [
       "6331212425418"
      ]
     },
     "execution_count": 146,
     "metadata": {},
     "output_type": "execute_result"
    }
   ],
   "source": [
    "counter = 0\n",
    "list_vals = []\n",
    "for i in range(len(text)):\n",
    "    if i % 2 == 0:\n",
    "        list_vals.extend([counter] * int(text[i]))\n",
    "        counter += 1\n",
    "    else:\n",
    "        list_vals.extend(['.'] * int(text[i]))\n",
    "run = True\n",
    "while '.' in list_vals:\n",
    "    move_value = list_vals.pop()\n",
    "    if move_value != '.':\n",
    "        ind = list_vals.index('.')\n",
    "        list_vals[ind] = move_value\n",
    "vect = list(range(len(list_vals)))\n",
    "res = [int(x) for x in list_vals]\n",
    "dot_product = sum(a * b for a, b in zip(vect, res))\n",
    "dot_product"
   ]
  },
  {
   "cell_type": "code",
   "execution_count": 151,
   "metadata": {},
   "outputs": [
    {
     "name": "stdout",
     "output_type": "stream",
     "text": [
      "6363268339304\n"
     ]
    }
   ],
   "source": [
    "A = deque([])\n",
    "SPACE = deque([])\n",
    "pos = 0\n",
    "file_id = 0\n",
    "FINAL = []\n",
    "D = open('input9.txt', \"r\").read().strip()\n",
    "\n",
    "for i, c in enumerate(D):\n",
    "    if i % 2 == 0:\n",
    "        A.append((pos, int(c), file_id))\n",
    "        for _ in range(int(c)):\n",
    "            FINAL.append(file_id)\n",
    "            pos += 1\n",
    "        file_id += 1\n",
    "    else:\n",
    "        SPACE.append((pos, int(c)))\n",
    "        for _ in range(int(c)):\n",
    "            FINAL.append(None)\n",
    "            pos += 1\n",
    "\n",
    "for (pos, sz, file_id) in reversed(A):\n",
    "    for space_i, (space_pos, space_sz) in enumerate(SPACE):\n",
    "        if space_pos < pos and sz <= space_sz:\n",
    "            for i in range(sz):\n",
    "                assert FINAL[pos+i]==file_id\n",
    "                FINAL[pos+i] = None\n",
    "                FINAL[space_pos+i] = file_id\n",
    "            SPACE[space_i] = (space_pos + sz, space_sz - sz)\n",
    "            break\n",
    "p1 = 0 \n",
    "for i, c in enumerate(FINAL):\n",
    "    if c is not None:\n",
    "        p1 += i*c\n",
    "print(p1)"
   ]
  },
  {
   "cell_type": "code",
   "execution_count": null,
   "metadata": {},
   "outputs": [],
   "source": []
  }
 ],
 "metadata": {
  "kernelspec": {
   "display_name": "base",
   "language": "python",
   "name": "python3"
  },
  "language_info": {
   "codemirror_mode": {
    "name": "ipython",
    "version": 3
   },
   "file_extension": ".py",
   "mimetype": "text/x-python",
   "name": "python",
   "nbconvert_exporter": "python",
   "pygments_lexer": "ipython3",
   "version": "3.11.7"
  }
 },
 "nbformat": 4,
 "nbformat_minor": 2
}

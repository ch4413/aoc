{
 "cells": [
  {
   "cell_type": "code",
   "execution_count": 1,
   "metadata": {},
   "outputs": [],
   "source": [
    "import re\n",
    "from itertools import product"
   ]
  },
  {
   "cell_type": "code",
   "execution_count": 2,
   "metadata": {},
   "outputs": [],
   "source": [
    "with open('input7.txt', \"r\") as file:\n",
    "        text = file.read().strip().split('\\n')"
   ]
  },
  {
   "cell_type": "code",
   "execution_count": 3,
   "metadata": {},
   "outputs": [],
   "source": [
    "def eval_left_to_right(expression):\n",
    "    tokens = expression.split()\n",
    "    result = int(tokens[0])\n",
    "\n",
    "    for i in range(1, len(tokens) - 1, 2):\n",
    "        operator = tokens[i]\n",
    "        next_value = int(tokens[i+1])\n",
    "\n",
    "        if operator == '+':\n",
    "            result += next_value\n",
    "        elif operator == '-':\n",
    "            result -= next_value\n",
    "        elif operator == '*':\n",
    "            result *= next_value\n",
    "        elif operator == '/':\n",
    "            result /= next_value\n",
    "        elif operator == '||':\n",
    "            result = int(str(result) + str(next_value))\n",
    "\n",
    "    return result\n",
    "\n",
    "def generate_permutations(length ,chars):\n",
    "    permutations = list(product(chars, repeat=length))\n",
    "    return permutations\n",
    "\n",
    "\n",
    "def replace_spaces(text, replacements):\n",
    "    text_list = list(text)\n",
    "    replace_index = 0\n",
    "    \n",
    "    for i, char in enumerate(text_list):\n",
    "        if char == ' ' and replace_index < len(replacements):\n",
    "            text_list[i] = replacements[replace_index]\n",
    "            replace_index += 1\n",
    "    \n",
    "    return ''.join(text_list)"
   ]
  },
  {
   "cell_type": "code",
   "execution_count": 4,
   "metadata": {},
   "outputs": [
    {
     "data": {
      "text/plain": [
       "2299996598890"
      ]
     },
     "execution_count": 4,
     "metadata": {},
     "output_type": "execute_result"
    }
   ],
   "source": [
    "sum_tot = 0\n",
    "for line in text:\n",
    "    target, nums = line.split(':')\n",
    "    nums = nums.strip()\n",
    "    target = int(target)\n",
    "    spaces = len(re.findall(' ', nums.strip()))\n",
    "    ops = generate_permutations(spaces, chars = [' * ', ' + '])\n",
    "    for i in ops:\n",
    "        eval_val = eval_left_to_right(replace_spaces(nums, i))\n",
    "        if target == eval_val:\n",
    "            sum_tot += target\n",
    "            break\n",
    "sum_tot"
   ]
  },
  {
   "cell_type": "code",
   "execution_count": 5,
   "metadata": {},
   "outputs": [
    {
     "data": {
      "text/plain": [
       "362646859298554"
      ]
     },
     "execution_count": 5,
     "metadata": {},
     "output_type": "execute_result"
    }
   ],
   "source": [
    "sum_tot = 0\n",
    "for line in text:\n",
    "    target, nums = line.split(':')\n",
    "    nums = nums.strip()\n",
    "    target = int(target)\n",
    "    spaces = len(re.findall(' ', nums.strip()))\n",
    "    ops = generate_permutations(spaces, chars = [' * ', ' + ', ' || '])\n",
    "    for i in ops:\n",
    "        eval_val = eval_left_to_right(replace_spaces(nums, i))\n",
    "        if target == eval_val:\n",
    "            sum_tot += target\n",
    "            break\n",
    "sum_tot"
   ]
  }
 ],
 "metadata": {
  "kernelspec": {
   "display_name": "base",
   "language": "python",
   "name": "python3"
  },
  "language_info": {
   "codemirror_mode": {
    "name": "ipython",
    "version": 3
   },
   "file_extension": ".py",
   "mimetype": "text/x-python",
   "name": "python",
   "nbconvert_exporter": "python",
   "pygments_lexer": "ipython3",
   "version": "3.11.7"
  }
 },
 "nbformat": 4,
 "nbformat_minor": 2
}

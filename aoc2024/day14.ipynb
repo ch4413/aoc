{
 "cells": [
  {
   "cell_type": "code",
   "execution_count": 113,
   "metadata": {},
   "outputs": [],
   "source": [
    "import numpy as np\n",
    "import re"
   ]
  },
  {
   "cell_type": "code",
   "execution_count": 240,
   "metadata": {},
   "outputs": [],
   "source": [
    "with open('input14.txt', \"r\") as file:\n",
    "        text = file.read().strip().split('\\n')\n",
    "# text = '''p=0,4 v=3,-3\n",
    "# p=6,3 v=-1,-3\n",
    "# p=10,3 v=-1,2\n",
    "# p=2,0 v=2,-1\n",
    "# p=0,0 v=1,3\n",
    "# p=3,0 v=-2,-2\n",
    "# p=7,6 v=-1,-3\n",
    "# p=3,0 v=-1,-2\n",
    "# p=9,3 v=2,3\n",
    "# p=7,3 v=-1,2\n",
    "# p=2,4 v=2,-3\n",
    "# p=9,5 v=-3,-3'''.strip().split('\\n')"
   ]
  },
  {
   "cell_type": "code",
   "execution_count": 241,
   "metadata": {},
   "outputs": [],
   "source": [
    "height = 103\n",
    "width = 101\n",
    "# height = 7\n",
    "# width = 11"
   ]
  },
  {
   "cell_type": "code",
   "execution_count": 246,
   "metadata": {},
   "outputs": [],
   "source": [
    "tot = 0\n",
    "new_coords = []\n",
    "steps = 101\n",
    "for i in range(len(text)):\n",
    "    values = list(map(int, re.findall('[-]*\\d+', text[i])))\n",
    "    new_coord_x = (values[0] + values[2] * steps) % width\n",
    "    new_coord_y = (values[1] + values[3] * steps) % height\n",
    "    new_coord_x, new_coord_y\n",
    "    new_coords.append([new_coord_x, new_coord_y])"
   ]
  },
  {
   "cell_type": "code",
   "execution_count": 247,
   "metadata": {},
   "outputs": [
    {
     "data": {
      "text/plain": [
       "array([[0., 0., 0., ..., 0., 0., 0.],\n",
       "       [0., 0., 0., ..., 0., 0., 0.],\n",
       "       [0., 0., 1., ..., 0., 0., 0.],\n",
       "       ...,\n",
       "       [0., 0., 1., ..., 0., 0., 0.],\n",
       "       [0., 0., 0., ..., 0., 0., 0.],\n",
       "       [0., 0., 1., ..., 0., 0., 0.]])"
      ]
     },
     "execution_count": 247,
     "metadata": {},
     "output_type": "execute_result"
    }
   ],
   "source": [
    "#plot_on grid\n",
    "grid = np.zeros((height, width))\n",
    "for i in new_coords:\n",
    "    grid[(i[1], i[0])] += 1\n",
    "grid"
   ]
  },
  {
   "cell_type": "code",
   "execution_count": 248,
   "metadata": {},
   "outputs": [
    {
     "name": "stdout",
     "output_type": "stream",
     "text": [
      "146.0 123.0 108.0 116.0\n"
     ]
    },
    {
     "data": {
      "text/plain": [
       "224977824"
      ]
     },
     "execution_count": 248,
     "metadata": {},
     "output_type": "execute_result"
    }
   ],
   "source": [
    "# Define quadrants axis + 1 / 2 less than, more than\n",
    "half_h = height // 2\n",
    "half_w =width // 2\n",
    "\n",
    "q1 = grid[:half_h, :half_w]\n",
    "q2 = grid[:half_h, half_w+1:]\n",
    "q3 = grid[half_h+1:, :half_w]\n",
    "q4 = grid[half_h+1:, half_w+1:]\n",
    "# Multiply the answers for each quadrant\n",
    "print(q1.sum(), q2.sum(), q3.sum(), q4.sum())\n",
    "int(q1.sum() * q2.sum() * q3.sum() * q4.sum())"
   ]
  },
  {
   "cell_type": "code",
   "execution_count": null,
   "metadata": {},
   "outputs": [],
   "source": [
    "232589280, 224977824"
   ]
  }
 ],
 "metadata": {
  "kernelspec": {
   "display_name": "base",
   "language": "python",
   "name": "python3"
  },
  "language_info": {
   "codemirror_mode": {
    "name": "ipython",
    "version": 3
   },
   "file_extension": ".py",
   "mimetype": "text/x-python",
   "name": "python",
   "nbconvert_exporter": "python",
   "pygments_lexer": "ipython3",
   "version": "3.11.7"
  }
 },
 "nbformat": 4,
 "nbformat_minor": 2
}

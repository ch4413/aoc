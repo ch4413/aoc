{
 "cells": [
  {
   "cell_type": "code",
   "execution_count": 23,
   "metadata": {},
   "outputs": [],
   "source": [
    "import numpy as np\n",
    "import heapq\n",
    "from collections import Counter"
   ]
  },
  {
   "cell_type": "code",
   "execution_count": 40,
   "metadata": {},
   "outputs": [
    {
     "data": {
      "text/plain": [
       "['Register A: 27575648',\n",
       " 'Register B: 0',\n",
       " 'Register C: 0',\n",
       " '',\n",
       " 'Program: 2,4,1,2,7,5,4,1,1,3,5,5,0,3,3,0']"
      ]
     },
     "execution_count": 40,
     "metadata": {},
     "output_type": "execute_result"
    }
   ],
   "source": [
    "with open('input17.txt', \"r\") as file:\n",
    "        text = file.read().strip().split('\\n')\n",
    "text"
   ]
  },
  {
   "cell_type": "code",
   "execution_count": 42,
   "metadata": {},
   "outputs": [
    {
     "data": {
      "text/plain": [
       "'1,7,2,1,4,1,5,4,0'"
      ]
     },
     "execution_count": 42,
     "metadata": {},
     "output_type": "execute_result"
    }
   ],
   "source": [
    "A = 27575648\n",
    "B = 0\n",
    "C = 9\n",
    "pnt = 0\n",
    "result = []\n",
    "programme = [2,4,1,2,7,5,4,1,1,3,5,5,0,3,3,0]\n",
    "while pnt < len(programme):\n",
    "    ins = programme[pnt]\n",
    "    opcode = programme[pnt+1]\n",
    "    if opcode == 4:\n",
    "        value = A\n",
    "    elif opcode ==5:\n",
    "        value = B\n",
    "    elif opcode == 6:\n",
    "        value = C\n",
    "    else:\n",
    "        value = opcode\n",
    "    \n",
    "    if ins == 0:\n",
    "        A = int(A / (2 ** value))\n",
    "        pnt += 2\n",
    "    elif ins == 1:\n",
    "        B = B ^ opcode\n",
    "        pnt += 2\n",
    "    elif ins == 2:\n",
    "        B = value % 8\n",
    "        pnt += 2\n",
    "    elif ins == 3:\n",
    "        if A != 0:\n",
    "            pnt = opcode\n",
    "        else:\n",
    "            pnt += 2\n",
    "    elif ins == 4:\n",
    "        B = B ^ C\n",
    "        pnt += 2\n",
    "    elif ins == 5:\n",
    "        result.append(value % 8)\n",
    "        pnt += 2\n",
    "    elif ins == 6:\n",
    "        B = int(A / (2 ** value))\n",
    "        pnt += 2\n",
    "    elif ins == 7:\n",
    "        C = int(A / (2 ** value))\n",
    "        pnt += 2\n",
    "','.join([str(x) for x in result])"
   ]
  }
 ],
 "metadata": {
  "kernelspec": {
   "display_name": "base",
   "language": "python",
   "name": "python3"
  },
  "language_info": {
   "codemirror_mode": {
    "name": "ipython",
    "version": 3
   },
   "file_extension": ".py",
   "mimetype": "text/x-python",
   "name": "python",
   "nbconvert_exporter": "python",
   "pygments_lexer": "ipython3",
   "version": "3.11.7"
  }
 },
 "nbformat": 4,
 "nbformat_minor": 2
}

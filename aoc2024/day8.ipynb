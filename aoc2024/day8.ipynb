{
 "cells": [
  {
   "cell_type": "code",
   "execution_count": 3,
   "metadata": {},
   "outputs": [],
   "source": [
    "import re\n",
    "import numpy as np\n",
    "from itertools import product\n",
    "from collections import defaultdict"
   ]
  },
  {
   "cell_type": "code",
   "execution_count": 4,
   "metadata": {},
   "outputs": [],
   "source": [
    "with open('input8.txt', \"r\") as file:\n",
    "        #text = file.read().strip().split('\\n')\n",
    "        text = np.array([list(x) for x in file.read().strip().split('\\n')])"
   ]
  },
  {
   "cell_type": "code",
   "execution_count": 5,
   "metadata": {},
   "outputs": [],
   "source": [
    "with open('input8.txt', \"r\") as file:\n",
    "        G = file.read().strip().split('\\n')\n",
    "R = len(G)\n",
    "C = len(G[0])\n",
    "P = defaultdict(list)\n",
    "for r in range(R):\n",
    "    for c in range(C):\n",
    "          if G[r][c] != '.':\n",
    "                P[G[r][c]].append((r, c))"
   ]
  },
  {
   "cell_type": "code",
   "execution_count": 27,
   "metadata": {},
   "outputs": [],
   "source": [
    "A1 = set()\n",
    "A2 = set()\n",
    "for r in range(R):\n",
    "    for c in range(C):\n",
    "        for k, vs in P.items():\n",
    "            for (r1, c1) in vs:\n",
    "                for (r2, c2) in vs:\n",
    "                    if (r1, c1) != (r2, c2):\n",
    "                        d1 = abs(r - r1) + abs(c-c1)\n",
    "                        d2 = abs(r - r2) + abs(c - c2)\n",
    "\n",
    "                        dr1 = r-r1\n",
    "                        dr2 = r-r2\n",
    "                        dc1 = c-c1\n",
    "                        dc2 = c-c2\n",
    "\n",
    "                        if (d1==2*d2 or d1*2==d2) and 0<=r<R and 0<=c<C and (dr1*dc2 == dc1*dr2):\n",
    "                            A1.add((r, c))\n",
    "                        if (0<=r<R) and (0<=c<C) and (dr1*dc2 == dc1*dr2):\n",
    "                            A2.add((r, c))"
   ]
  },
  {
   "cell_type": "code",
   "execution_count": 26,
   "metadata": {},
   "outputs": [
    {
     "data": {
      "text/plain": [
       "(299, 1032)"
      ]
     },
     "execution_count": 26,
     "metadata": {},
     "output_type": "execute_result"
    }
   ],
   "source": [
    "len(A1), len(A2)"
   ]
  }
 ],
 "metadata": {
  "kernelspec": {
   "display_name": "base",
   "language": "python",
   "name": "python3"
  },
  "language_info": {
   "codemirror_mode": {
    "name": "ipython",
    "version": 3
   },
   "file_extension": ".py",
   "mimetype": "text/x-python",
   "name": "python",
   "nbconvert_exporter": "python",
   "pygments_lexer": "ipython3",
   "version": "3.11.7"
  }
 },
 "nbformat": 4,
 "nbformat_minor": 2
}

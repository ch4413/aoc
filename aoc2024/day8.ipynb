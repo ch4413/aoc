{
 "cells": [
  {
   "cell_type": "code",
   "execution_count": 2,
   "metadata": {},
   "outputs": [],
   "source": [
    "import re\n",
    "import numpy as np\n",
    "from itertools import product"
   ]
  },
  {
   "cell_type": "code",
   "execution_count": 9,
   "metadata": {},
   "outputs": [],
   "source": [
    "with open('input8.txt', \"r\") as file:\n",
    "        #text = file.read().strip().split('\\n')\n",
    "        text = np.array([list(x) for x in file.read().strip().split('\\n')])"
   ]
  },
  {
   "cell_type": "code",
   "execution_count": 15,
   "metadata": {},
   "outputs": [],
   "source": [
    "from collections import Counter"
   ]
  },
  {
   "cell_type": "code",
   "execution_count": 19,
   "metadata": {},
   "outputs": [
    {
     "name": "stdout",
     "output_type": "stream",
     "text": [
      "W (array([0, 1, 8], dtype=int64), array([10, 12, 21], dtype=int64))\n",
      "8 (array([ 0,  5,  6, 11], dtype=int64), array([17,  9, 16, 14], dtype=int64))\n",
      "4 (array([ 0,  8, 11, 19], dtype=int64), array([48, 45, 38, 47], dtype=int64))\n"
     ]
    }
   ],
   "source": [
    "for x in text[0]:\n",
    "    if x != '.':\n",
    "        print(x, np.where(text == x))"
   ]
  },
  {
   "cell_type": "code",
   "execution_count": null,
   "metadata": {},
   "outputs": [],
   "source": []
  }
 ],
 "metadata": {
  "kernelspec": {
   "display_name": "base",
   "language": "python",
   "name": "python3"
  },
  "language_info": {
   "codemirror_mode": {
    "name": "ipython",
    "version": 3
   },
   "file_extension": ".py",
   "mimetype": "text/x-python",
   "name": "python",
   "nbconvert_exporter": "python",
   "pygments_lexer": "ipython3",
   "version": "3.11.7"
  }
 },
 "nbformat": 4,
 "nbformat_minor": 2
}

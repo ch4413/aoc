{
 "cells": [
  {
   "cell_type": "code",
   "execution_count": 63,
   "metadata": {},
   "outputs": [],
   "source": [
    "import numpy as np\n",
    "from collections import Counter\n",
    "from itertools import combinations, permutations"
   ]
  },
  {
   "cell_type": "code",
   "execution_count": 94,
   "metadata": {},
   "outputs": [],
   "source": [
    "with open('input23.txt', \"r\") as file:\n",
    "        text = [tuple(x.split('-')) for x in file.read().strip().split('\\n')]"
   ]
  },
  {
   "cell_type": "code",
   "execution_count": 95,
   "metadata": {},
   "outputs": [],
   "source": [
    "# text = [tuple(x.split('-')) for x in \"\"\"kh-tc\n",
    "# qp-kh\n",
    "# de-cg\n",
    "# ka-co\n",
    "# yn-aq\n",
    "# qp-ub\n",
    "# cg-tb\n",
    "# vc-aq\n",
    "# tb-ka\n",
    "# wh-tc\n",
    "# yn-cg\n",
    "# kh-ub\n",
    "# ta-co\n",
    "# de-co\n",
    "# tc-td\n",
    "# tb-wq\n",
    "# wh-td\n",
    "# ta-ka\n",
    "# td-qp\n",
    "# aq-cg\n",
    "# wq-ub\n",
    "# ub-vc\n",
    "# de-ta\n",
    "# wq-aq\n",
    "# wq-vc\n",
    "# wh-yn\n",
    "# ka-de\n",
    "# kh-ta\n",
    "# co-tc\n",
    "# wh-qp\n",
    "# tb-vc\n",
    "# td-yn\"\"\".strip().split('\\n')]"
   ]
  },
  {
   "cell_type": "code",
   "execution_count": 96,
   "metadata": {},
   "outputs": [],
   "source": [
    "macs = [x[0] for x in text]\n",
    "macs2 = [x[1] for x in text]\n",
    "macs.extend(macs2)\n",
    "mac_set = set(macs)"
   ]
  },
  {
   "cell_type": "code",
   "execution_count": 113,
   "metadata": {},
   "outputs": [
    {
     "name": "stdout",
     "output_type": "stream",
     "text": [
      "0.12185355653563747\n"
     ]
    }
   ],
   "source": [
    "list_combs = list(combinations(mac_set, 3))\n",
    "ts = [any([x[0]=='t' for x in comb]) for comb in list_combs]\n",
    "print(sum(ts) / len(list_combs))\n",
    "ts_combs = [a for a, b in zip(list_combs, ts) if b]"
   ]
  },
  {
   "cell_type": "code",
   "execution_count": 115,
   "metadata": {},
   "outputs": [
    {
     "data": {
      "text/plain": [
       "1378"
      ]
     },
     "execution_count": 115,
     "metadata": {},
     "output_type": "execute_result"
    }
   ],
   "source": [
    "trips = []\n",
    "\n",
    "set_text = set(text)\n",
    "for comb in ts_combs:\n",
    "    perms = list(permutations(comb, 2))\n",
    "    if len(set(perms) & set(set_text)) > 2:\n",
    "        trips.append(comb)\n",
    "sum([any([x[0]=='t' for x in trip]) for trip in trips])"
   ]
  },
  {
   "cell_type": "code",
   "execution_count": 117,
   "metadata": {},
   "outputs": [],
   "source": [
    "# take trips\n",
    "# find unique list of strings\n",
    "# Find all the combinations of length 4\n",
    "# find all the perms of length 3\n",
    "# if len > 4C3\n",
    "# while len of matches is > 0"
   ]
  },
  {
   "cell_type": "code",
   "execution_count": null,
   "metadata": {},
   "outputs": [],
   "source": []
  }
 ],
 "metadata": {
  "kernelspec": {
   "display_name": "base",
   "language": "python",
   "name": "python3"
  },
  "language_info": {
   "codemirror_mode": {
    "name": "ipython",
    "version": 3
   },
   "file_extension": ".py",
   "mimetype": "text/x-python",
   "name": "python",
   "nbconvert_exporter": "python",
   "pygments_lexer": "ipython3",
   "version": "3.11.7"
  }
 },
 "nbformat": 4,
 "nbformat_minor": 2
}

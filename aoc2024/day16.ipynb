{
 "cells": [
  {
   "cell_type": "code",
   "execution_count": 232,
   "metadata": {},
   "outputs": [],
   "source": [
    "import numpy as np\n",
    "import heapq\n",
    "from collections import Counter"
   ]
  },
  {
   "cell_type": "code",
   "execution_count": 233,
   "metadata": {},
   "outputs": [],
   "source": [
    "with open('input16.txt', \"r\") as file:\n",
    "        text = file.read().strip().split('\\n')\n",
    "\n",
    "# text = '''###############\n",
    "# #.......#....E#\n",
    "# #.#.###.#.###.#\n",
    "# #.....#.#...#.#\n",
    "# #.###.#####.#.#\n",
    "# #.#.#.......#.#\n",
    "# #.#.#####.###.#\n",
    "# #...........#.#\n",
    "# ###.#.#####.#.#\n",
    "# #...#.....#.#.#\n",
    "# #.#.#.###.#.#.#\n",
    "# #.....#...#.#.#\n",
    "# #.###.#.#.#.#.#\n",
    "# #S..#.....#...#\n",
    "# ###############'''.strip().split()\n",
    "# text = '''#################\n",
    "# #...#...#...#..E#\n",
    "# #.#.#.#.#.#.#.#.#\n",
    "# #.#.#.#...#...#.#\n",
    "# #.#.#.#.###.#.#.#\n",
    "# #...#.#.#.....#.#\n",
    "# #.#.#.#.#.#####.#\n",
    "# #.#...#.#.#.....#\n",
    "# #.#.#####.#.###.#\n",
    "# #.#.#.......#...#\n",
    "# #.#.###.#####.###\n",
    "# #.#.#...#.....#.#\n",
    "# #.#.#.#####.###.#\n",
    "# #.#.#.........#.#\n",
    "# #.#.#.#########.#\n",
    "# #S#.............#\n",
    "# #################'''.strip().split('\\n')\n",
    "text = np.array([list(x) for x in text])\n",
    "x, y = np.where(text == 'S')\n",
    "start = x[0], y[0]\n",
    "text[start] = '.'\n",
    "x, y  = np.where(text == 'E')\n",
    "end = x[0], y[0]\n",
    "text[end] = '.'"
   ]
  },
  {
   "cell_type": "code",
   "execution_count": 234,
   "metadata": {},
   "outputs": [],
   "source": [
    "def turning_cost(x, y, nx, ny, direction):\n",
    "    if nx > x and y == ny:\n",
    "        value = 1\n",
    "    elif nx < x and ny == y:\n",
    "        value = 3\n",
    "    elif ny > y and nx == x:\n",
    "        value = 0\n",
    "    elif ny < y and nx == x:\n",
    "        value = 2\n",
    "    return ((abs(direction - value) % 3) + (abs(direction - value) == 3) ) * 1000, value"
   ]
  },
  {
   "cell_type": "code",
   "execution_count": 235,
   "metadata": {},
   "outputs": [
    {
     "data": {
      "text/plain": [
       "83432"
      ]
     },
     "execution_count": 235,
     "metadata": {},
     "output_type": "execute_result"
    }
   ],
   "source": [
    "def dijkstra(maze, start, end, facing = 0):\n",
    "    rows, cols = len(maze), len(maze[0])\n",
    "    directions = [(0, 1), (1, 0), (0, -1), (-1, 0)]\n",
    "\n",
    "    def is_valid(x, y):\n",
    "        return 0 <= x < rows and 0 <= y < cols and maze[x][y] == '.'\n",
    "\n",
    "    pq = [(0, start[0], start[1], facing)]\n",
    "    distances = {(start[0], start[1]): 0}\n",
    "\n",
    "    while pq:\n",
    "        cost, x, y, facing = heapq.heappop(pq)\n",
    "        if (x, y) == end:\n",
    "            return cost, distances\n",
    "        for dx, dy in directions:\n",
    "            nx, ny = x + dx, y + dy\n",
    "            if is_valid(nx, ny):\n",
    "                tc, new_facing = turning_cost(x, y, nx, ny, facing)\n",
    "                new_cost = cost + 1 + tc\n",
    "                if (nx, ny) not in distances or new_cost < distances[(nx, ny)]:\n",
    "                    distances[(nx, ny)] = new_cost\n",
    "                    heapq.heappush(pq, (new_cost, nx, ny, new_facing))\n",
    "    return -1\n",
    "\n",
    "maze = text\n",
    "result, distances = dijkstra(maze, start, end, facing=0)\n",
    "result"
   ]
  },
  {
   "cell_type": "code",
   "execution_count": 236,
   "metadata": {},
   "outputs": [
    {
     "data": {
      "text/plain": [
       "467"
      ]
     },
     "execution_count": 236,
     "metadata": {},
     "output_type": "execute_result"
    }
   ],
   "source": [
    "def find_paths(grid, start, end, facing=0):\n",
    "    rows, cols = len(grid), len(grid[0])\n",
    "    paths = []\n",
    "    cost = 0 \n",
    "\n",
    "    def is_valid(x, y, path):\n",
    "        return 0 <= x < rows and 0 <= y < cols and (x, y) not in path and grid[x][y] == '.'\n",
    "\n",
    "    def dfs(x, y, path, cost, facing):\n",
    "        if (x, y) == end:\n",
    "            paths.append([cost, path[:]])\n",
    "            return\n",
    "        path.append((x, y))\n",
    "\n",
    "        for dx, dy in [(0, 1), (1, 0), (0, -1), (-1, 0)]:\n",
    "            nx, ny = x + dx, y + dy\n",
    "            if is_valid(nx, ny, path):\n",
    "                tc, new_facing = turning_cost(x, y, nx, ny, facing)\n",
    "                new_cost = cost + tc + 1\n",
    "\n",
    "                if distances.get((nx, ny)) is not None:\n",
    "                    if distances[(nx, ny)] in [new_cost, new_cost-1000]:\n",
    "                        dfs(nx, ny, path, new_cost, new_facing)\n",
    "\n",
    "        path.pop()\n",
    "    dfs(start[0], start[1], [], cost, facing)\n",
    "    return paths\n",
    "\n",
    "# Example usage\n",
    "grid = text\n",
    "\n",
    "all_paths = find_paths(grid, start, end, facing=0)\n",
    "min_score = min([x[0] for x in all_paths])\n",
    "points = []\n",
    "for path in all_paths:\n",
    "    if (path[0]) == min_score:\n",
    "        points.extend(path[1])\n",
    "len(set(points)) + 1 # HOTFIX: why +1?"
   ]
  }
 ],
 "metadata": {
  "kernelspec": {
   "display_name": "base",
   "language": "python",
   "name": "python3"
  },
  "language_info": {
   "codemirror_mode": {
    "name": "ipython",
    "version": 3
   },
   "file_extension": ".py",
   "mimetype": "text/x-python",
   "name": "python",
   "nbconvert_exporter": "python",
   "pygments_lexer": "ipython3",
   "version": "3.11.7"
  }
 },
 "nbformat": 4,
 "nbformat_minor": 2
}

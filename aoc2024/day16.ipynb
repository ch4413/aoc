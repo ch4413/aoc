{
 "cells": [
  {
   "cell_type": "code",
   "execution_count": 4,
   "metadata": {},
   "outputs": [],
   "source": [
    "import numpy as np\n",
    "from heapq import heappop, heappush\n",
    "import heapq\n",
    "from collections import Counter"
   ]
  },
  {
   "cell_type": "code",
   "execution_count": 10,
   "metadata": {},
   "outputs": [],
   "source": [
    "with open('input16.txt', \"r\") as file:\n",
    "        text = file.read().strip().split('\\n')\n",
    "\n",
    "# text = '''###############\n",
    "# #.......#....E#\n",
    "# #.#.###.#.###.#\n",
    "# #.....#.#...#.#\n",
    "# #.###.#####.#.#\n",
    "# #.#.#.......#.#\n",
    "# #.#.#####.###.#\n",
    "# #...........#.#\n",
    "# ###.#.#####.#.#\n",
    "# #...#.....#.#.#\n",
    "# #.#.#.###.#.#.#\n",
    "# #.....#...#.#.#\n",
    "# #.###.#.#.#.#.#\n",
    "# #S..#.....#...#\n",
    "# ###############'''.strip().split()\n",
    "text = '''#################\n",
    "#...#...#...#..E#\n",
    "#.#.#.#.#.#.#.#.#\n",
    "#.#.#.#...#...#.#\n",
    "#.#.#.#.###.#.#.#\n",
    "#...#.#.#.....#.#\n",
    "#.#.#.#.#.#####.#\n",
    "#.#...#.#.#.....#\n",
    "#.#.#####.#.###.#\n",
    "#.#.#.......#...#\n",
    "#.#.###.#####.###\n",
    "#.#.#...#.....#.#\n",
    "#.#.#.#####.###.#\n",
    "#.#.#.........#.#\n",
    "#.#.#.#########.#\n",
    "#S#.............#\n",
    "#################'''.strip().split('\\n')\n",
    "text = np.array([list(x) for x in text])\n",
    "x, y = np.where(text == 'S')\n",
    "start = x[0], y[0]\n",
    "text[start] = '.'\n",
    "x, y  = np.where(text == 'E')\n",
    "end = x[0], y[0]\n",
    "text[end] = '.'"
   ]
  },
  {
   "cell_type": "code",
   "execution_count": 11,
   "metadata": {},
   "outputs": [],
   "source": [
    "def turning_cost(x, y, nx, ny, direction):\n",
    "    if nx > x and y == ny:\n",
    "        value = 1\n",
    "    elif nx < x and ny == y:\n",
    "        value = 3\n",
    "    elif ny > y and nx == x:\n",
    "        value = 0\n",
    "    elif ny < y and nx == x:\n",
    "        value = 2\n",
    "    return ((abs(direction - value) % 3) + (abs(direction - value) == 3) ) * 1000, value"
   ]
  },
  {
   "cell_type": "code",
   "execution_count": 72,
   "metadata": {},
   "outputs": [
    {
     "data": {
      "text/plain": [
       "11048"
      ]
     },
     "execution_count": 72,
     "metadata": {},
     "output_type": "execute_result"
    }
   ],
   "source": [
    "def dijkstra(maze, start, end, facing = 0):\n",
    "    rows, cols = len(maze), len(maze[0])\n",
    "    directions = [(0, 1), (1, 0), (0, -1), (-1, 0)]\n",
    "\n",
    "    def is_valid(x, y):\n",
    "        return 0 <= x < rows and 0 <= y < cols and maze[x][y] == '.'\n",
    "\n",
    "    pq = [(0, start[0], start[1], facing)]\n",
    "    distances = {(start[0], start[1]): 0}\n",
    "\n",
    "    while pq:\n",
    "        cost, x, y, facing = heapq.heappop(pq)\n",
    "        if (x, y) == end:\n",
    "            return cost, distances\n",
    "        for dx, dy in directions:\n",
    "            nx, ny = x + dx, y + dy\n",
    "            if is_valid(nx, ny):\n",
    "                tc, new_facing = turning_cost(x, y, nx, ny, facing)\n",
    "                new_cost = cost + 1 + tc\n",
    "                if (nx, ny) not in distances or new_cost < distances[(nx, ny)]:\n",
    "                    distances[(nx, ny)] = new_cost\n",
    "                    heapq.heappush(pq, (new_cost, nx, ny, new_facing))\n",
    "    return -1\n",
    "\n",
    "maze = text\n",
    "result, distances = dijkstra(maze, start, end, facing=0)\n",
    "result"
   ]
  },
  {
   "cell_type": "code",
   "execution_count": 99,
   "metadata": {},
   "outputs": [
    {
     "data": {
      "text/plain": [
       "132"
      ]
     },
     "execution_count": 99,
     "metadata": {},
     "output_type": "execute_result"
    }
   ],
   "source": [
    "quickest = []\n",
    "for i in range(len(maze)):\n",
    "    for j in range(len(maze[0])):\n",
    "        if maze[(i, j)] == '.':\n",
    "            quickest.append((i, j))\n",
    "len(quickest)"
   ]
  },
  {
   "cell_type": "code",
   "execution_count": 103,
   "metadata": {},
   "outputs": [
    {
     "data": {
      "text/plain": [
       "(5027, 6027)"
      ]
     },
     "execution_count": 103,
     "metadata": {},
     "output_type": "execute_result"
    }
   ],
   "source": [
    "distances[(12, 5)], distances[(13, 6)]"
   ]
  },
  {
   "cell_type": "code",
   "execution_count": 108,
   "metadata": {},
   "outputs": [
    {
     "data": {
      "text/plain": [
       "63"
      ]
     },
     "execution_count": 108,
     "metadata": {},
     "output_type": "execute_result"
    }
   ],
   "source": [
    "def find_paths(grid, start, end, facing=0, max=0):\n",
    "    rows, cols = len(grid), len(grid[0])\n",
    "    paths = []\n",
    "    cost = 0 \n",
    "\n",
    "    def is_valid(x, y, visited):\n",
    "        return 0 <= x < rows and 0 <= y < cols and not visited[x][y] and grid[x][y] == '.'\n",
    "\n",
    "    def dfs(x, y, path, visited, cost, facing):\n",
    "        if (x, y) == end or (cost > max):# or (len(path) >= 432) or (cost > (max/2)) and len(path) < (432 / 4):\n",
    "            paths.append([cost, path[:]])\n",
    "            return\n",
    "\n",
    "        visited[x][y] = True\n",
    "        path.append((x, y))\n",
    "\n",
    "        for dx, dy in [(0, 1), (1, 0), (0, -1), (-1, 0)]:\n",
    "            nx, ny = x + dx, y + dy\n",
    "            if is_valid(nx, ny, visited):\n",
    "                tc, new_facing = turning_cost(x, y, nx, ny, facing)\n",
    "                new_cost = cost + tc + 1\n",
    "                # if distances[(nx, ny)] == new_cost:\n",
    "                #     if (nx, ny) in [(12, 5), (13, 6)]:\n",
    "                #         print(nx, ny, new_cost)\n",
    "                dfs(nx, ny, path, visited, new_cost, new_facing)\n",
    "\n",
    "        path.pop()\n",
    "        visited[x][y] = False\n",
    "\n",
    "    visited = [[False] * cols for _ in range(rows)]\n",
    "    dfs(start[0], start[1], [], visited, cost, facing)\n",
    "    return paths\n",
    "\n",
    "# Example usage\n",
    "grid = text\n",
    "all_paths = find_paths(grid, start, end, facing=0, max=result + 1000)\n",
    "\n",
    "min_score = min([x[0] for x in all_paths])\n",
    "points = []\n",
    "for path in all_paths:\n",
    "    if (path[0]) == min_score:\n",
    "        points.extend(path[1])\n",
    "len(set(points))"
   ]
  },
  {
   "cell_type": "code",
   "execution_count": null,
   "metadata": {},
   "outputs": [
    {
     "data": {
      "text/plain": [
       "63"
      ]
     },
     "metadata": {},
     "output_type": "display_data"
    }
   ],
   "source": [
    "def find_paths(grid, start, end, facing=0, max=0):\n",
    "    rows, cols = len(grid), len(grid[0])\n",
    "    paths = []\n",
    "    cost = 0 \n",
    "\n",
    "    def is_valid(x, y, visited):\n",
    "        return 0 <= x < rows and 0 <= y < cols and not visited[x][y] and grid[x][y] == '.'\n",
    "\n",
    "    def dfs(x, y, path, visited, cost, facing):\n",
    "        if (x, y) == end or (cost > max):# or (len(path) >= 432) or (cost > (max/2)) and len(path) < (432 / 4):\n",
    "            paths.append([cost, path[:]])\n",
    "            return\n",
    "\n",
    "        visited[x][y] = True\n",
    "        path.append((x, y))\n",
    "\n",
    "        for dx, dy in [(0, 1), (1, 0), (0, -1), (-1, 0)]:\n",
    "            nx, ny = x + dx, y + dy\n",
    "            if is_valid(nx, ny, visited):\n",
    "                tc, new_facing = turning_cost(x, y, nx, ny, facing)\n",
    "                new_cost = cost + tc + 1\n",
    "                # if distances[(nx, ny)] == new_cost:\n",
    "                #     if (nx, ny) in [(12, 5), (13, 6)]:\n",
    "                #         print(nx, ny, new_cost)\n",
    "                dfs(nx, ny, path, visited, new_cost, new_facing)\n",
    "\n",
    "        path.pop()\n",
    "        visited[x][y] = False\n",
    "\n",
    "    visited = [[False] * cols for _ in range(rows)]\n",
    "    dfs(start[0], start[1], [], visited, cost, facing)\n",
    "    return paths\n",
    "\n",
    "# Example usage\n",
    "grid = text\n",
    "all_paths = find_paths(grid, start, end, facing=0, max=result + 1000)\n",
    "\n",
    "min_score = min([x[0] for x in all_paths])\n",
    "points = []\n",
    "for path in all_paths:\n",
    "    if (path[0]) == min_score:\n",
    "        points.extend(path[1])\n",
    "len(set(points))"
   ]
  }
 ],
 "metadata": {
  "kernelspec": {
   "display_name": "base",
   "language": "python",
   "name": "python3"
  },
  "language_info": {
   "codemirror_mode": {
    "name": "ipython",
    "version": 3
   },
   "file_extension": ".py",
   "mimetype": "text/x-python",
   "name": "python",
   "nbconvert_exporter": "python",
   "pygments_lexer": "ipython3",
   "version": "3.11.7"
  }
 },
 "nbformat": 4,
 "nbformat_minor": 2
}

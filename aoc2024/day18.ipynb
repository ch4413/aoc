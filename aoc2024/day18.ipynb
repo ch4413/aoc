{
 "cells": [
  {
   "cell_type": "code",
   "execution_count": 309,
   "metadata": {},
   "outputs": [],
   "source": [
    "import numpy as np\n",
    "import heapq\n",
    "from collections import Counter"
   ]
  },
  {
   "cell_type": "code",
   "execution_count": 310,
   "metadata": {},
   "outputs": [
    {
     "data": {
      "text/plain": [
       "['Register A: 27575648',\n",
       " 'Register B: 0',\n",
       " 'Register C: 0',\n",
       " '',\n",
       " 'Program: 2,4,1,2,7,5,4,1,1,3,5,5,0,3,3,0']"
      ]
     },
     "execution_count": 310,
     "metadata": {},
     "output_type": "execute_result"
    }
   ],
   "source": [
    "with open('input17.txt', \"r\") as file:\n",
    "        text = file.read().strip().split('\\n')\n",
    "text"
   ]
  },
  {
   "cell_type": "code",
   "execution_count": 311,
   "metadata": {},
   "outputs": [],
   "source": [
    "def reg(programme, pnt, A, B, C):\n",
    "    result = []\n",
    "    while pnt < len(programme):\n",
    "        ins = programme[pnt]\n",
    "        opcode = programme[pnt+1]\n",
    "        if opcode == 4:\n",
    "            value = A\n",
    "        elif opcode ==5:\n",
    "            value = B\n",
    "        elif opcode == 6:\n",
    "            value = C\n",
    "        else:\n",
    "            value = opcode\n",
    "        \n",
    "        if ins == 0:\n",
    "            A = int(A / (2 ** value))\n",
    "            pnt += 2\n",
    "        elif ins == 1:\n",
    "            B = B ^ opcode\n",
    "            pnt += 2\n",
    "        elif ins == 2:\n",
    "            B = value % 8\n",
    "            pnt += 2\n",
    "        elif ins == 3:\n",
    "            if A != 0:\n",
    "                pnt = opcode\n",
    "            else:\n",
    "                pnt += 2\n",
    "        elif ins == 4:\n",
    "            B = B ^ C\n",
    "            pnt += 2\n",
    "        elif ins == 5:\n",
    "            result.append(value % 8)\n",
    "            pnt += 2\n",
    "        elif ins == 6:\n",
    "            B = int(A / (2 ** value))\n",
    "            pnt += 2\n",
    "        elif ins == 7:\n",
    "            C = int(A / (2 ** value))\n",
    "            pnt += 2\n",
    "    #return ','.join([str(x) for x in result])\n",
    "    return result"
   ]
  },
  {
   "cell_type": "code",
   "execution_count": 596,
   "metadata": {},
   "outputs": [
    {
     "data": {
      "text/plain": [
       "[1, 7, 2, 1, 4, 1, 5, 4, 0]"
      ]
     },
     "execution_count": 596,
     "metadata": {},
     "output_type": "execute_result"
    }
   ],
   "source": [
    "A = 27575648\n",
    "B = 0\n",
    "C = 0\n",
    "pnt = 0\n",
    "result = []\n",
    "programme = [2,4,1,2,7,5,4,1,1,3,5,5,0,3,3,0]\n",
    "reg(programme, 0, 27575648, 0, 0)"
   ]
  },
  {
   "cell_type": "code",
   "execution_count": 1303,
   "metadata": {},
   "outputs": [
    {
     "name": "stdout",
     "output_type": "stream",
     "text": [
      "1 [0]\n",
      "8 [1, 0]\n",
      "64 [0, 1, 0]\n",
      "512 [0, 0, 1, 0]\n",
      "4096 [0, 0, 0, 1, 0]\n",
      "32768 [0, 0, 0, 0, 1, 0]\n"
     ]
    },
    {
     "data": {
      "text/plain": [
       "(117440, [0, 3, 5, 4, 3, 0])"
      ]
     },
     "execution_count": 1303,
     "metadata": {},
     "output_type": "execute_result"
    }
   ],
   "source": [
    "A = 2024\n",
    "B = 0\n",
    "C = 0\n",
    "pnt = 0\n",
    "result = []\n",
    "programme = [0,3,5,4,3,0]\n",
    "out = []\n",
    "lenput = len(out)\n",
    "inp = 0\n",
    "vals = []\n",
    "while out != [0,3,5,4,3,0]:\n",
    "    inp += 1 \n",
    "    out = reg(programme, 0, inp, 0, 0)\n",
    "    if len(out) > lenput:\n",
    "        print(inp, out)\n",
    "        lenput += 1\n",
    "    if out[:2] == [2, 4]:\n",
    "        vals.append(inp)\n",
    "inp, out"
   ]
  },
  {
   "cell_type": "code",
   "execution_count": 688,
   "metadata": {},
   "outputs": [
    {
     "data": {
      "text/plain": [
       "([0, 3, 5, 4, 3, 0], 0, 117441)"
      ]
     },
     "execution_count": 688,
     "metadata": {},
     "output_type": "execute_result"
    }
   ],
   "source": [
    "programme = [0, 3, 5, 4, 3, 0]\n",
    "x = 117440\n",
    "res = reg(programme, 0, 1*(8**0) + 8*(8*1) + 2*(8**2) + 5*(8**3) + 4*(8**4) + 3*(8**5), 0, 0)\n",
    "res, 0, 1*(8**0) + 8*(8*1) + 2*(8**2) + 5*(8**3) + 4*(8**4) + 3*(8**5)"
   ]
  },
  {
   "cell_type": "code",
   "execution_count": 1301,
   "metadata": {},
   "outputs": [
    {
     "name": "stdout",
     "output_type": "stream",
     "text": [
      "[2, 4, 1, 2, 7, 5, 4, 1, 1, 3, 5, 5, 0, 3, 3, 0]\n",
      "[5, 7, 4]\n"
     ]
    },
    {
     "data": {
      "text/plain": [
       "383"
      ]
     },
     "execution_count": 1301,
     "metadata": {},
     "output_type": "execute_result"
    }
   ],
   "source": [
    "val = (1*(8**15)+ 0*(8**14) + 3*(8**13) + 5*(8**12) + 5*(8**11) + 1*(8**10) + 0*(8**9) + 0*(8**8) + 0*(8**7) + 5*(8**6) + 1*(8**5) \n",
    "       + 3*(8**4) + 6*(8**3) + 2*(8**2) + 7*(8**1) + 7*(8**0))\n",
    "val = (7*(8**0) + 7*(8**1)) + 5*(8**2)\n",
    "programme = [2,4,1,2,7,5,4,1,1,3,5,5,0,3,3,0]\n",
    "result = reg(programme, 0, val, 0, 0)\n",
    "print(programme)\n",
    "print(result)\n",
    "val"
   ]
  },
  {
   "cell_type": "code",
   "execution_count": 1376,
   "metadata": {},
   "outputs": [
    {
     "data": {
      "text/plain": [
       "(37221261688308, [2, 4, 1, 2, 7, 5, 4, 1, 1, 3, 5, 5, 0, 3, 3, 0])"
      ]
     },
     "execution_count": 1376,
     "metadata": {},
     "output_type": "execute_result"
    }
   ],
   "source": [
    "programme = [2,4,1,2,7,5,4,1,1,3,5,5,0,3,3,0]\n",
    "val = 1*(8**15)+ 0*(8**14) + 3*(8**13) + 5*(8**12) + 5*(8**11) + 1*(8**10) #+ 0*(8**9) + 0*(8**8) + 0*(8**7) + 5*(8**6) + 1*(8**5) + 3*(8**4)\n",
    "result = []\n",
    "while result != programme:\n",
    "    val += 1\n",
    "    result = reg(programme, 0, val, 0, 0)\n",
    "val, result"
   ]
  },
  {
   "cell_type": "code",
   "execution_count": 1363,
   "metadata": {},
   "outputs": [
    {
     "name": "stdout",
     "output_type": "stream",
     "text": [
      "37221261688308\n"
     ]
    },
    {
     "data": {
      "text/plain": [
       "True"
      ]
     },
     "execution_count": 1363,
     "metadata": {},
     "output_type": "execute_result"
    }
   ],
   "source": [
    "g = list( map( int, open('input17.txt').read().split()[ -1 ].split( ',' ) ) )\n",
    "\n",
    "def solve( p, r ):\n",
    "    if p < 0:\n",
    "        print( r )\n",
    "        return True\n",
    "    for d in range( 8 ):\n",
    "        a, i = r << 3 | d, 0\n",
    "        while i < len( g ):\n",
    "            if   g[ i + 1 ] <= 3: o = g[ i + 1 ]\n",
    "            elif g[ i + 1 ] == 4: o = a\n",
    "            elif g[ i + 1 ] == 5: o = b\n",
    "            elif g[ i + 1 ] == 6: o = c\n",
    "            if   g[ i ] == 0: a >>= o\n",
    "            elif g[ i ] == 1: b  ^= g[ i + 1 ]\n",
    "            elif g[ i ] == 2: b   = o & 7\n",
    "            elif g[ i ] == 3: i   = g[ i + 1 ] - 2 if a != 0 else i\n",
    "            elif g[ i ] == 4: b  ^= c\n",
    "            elif g[ i ] == 5: w   = o & 7; break\n",
    "            elif g[ i ] == 6: b   = a >> o\n",
    "            elif g[ i ] == 7: c   = a >> o\n",
    "            i += 2\n",
    "        if w == g[ p ] and solve( p - 1, r << 3 | d ):\n",
    "            return True\n",
    "    return False\n",
    "\n",
    "solve( len( g ) - 1, 0 )"
   ]
  }
 ],
 "metadata": {
  "kernelspec": {
   "display_name": "base",
   "language": "python",
   "name": "python3"
  },
  "language_info": {
   "codemirror_mode": {
    "name": "ipython",
    "version": 3
   },
   "file_extension": ".py",
   "mimetype": "text/x-python",
   "name": "python",
   "nbconvert_exporter": "python",
   "pygments_lexer": "ipython3",
   "version": "3.11.7"
  }
 },
 "nbformat": 4,
 "nbformat_minor": 2
}

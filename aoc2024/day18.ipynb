{
 "cells": [
  {
   "cell_type": "code",
   "execution_count": 34,
   "metadata": {},
   "outputs": [],
   "source": [
    "import numpy as np\n",
    "import heapq\n",
    "from collections import Counter, deque"
   ]
  },
  {
   "cell_type": "code",
   "execution_count": 112,
   "metadata": {},
   "outputs": [],
   "source": [
    "def dijkstra(maze, start, end):\n",
    "    rows, cols = len(maze), len(maze[0])\n",
    "    directions = [(0, 1), (1, 0), (0, -1), (-1, 0)]\n",
    "\n",
    "    def is_valid(x, y):\n",
    "        return 0 <= x < rows and 0 <= y < cols and maze[x][y] == 0\n",
    "\n",
    "    pq = [(0, start[0], start[1])]\n",
    "    distances = {(start[0], start[1]): 0}\n",
    "\n",
    "    while pq:\n",
    "        cost, x, y = heapq.heappop(pq)\n",
    "        if (x, y) == end:\n",
    "            return cost, distances\n",
    "        for dx, dy in directions:\n",
    "            nx, ny = x + dx, y + dy\n",
    "            if is_valid(nx, ny):\n",
    "                new_cost = cost + 1\n",
    "                if (nx, ny) not in distances or new_cost < distances[(nx, ny)]:\n",
    "                    distances[(nx, ny)] = new_cost\n",
    "                    heapq.heappush(pq, (new_cost, nx, ny))\n",
    "    return -1, -1"
   ]
  },
  {
   "cell_type": "code",
   "execution_count": 116,
   "metadata": {},
   "outputs": [],
   "source": [
    "with open('input18.txt', \"r\") as file:\n",
    "        text = file.read().strip().split('\\n')\n",
    "# text = \"\"\"5,4\n",
    "# 4,2\n",
    "# 4,5\n",
    "# 3,0\n",
    "# 2,1\n",
    "# 6,3\n",
    "# 2,4\n",
    "# 1,5\n",
    "# 0,6\n",
    "# 3,3\n",
    "# 2,6\n",
    "# 5,1\n",
    "# 1,2\n",
    "# 5,5\n",
    "# 2,5\n",
    "# 6,5\n",
    "# 1,4\n",
    "# 0,4\n",
    "# 6,4\n",
    "# 1,1\n",
    "# 6,1\n",
    "# 1,0\n",
    "# 0,5\n",
    "# 1,6\n",
    "# 2,0\"\"\".split('\\n')"
   ]
  },
  {
   "cell_type": "code",
   "execution_count": 119,
   "metadata": {},
   "outputs": [
    {
     "name": "stdout",
     "output_type": "stream",
     "text": [
      "Number of bytes 2881, path length -1, final coord, (54, 44)\n"
     ]
    }
   ],
   "source": [
    "start = (0, 0)\n",
    "end = (70, 70)\n",
    "marker = 1024\n",
    "\n",
    "aa = [tuple(map(int, x.split(','))) for x in text]\n",
    "max_x = max([x[0] for x in aa])\n",
    "max_y = max([x[1] for x in aa])\n",
    "for j in range(marker, len(aa)):\n",
    "    grid = np.zeros([max_x+1, max_y+1])\n",
    "    for i in range(j):\n",
    "        grid[aa[i][1], aa[i][0]] = 1\n",
    "\n",
    "    result, distances = dijkstra(grid, start, end)\n",
    "    if result == -1:\n",
    "        print(f\"Number of bytes {j}, path length {result}, final coord, {aa[i]}\")\n",
    "        break"
   ]
  }
 ],
 "metadata": {
  "kernelspec": {
   "display_name": "base",
   "language": "python",
   "name": "python3"
  },
  "language_info": {
   "codemirror_mode": {
    "name": "ipython",
    "version": 3
   },
   "file_extension": ".py",
   "mimetype": "text/x-python",
   "name": "python",
   "nbconvert_exporter": "python",
   "pygments_lexer": "ipython3",
   "version": "3.11.7"
  }
 },
 "nbformat": 4,
 "nbformat_minor": 2
}

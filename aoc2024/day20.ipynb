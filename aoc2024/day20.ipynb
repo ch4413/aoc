{
 "cells": [
  {
   "cell_type": "code",
   "execution_count": 254,
   "metadata": {},
   "outputs": [],
   "source": [
    "import numpy as np\n",
    "import heapq"
   ]
  },
  {
   "cell_type": "code",
   "execution_count": 255,
   "metadata": {},
   "outputs": [],
   "source": [
    "with open('input20.txt', \"r\") as file:\n",
    "        text = file.read().strip().split('\\n')"
   ]
  },
  {
   "cell_type": "code",
   "execution_count": 256,
   "metadata": {},
   "outputs": [],
   "source": [
    "# text = '''###############\n",
    "# #...#...#.....#\n",
    "# #.#.#.#.#.###.#\n",
    "# #S#...#.#.#...#\n",
    "# #######.#.#.###\n",
    "# #######.#.#...#\n",
    "# #######.#.###.#\n",
    "# ###..E#...#...#\n",
    "# ###.#######.###\n",
    "# #...###...#...#\n",
    "# #.#####.#.###.#\n",
    "# #.#...#.#.#...#\n",
    "# #.#.#.#.#.#.###\n",
    "# #...#...#...###\n",
    "# ###############'''.strip().split('\\n')"
   ]
  },
  {
   "cell_type": "code",
   "execution_count": 257,
   "metadata": {},
   "outputs": [],
   "source": [
    "grid = np.array([list(x) for x in text])\n",
    "x, y = np.where(grid == 'S')\n",
    "start = x[0], y[0]\n",
    "grid[start] = '.'\n",
    "x, y  = np.where(grid == 'E')\n",
    "end = x[0], y[0]\n",
    "grid[end] = '.'"
   ]
  },
  {
   "cell_type": "code",
   "execution_count": 258,
   "metadata": {},
   "outputs": [],
   "source": [
    "def dijkstra(maze, start, end):\n",
    "    rows, cols = len(maze), len(maze[0])\n",
    "    directions = [(0, 1), (1, 0), (0, -1), (-1, 0)]\n",
    "\n",
    "    def is_valid(x, y):\n",
    "        return 0 <= x < rows and 0 <= y < cols and maze[x][y] == '.'\n",
    "\n",
    "    pq = [(0, start[0], start[1])]\n",
    "    distances = {(start[0], start[1]): 0}\n",
    "\n",
    "    while pq:\n",
    "        cost, x, y = heapq.heappop(pq)\n",
    "        if (x, y) == end:\n",
    "            return cost, distances\n",
    "        for dx, dy in directions:\n",
    "            nx, ny = x + dx, y + dy\n",
    "            if is_valid(nx, ny):\n",
    "                new_cost = cost + 1\n",
    "                if (nx, ny) not in distances or new_cost < distances[(nx, ny)]:\n",
    "                    distances[(nx, ny)] = new_cost\n",
    "                    heapq.heappush(pq, (new_cost, nx, ny))\n",
    "    return -1, -1"
   ]
  },
  {
   "cell_type": "code",
   "execution_count": 217,
   "metadata": {},
   "outputs": [
    {
     "data": {
      "text/plain": [
       "1454"
      ]
     },
     "execution_count": 217,
     "metadata": {},
     "output_type": "execute_result"
    }
   ],
   "source": [
    "result, distances = dijkstra(grid, start, end)\n",
    "marker = result\n",
    "counter = 0\n",
    "for i in range(len(grid)):\n",
    "    for j in range(len(grid[0])):\n",
    "        if (grid[(i, j)] == '#') and (0 < i < grid.shape[0]-1) and (0 < j < grid.shape[1]-1):\n",
    "            if (grid[(i + 1, j)] == '.' and grid[(i-1, j)] == '.') or (grid[(i, j + 1)] == '.' and grid[(i, j-1)] == '.'):\n",
    "                grid_new = grid.copy()\n",
    "                grid_new[(i, j)] = '.'\n",
    "                result, distances = dijkstra(grid_new, start, end)\n",
    "                if marker - result >= 100:\n",
    "                    counter += 1\n",
    "counter"
   ]
  },
  {
   "cell_type": "code",
   "execution_count": 219,
   "metadata": {},
   "outputs": [],
   "source": [
    "# Part 2\n",
    "# Find all points on track\n",
    "# Find all possible cheats that could save 100 =<, e.g. Step 1 to step 101, step 1 to 102\n",
    "# Check Euclidian distance and ignore \n",
    "# Make inverted map, # for start and finish, use # not .\n",
    "# Find length of path\n",
    "# If length of path 19, valid"
   ]
  },
  {
   "cell_type": "code",
   "execution_count": 247,
   "metadata": {},
   "outputs": [],
   "source": [
    "result, distances = dijkstra(grid, start, end)"
   ]
  },
  {
   "cell_type": "code",
   "execution_count": 252,
   "metadata": {},
   "outputs": [],
   "source": [
    "count = 0\n",
    "def find_valid_s(i, distances):\n",
    "    coord = list(distances.keys())[i]\n",
    "    valid_shorties = np.column_stack((\n",
    "                    # range(0, len(distances)),\n",
    "                    # np.array(list(distances.keys())),\n",
    "                    # np.repeat(i, len(distances)),\n",
    "                    # np.repeat((coord[0]), len(distances)),\n",
    "                    # np.repeat((coord[1]), len(distances)),\n",
    "                    range(0, len(distances)) - np.repeat(i, len(distances)),\n",
    "                    abs(np.array(list(distances.keys())) - coord).sum(axis=1)\n",
    "                    ))\n",
    "    return valid_shorties"
   ]
  },
  {
   "cell_type": "code",
   "execution_count": 253,
   "metadata": {},
   "outputs": [
    {
     "data": {
      "text/plain": [
       "997879"
      ]
     },
     "execution_count": 253,
     "metadata": {},
     "output_type": "execute_result"
    }
   ],
   "source": [
    "count = 0\n",
    "for i in range(0, len(distances)):\n",
    "    valid_shorties = find_valid_s(i, distances)\n",
    "    nums = len(valid_shorties[(valid_shorties[:, 1] <= 20) & ((valid_shorties[:, 0] + valid_shorties[:, 1]) <= -100)])\n",
    "    count += nums\n",
    "count"
   ]
  }
 ],
 "metadata": {
  "kernelspec": {
   "display_name": "base",
   "language": "python",
   "name": "python3"
  },
  "language_info": {
   "codemirror_mode": {
    "name": "ipython",
    "version": 3
   },
   "file_extension": ".py",
   "mimetype": "text/x-python",
   "name": "python",
   "nbconvert_exporter": "python",
   "pygments_lexer": "ipython3",
   "version": "3.11.7"
  }
 },
 "nbformat": 4,
 "nbformat_minor": 2
}

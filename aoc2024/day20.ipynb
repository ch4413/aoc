{
 "cells": [
  {
   "cell_type": "code",
   "execution_count": 1,
   "metadata": {},
   "outputs": [],
   "source": [
    "import numpy as np\n",
    "import heapq\n",
    "from collections import Counter"
   ]
  },
  {
   "cell_type": "code",
   "execution_count": 2,
   "metadata": {},
   "outputs": [],
   "source": [
    "with open('input20.txt', \"r\") as file:\n",
    "        text = file.read().strip().split('\\n')"
   ]
  },
  {
   "cell_type": "code",
   "execution_count": 3,
   "metadata": {},
   "outputs": [],
   "source": [
    "# text = '''###############\n",
    "# #...#...#.....#\n",
    "# #.#.#.#.#.###.#\n",
    "# #S#...#.#.#...#\n",
    "# #######.#.#.###\n",
    "# #######.#.#...#\n",
    "# #######.#.###.#\n",
    "# ###..E#...#...#\n",
    "# ###.#######.###\n",
    "# #...###...#...#\n",
    "# #.#####.#.###.#\n",
    "# #.#...#.#.#...#\n",
    "# #.#.#.#.#.#.###\n",
    "# #...#...#...###\n",
    "# ###############'''.strip().split('\\n')"
   ]
  },
  {
   "cell_type": "code",
   "execution_count": 29,
   "metadata": {},
   "outputs": [],
   "source": [
    "grid = np.array([list(x) for x in text])\n",
    "x, y = np.where(grid == 'S')\n",
    "start = x[0], y[0]\n",
    "grid[start] = '.'\n",
    "x, y  = np.where(grid == 'E')\n",
    "end = x[0], y[0]\n",
    "grid[end] = '.'"
   ]
  },
  {
   "cell_type": "code",
   "execution_count": 30,
   "metadata": {},
   "outputs": [],
   "source": [
    "def dijkstra(maze, start, end):\n",
    "    rows, cols = len(maze), len(maze[0])\n",
    "    directions = [(0, 1), (1, 0), (0, -1), (-1, 0)]\n",
    "\n",
    "    def is_valid(x, y):\n",
    "        return 0 <= x < rows and 0 <= y < cols and maze[x][y] == '.'\n",
    "\n",
    "    pq = [(0, start[0], start[1])]\n",
    "    distances = {(start[0], start[1]): 0}\n",
    "\n",
    "    while pq:\n",
    "        cost, x, y = heapq.heappop(pq)\n",
    "        if (x, y) == end:\n",
    "            return cost, distances\n",
    "        for dx, dy in directions:\n",
    "            nx, ny = x + dx, y + dy\n",
    "            if is_valid(nx, ny):\n",
    "                new_cost = cost + 1\n",
    "                if (nx, ny) not in distances or new_cost < distances[(nx, ny)]:\n",
    "                    distances[(nx, ny)] = new_cost\n",
    "                    heapq.heappush(pq, (new_cost, nx, ny))\n",
    "    return -1, -1"
   ]
  },
  {
   "cell_type": "code",
   "execution_count": null,
   "metadata": {},
   "outputs": [],
   "source": [
    "result, distances = dijkstra(grid, start, end)\n",
    "marker = result\n",
    "counter = 0\n",
    "for i in range(len(grid)):\n",
    "    for j in range(len(grid[0])):\n",
    "        if (grid[(i, j)] == '#') and (0 < i < 140) and (0 < j < 140):\n",
    "            if (grid[(i + 1, j)] == '.' and grid[(i-1, j)] == '.') or (grid[(i, j + 1)] == '.' and grid[(i, j-1)] == '.'):\n",
    "                grid_new = grid.copy()\n",
    "                grid_new[(i, j)] = '.'\n",
    "                result, distances = dijkstra(grid_new, start, end)\n",
    "                if marker - result >= 100:\n",
    "                    counter += 1\n",
    "counter"
   ]
  }
 ],
 "metadata": {
  "kernelspec": {
   "display_name": "base",
   "language": "python",
   "name": "python3"
  },
  "language_info": {
   "codemirror_mode": {
    "name": "ipython",
    "version": 3
   },
   "file_extension": ".py",
   "mimetype": "text/x-python",
   "name": "python",
   "nbconvert_exporter": "python",
   "pygments_lexer": "ipython3",
   "version": "3.11.7"
  }
 },
 "nbformat": 4,
 "nbformat_minor": 2
}

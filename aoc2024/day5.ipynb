{
 "cells": [
  {
   "cell_type": "code",
   "execution_count": 1,
   "metadata": {},
   "outputs": [],
   "source": [
    "import numpy as np"
   ]
  },
  {
   "cell_type": "code",
   "execution_count": 105,
   "metadata": {},
   "outputs": [],
   "source": [
    "with open('input6.txt', \"r\") as file:\n",
    "        text = np.array([list(x) for x in file.read().strip().split('\\n')])\n",
    "\n",
    "text = np.array([list(x) for x in '''....#.....\n",
    ".........#\n",
    "..........\n",
    "..#.......\n",
    ".......#..\n",
    "..........\n",
    ".#..^.....\n",
    "........#.\n",
    "#.........\n",
    "......#...'''.strip().split('\\n')])"
   ]
  },
  {
   "cell_type": "code",
   "execution_count": null,
   "metadata": {},
   "outputs": [
    {
     "name": "stdout",
     "output_type": "stream",
     "text": [
      "(1, 4) (1, 5) (2, 4)\n",
      "(1, 8) (2, 8) (1, 7)\n",
      "(6, 8) (6, 7) (5, 8)\n",
      "(6, 4) (6, 3) (5, 4)\n",
      "(6, 2) (5, 2) (6, 3)\n",
      "(4, 2) (4, 3) (5, 2)\n",
      "(4, 4) (4, 5) (5, 4)\n",
      "(4, 6) (5, 6) (4, 5)\n",
      "(6, 6) (7, 6) (6, 5)\n",
      "(8, 6) (8, 5) (7, 6)\n",
      "(8, 1) (7, 1) (8, 2)\n",
      "(7, 1) (7, 2) (8, 1)\n",
      "(7, 2) (7, 3) (8, 2)\n",
      "(7, 3) (7, 4) (8, 3)\n",
      "(7, 4) (7, 5) (8, 4)\n",
      "(7, 5) (7, 6) (8, 5)\n",
      "(7, 6) (7, 7) (8, 6)\n",
      "(7, 7) (8, 7) (7, 6)\n",
      "(8, 7) (9, 7) (8, 6)\n"
     ]
    },
    {
     "data": {
      "text/plain": [
       "41"
      ]
     },
     "execution_count": 111,
     "metadata": {},
     "output_type": "execute_result"
    }
   ],
   "source": [
    "current_step = np.where(text == '^')[0][0], np.where(text == '^')[1][0] #np.where(text == '^')\n",
    "dir = 'up'\n",
    "step = (-1, 0)\n",
    "visited = [current_step]\n",
    "cont = True\n",
    "obs = []\n",
    "while cont:\n",
    "# turn logic\n",
    "    next_step = current_step[0] + step[0], current_step[1] + step[1]\n",
    "    cont = (0 <= next_step[0] < text.shape[0]) & (0 <= next_step[1] < text.shape[1])\n",
    "    # look - not enough\n",
    "    if (dir == 'up' ):\n",
    "        look_step = current_step[0] + 0, current_step[1] + 1\n",
    "    elif (dir == 'right' ):\n",
    "        look_step = current_step[0] + 1, current_step[1] + 0\n",
    "    elif (dir == 'down' ):\n",
    "        look_step = current_step[0] + 0, current_step[1] -1\n",
    "    elif (dir == 'left' ):\n",
    "        look_step = current_step[0] - 1, current_step[1] + 0\n",
    "    if look_step in visited:\n",
    "        print(current_step, next_step, look_step)\n",
    "        obs.append(next_step)\n",
    "        \n",
    "    if cont:    \n",
    "        if (dir == 'up' ) and (text[next_step] == '#'):\n",
    "            dir = 'right'\n",
    "            step = (0, 1)\n",
    "        elif (dir == 'right' ) and (text[next_step] == '#'):\n",
    "            dir = 'down'\n",
    "            step = (1, 0)\n",
    "        elif (dir == 'down' ) and (text[next_step] == '#'):\n",
    "            dir = 'left'\n",
    "            step = (0, -1)\n",
    "        elif (dir == 'left' ) and (text[next_step] == '#'):\n",
    "            dir = 'up'\n",
    "            step = (-1, 0)\n",
    "        else:\n",
    "            current_step = next_step\n",
    "            visited.append(current_step)\n",
    "len(set(visited))"
   ]
  },
  {
   "cell_type": "code",
   "execution_count": 113,
   "metadata": {},
   "outputs": [],
   "source": [
    "# Part 2\n",
    "# Turning right, the path has been walked on and there is an obstacle"
   ]
  },
  {
   "cell_type": "code",
   "execution_count": null,
   "metadata": {},
   "outputs": [],
   "source": []
  }
 ],
 "metadata": {
  "kernelspec": {
   "display_name": "base",
   "language": "python",
   "name": "python3"
  },
  "language_info": {
   "codemirror_mode": {
    "name": "ipython",
    "version": 3
   },
   "file_extension": ".py",
   "mimetype": "text/x-python",
   "name": "python",
   "nbconvert_exporter": "python",
   "pygments_lexer": "ipython3",
   "version": "3.11.7"
  }
 },
 "nbformat": 4,
 "nbformat_minor": 2
}

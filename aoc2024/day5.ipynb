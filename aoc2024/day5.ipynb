{
 "cells": [
  {
   "cell_type": "code",
   "execution_count": 3,
   "metadata": {},
   "outputs": [],
   "source": [
    "from collections import defaultdict, deque"
   ]
  },
  {
   "cell_type": "code",
   "execution_count": 4,
   "metadata": {},
   "outputs": [],
   "source": [
    "with open('input5.txt', \"r\") as file:\n",
    "        text = file.read().strip().split('\\n')\n",
    "ind = text.index('')\n",
    "rules = text[:ind]\n",
    "rules = [list(map(int, x.split('|'))) for x in rules]\n",
    "data = text[ind+1:]\n",
    "data = [list(map(int, x.split(','))) for x in data]"
   ]
  },
  {
   "cell_type": "code",
   "execution_count": 11,
   "metadata": {},
   "outputs": [
    {
     "name": "stdout",
     "output_type": "stream",
     "text": [
      "4569 6456\n"
     ]
    }
   ],
   "source": [
    "def sort_with_rules(unordered_list, rules):\n",
    "    # Create a graph from the rules\n",
    "    graph = defaultdict(list)\n",
    "    in_degree = {item: 0 for item in unordered_list}\n",
    "\n",
    "    # Build the graph and calculate in-degrees\n",
    "    for rule in rules:\n",
    "        before, after = rule\n",
    "        if (before in unordered_list) & (after in unordered_list):\n",
    "            \n",
    "            graph[before].append(after)\n",
    "            in_degree[after] += 1\n",
    "    sorted_list = sorted(in_degree, key=in_degree.get)\n",
    "    # # Initialize a queue with nodes that have no incoming edges\n",
    "    # queue = deque([item for item in unordered_list if in_degree[item] == 0])\n",
    "    # sorted_list = []\n",
    "\n",
    "    # while queue:\n",
    "    #     current = queue.popleft()\n",
    "    #     sorted_list.append(current)\n",
    "    #     for neighbor in graph[current]:\n",
    "    #         in_degree[neighbor] -= 1\n",
    "    #         if in_degree[neighbor] == 0:\n",
    "    #             queue.append(neighbor)\n",
    "    sorted_list = sorted(in_degree, key=in_degree.get)\n",
    "    # Check if sorting was successful\n",
    "    if len(sorted_list) != len(unordered_list):\n",
    "        raise ValueError(\"The rules contain a cycle or are incomplete!\")\n",
    "\n",
    "    return sorted_list\n",
    "\n",
    "# Sort the unordered list based on the rules\n",
    "tot = 0\n",
    "tot2 = 0\n",
    "for i in data:\n",
    "    sorted_list = sort_with_rules(i, rules)\n",
    "    if sorted_list == i:\n",
    "        tot += sorted_list[int(len(sorted_list) / 2)]\n",
    "    else:        \n",
    "        tot2 += sorted_list[int(len(sorted_list) / 2)]\n",
    "print(tot, tot2)"
   ]
  },
  {
   "cell_type": "code",
   "execution_count": 10,
   "metadata": {},
   "outputs": [
    {
     "data": {
      "text/plain": [
       "(4569, 6456)"
      ]
     },
     "execution_count": 10,
     "metadata": {},
     "output_type": "execute_result"
    }
   ],
   "source": [
    "tot = 0\n",
    "tot2 = 0\n",
    "ordered = []\n",
    "for line in data:\n",
    "    logic = []\n",
    "    for i in rules:\n",
    "        if (i[0] in line) & (i[1] in line):\n",
    "            logic.append(line.index(i[0]) < line.index(i[1]))\n",
    "    if all(logic):\n",
    "        tot += line[int(len(line) / 2)]\n",
    "        ordered.append(line)\n",
    "    else:\n",
    "        graph = defaultdict(list)\n",
    "        in_degree = {item: 0 for item in line}\n",
    "\n",
    "    # Build the graph and calculate in-degrees\n",
    "        for rule in rules:\n",
    "            before, after = rule\n",
    "            if (before in line) & (after in line):\n",
    "                graph[before].append(after)\n",
    "                in_degree[after] += 1\n",
    "        sorted_list = sorted(in_degree, key=in_degree.get)\n",
    "        tot2 += sorted_list[int(len(sorted_list) / 2)]\n",
    "\n",
    "tot, tot2"
   ]
  }
 ],
 "metadata": {
  "kernelspec": {
   "display_name": "base",
   "language": "python",
   "name": "python3"
  },
  "language_info": {
   "codemirror_mode": {
    "name": "ipython",
    "version": 3
   },
   "file_extension": ".py",
   "mimetype": "text/x-python",
   "name": "python",
   "nbconvert_exporter": "python",
   "pygments_lexer": "ipython3",
   "version": "3.11.7"
  }
 },
 "nbformat": 4,
 "nbformat_minor": 2
}

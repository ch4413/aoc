{
 "cells": [
  {
   "cell_type": "code",
   "execution_count": 2,
   "metadata": {},
   "outputs": [],
   "source": [
    "import numpy as np"
   ]
  },
  {
   "cell_type": "code",
   "execution_count": 45,
   "metadata": {},
   "outputs": [],
   "source": [
    "with open('input6.txt', \"r\") as file:\n",
    "        text = np.array([list(x) for x in file.read().strip().split('\\n')])\n",
    "\n",
    "text = np.array([list(x) for x in '''....#.....\n",
    ".........#\n",
    "..........\n",
    "..#.......\n",
    ".......#..\n",
    "..........\n",
    ".#..^.....\n",
    "........#.\n",
    "#.........\n",
    "......#...'''.strip().split('\\n')])"
   ]
  },
  {
   "cell_type": "code",
   "execution_count": 53,
   "metadata": {},
   "outputs": [
    {
     "data": {
      "text/plain": [
       "41"
      ]
     },
     "execution_count": 53,
     "metadata": {},
     "output_type": "execute_result"
    }
   ],
   "source": [
    "current_step = np.where(text == '^')[0][0], np.where(text == '^')[1][0] #np.where(text == '^')\n",
    "dir = 'up'\n",
    "step = (-1, 0)\n",
    "visited = [(current_step, step)]\n",
    "cont = True\n",
    "obs = []\n",
    "while cont:\n",
    "# turn logic\n",
    "    next_step = current_step[0] + step[0], current_step[1] + step[1]\n",
    "    cont = (0 <= next_step[0] < text.shape[0]) & (0 <= next_step[1] < text.shape[1])\n",
    "    # look with direction\n",
    "    \n",
    "    if cont:    \n",
    "        if (dir == 'up' ) and (text[next_step] == '#'):\n",
    "            dir = 'right'\n",
    "            step = (0, 1)\n",
    "        elif (dir == 'right' ) and (text[next_step] == '#'):\n",
    "            dir = 'down'\n",
    "            step = (1, 0)\n",
    "        elif (dir == 'down' ) and (text[next_step] == '#'):\n",
    "            dir = 'left'\n",
    "            step = (0, -1)\n",
    "        elif (dir == 'left' ) and (text[next_step] == '#'):\n",
    "            dir = 'up'\n",
    "            step = (-1, 0)\n",
    "        else:\n",
    "            current_step = next_step\n",
    "            visited.append((current_step, step))\n",
    "len(set([x[0] for x in visited]))"
   ]
  },
  {
   "cell_type": "code",
   "execution_count": null,
   "metadata": {},
   "outputs": [],
   "source": []
  },
  {
   "cell_type": "code",
   "execution_count": null,
   "metadata": {},
   "outputs": [
    {
     "name": "stdout",
     "output_type": "stream",
     "text": [
      "(5, 4)\n",
      "(4, 4)\n",
      "(3, 4)\n",
      "(2, 4)\n",
      "(1, 4)\n",
      "(1, 5)\n",
      "(1, 6)\n",
      "(1, 7)\n",
      "(1, 8)\n",
      "(2, 8)\n",
      "(3, 8)\n",
      "(4, 8)\n",
      "(5, 8)\n",
      "(6, 8)\n",
      "(6, 7)\n",
      "(6, 6)\n",
      "(6, 5)\n",
      "(6, 4)\n",
      "Obstacle: (6, 3)\n",
      "(6, 3)\n",
      "(6, 2)\n",
      "(5, 2)\n",
      "(4, 2)\n",
      "(4, 3)\n",
      "(4, 4)\n",
      "(4, 5)\n",
      "(4, 6)\n",
      "(5, 6)\n",
      "(6, 6)\n",
      "Obstacle: (7, 6)\n",
      "(7, 6)\n",
      "(8, 6)\n",
      "(8, 5)\n",
      "(8, 4)\n",
      "(8, 3)\n",
      "(8, 2)\n",
      "(8, 1)\n",
      "(7, 1)\n",
      "(7, 2)\n",
      "(7, 3)\n",
      "(7, 4)\n",
      "(7, 5)\n",
      "(7, 6)\n",
      "Obstacle: (7, 7)\n",
      "(7, 7)\n",
      "(8, 7)\n",
      "(9, 7)\n"
     ]
    },
    {
     "data": {
      "text/plain": [
       "41"
      ]
     },
     "execution_count": 31,
     "metadata": {},
     "output_type": "execute_result"
    }
   ],
   "source": [
    "current_step = np.where(text == '^')[0][0], np.where(text == '^')[1][0]\n",
    "dir = 'up'\n",
    "step = (-1, 0)\n",
    "visited = [(current_step, step)]\n",
    "cont = True\n",
    "obs = []\n",
    "while cont:\n",
    "# turn logic\n",
    "    next_step = current_step[0] + step[0], current_step[1] + step[1]\n",
    "    cont = (0 <= next_step[0] < text.shape[0]) & (0 <= next_step[1] < text.shape[1])\n",
    "    # look with direction\n",
    "    if (dir == 'up' ):\n",
    "        look_dir = (0, 1)\n",
    "        look_step = current_step[0] + look_dir[0], current_step[1] + look_dir[1]\n",
    "    elif (dir == 'right' ):\n",
    "        look_dir = (1, 0)\n",
    "        look_step = current_step[0] + look_dir[0], current_step[1] + look_dir[1]\n",
    "    elif (dir == 'down' ):\n",
    "        look_dir = (0, -1)\n",
    "        look_step = current_step[0] + look_dir[0], current_step[1] + look_dir[1]\n",
    "    elif (dir == 'left' ):\n",
    "        look_dir = (-1, 0)\n",
    "        look_step = current_step[0] + look_dir[0], current_step[1] + look_dir[1]\n",
    "    #obs.append((look_step, look_dir))\n",
    "    if (look_step, look_dir) in visited:\n",
    "        print(\"Obstacle:\", next_step)\n",
    "        obs.append(next_step)\n",
    "    \n",
    "    if cont:    \n",
    "        if (dir == 'up' ) and (text[next_step] == '#'):\n",
    "            dir = 'right'\n",
    "            step = (0, 1)\n",
    "        elif (dir == 'right' ) and (text[next_step] == '#'):\n",
    "            dir = 'down'\n",
    "            step = (1, 0)\n",
    "        elif (dir == 'down' ) and (text[next_step] == '#'):\n",
    "            dir = 'left'\n",
    "            step = (0, -1)\n",
    "        elif (dir == 'left' ) and (text[next_step] == '#'):\n",
    "            dir = 'up'\n",
    "            step = (-1, 0)\n",
    "        else:\n",
    "            current_step = next_step\n",
    "            visited.append((current_step, step))\n",
    "            print(current_step)\n",
    "len(set([x[0] for x in visited]))"
   ]
  },
  {
   "cell_type": "code",
   "execution_count": 44,
   "metadata": {},
   "outputs": [
    {
     "data": {
      "text/plain": [
       "((9, 6), (1, 0), 3)"
      ]
     },
     "execution_count": 44,
     "metadata": {},
     "output_type": "execute_result"
    }
   ],
   "source": [
    "look_step, step, 3"
   ]
  }
 ],
 "metadata": {
  "kernelspec": {
   "display_name": "base",
   "language": "python",
   "name": "python3"
  },
  "language_info": {
   "codemirror_mode": {
    "name": "ipython",
    "version": 3
   },
   "file_extension": ".py",
   "mimetype": "text/x-python",
   "name": "python",
   "nbconvert_exporter": "python",
   "pygments_lexer": "ipython3",
   "version": "3.11.7"
  }
 },
 "nbformat": 4,
 "nbformat_minor": 2
}

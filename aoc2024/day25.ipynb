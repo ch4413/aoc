{
 "cells": [
  {
   "cell_type": "code",
   "execution_count": 24,
   "metadata": {},
   "outputs": [],
   "source": [
    "import numpy as np"
   ]
  },
  {
   "cell_type": "code",
   "execution_count": 25,
   "metadata": {},
   "outputs": [],
   "source": [
    "with open('input25.txt', \"r\") as file:\n",
    "        text = file.read().strip().replace('#', '1').replace('.', '0').split('\\n\\n')"
   ]
  },
  {
   "cell_type": "code",
   "execution_count": 26,
   "metadata": {},
   "outputs": [],
   "source": [
    "keys = []\n",
    "locks = []\n",
    "for i in text:\n",
    "    if i[:5] == '00000':\n",
    "        keys.append(i)\n",
    "    if i[:5] == '11111':\n",
    "        locks.append(i)\n",
    "        \n",
    "def convert_arrays(string):\n",
    "    return np.array([list(x) for x in string.split('\\n')])[1:6,].astype('int').sum(axis=0)\n",
    "\n",
    "keys = np.array([convert_arrays(x) for x in keys])\n",
    "locks = np.array([convert_arrays(x) for x in locks])"
   ]
  },
  {
   "cell_type": "code",
   "execution_count": 28,
   "metadata": {},
   "outputs": [
    {
     "data": {
      "text/plain": [
       "2835"
      ]
     },
     "execution_count": 28,
     "metadata": {},
     "output_type": "execute_result"
    }
   ],
   "source": [
    "count = 0\n",
    "for lock in locks:\n",
    "    for key in keys:\n",
    "        if (lock+key <= 5).all():\n",
    "            count += 1\n",
    "count"
   ]
  }
 ],
 "metadata": {
  "kernelspec": {
   "display_name": "base",
   "language": "python",
   "name": "python3"
  },
  "language_info": {
   "codemirror_mode": {
    "name": "ipython",
    "version": 3
   },
   "file_extension": ".py",
   "mimetype": "text/x-python",
   "name": "python",
   "nbconvert_exporter": "python",
   "pygments_lexer": "ipython3",
   "version": "3.11.7"
  }
 },
 "nbformat": 4,
 "nbformat_minor": 2
}

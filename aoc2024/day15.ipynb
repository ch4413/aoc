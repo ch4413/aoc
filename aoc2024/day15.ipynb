{
 "cells": [
  {
   "cell_type": "code",
   "execution_count": 100,
   "metadata": {},
   "outputs": [],
   "source": [
    "import numpy as np\n",
    "from collections import deque, defaultdict"
   ]
  },
  {
   "cell_type": "code",
   "execution_count": 59,
   "metadata": {},
   "outputs": [],
   "source": [
    "with open('input15.txt', \"r\") as file:\n",
    "        text, instrs = file.read().strip().split('\\n\\n')\n",
    "# D = '''########\n",
    "# #..O.O.#\n",
    "# ##@.O..#\n",
    "# #...O..#\n",
    "# #.#.O..#\n",
    "# #...O..#\n",
    "# #......#\n",
    "# ########\n",
    "\n",
    "# <^^>>>vv<v>>v<<'''.strip()"
   ]
  },
  {
   "cell_type": "code",
   "execution_count": 60,
   "metadata": {},
   "outputs": [],
   "source": [
    "grid = np.array([list(x) for x in text.split()])\n",
    "R = grid.shape[0]\n",
    "C = grid.shape[1]"
   ]
  },
  {
   "cell_type": "code",
   "execution_count": 67,
   "metadata": {},
   "outputs": [],
   "source": [
    "new_text = ''\n",
    "for i in text:\n",
    "    if i == '\\n':\n",
    "        x = i\n",
    "    elif i == '#':\n",
    "        x = '##'\n",
    "    elif i == 'O':\n",
    "        x = '[]'\n",
    "    elif i == '.':\n",
    "        x = '..'\n",
    "    elif i == '@':\n",
    "        x = '@.'\n",
    "    new_text += x"
   ]
  },
  {
   "cell_type": "code",
   "execution_count": 71,
   "metadata": {},
   "outputs": [],
   "source": [
    "grid_big = np.array([list(x) for x in new_text.split()])\n",
    "Rb = grid_big.shape[0]\n",
    "Cb = grid_big.shape[1]"
   ]
  },
  {
   "cell_type": "code",
   "execution_count": 61,
   "metadata": {},
   "outputs": [
    {
     "data": {
      "text/plain": [
       "(24, 24)"
      ]
     },
     "execution_count": 61,
     "metadata": {},
     "output_type": "execute_result"
    }
   ],
   "source": [
    "sr, sc = np.where(grid == '@')\n",
    "grid[grid == '@'] = '.'\n",
    "sr[0], sc[0]"
   ]
  },
  {
   "cell_type": "code",
   "execution_count": 62,
   "metadata": {},
   "outputs": [],
   "source": [
    "instrs = instrs.replace('\\n', '')"
   ]
  },
  {
   "cell_type": "code",
   "execution_count": 63,
   "metadata": {},
   "outputs": [],
   "source": [
    "r, c = sr, sc\n",
    "for inst in instrs:\n",
    "    dr, dc = {'^': (-1, 0), '>': (0, 1), 'v': (1, 0), '<': (0, -1)}[inst]\n",
    "    # New coords\n",
    "    rr, cc = r+dr, c+dc\n",
    "\n",
    "    if grid[rr, cc] == '#':\n",
    "        # ignore\n",
    "        continue\n",
    "    elif grid[rr, cc] == '.':\n",
    "        # if empty, new coord\n",
    "        r, c == rr, cc\n",
    "    elif grid[rr, cc] == 'O':\n",
    "        while grid[rr, cc] == 'O':\n",
    "            rr = rr+dr\n",
    "            cc = cc+dc\n",
    "        if grid[rr, cc] == '#':\n",
    "            continue\n",
    "        elif grid[rr, cc] == '.':\n",
    "            while (rr, cc) != (r, c):\n",
    "                grid[rr, cc] =  grid[rr-dr, cc-dc]\n",
    "                rr = rr - dr\n",
    "                cc = cc - dc\n",
    "    r = r+dr\n",
    "    c = c+dc"
   ]
  },
  {
   "cell_type": "code",
   "execution_count": 64,
   "metadata": {},
   "outputs": [
    {
     "data": {
      "text/plain": [
       "1563092"
      ]
     },
     "execution_count": 64,
     "metadata": {},
     "output_type": "execute_result"
    }
   ],
   "source": [
    "ans = 0\n",
    "for r in range(R):\n",
    "    for c in range(C):\n",
    "        if grid[r, c]=='O':\n",
    "            ans += 100*r+c\n",
    "ans"
   ]
  },
  {
   "cell_type": "code",
   "execution_count": 101,
   "metadata": {},
   "outputs": [],
   "source": [
    "with open('input15.txt', \"r\") as file:\n",
    "        text = file.read()\n",
    "grid, directions = text.split('\\n\\n')\n",
    "grid = [list(row) for row in grid.split('\\n')]\n",
    "m, n = len(grid), len(grid[0])\n",
    "for i in range(m):\n",
    "    for j in reversed(range(n)):\n",
    "        if grid[i][j] == '#':\n",
    "            grid[i].insert(j, '#')\n",
    "        if grid[i][j] == '.':\n",
    "            grid[i].insert(j, '.')\n",
    "        if grid[i][j] == '@':\n",
    "            robot = (i, j*2)\n",
    "            grid[i][j:j+1] = ['.', '.']\n",
    "        if grid[i][j] == 'O':\n",
    "            grid[i][j:j+1] = ['[', ']']"
   ]
  },
  {
   "cell_type": "code",
   "execution_count": 102,
   "metadata": {},
   "outputs": [],
   "source": [
    "for d in directions[:]:\n",
    "    i, j = robot\n",
    "    \n",
    "    if d == '<':\n",
    "        k = j-1\n",
    "        while grid[i][k] == ']':\n",
    "            k -= 2\n",
    "        if grid[i][k] == '.':\n",
    "            for l in range(k, j):\n",
    "                grid[i][l] = grid[i][l+1]\n",
    "            robot = (i, j-1)\n",
    "\n",
    "    elif d == '>':\n",
    "        k = j+1\n",
    "        while grid[i][k] == '[':\n",
    "            k += 2\n",
    "        if grid[i][k] == '.':\n",
    "            for l in reversed(range(j+1, k+1)):\n",
    "                grid[i][l] = grid[i][l-1]\n",
    "            robot = (i, j+1)\n",
    "\n",
    "    elif d == '^':\n",
    "        queue = {(i-1, j)}\n",
    "        rows = defaultdict(set)\n",
    "        while queue:\n",
    "            x, y = queue.pop()\n",
    "            match grid[x][y]:\n",
    "                case '#':\n",
    "                    break\n",
    "                case ']':\n",
    "                    rows[x] |= {y-1, y}\n",
    "                    queue |= {(x-1, y), (x-1, y-1)}\n",
    "                case '[':\n",
    "                    rows[x] |= {y, y+1}\n",
    "                    queue |= {(x-1, y), (x-1, y+1)}\n",
    "                case '.':\n",
    "                    rows[x].add(y)\n",
    "        else:\n",
    "            for x in sorted(rows):\n",
    "                for y in rows[x]:\n",
    "                    grid[x][y] = grid[x+1][y] if y in rows[x+1] else '.'\n",
    "            robot = (i-1, j)\n",
    "\n",
    "    elif d== 'v':\n",
    "        queue = {(i+1, j)}\n",
    "        rows = defaultdict(set)\n",
    "        while queue:\n",
    "            x, y = queue.pop()\n",
    "            match grid[x][y]:\n",
    "                case '#':\n",
    "                    break\n",
    "                case ']':\n",
    "                    rows[x] |= {y-1, y}\n",
    "                    queue |= {(x+1, y), (x+1, y-1)}\n",
    "                case '[':\n",
    "                    rows[x] |= {y, y+1}\n",
    "                    queue |= {(x+1, y), (x+1, y+1)}\n",
    "                case '.':\n",
    "                    rows[x].add(y)\n",
    "        else:\n",
    "            for x in sorted(rows, reverse=True):\n",
    "                for y in rows[x]:\n",
    "                    grid[x][y] = grid[x-1][y] if y in rows[x-1] else '.'\n",
    "            robot = (i+1, j)"
   ]
  },
  {
   "cell_type": "code",
   "execution_count": 104,
   "metadata": {},
   "outputs": [
    {
     "data": {
      "text/plain": [
       "1582688"
      ]
     },
     "execution_count": 104,
     "metadata": {},
     "output_type": "execute_result"
    }
   ],
   "source": [
    "tot = 0\n",
    "for i in range(m):\n",
    "    for j in range(n*2):\n",
    "        if grid[i][j] == '[':\n",
    "            tot += 100*i + j\n",
    "tot"
   ]
  }
 ],
 "metadata": {
  "kernelspec": {
   "display_name": "base",
   "language": "python",
   "name": "python3"
  },
  "language_info": {
   "codemirror_mode": {
    "name": "ipython",
    "version": 3
   },
   "file_extension": ".py",
   "mimetype": "text/x-python",
   "name": "python",
   "nbconvert_exporter": "python",
   "pygments_lexer": "ipython3",
   "version": "3.11.7"
  }
 },
 "nbformat": 4,
 "nbformat_minor": 2
}

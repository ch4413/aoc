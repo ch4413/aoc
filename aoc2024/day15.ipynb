{
 "cells": [
  {
   "cell_type": "code",
   "execution_count": 186,
   "metadata": {},
   "outputs": [],
   "source": [
    "with open('input15.txt', \"r\") as file:\n",
    "        G, instrs = file.read().strip().split('\\n\\n')\n",
    "# D = '''########\n",
    "# #..O.O.#\n",
    "# ##@.O..#\n",
    "# #...O..#\n",
    "# #.#.O..#\n",
    "# #...O..#\n",
    "# #......#\n",
    "# ########\n",
    "\n",
    "# <^^>>>vv<v>>v<<'''.strip()"
   ]
  },
  {
   "cell_type": "code",
   "execution_count": 187,
   "metadata": {},
   "outputs": [],
   "source": [
    "#D = open('input15.txt', 'r').read().strip()\n",
    "#G, instrs = D.split('\\n\\n')\n",
    "G = G.split('\\n')\n",
    "R= len(G)\n",
    "C = len(G[0])\n",
    "G = [[G[r][c] for c in range(C)] for r in range(R)]"
   ]
  },
  {
   "cell_type": "code",
   "execution_count": 188,
   "metadata": {},
   "outputs": [],
   "source": [
    "for r in range(R):\n",
    "    for c in range(C):\n",
    "        if G[r][c] == '@':\n",
    "            sr, sc, = r, c\n",
    "            G[r][c] = '.'"
   ]
  },
  {
   "cell_type": "code",
   "execution_count": 189,
   "metadata": {},
   "outputs": [],
   "source": [
    "r, c = sr, sc\n",
    "for inst in instrs:\n",
    "    if inst == '\\n':\n",
    "        continue\n",
    "    #print(r, c, inst)\n",
    "    dr, dc = {'^': (-1, 0), '>': (0, 1), 'v': (1, 0), '<': (0, -1)}[inst]\n",
    "\n",
    "    rr, cc = r+dr, c+dc\n",
    "    if G[rr][cc] == '#':\n",
    "        continue\n",
    "    elif G[rr][cc] == '.':\n",
    "        r, c == rr, cc\n",
    "    elif G[rr][cc] == 'O':\n",
    "        while G[rr][cc] == 'O':\n",
    "            rr = rr+dr\n",
    "            cc = cc+dc\n",
    "        if G[rr][cc] == '#':\n",
    "            continue\n",
    "        elif G[rr][cc] == '.':\n",
    "            while (rr, cc) != (r, c): # and cc != c:\n",
    "                G[rr][cc] = G[rr-dr][cc-dc]\n",
    "                rr = rr - dr\n",
    "                cc = cc - dc\n",
    "    r = r+dr\n",
    "    c = c+dc"
   ]
  },
  {
   "cell_type": "code",
   "execution_count": 190,
   "metadata": {},
   "outputs": [
    {
     "data": {
      "text/plain": [
       "1563092"
      ]
     },
     "execution_count": 190,
     "metadata": {},
     "output_type": "execute_result"
    }
   ],
   "source": [
    "ans = 0\n",
    "for r in range(R):\n",
    "    for c in range(C):\n",
    "        if G[r][c]=='O':\n",
    "            ans += 100*r+c\n",
    "ans"
   ]
  },
  {
   "cell_type": "code",
   "execution_count": null,
   "metadata": {},
   "outputs": [],
   "source": []
  }
 ],
 "metadata": {
  "kernelspec": {
   "display_name": "base",
   "language": "python",
   "name": "python3"
  },
  "language_info": {
   "codemirror_mode": {
    "name": "ipython",
    "version": 3
   },
   "file_extension": ".py",
   "mimetype": "text/x-python",
   "name": "python",
   "nbconvert_exporter": "python",
   "pygments_lexer": "ipython3",
   "version": "3.11.7"
  }
 },
 "nbformat": 4,
 "nbformat_minor": 2
}

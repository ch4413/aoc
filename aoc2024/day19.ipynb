{
 "cells": [
  {
   "cell_type": "code",
   "execution_count": 2,
   "metadata": {},
   "outputs": [],
   "source": [
    "from itertools import product\n",
    "from collections import Counter"
   ]
  },
  {
   "cell_type": "code",
   "execution_count": 3,
   "metadata": {},
   "outputs": [],
   "source": [
    "with open('input19.txt', \"r\") as file:\n",
    "        text = file.read().strip().split('\\n')\n",
    "patterns = 'r, wr, b, g, bwu, rb, gb, br'.split(', ')\n",
    "designs = '''brwrr\n",
    "bggr\n",
    "gbbr\n",
    "rrbgbr\n",
    "ubwu\n",
    "bwurrg\n",
    "brgr\n",
    "bbrgwb'''.split('\\n')\n",
    "patterns = text[0].split(', ')\n",
    "designs = text[2:]"
   ]
  },
  {
   "cell_type": "code",
   "execution_count": 4,
   "metadata": {},
   "outputs": [
    {
     "data": {
      "text/plain": [
       "242"
      ]
     },
     "execution_count": 4,
     "metadata": {},
     "output_type": "execute_result"
    }
   ],
   "source": [
    "count = 0\n",
    "no_match = True\n",
    "\n",
    "for design in designs:\n",
    "    no_match = True\n",
    "    options = []\n",
    "    for x in patterns:\n",
    "        if x in design:\n",
    "            options.append(x)\n",
    "    design_options = options\n",
    "\n",
    "    while no_match:\n",
    "        new_design_options = [''.join(x) for x in list(product(design_options, options))]\n",
    "        design_options = []\n",
    "        for x in new_design_options:\n",
    "            if x == design[:len(x)]:\n",
    "                design_options.append(x)\n",
    "            if x == design:\n",
    "                count += 1\n",
    "                no_match = False\n",
    "                break\n",
    "        if design_options == []:\n",
    "            no_match = False\n",
    "        design_options = list(set(design_options))\n",
    "count"
   ]
  },
  {
   "cell_type": "code",
   "execution_count": 8,
   "metadata": {},
   "outputs": [
    {
     "data": {
      "text/plain": [
       "595975512785325"
      ]
     },
     "execution_count": 8,
     "metadata": {},
     "output_type": "execute_result"
    }
   ],
   "source": [
    "# patterns = 'r, wr, b, g, bwu, rb, gb, br'.split(', ')\n",
    "# designs = '''brwrr\n",
    "# bggr\n",
    "# gbbr\n",
    "# rrbgbr\n",
    "# ubwu\n",
    "# bwurrg\n",
    "# brgr\n",
    "# bbrgwb'''.split('\\n')\n",
    "patterns = text[0].split(', ')\n",
    "designs = text[2:]\n",
    "\n",
    "count = 0\n",
    "for design in designs:\n",
    "    no_match = True\n",
    "    options = [x for x in patterns if x in design]\n",
    "    design_options = options\n",
    "\n",
    "    design_counter = Counter(design_options)\n",
    "    while no_match:\n",
    "        new_design_counter = Counter()\n",
    "        for i, value in design_counter.items():\n",
    "            for j in options:\n",
    "                new_design_counter[i + j] += value\n",
    "        for x in new_design_counter.keys():\n",
    "            if x == design[:len(x)]:\n",
    "                if x == design:\n",
    "                    count += new_design_counter[x]\n",
    "            else:\n",
    "                new_design_counter[x] = 0\n",
    "            \n",
    "            if new_design_counter == Counter():\n",
    "                no_match = False\n",
    "\n",
    "        design_counter = Counter({k: v for k, v in new_design_counter.items() if v > 0})\n",
    "count"
   ]
  }
 ],
 "metadata": {
  "kernelspec": {
   "display_name": "base",
   "language": "python",
   "name": "python3"
  },
  "language_info": {
   "codemirror_mode": {
    "name": "ipython",
    "version": 3
   },
   "file_extension": ".py",
   "mimetype": "text/x-python",
   "name": "python",
   "nbconvert_exporter": "python",
   "pygments_lexer": "ipython3",
   "version": "3.11.7"
  }
 },
 "nbformat": 4,
 "nbformat_minor": 2
}

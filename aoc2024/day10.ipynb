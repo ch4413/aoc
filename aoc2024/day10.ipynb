{
 "cells": [
  {
   "cell_type": "code",
   "execution_count": 5,
   "metadata": {},
   "outputs": [],
   "source": [
    "from collections import defaultdict, Counter, deque\n",
    "import numpy as np"
   ]
  },
  {
   "cell_type": "code",
   "execution_count": 17,
   "metadata": {},
   "outputs": [],
   "source": [
    "with open('input10.txt', \"r\") as file:\n",
    "        text = file.read().strip().split('\\n')\n",
    "aa = np.array([list(x) for x in text]).astype(int)\n"
   ]
  },
  {
   "cell_type": "code",
   "execution_count": 7,
   "metadata": {},
   "outputs": [],
   "source": [
    "aa = np.array([list(x) for x in '''89010123\n",
    "78121874\n",
    "87430965\n",
    "96549874\n",
    "45678903\n",
    "32019012\n",
    "01329801\n",
    "10456732'''.strip().split('\\n')]).astype(int)"
   ]
  },
  {
   "cell_type": "code",
   "execution_count": 23,
   "metadata": {},
   "outputs": [
    {
     "data": {
      "text/plain": [
       "1366"
      ]
     },
     "execution_count": 23,
     "metadata": {},
     "output_type": "execute_result"
    }
   ],
   "source": [
    "def count_paths(i, j, aa):\n",
    "    global count\n",
    "    if aa[i, j] == 9:\n",
    "        count += 1\n",
    "        return 1\n",
    "    for x, y in ((i - 1, j), (i + 1, j), (i, j - 1), (i, j + 1)):\n",
    "        if 0 <= x < aa.shape[0] and 0 <= y < aa.shape[0]:\n",
    "            if aa[i, j] + 1 == aa[x, y]:\n",
    "                count_paths(x, y, aa)\n",
    "count = 0\n",
    "for i in range(len(aa)):\n",
    "    for j in range(len(aa[0])):\n",
    "        if aa[i, j] == 0:\n",
    "            a = (count_paths(i, j, aa))\n",
    "count"
   ]
  },
  {
   "cell_type": "code",
   "execution_count": 24,
   "metadata": {},
   "outputs": [
    {
     "name": "stdout",
     "output_type": "stream",
     "text": [
      "Part 1: 644\n",
      "Part 2: 1366\n"
     ]
    }
   ],
   "source": [
    "def load_map_with_padding(filename):\n",
    "    topo_map, trailheads = [], []\n",
    "\n",
    "    with open(filename, \"rt\") as fin:\n",
    "        for row, line in enumerate(fin):\n",
    "            topo_map.append(list(map(int, line.strip())))\n",
    "            trailheads.extend((row, col) for col, height in enumerate(topo_map[-1]) if height == 0)\n",
    "            topo_map[-1].append(0)  # padding to not care about indexing\n",
    "        topo_map.append([0] * len(topo_map[0]))  # more padding\n",
    "\n",
    "    return topo_map, trailheads\n",
    "\n",
    "\n",
    "def dfs(topo_map, start):\n",
    "    queue = [start]\n",
    "    reachable_9s = []\n",
    "\n",
    "    while queue:\n",
    "        row, col = queue.pop()\n",
    "        if topo_map[row][col] == 9:\n",
    "            reachable_9s.append((row, col))\n",
    "\n",
    "        # check up\n",
    "        if topo_map[row - 1][col] == topo_map[row][col] + 1:\n",
    "            queue.append((row - 1, col))\n",
    "        # check down\n",
    "        if topo_map[row + 1][col] == topo_map[row][col] + 1:\n",
    "            queue.append((row + 1, col))\n",
    "        # check left\n",
    "        if topo_map[row][col - 1] == topo_map[row][col] + 1:\n",
    "            queue.append((row, col - 1))\n",
    "        # check right\n",
    "        if topo_map[row][col + 1] == topo_map[row][col] + 1:\n",
    "            queue.append((row, col + 1))\n",
    "\n",
    "    return len(set(reachable_9s)), len(reachable_9s)\n",
    "\n",
    "\n",
    "def main():\n",
    "    topo_map, trailheads = load_map_with_padding(\"input10.txt\")\n",
    "\n",
    "    sum_part1, sum_part2 = 0, 0\n",
    "    for h in trailheads:\n",
    "        v1, v2 = dfs(topo_map, h)\n",
    "        sum_part1 += v1\n",
    "        sum_part2 += v2\n",
    "\n",
    "    print(f\"Part 1: {sum_part1}\")\n",
    "    print(f\"Part 2: {sum_part2}\")\n",
    "\n",
    "\n",
    "if __name__ == \"__main__\":\n",
    "    main()"
   ]
  },
  {
   "cell_type": "code",
   "execution_count": null,
   "metadata": {},
   "outputs": [],
   "source": []
  }
 ],
 "metadata": {
  "kernelspec": {
   "display_name": "base",
   "language": "python",
   "name": "python3"
  },
  "language_info": {
   "codemirror_mode": {
    "name": "ipython",
    "version": 3
   },
   "file_extension": ".py",
   "mimetype": "text/x-python",
   "name": "python",
   "nbconvert_exporter": "python",
   "pygments_lexer": "ipython3",
   "version": "3.11.7"
  }
 },
 "nbformat": 4,
 "nbformat_minor": 2
}

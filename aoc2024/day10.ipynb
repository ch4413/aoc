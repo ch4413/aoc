{
 "cells": [
  {
   "cell_type": "code",
   "execution_count": 2,
   "metadata": {},
   "outputs": [],
   "source": [
    "import numpy as np"
   ]
  },
  {
   "cell_type": "code",
   "execution_count": 21,
   "metadata": {},
   "outputs": [],
   "source": [
    "with open('input10.txt', \"r\") as file:\n",
    "        text = file.read().strip().split('\\n')\n",
    "grid = np.array([list(x) for x in text]).astype(int)"
   ]
  },
  {
   "cell_type": "code",
   "execution_count": 24,
   "metadata": {},
   "outputs": [
    {
     "data": {
      "text/plain": [
       "(644, 1366)"
      ]
     },
     "execution_count": 24,
     "metadata": {},
     "output_type": "execute_result"
    }
   ],
   "source": [
    "def count_paths(i, j, grid):\n",
    "    queue = [(i, j)]\n",
    "    theads = []\n",
    "    while queue:\n",
    "        i, j = queue.pop()\n",
    "        if grid[i, j] == 9:\n",
    "            theads.append((i, j))\n",
    "        for x, y in ((i - 1, j), (i + 1, j), (i, j - 1), (i, j + 1)):\n",
    "            if 0 <= x < grid.shape[0] and 0 <= y < grid.shape[0]:\n",
    "                if grid[i, j] + 1 == grid[x, y]:\n",
    "                    queue.append((x, y))\n",
    "\n",
    "    return len(set(theads)), len(theads)\n",
    "\n",
    "count1 = 0\n",
    "count2 = 0\n",
    "for i in range(len(grid)):\n",
    "    for j in range(len(grid[0])):\n",
    "        if grid[i, j] == 0:\n",
    "            c1, c2 = count_paths(i, j, grid)\n",
    "            count1 += c1\n",
    "            count2 += c2\n",
    "count1, count2"
   ]
  }
 ],
 "metadata": {
  "kernelspec": {
   "display_name": "base",
   "language": "python",
   "name": "python3"
  },
  "language_info": {
   "codemirror_mode": {
    "name": "ipython",
    "version": 3
   },
   "file_extension": ".py",
   "mimetype": "text/x-python",
   "name": "python",
   "nbconvert_exporter": "python",
   "pygments_lexer": "ipython3",
   "version": "3.11.7"
  }
 },
 "nbformat": 4,
 "nbformat_minor": 2
}

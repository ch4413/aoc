{
 "cells": [
  {
   "cell_type": "code",
   "execution_count": 8,
   "metadata": {},
   "outputs": [],
   "source": [
    "import numpy as np\n",
    "from collections import Counter"
   ]
  },
  {
   "cell_type": "code",
   "execution_count": 9,
   "metadata": {},
   "outputs": [],
   "source": [
    "with open('input22.txt', \"r\") as file:\n",
    "        text = [int(x) for x in file.read().strip().split('\\n')]"
   ]
  },
  {
   "cell_type": "code",
   "execution_count": 10,
   "metadata": {},
   "outputs": [],
   "source": [
    "def secret_num(x):\n",
    "    y = x * 64\n",
    "    x = x ^ y\n",
    "    x = x % 16777216\n",
    "    \n",
    "    y = int(x / 32) # div 32, round down int\n",
    "    x = x ^ y\n",
    "    x = x % 16777216\n",
    "\n",
    "    y = 2048 * x\n",
    "    x = x ^ y\n",
    "    x = x % 16777216\n",
    "\n",
    "    return x\n",
    "\n",
    "def run_sn(x, m):\n",
    "    n = 1\n",
    "    while n <= m:\n",
    "        x = secret_num(x)\n",
    "        n += 1\n",
    "    return x\n",
    "\n",
    "def find_subarray(main_array, sub_array):\n",
    "    # Create a sliding window of sub_array's length\n",
    "    sub_len = len(sub_array)\n",
    "    for i in range(len(main_array) - sub_len + 1):\n",
    "        if np.array_equal(main_array[i:i + sub_len], sub_array):\n",
    "            return i\n",
    "    return -1  # Return -1 if sub_array is not found"
   ]
  },
  {
   "cell_type": "code",
   "execution_count": 11,
   "metadata": {},
   "outputs": [
    {
     "data": {
      "text/plain": [
       "37327623"
      ]
     },
     "execution_count": 11,
     "metadata": {},
     "output_type": "execute_result"
    }
   ],
   "source": [
    "values = [1, 10, 100, 2024]\n",
    "sum([run_sn(x, 2000) for x in values])"
   ]
  },
  {
   "cell_type": "code",
   "execution_count": 12,
   "metadata": {},
   "outputs": [
    {
     "data": {
      "text/plain": [
       "14119253575"
      ]
     },
     "execution_count": 12,
     "metadata": {},
     "output_type": "execute_result"
    }
   ],
   "source": [
    "sum([run_sn(x, 2000) for x in text])"
   ]
  },
  {
   "cell_type": "code",
   "execution_count": 13,
   "metadata": {},
   "outputs": [],
   "source": [
    "def run_sn(x, m):\n",
    "    n = 1\n",
    "#    nums = [int(str(x)[-1])]\n",
    "    nums = [x%10]\n",
    "    while n <= m:\n",
    "        x = (secret_num(x))\n",
    "#        nums.append(int(str(x)[-1]))\n",
    "        nums.append(x%10)\n",
    "        n += 1\n",
    "    return np.array(nums)"
   ]
  },
  {
   "cell_type": "code",
   "execution_count": 18,
   "metadata": {},
   "outputs": [],
   "source": [
    "# less than 2880, more than 1598 \n",
    "#text = [1, 2, 3, 2024]\n",
    "bans = np.array([run_sn(x, 2000) for x in text])\n",
    "diff_bans = np.diff(bans)\n",
    "list_of_counters = []\n",
    "for i in range(len(diff_bans)):\n",
    "    sub_count = Counter()\n",
    "    for j in range(0, len(bans[i]) - 4): \n",
    "        new_key = tuple(diff_bans[i][j:j+4])\n",
    "        if new_key not in sub_count.keys():\n",
    "            sub_count[new_key] = bans[i][j+4]\n",
    "        # else:\n",
    "        #     print(f'seen{new_key}')\n",
    "    list_of_counters.append(sub_count)\n",
    "tot_counters = sum(list_of_counters, Counter()) # Slow "
   ]
  },
  {
   "cell_type": "code",
   "execution_count": 141,
   "metadata": {},
   "outputs": [
    {
     "data": {
      "text/plain": [
       "1600"
      ]
     },
     "execution_count": 141,
     "metadata": {},
     "output_type": "execute_result"
    }
   ],
   "source": [
    "max(tot_counters.values())"
   ]
  },
  {
   "cell_type": "code",
   "execution_count": 121,
   "metadata": {},
   "outputs": [
    {
     "name": "stdout",
     "output_type": "stream",
     "text": [
      "14119253575 1600\n"
     ]
    }
   ],
   "source": [
    "# from collections import defaultdict\n",
    "# from itertools import pairwise\n",
    "\n",
    "\n",
    "# def f(s):\n",
    "#     s ^= s << 6 & 0xFFFFFF\n",
    "#     s ^= s >> 5 & 0xFFFFFF\n",
    "#     return s ^ s << 11 & 0xFFFFFF\n",
    "\n",
    "\n",
    "# ans1, ans2 = 0, defaultdict(int)\n",
    "\n",
    "# for s in map(int, open('input22.txt')):\n",
    "#     nums = [s] + [s := f(s) for _ in range(2000)]\n",
    "#     ans1 += nums[-1]\n",
    "\n",
    "#     diffs = [b%10-a%10 for a,b in pairwise(nums)]\n",
    "\n",
    "#     seen = set()\n",
    "#     for i in range(len(nums)-4):\n",
    "#         pat = tuple(diffs[i:i+4])\n",
    "#         if pat not in seen:\n",
    "#             ans2[pat] += nums[i+4] % 10\n",
    "#             seen.add(pat)\n",
    "\n",
    "# print(ans1, max(ans2.values()))"
   ]
  }
 ],
 "metadata": {
  "kernelspec": {
   "display_name": "base",
   "language": "python",
   "name": "python3"
  },
  "language_info": {
   "codemirror_mode": {
    "name": "ipython",
    "version": 3
   },
   "file_extension": ".py",
   "mimetype": "text/x-python",
   "name": "python",
   "nbconvert_exporter": "python",
   "pygments_lexer": "ipython3",
   "version": "3.11.7"
  }
 },
 "nbformat": 4,
 "nbformat_minor": 2
}

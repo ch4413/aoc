{
 "cells": [
  {
   "cell_type": "code",
   "execution_count": 134,
   "metadata": {},
   "outputs": [],
   "source": [
    "with open('input24.txt', \"r\") as file:\n",
    "        part1, part2 = file.read().strip().lower().replace('xor', '^').split('\\n\\n')"
   ]
  },
  {
   "cell_type": "code",
   "execution_count": 136,
   "metadata": {},
   "outputs": [
    {
     "name": "stdout",
     "output_type": "stream",
     "text": [
      "69201640933606\n"
     ]
    }
   ],
   "source": [
    "wires = {}\n",
    "operations = []\n",
    "highest_z = \"z00\"\n",
    "\n",
    "def process(op, op1, op2):\n",
    "    return eval(f'{op1} {op} {op2}')\n",
    "\n",
    "for i in part1.split('\\n'):\n",
    "    key, value = i.split(': ')\n",
    "    wires[key] = int(value)\n",
    "\n",
    "for line in part2.split('\\n'):\n",
    "        op1, op, op2, _, res = line.split(\" \")\n",
    "        operations.append((op1, op, op2, res))\n",
    "        if res[0] == \"z\" and int(res[1:]) > int(highest_z[1:]):\n",
    "            highest_z = res\n",
    "\n",
    "while len(operations):\n",
    "    op1, op, op2, res = operations.pop(0)\n",
    "    if op1 in wires and op2 in wires:\n",
    "        wires[res] = process(op, wires[op1], wires[op2])\n",
    "    else:\n",
    "        operations.append((op1, op, op2, res))\n",
    "\n",
    "bits = [str(wires[wire]) for wire in sorted(wires, reverse=True) if wire[0] == \"z\"]\n",
    "print(int(\"\".join(bits), 2))\n",
    "# outputs = sorted(outputs)\n",
    "# binary_str = ''.join(list(reversed([str(eval(x)) for x in outputs])))\n",
    "# integer_value = int(binary_str, 2)\n",
    "# integer_value"
   ]
  },
  {
   "cell_type": "code",
   "execution_count": 141,
   "metadata": {},
   "outputs": [
    {
     "name": "stdout",
     "output_type": "stream",
     "text": [
      "kfp,z00,z01,z02,z03,z04,z05,z06,z07,z08,z09,z10,z11,z12,z13,z14,z15,z16,z17,z18,z19,z20,z21,z22,z23,z24,z25,z26,z27,z28,z29,z30,z31,z32,z33,z34,z35,z36,z37,z38,z39,z40,z41,z42,z43,z44\n"
     ]
    }
   ],
   "source": [
    "for line in part2.split('\\n'):\n",
    "        op1, op, op2, _, res = line.split(\" \")\n",
    "        operations.append((op1, op, op2, res))\n",
    "        if res[0] == \"z\" and int(res[1:]) > int(highest_z[1:]):\n",
    "            highest_z = res\n",
    "\n",
    "wrong = set()\n",
    "for op1, op, op2, res in operations:\n",
    "    if res[0] == \"z\" and op != \"xor\" and res != highest_z:\n",
    "        wrong.add(res)\n",
    "    if (\n",
    "        op == \"xor\"\n",
    "        and res[0] not in [\"x\", \"y\", \"z\"]\n",
    "        and op1[0] not in [\"x\", \"y\", \"z\"]\n",
    "        and op2[0] not in [\"x\", \"y\", \"z\"]\n",
    "    ):\n",
    "        wrong.add(res)\n",
    "    if op == \"and\" and \"x00\" not in [op1, op2]:\n",
    "        for subop1, subop, subop2, subres in operations:\n",
    "            if (res == subop1 or res == subop2) and subop != \"or\":\n",
    "                wrong.add(res)\n",
    "    if op == \"xor\":\n",
    "        for subop1, subop, subop2, subres in operations:\n",
    "            if (res == subop1 or res == subop2) and subop == \"or\":\n",
    "                wrong.add(res)\n",
    "\n",
    "print(\",\".join(sorted(wrong)))"
   ]
  },
  {
   "cell_type": "code",
   "execution_count": 143,
   "metadata": {},
   "outputs": [
    {
     "name": "stdout",
     "output_type": "stream",
     "text": [
      "69201640933606\n",
      "dhq,hbs,jcp,kfp,pdg,z18,z22,z27\n"
     ]
    }
   ],
   "source": [
    "wires = {}\n",
    "operations = []\n",
    "\n",
    "def process(op, op1, op2):\n",
    "    if op == \"AND\":\n",
    "        return op1 & op2\n",
    "    elif op == \"OR\":\n",
    "        return op1 | op2\n",
    "    elif op == \"XOR\":\n",
    "        return op1 ^ op2\n",
    "\n",
    "highest_z = \"z00\"\n",
    "data = open(\"input24.txt\").read().split(\"\\n\")\n",
    "for line in data:\n",
    "    if \":\" in line:\n",
    "        wire, value = line.split(\": \")\n",
    "        wires[wire] = int(value)\n",
    "    elif \"->\" in line:\n",
    "        op1, op, op2, _, res = line.split(\" \")\n",
    "        operations.append((op1, op, op2, res))\n",
    "        if res[0] == \"z\" and int(res[1:]) > int(highest_z[1:]):\n",
    "            highest_z = res\n",
    "\n",
    "wrong = set()\n",
    "for op1, op, op2, res in operations:\n",
    "    if res[0] == \"z\" and op != \"XOR\" and res != highest_z:\n",
    "        wrong.add(res)\n",
    "    if (\n",
    "        op == \"XOR\"\n",
    "        and res[0] not in [\"x\", \"y\", \"z\"]\n",
    "        and op1[0] not in [\"x\", \"y\", \"z\"]\n",
    "        and op2[0] not in [\"x\", \"y\", \"z\"]\n",
    "    ):\n",
    "        wrong.add(res)\n",
    "    if op == \"AND\" and \"x00\" not in [op1, op2]:\n",
    "        for subop1, subop, subop2, subres in operations:\n",
    "            if (res == subop1 or res == subop2) and subop != \"OR\":\n",
    "                wrong.add(res)\n",
    "    if op == \"XOR\":\n",
    "        for subop1, subop, subop2, subres in operations:\n",
    "            if (res == subop1 or res == subop2) and subop == \"OR\":\n",
    "                wrong.add(res)\n",
    "\n",
    "while len(operations):\n",
    "    op1, op, op2, res = operations.pop(0)\n",
    "    if op1 in wires and op2 in wires:\n",
    "        wires[res] = process(op, wires[op1], wires[op2])\n",
    "    else:\n",
    "        operations.append((op1, op, op2, res))\n",
    "\n",
    "bits = [str(wires[wire]) for wire in sorted(wires, reverse=True) if wire[0] == \"z\"]\n",
    "print(int(\"\".join(bits), 2))\n",
    "print(\",\".join(sorted(wrong)))"
   ]
  },
  {
   "cell_type": "code",
   "execution_count": null,
   "metadata": {},
   "outputs": [],
   "source": []
  }
 ],
 "metadata": {
  "kernelspec": {
   "display_name": "base",
   "language": "python",
   "name": "python3"
  },
  "language_info": {
   "codemirror_mode": {
    "name": "ipython",
    "version": 3
   },
   "file_extension": ".py",
   "mimetype": "text/x-python",
   "name": "python",
   "nbconvert_exporter": "python",
   "pygments_lexer": "ipython3",
   "version": "3.11.7"
  }
 },
 "nbformat": 4,
 "nbformat_minor": 2
}

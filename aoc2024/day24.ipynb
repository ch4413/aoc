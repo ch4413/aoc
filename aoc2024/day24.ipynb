{
 "cells": [
  {
   "cell_type": "code",
   "execution_count": 258,
   "metadata": {},
   "outputs": [],
   "source": [
    "from itertools import combinations, permutations\n",
    "import networkx as nx"
   ]
  },
  {
   "cell_type": "code",
   "execution_count": 259,
   "metadata": {},
   "outputs": [],
   "source": [
    "with open('input23.txt', \"r\") as file:\n",
    "        text = [tuple(x.split('-')) for x in file.read().strip().split('\\n')]"
   ]
  },
  {
   "cell_type": "code",
   "execution_count": 260,
   "metadata": {},
   "outputs": [],
   "source": [
    "# text = [tuple(x.split('-')) for x in \"\"\"kh-tc\n",
    "# qp-kh\n",
    "# de-cg\n",
    "# ka-co\n",
    "# yn-aq\n",
    "# qp-ub\n",
    "# cg-tb\n",
    "# vc-aq\n",
    "# tb-ka\n",
    "# wh-tc\n",
    "# yn-cg\n",
    "# kh-ub\n",
    "# ta-co\n",
    "# de-co\n",
    "# tc-td\n",
    "# tb-wq\n",
    "# wh-td\n",
    "# ta-ka\n",
    "# td-qp\n",
    "# aq-cg\n",
    "# wq-ub\n",
    "# ub-vc\n",
    "# de-ta\n",
    "# wq-aq\n",
    "# wq-vc\n",
    "# wh-yn\n",
    "# ka-de\n",
    "# kh-ta\n",
    "# co-tc\n",
    "# wh-qp\n",
    "# tb-vc\n",
    "# td-yn\"\"\".strip().split('\\n')]"
   ]
  },
  {
   "cell_type": "code",
   "execution_count": null,
   "metadata": {},
   "outputs": [],
   "source": [
    "mac_set = set([item for subtuple in text for item in subtuple])\n",
    "list_combs = list(combinations(mac_set, 3))\n",
    "ts = [any([x[0]=='t' for x in comb]) for comb in list_combs]\n",
    "ts_combs = [a for a, b in zip(list_combs, ts) if b]\n",
    "\n",
    "trips = []\n",
    "set_text = set(text)\n",
    "for comb in ts_combs:\n",
    "    perms = list(permutations(comb, 2))\n",
    "    if len(set(perms) & set(set_text)) > 2:\n",
    "        trips.append(comb)\n",
    "\n",
    "sum([any([x[0]=='t' for x in trip]) for trip in trips])"
   ]
  },
  {
   "cell_type": "code",
   "execution_count": 254,
   "metadata": {},
   "outputs": [],
   "source": [
    "# Create a graph\n",
    "G = nx.Graph()\n",
    "G.add_edges_from(text)\n",
    "cliques = list(nx.find_cliques(G))\n",
    "\n",
    "max_value = 0\n",
    "max_clique = []\n",
    "for x in cliques:\n",
    "    if len(x) > max_value:\n",
    "        max_clique = x\n",
    "        max_value = len(x)\n",
    "max_clique\n",
    "','.join(sorted(max_clique))"
   ]
  }
 ],
 "metadata": {
  "kernelspec": {
   "display_name": "base",
   "language": "python",
   "name": "python3"
  },
  "language_info": {
   "codemirror_mode": {
    "name": "ipython",
    "version": 3
   },
   "file_extension": ".py",
   "mimetype": "text/x-python",
   "name": "python",
   "nbconvert_exporter": "python",
   "pygments_lexer": "ipython3",
   "version": "3.11.7"
  }
 },
 "nbformat": 4,
 "nbformat_minor": 2
}

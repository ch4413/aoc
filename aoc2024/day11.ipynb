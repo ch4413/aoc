{
 "cells": [
  {
   "cell_type": "code",
   "execution_count": 7,
   "metadata": {},
   "outputs": [],
   "source": [
    "from collections import Counter"
   ]
  },
  {
   "cell_type": "code",
   "execution_count": 8,
   "metadata": {},
   "outputs": [],
   "source": [
    "with open('input11.txt', \"r\") as file:\n",
    "        text = list(map(int, file.read().strip().split(' ')))"
   ]
  },
  {
   "cell_type": "code",
   "execution_count": 9,
   "metadata": {},
   "outputs": [
    {
     "name": "stdout",
     "output_type": "stream",
     "text": [
      "175006\n"
     ]
    }
   ],
   "source": [
    "x = 2244\n",
    "x = str(x)\n",
    "new_list = []\n",
    "#vals = [125, 17]\n",
    "vals = text\n",
    "for _ in range(25):\n",
    "    new_list = []\n",
    "    for x in vals:\n",
    "        x = str(x)\n",
    "        if x == '0':\n",
    "            new_val = ['1']\n",
    "        elif len(x) % 2 == 0:\n",
    "            new_val = list(map(int, [x[:len(x) // 2], x[len(x) // 2:]]))\n",
    "        else:\n",
    "            new_val = [2024 * int(x)]\n",
    "        new_list.extend(new_val)\n",
    "    #print(vals)\n",
    "    vals = new_list.copy()\n",
    "print(len(vals))"
   ]
  },
  {
   "cell_type": "code",
   "execution_count": 53,
   "metadata": {},
   "outputs": [
    {
     "name": "stdout",
     "output_type": "stream",
     "text": [
      "207961583799296\n"
     ]
    }
   ],
   "source": [
    "#vals = ['125', '17']\n",
    "vals = list(map(str, text))\n",
    "vals_counter = Counter(vals)\n",
    "for _ in range(75):\n",
    "    keys = list(vals_counter.keys())\n",
    "    new_counter = Counter()\n",
    "    for key in keys:\n",
    "        multiplier = vals_counter[key]\n",
    "        x = str(key)\n",
    "        if vals_counter[key] > 0:\n",
    "            if x == '0':\n",
    "                new_counter['1'] += 1 * multiplier\n",
    "            elif len(x) % 2 == 0:\n",
    "                lhs, rhs = map(int, [x[:len(x) // 2], x[len(x) // 2:]])\n",
    "                new_counter[str(lhs)] += 1 * multiplier\n",
    "                new_counter[str(rhs)] += 1 * multiplier\n",
    "            else:\n",
    "                new_counter[str(2024 * int(x))] += 1 * multiplier\n",
    "    vals_counter = new_counter\n",
    "print(sum(vals_counter.values()))"
   ]
  }
 ],
 "metadata": {
  "kernelspec": {
   "display_name": "base",
   "language": "python",
   "name": "python3"
  },
  "language_info": {
   "codemirror_mode": {
    "name": "ipython",
    "version": 3
   },
   "file_extension": ".py",
   "mimetype": "text/x-python",
   "name": "python",
   "nbconvert_exporter": "python",
   "pygments_lexer": "ipython3",
   "version": "3.11.7"
  }
 },
 "nbformat": 4,
 "nbformat_minor": 2
}

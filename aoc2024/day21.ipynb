{
 "cells": [
  {
   "cell_type": "code",
   "execution_count": 1,
   "metadata": {},
   "outputs": [],
   "source": [
    "import numpy as np\n",
    "import heapq\n",
    "from collections import Counter"
   ]
  },
  {
   "cell_type": "code",
   "execution_count": 1,
   "metadata": {},
   "outputs": [],
   "source": [
    "with open('input21.txt', \"r\") as file:\n",
    "        text = file.read().strip().split('\\n')"
   ]
  },
  {
   "cell_type": "code",
   "execution_count": 1,
   "metadata": {},
   "outputs": [
    {
     "name": "stdout",
     "output_type": "stream",
     "text": [
      "Part 1: 202274\n",
      "Part 2: 245881705840972\n"
     ]
    }
   ],
   "source": [
    "\n",
    "from collections import Counter\n",
    "\n",
    "INPUT_PATH= \"input21.txt\"\n",
    "DIRECTIONS = [(-1,0),(-1,1),(0,1),(1,1),(1,0),(1,-1),(0,-1),(-1,-1)][::2]\n",
    "UP, RIGHT, DOWN, LEFT = DIRECTIONS\n",
    "def add(*ps): return tuple(map(sum,zip(*ps)))\n",
    "def sub(p1,p2):\n",
    "    return tuple(a-b for a,b in zip(p1,p2))\n",
    "############################## PARSER ##############################\n",
    "with open(INPUT_PATH) as file:\n",
    "    lines = file.read().splitlines()\n",
    "num_pad_lines = \"\"\"\n",
    "789\n",
    "456\n",
    "123\n",
    ".0A\n",
    "\"\"\".strip().splitlines()\n",
    "dir_pad_lines = \"\"\"\n",
    ".^A\n",
    "<v>\n",
    "\"\"\".strip().splitlines()\n",
    "num_pad = {(i,j):c for i,line in enumerate(num_pad_lines) for j,c in enumerate(line) if c != \".\"}\n",
    "dir_pad = {(i,j):c for i,line in enumerate(dir_pad_lines) for j,c in enumerate(line) if c != \".\"}\n",
    "num_pad.update({v:k for k,v in num_pad.items()})\n",
    "dir_pad.update({v:k for k,v in dir_pad.items()})\n",
    "\n",
    "def manhattan_distance(a,b=(0,0)):\n",
    "    d=0\n",
    "    for j,k in zip(a,b):\n",
    "        d+=abs(j-k)\n",
    "    return d\n",
    "############################## PART 1 ##############################\n",
    "def step(source, target, pad):\n",
    "    ti,tj = pad[target]\n",
    "    si,sj = pad[source]\n",
    "    di = ti - si\n",
    "    dj = tj - sj\n",
    "    vert = \"v\"*di+\"^\"*-di\n",
    "    horiz = \">\"*dj+\"<\"*-dj\n",
    "    if dj > 0 and (ti,sj) in pad:\n",
    "        return vert+horiz+\"A\"\n",
    "    if (si,tj) in pad:\n",
    "        return horiz+vert+\"A\"\n",
    "    if (ti,sj) in pad:\n",
    "        return vert+horiz+\"A\"\n",
    "def routes(path, pad):\n",
    "    out = []\n",
    "    start = \"A\"\n",
    "    for end in path:\n",
    "        out.append(step(start,end,pad))\n",
    "        start = end\n",
    "    return \"\".join(out)\n",
    "\n",
    "num_routes = [routes(line, num_pad) for line in lines]\n",
    "rad_routes = [routes(route, dir_pad) for route in num_routes]\n",
    "cold_routes = [routes(route, dir_pad) for route in rad_routes]\n",
    "p1 = sum(len(route)*int(line[:-1]) for route, line in zip(cold_routes,lines))\n",
    "print(\"Part 1:\",p1)\n",
    "\n",
    "############################## PART 2 ##############################\n",
    "def routes2(path, pad):\n",
    "    out = []\n",
    "    start = \"A\"\n",
    "    for end in path:\n",
    "        out.append(step(start,end,pad))\n",
    "        start = end\n",
    "    return Counter(out)\n",
    "\n",
    "def route_len(route):\n",
    "    return sum(len(k)*v for k,v in route.items())\n",
    "\n",
    "robot_routes = [Counter([route]) for route in num_routes]\n",
    "for _ in range(25):\n",
    "    new_routes = []\n",
    "    for route_counter in robot_routes:\n",
    "        new_route = Counter()\n",
    "        for sub_route, qty in route_counter.items():\n",
    "            new_counts = routes2(sub_route, dir_pad)\n",
    "            for k in new_counts:\n",
    "                new_counts[k] *= qty\n",
    "            new_route.update(new_counts)\n",
    "        new_routes.append(new_route)\n",
    "    robot_routes = new_routes\n",
    "\n",
    "p2 = sum(route_len(route)*int(line[:-1]) for route, line in zip(robot_routes,lines))\n",
    "print(\"Part 2:\",p2)"
   ]
  }
 ],
 "metadata": {
  "kernelspec": {
   "display_name": "base",
   "language": "python",
   "name": "python3"
  },
  "language_info": {
   "codemirror_mode": {
    "name": "ipython",
    "version": 3
   },
   "file_extension": ".py",
   "mimetype": "text/x-python",
   "name": "python",
   "nbconvert_exporter": "python",
   "pygments_lexer": "ipython3",
   "version": "3.11.7"
  }
 },
 "nbformat": 4,
 "nbformat_minor": 2
}

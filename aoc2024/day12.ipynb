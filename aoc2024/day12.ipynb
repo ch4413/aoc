{
 "cells": [
  {
   "cell_type": "code",
   "execution_count": 106,
   "metadata": {},
   "outputs": [],
   "source": [
    "import numpy as np"
   ]
  },
  {
   "cell_type": "code",
   "execution_count": 107,
   "metadata": {},
   "outputs": [],
   "source": [
    "with open('input12.txt', \"r\") as file:\n",
    "        text = file.read().strip().split('\\n')\n",
    "grid = np.array([list(x) for x in text])\n",
    "# Example usage:\n",
    "# grid = np.array([list(x) for x in \"\"\"RRRRIICCFF\n",
    "# RRRRIICCCF\n",
    "# VVRRRCCFFF\n",
    "# VVRCCCJFFF\n",
    "# VVVVCJJCFE\n",
    "# VVIVCCJJEE\n",
    "# VVIIICJJEE\n",
    "# MIIIIIJJEE\n",
    "# MIIISIJEEE\n",
    "# MMMISSJEEE\"\"\".strip().split('\\n')])"
   ]
  },
  {
   "cell_type": "code",
   "execution_count": 108,
   "metadata": {},
   "outputs": [],
   "source": [
    "from collections import deque\n",
    "\n",
    "def is_valid_move(x, y, grid, visited, start_value):\n",
    "    rows, cols = len(grid), len(grid[0])\n",
    "    return 0 <= x < rows and 0 <= y < cols and grid[x][y] == start_value and not visited[x][y]\n",
    "\n",
    "def bfs(grid, start):\n",
    "    rows, cols = len(grid), len(grid[0])\n",
    "    visited = [[False for _ in range(cols)] for _ in range(rows)]\n",
    "    directions = [(0, 1), (1, 0), (0, -1), (-1, 0)]  # right, down, left, up\n",
    "\n",
    "    queue = deque([(start, [start])])\n",
    "    visited[start[0]][start[1]] = True\n",
    "    start_value = grid[start]\n",
    "    path2 = [start]\n",
    "    while queue:\n",
    "        (x, y), path = queue.popleft()\n",
    "\n",
    "        for dx, dy in directions:\n",
    "            nx, ny = x + dx, y + dy\n",
    "            if is_valid_move(nx, ny, grid, visited, start_value):\n",
    "                path2.append((nx, ny))\n",
    "                visited[nx][ny] = True\n",
    "                queue.append(((nx, ny), path + [(nx, ny)]))\n",
    "\n",
    "    return path2\n",
    "\n",
    "start = (0, 0)\n",
    "\n",
    "visited = []\n",
    "areas_dict = {}\n",
    "counter = 0\n",
    "for i in range(grid.shape[0]):\n",
    "    for j in range(grid.shape[1]):\n",
    "        start = (i, j)\n",
    "        if start not in visited:\n",
    "            path = bfs(grid, start)\n",
    "            areas_dict[counter] = path\n",
    "            visited.extend(path)\n",
    "            counter += 1"
   ]
  },
  {
   "cell_type": "code",
   "execution_count": 109,
   "metadata": {},
   "outputs": [
    {
     "data": {
      "text/plain": [
       "1374934"
      ]
     },
     "execution_count": 109,
     "metadata": {},
     "output_type": "execute_result"
    }
   ],
   "source": [
    "cost = 0\n",
    "for area in areas_dict.values():\n",
    "    perim = 0\n",
    "    for coord in area:\n",
    "        i, j = coord\n",
    "        for x, y in ((i - 1, j), (i + 1, j), (i, j - 1), (i, j + 1)):\n",
    "            if (x, y) not in area:\n",
    "                perim += 1\n",
    "\n",
    "    cost += len(area) * perim\n",
    "#    print(len(area), perim, cost)\n",
    "cost"
   ]
  }
 ],
 "metadata": {
  "kernelspec": {
   "display_name": "base",
   "language": "python",
   "name": "python3"
  },
  "language_info": {
   "codemirror_mode": {
    "name": "ipython",
    "version": 3
   },
   "file_extension": ".py",
   "mimetype": "text/x-python",
   "name": "python",
   "nbconvert_exporter": "python",
   "pygments_lexer": "ipython3",
   "version": "3.11.7"
  }
 },
 "nbformat": 4,
 "nbformat_minor": 2
}

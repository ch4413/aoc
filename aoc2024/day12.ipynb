{
 "cells": [
  {
   "cell_type": "code",
   "execution_count": 447,
   "metadata": {},
   "outputs": [],
   "source": [
    "import numpy as np\n",
    "from collections import defaultdict\n",
    "import copy"
   ]
  },
  {
   "cell_type": "code",
   "execution_count": 686,
   "metadata": {},
   "outputs": [],
   "source": [
    "with open('input12.txt', \"r\") as file:\n",
    "        text = file.read().strip().split('\\n')\n",
    "grid = np.array([list(x) for x in text])\n",
    "# Example usage:\n",
    "# grid = np.array([list(x) for x in \"\"\"RRRRIICCFF\n",
    "# RRRRIICCCF\n",
    "# VVRRRCCFFF\n",
    "# VVRCCCJFFF\n",
    "# VVVVCJJCFE\n",
    "# VVIVCCJJEE\n",
    "# VVIIICJJEE\n",
    "# MIIIIIJJEE\n",
    "# MIIISIJEEE\n",
    "# MMMISSJEEE\"\"\".strip().split('\\n')])\n",
    "# grid = np.array([list(x) for x in \"\"\"EEEEE\n",
    "# EXXXX\n",
    "# EEEEE\n",
    "# EXXXX\n",
    "# EEEEE\"\"\".strip().split('\\n')])\n",
    "# grid = np.array([list(x) for x in \"\"\"AAAA\n",
    "# BBCD\n",
    "# BBCC\n",
    "# EEEC\"\"\".strip().split('\\n')])\n",
    "# grid = np.array([list(x) for x in \"\"\"AAAAAA\n",
    "# AAABBA\n",
    "# AAABBA\n",
    "# ABBAAA\n",
    "# ABBAAA\n",
    "# AAAAAA\"\"\".strip().split('\\n')])\n",
    "# grid = np.array([list(x) for x in \"\"\"EE\n",
    "# EX\n",
    "# EX\n",
    "# EE\n",
    "# EX\n",
    "# EX\n",
    "# EE\"\"\".strip().split('\\n')])\n",
    "# grid = np.array([list(x) for x in \"\"\"EEE\n",
    "# EXE\n",
    "# EXE\n",
    "# EEE\n",
    "# EXE\n",
    "# EXE\n",
    "# EEE\"\"\".strip().split('\\n')])"
   ]
  },
  {
   "cell_type": "code",
   "execution_count": 687,
   "metadata": {},
   "outputs": [],
   "source": [
    "from collections import deque\n",
    "\n",
    "def is_valid_move(x, y, grid, visited, start_value):\n",
    "    rows, cols = len(grid), len(grid[0])\n",
    "    return 0 <= x < rows and 0 <= y < cols and grid[x][y] == start_value and not visited[x][y]\n",
    "\n",
    "def bfs(grid, start):\n",
    "    rows, cols = len(grid), len(grid[0])\n",
    "    visited = [[False for _ in range(cols)] for _ in range(rows)]\n",
    "    directions = [(0, 1), (1, 0), (0, -1), (-1, 0)]  # right, down, left, up\n",
    "\n",
    "    queue = deque([(start, [start])])\n",
    "    visited[start[0]][start[1]] = True\n",
    "    start_value = grid[start]\n",
    "    path2 = [start]\n",
    "    while queue:\n",
    "        (x, y), path = queue.popleft()\n",
    "\n",
    "        for dx, dy in directions:\n",
    "            nx, ny = x + dx, y + dy\n",
    "            if is_valid_move(nx, ny, grid, visited, start_value):\n",
    "                path2.append((nx, ny))\n",
    "                visited[nx][ny] = True\n",
    "                queue.append(((nx, ny), path + [(nx, ny)]))\n",
    "\n",
    "    return path2\n",
    "\n",
    "start = (0, 0)\n",
    "visited = []\n",
    "areas_dict = {}\n",
    "counter = 0\n",
    "for i in range(grid.shape[0]):\n",
    "    for j in range(grid.shape[1]):\n",
    "        start = (i, j)\n",
    "        if start not in visited:\n",
    "            path = bfs(grid, start)\n",
    "            areas_dict[counter] = path\n",
    "            visited.extend(path)\n",
    "            counter += 1"
   ]
  },
  {
   "cell_type": "code",
   "execution_count": 688,
   "metadata": {},
   "outputs": [
    {
     "data": {
      "text/plain": [
       "1374934"
      ]
     },
     "execution_count": 688,
     "metadata": {},
     "output_type": "execute_result"
    }
   ],
   "source": [
    "cost = 0\n",
    "perim_coords = defaultdict(list)\n",
    "for area_key, area in areas_dict.items():\n",
    "    perim = 0\n",
    "    for coord in area:\n",
    "        i, j = coord\n",
    "        for x, y in ((i - 1, j), (i + 1, j), (i, j - 1), (i, j + 1)):\n",
    "            if (x, y) not in area:\n",
    "                perim += 1\n",
    "                perim_coords[area_key].append((x, y))\n",
    "                \n",
    "    cost += len(area) * perim\n",
    "cost"
   ]
  },
  {
   "cell_type": "code",
   "execution_count": 689,
   "metadata": {},
   "outputs": [],
   "source": [
    "def find_lines(coord, list_coords, new_line):\n",
    "    i, j = coord\n",
    "    new_line.append((i, j))\n",
    "    new_coords = list_coords.copy()\n",
    "    new_coords.remove(coord)\n",
    "    for x, y in ((i - 1, j), (i + 1, j), (i, j - 1), (i, j + 1)):\n",
    "        if (x, y) in list_coords and (x * len(new_line) == sum([x[0] for x in new_line]) or\n",
    "                                      y * len(new_line) == sum([x[1] for x in new_line])) and (\n",
    "                                          (x, y) not in new_line\n",
    "                                      ):\n",
    "            find_lines((x, y), new_coords, new_line)\n",
    "    return new_line\n",
    "\n",
    "lines_of_grid = []\n",
    "missing_lines = []\n",
    "test_dict = copy.deepcopy(perim_coords)\n",
    "for _, perim_coords_c in test_dict.items():\n",
    "    num_coords = len(perim_coords_c)\n",
    "    lines = []\n",
    "    while len(perim_coords_c) > 0:\n",
    "        coord = perim_coords_c[0]\n",
    "        line = find_lines(coord, perim_coords_c, [])\n",
    "        lines.append(line)\n",
    "        for c in line:\n",
    "            perim_coords_c.remove(c)\n",
    "        # HOTFIX\n",
    "        # pair_lines = [line for line in lines if len(line) == 2]\n",
    "        # if pair_lines != []:\n",
    "        #     missing_counts = sum([x if x > 1 else 0 for x in Counter([tuple(x) for x in pair_lines]).values()])\n",
    "        #     missing_lines.append(len(lines) + missing_counts // 2)\n",
    "        # else:\n",
    "        #     missing_lines.append(len(lines))\n",
    "    lines_of_grid.append(lines)\n",
    "#missing_lines = [x-1 if x % 2 == 1 else x for x in missing_lines]"
   ]
  },
  {
   "cell_type": "code",
   "execution_count": 690,
   "metadata": {},
   "outputs": [
    {
     "name": "stdout",
     "output_type": "stream",
     "text": [
      "[121, 1, 9, 1, 1, 124, 22, 27, 35, 73, 104, 134, 1, 26, 70, 8, 68, 4, 142, 2, 57, 1, 37, 66, 4, 1, 12, 73, 102, 1, 51, 1, 6, 1, 2, 1, 1, 42, 1, 64, 20, 68, 2, 26, 27, 128, 35, 19, 6, 125, 130, 44, 3, 30, 114, 1, 1, 3, 1, 1, 1, 57, 88, 2, 135, 142, 223, 2, 1, 1, 59, 55, 1, 1, 84, 14, 1, 1, 2, 2, 145, 1, 1, 1, 93, 1, 52, 31, 72, 49, 10, 35, 1, 18, 2, 1, 1, 1, 1, 130, 4, 1, 184, 9, 23, 142, 107, 6, 11, 79, 8, 5, 145, 1, 5, 9, 100, 6, 2, 27, 21, 16, 1, 1, 11, 5, 59, 27, 1, 192, 10, 113, 3, 1, 12, 1, 1, 1, 1, 39, 1, 25, 1, 102, 3, 102, 5, 116, 3, 1, 66, 39, 4, 2, 158, 32, 14, 4, 1, 85, 8, 1, 102, 1, 32, 7, 1, 1, 103, 6, 75, 89, 3, 1, 130, 2, 5, 1, 105, 1, 120, 5, 60, 2, 1, 70, 6, 185, 1, 1, 2, 25, 131, 18, 1, 3, 2, 281, 2, 87, 26, 122, 2, 1, 1, 1, 1, 1, 1, 94, 2, 76, 1, 8, 83, 1, 1, 2, 107, 56, 1, 12, 22, 3, 2, 63, 1, 1, 1, 1, 117, 4, 167, 38, 1, 1, 39, 1, 1, 133, 1, 2, 45, 1, 2, 99, 3, 2, 4, 113, 1, 1, 68, 138, 19, 1, 111, 1, 1, 61, 2, 51, 42, 3, 2, 13, 41, 1, 5, 1, 27, 1, 1, 3, 8, 19, 1, 34, 11, 62, 2, 2, 5, 107, 53, 1, 171, 60, 50, 4, 1, 2, 1, 2, 1, 139, 2, 101, 233, 2, 26, 4, 15, 5, 6, 46, 22, 1, 26, 1, 47, 36, 118, 106, 1, 1, 208, 1, 1, 64, 91, 2, 4, 1, 2, 2, 2, 78, 3, 1, 18, 133, 57, 1, 27, 6, 52, 9, 1, 1, 1, 73, 1, 2, 1, 116, 1, 16, 2, 3, 1, 10, 1, 1, 19, 124, 1, 3, 1, 77, 28, 1, 57, 106, 6, 29, 7, 6, 1, 1, 7, 2, 84, 1, 73, 1, 1, 120, 7, 2, 1, 155, 1, 31, 1, 1, 2, 6, 6, 75, 7, 120, 1, 9, 1, 6, 1, 50, 101, 1, 36, 16, 5, 1, 45, 1, 1, 1, 35, 2, 10, 1, 1, 1, 63, 12, 1, 99, 1, 1, 3, 98, 44, 70, 1, 4, 72, 161, 5, 3, 1, 3, 1, 1, 3, 13, 1, 62, 1, 52, 30, 5, 1, 72, 1, 17, 1, 16, 1, 92, 1, 25, 4, 63, 1, 2, 1, 112, 52, 1, 3, 50, 10, 7, 47, 1, 3, 10, 53, 1, 16, 47, 86, 141, 55, 4, 25, 46, 2, 14, 126, 4, 32, 1, 51, 1, 1, 37, 59, 1, 23, 1, 2, 54, 5, 2, 22, 49, 25, 1, 2, 79, 1, 6, 5, 1, 91, 2, 50, 36, 11, 3, 1, 1, 161, 1, 17, 1, 1, 17, 25, 2, 1, 14, 3, 1, 1, 1, 1, 2, 6, 54, 1, 1, 47, 3, 3, 15, 1, 3, 60, 67, 61, 9, 10, 1, 1, 1, 3, 1, 1, 53, 2, 69, 1, 151, 71, 1, 71, 138, 97, 231, 17, 1, 2, 1, 137, 23, 19, 134, 3, 1, 1, 1, 3, 117, 1, 1, 22, 1, 16, 1, 46, 2, 22, 4, 1, 12, 4, 1, 126, 30, 2, 16, 1, 14, 1, 117, 35, 23, 75, 1, 78, 1, 31, 2, 1, 5, 39, 3, 138, 1, 1, 1, 4, 1, 19, 1, 54, 1, 2, 4, 1, 12, 22, 1, 41, 32, 12, 8, 1, 1, 3, 1, 27, 2, 65, 34, 8, 5, 1, 1, 1, 3, 2, 10, 1]\n",
      "[37, 4, 10, 4, 4, 58, 20, 14, 22, 28, 46, 55, 4, 20, 41, 10, 30, 4, 43, 4, 30, 4, 27, 29, 6, 4, 8, 38, 41, 4, 28, 4, 10, 4, 4, 4, 4, 14, 4, 42, 16, 40, 4, 20, 16, 51, 24, 20, 10, 65, 54, 22, 6, 12, 46, 4, 4, 4, 4, 4, 4, 35, 40, 4, 58, 57, 69, 4, 4, 4, 40, 25, 4, 4, 28, 18, 4, 4, 4, 4, 72, 4, 4, 4, 46, 4, 40, 18, 38, 26, 8, 24, 4, 18, 4, 4, 4, 4, 4, 44, 4, 4, 10, 14, 12, 57, 42, 8, 14, 32, 8, 6, 41, 4, 6, 12, 37, 10, 4, 8, 12, 12, 4, 4, 16, 6, 40, 22, 4, 69, 10, 57, 6, 4, 12, 4, 4, 4, 4, 29, 4, 14, 4, 48, 6, 77, 8, 45, 4, 4, 12, 20, 6, 4, 70, 20, 10, 8, 4, 30, 6, 4, 41, 4, 23, 10, 4, 4, 71, 10, 51, 41, 6, 4, 53, 4, 8, 4, 43, 4, 49, 8, 8, 4, 4, 36, 8, 16, 4, 4, 4, 22, 58, 16, 4, 6, 4, 117, 4, 45, 20, 65, 4, 4, 4, 4, 4, 4, 4, 58, 4, 34, 4, 10, 36, 4, 4, 4, 44, 18, 4, 10, 12, 4, 4, 34, 4, 4, 4, 4, 62, 4, 12, 23, 4, 4, 20, 4, 4, 54, 4, 4, 30, 4, 4, 35, 6, 4, 6, 36, 4, 4, 34, 62, 20, 4, 44, 4, 4, 39, 4, 24, 20, 6, 4, 16, 28, 4, 8, 4, 24, 4, 4, 4, 8, 17, 4, 28, 9, 30, 4, 4, 8, 50, 31, 4, 14, 37, 28, 6, 4, 4, 4, 4, 4, 92, 4, 20, 147, 4, 27, 6, 16, 10, 8, 37, 20, 4, 25, 4, 38, 27, 51, 60, 4, 4, 84, 4, 4, 45, 40, 4, 6, 4, 4, 4, 4, 40, 6, 4, 14, 78, 31, 4, 24, 7, 38, 10, 4, 4, 4, 32, 4, 4, 4, 46, 4, 21, 4, 6, 4, 16, 4, 4, 16, 48, 4, 6, 4, 30, 20, 4, 36, 45, 8, 26, 8, 8, 4, 4, 10, 4, 48, 4, 40, 4, 4, 57, 11, 4, 4, 70, 4, 28, 4, 4, 4, 8, 8, 50, 10, 59, 4, 12, 4, 8, 4, 25, 48, 4, 22, 14, 6, 4, 32, 4, 4, 4, 22, 4, 6, 4, 4, 4, 45, 14, 4, 36, 4, 4, 6, 42, 34, 34, 4, 8, 67, 14, 10, 6, 4, 4, 4, 4, 6, 14, 4, 31, 4, 22, 16, 10, 4, 34, 4, 10, 4, 18, 4, 49, 4, 26, 8, 44, 4, 4, 4, 50, 30, 4, 4, 28, 8, 12, 34, 4, 6, 14, 24, 4, 20, 29, 39, 16, 16, 4, 22, 22, 4, 14, 51, 8, 20, 4, 36, 4, 4, 26, 42, 4, 18, 4, 4, 41, 8, 4, 18, 26, 12, 4, 4, 44, 4, 8, 6, 4, 43, 4, 16, 26, 12, 6, 4, 4, 59, 4, 14, 4, 4, 16, 20, 4, 4, 10, 6, 4, 4, 4, 4, 4, 8, 31, 4, 4, 28, 4, 6, 11, 4, 4, 40, 44, 22, 10, 14, 4, 4, 4, 4, 4, 4, 25, 4, 27, 4, 71, 36, 4, 39, 66, 50, 71, 14, 4, 4, 4, 54, 16, 12, 54, 4, 4, 4, 4, 6, 42, 4, 4, 12, 4, 14, 4, 29, 4, 17, 8, 4, 16, 6, 4, 48, 16, 4, 12, 4, 18, 4, 36, 24, 24, 43, 4, 33, 4, 15, 4, 4, 8, 27, 6, 55, 4, 4, 4, 8, 4, 14, 4, 28, 4, 4, 8, 4, 16, 20, 4, 26, 23, 6, 12, 4, 4, 6, 4, 22, 4, 21, 15, 12, 8, 4, 4, 4, 6, 4, 6, 4]\n",
      "1374934 825295\n",
      "[]\n",
      "1374934 0\n"
     ]
    }
   ],
   "source": [
    "lens = [len(x)  for x in lines_of_grid]\n",
    "areas = [len(x) for x in areas_dict.values()]\n",
    "print(areas)\n",
    "print(lens)\n",
    "dot_product = sum(a * b for a, b in zip(lens, areas))\n",
    "print(cost, dot_product)\n",
    "print(missing_lines)\n",
    "dot_product = sum(a * b for a, b in zip(missing_lines, areas))\n",
    "print(cost, dot_product)"
   ]
  },
  {
   "cell_type": "code",
   "execution_count": 685,
   "metadata": {},
   "outputs": [],
   "source": [
    "# 825295 too low + 81 too low, 832322\n",
    "# 335 - the one to fix"
   ]
  },
  {
   "cell_type": "code",
   "execution_count": 697,
   "metadata": {},
   "outputs": [
    {
     "name": "stdout",
     "output_type": "stream",
     "text": [
      "841078\n"
     ]
    }
   ],
   "source": [
    "R = grid.shape[0]\n",
    "C = grid.shape[1]\n",
    "G = open('input12.txt').read().strip().split('\\n')\n",
    "DIRS = [(-1, 0), (0, 1), (1, 0), (0, -1)]\n",
    "SEEN = set()\n",
    "ans = 0\n",
    "for r in range(R):\n",
    "    for c in range(C):\n",
    "        if (r, c) in SEEN:\n",
    "            continue\n",
    "        Q = deque([(r, c)])\n",
    "        area = 0\n",
    "        PERIM = dict()\n",
    "        while Q:\n",
    "            r2, c2 = Q.popleft()\n",
    "            if (r2, c2) in SEEN:\n",
    "                continue\n",
    "            SEEN.add((r2, c2))\n",
    "            area += 1\n",
    "            for dr, dc in DIRS:\n",
    "                rr = r2+dr\n",
    "                cc = c2+dc\n",
    "                if 0<=rr<R and 0<=cc<C and G[rr][cc]==G[r2][c2]:\n",
    "                    Q.append((rr, cc))\n",
    "                else:\n",
    "                    if (dr, dc) not in PERIM:\n",
    "                        PERIM[(dr, dc)] = set()\n",
    "                    PERIM[(dr, dc)].add((r2, c2))\n",
    "        sides = 0\n",
    "        for k, vs in PERIM.items():\n",
    "            SEEN_PERIM = set()\n",
    "            for pr, pc in vs:\n",
    "                if (pr, pc) not in SEEN_PERIM:\n",
    "                    sides += 1\n",
    "                    Q = deque([(pr, pc)])\n",
    "                    while Q:\n",
    "                        r2, c2 = Q.popleft()\n",
    "                        if (r2, c2) in SEEN_PERIM:\n",
    "                            continue\n",
    "                        SEEN_PERIM.add((r2, c2))\n",
    "                        for dr, dc in DIRS:\n",
    "                            rr, cc = r2+dr, c2+dc\n",
    "                            if (rr, cc) in vs:\n",
    "                                Q.append((rr, cc))\n",
    "        ans += sides * area\n",
    "print(ans)"
   ]
  }
 ],
 "metadata": {
  "kernelspec": {
   "display_name": "base",
   "language": "python",
   "name": "python3"
  },
  "language_info": {
   "codemirror_mode": {
    "name": "ipython",
    "version": 3
   },
   "file_extension": ".py",
   "mimetype": "text/x-python",
   "name": "python",
   "nbconvert_exporter": "python",
   "pygments_lexer": "ipython3",
   "version": "3.11.7"
  }
 },
 "nbformat": 4,
 "nbformat_minor": 2
}

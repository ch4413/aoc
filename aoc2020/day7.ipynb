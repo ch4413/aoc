{
 "cells": [
  {
   "cell_type": "code",
   "execution_count": 54,
   "metadata": {},
   "outputs": [],
   "source": [
    "import re"
   ]
  },
  {
   "cell_type": "code",
   "execution_count": 55,
   "metadata": {},
   "outputs": [],
   "source": [
    "string = \"\"\"light red bags contain 1 bright white bag, 2 muted yellow bags.\n",
    "dark orange bags contain 3 bright white bags, 4 muted yellow bags.\n",
    "bright white bags contain 1 shiny gold bag.\n",
    "muted yellow bags contain 2 shiny gold bags, 9 faded blue bags.\n",
    "shiny gold bags contain 1 dark olive bag, 2 vibrant plum bags.\n",
    "dark olive bags contain 3 faded blue bags, 4 dotted black bags.\n",
    "vibrant plum bags contain 5 faded blue bags, 6 dotted black bags.\n",
    "faded blue bags contain no other bags.\n",
    "dotted black bags contain no other bags.\"\"\""
   ]
  },
  {
   "cell_type": "code",
   "execution_count": 56,
   "metadata": {},
   "outputs": [
    {
     "name": "stdout",
     "output_type": "stream",
     "text": [
      "light red  bright white 1\n",
      "light red  muted yellow 2\n",
      "dark orange  bright white 3\n",
      "dark orange  muted yellow 4\n",
      "bright white  shiny gold 1\n",
      "muted yellow  shiny gold 2\n",
      "muted yellow  faded blue 9\n",
      "shiny gold  dark olive 1\n",
      "shiny gold  vibrant plum 2\n",
      "dark olive  faded blue 3\n",
      "dark olive  dotted black 4\n",
      "vibrant plum  faded blue 5\n",
      "vibrant plum  dotted black 6\n"
     ]
    }
   ],
   "source": [
    "strings = string.split('\\n')\n",
    "for string in strings:\n",
    "    a = string.split('contain')[0].replace('bags', '').strip()\n",
    "    for value in re.findall(r'\\d+ \\w+ \\w+', string):\n",
    "        print(a, re.sub('\\d+', '', value), int(re.findall('\\d+', value)[0]))"
   ]
  }
 ],
 "metadata": {
  "kernelspec": {
   "display_name": "base",
   "language": "python",
   "name": "python3"
  },
  "language_info": {
   "codemirror_mode": {
    "name": "ipython",
    "version": 3
   },
   "file_extension": ".py",
   "mimetype": "text/x-python",
   "name": "python",
   "nbconvert_exporter": "python",
   "pygments_lexer": "ipython3",
   "version": "3.11.7"
  }
 },
 "nbformat": 4,
 "nbformat_minor": 2
}

{
 "cells": [
  {
   "cell_type": "code",
   "execution_count": 1,
   "metadata": {},
   "outputs": [],
   "source": [
    "import re"
   ]
  },
  {
   "cell_type": "code",
   "execution_count": 2,
   "metadata": {},
   "outputs": [
    {
     "data": {
      "text/plain": [
       "'193651-649729'"
      ]
     },
     "execution_count": 2,
     "metadata": {},
     "output_type": "execute_result"
    }
   ],
   "source": [
    "'193651-649729'"
   ]
  },
  {
   "cell_type": "code",
   "execution_count": 3,
   "metadata": {},
   "outputs": [
    {
     "data": {
      "text/plain": [
       "1605"
      ]
     },
     "execution_count": 3,
     "metadata": {},
     "output_type": "execute_result"
    }
   ],
   "source": [
    "aa = []\n",
    "for i in range(193651, 649729 + 1):\n",
    "    values = list(map(int, list(str(i))))\n",
    "    if ((values[0] <= values[1] <= values[2] <= values[3] <= values[4] <= values[5]) and \n",
    "         bool(re.search(r'(?=(.)\\1)', str(i)))):\n",
    "        aa += [i]\n",
    "len(aa)"
   ]
  },
  {
   "cell_type": "code",
   "execution_count": 4,
   "metadata": {},
   "outputs": [
    {
     "data": {
      "text/plain": [
       "1102"
      ]
     },
     "execution_count": 4,
     "metadata": {},
     "output_type": "execute_result"
    }
   ],
   "source": [
    "aa = []\n",
    "for i in range(193651, 649729 + 1):\n",
    "    values = list(map(int, list(str(i))))\n",
    "    if ((values[0] <= values[1] <= values[2] <= values[3] <= values[4] <= values[5]) and \n",
    "        not (set(re.findall(r'(?=(.)\\1)', str(i))) ==  set(re.findall(r'(?=(.)\\1\\1)', str(i))))):\n",
    "        aa += [i]\n",
    "len(aa)"
   ]
  }
 ],
 "metadata": {
  "kernelspec": {
   "display_name": "base",
   "language": "python",
   "name": "python3"
  },
  "language_info": {
   "codemirror_mode": {
    "name": "ipython",
    "version": 3
   },
   "file_extension": ".py",
   "mimetype": "text/x-python",
   "name": "python",
   "nbconvert_exporter": "python",
   "pygments_lexer": "ipython3",
   "version": "3.11.7"
  }
 },
 "nbformat": 4,
 "nbformat_minor": 2
}

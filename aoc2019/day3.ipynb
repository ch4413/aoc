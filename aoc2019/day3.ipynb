{
 "cells": [
  {
   "cell_type": "code",
   "execution_count": 1,
   "metadata": {},
   "outputs": [],
   "source": [
    "with open('input3.txt', \"r\") as file:\n",
    "        values = file.read().strip().split('\\n')"
   ]
  },
  {
   "cell_type": "code",
   "execution_count": 2,
   "metadata": {},
   "outputs": [],
   "source": [
    "str1 = values[0].split(',')\n",
    "str2 = values[1].split(',')"
   ]
  },
  {
   "cell_type": "code",
   "execution_count": 3,
   "metadata": {},
   "outputs": [],
   "source": [
    "def get_coords(moves):\n",
    "    central = [0, 0]\n",
    "    values[0][0]\n",
    "    current_coord = central\n",
    "    all_coords = [central]\n",
    "    for i in moves:\n",
    "        letter = i[0]\n",
    "        steps = int(i[1:])\n",
    "        if 'R' == letter:\n",
    "            new_coords = [[current_coord[0], current_coord[1] + i] for i in range(1, steps + 1)]\n",
    "        if 'L' == letter:\n",
    "            new_coords = [[current_coord[0], current_coord[1] - i] for i in range(1, steps + 1)]\n",
    "        if 'U' == letter:\n",
    "            new_coords = [[current_coord[0] + i, current_coord[1]] for i in range(1, steps + 1)]\n",
    "        if 'D' == letter:\n",
    "            new_coords = [[current_coord[0] - i, current_coord[1]] for i in range(1, steps + 1)]\n",
    "        all_coords += new_coords\n",
    "        current_coord = new_coords[-1]\n",
    "    return all_coords"
   ]
  },
  {
   "cell_type": "code",
   "execution_count": 4,
   "metadata": {},
   "outputs": [],
   "source": [
    "# str1 = ['R75','D30','R83','U83','L12','D49','R71','U7','L72']\n",
    "# str2 = ['U62','R66','U55','R34','D71','R55','D58','R83']\n",
    "# str1 = ['R8','U5','L5','D3']\n",
    "# str2 = ['U7','R6','D4','L4']\n",
    "# str1 = ['R98','U47','R26','D63','R33','U87','L62','D20','R33','U53','R51']\n",
    "# str2 = ['U98','R91','D20','R16','D67','R40','U7','R15','U6','R7']\n",
    "str1_coords = get_coords(str1)\n",
    "str2_coords = get_coords(str2)"
   ]
  },
  {
   "cell_type": "code",
   "execution_count": 5,
   "metadata": {},
   "outputs": [],
   "source": [
    "def find_intersection(list1, list2):\n",
    "    # Find common sublists by checking if each sublist in list1 is also in list2\n",
    "    return [sublist for sublist in list1 if sublist in list2]"
   ]
  },
  {
   "cell_type": "code",
   "execution_count": 6,
   "metadata": {},
   "outputs": [
    {
     "data": {
      "text/plain": [
       "1674"
      ]
     },
     "execution_count": 6,
     "metadata": {},
     "output_type": "execute_result"
    }
   ],
   "source": [
    "a1 = set([tuple(x) for x in str1_coords])\n",
    "a2 = set([tuple(x) for x in str2_coords])\n",
    "vals = list(a1 & a2)\n",
    "min_dist = sorted([abs(x[0]) + abs(x[1]) for x in vals])[1]\n",
    "min_dist"
   ]
  },
  {
   "cell_type": "code",
   "execution_count": 7,
   "metadata": {},
   "outputs": [],
   "source": [
    "mindex = [abs(x[0]) + abs(x[1]) for x in vals].index(min_dist)"
   ]
  },
  {
   "cell_type": "code",
   "execution_count": 8,
   "metadata": {},
   "outputs": [],
   "source": [
    "def get_coords2(moves, coord_matches):\n",
    "    central = [0, 0]\n",
    "    values[0][0]\n",
    "    current_coord = central\n",
    "    all_coords = [central]\n",
    "    count = 0\n",
    "    res_dict = {}\n",
    "    for i in moves:\n",
    "        letter = i[0]\n",
    "        steps = int(i[1:])\n",
    "        if 'R' == letter:\n",
    "            new_coords = [[current_coord[0], current_coord[1] + i] for i in range(1, steps + 1)]\n",
    "        if 'L' == letter:\n",
    "            new_coords = [[current_coord[0], current_coord[1] - i] for i in range(1, steps + 1)]\n",
    "        if 'U' == letter:\n",
    "            new_coords = [[current_coord[0] + i, current_coord[1]] for i in range(1, steps + 1)]\n",
    "        if 'D' == letter:\n",
    "            new_coords = [[current_coord[0] - i, current_coord[1]] for i in range(1, steps + 1)]\n",
    "        for j in new_coords:\n",
    "            count += 1\n",
    "            all_coords += [j]\n",
    "            if j in coord_matches:\n",
    "                res_dict[tuple(j)] = count\n",
    "        current_coord = all_coords[-1]\n",
    "    return all_coords, res_dict"
   ]
  },
  {
   "cell_type": "code",
   "execution_count": 9,
   "metadata": {},
   "outputs": [],
   "source": [
    "vals_list = [list(x) for x in vals]\n",
    "str1_coords, res_dict1 = get_coords2(str1, vals_list)\n",
    "str2_coords, res_dict2 = get_coords2(str2, vals_list)"
   ]
  },
  {
   "cell_type": "code",
   "execution_count": 10,
   "metadata": {},
   "outputs": [
    {
     "name": "stdout",
     "output_type": "stream",
     "text": [
      "14012\n"
     ]
    }
   ],
   "source": [
    "min_value = 1e35\n",
    "for i in res_dict1.keys():\n",
    "    val = res_dict1[i] + res_dict2[i]\n",
    "    if val < min_value:\n",
    "        min_value = val\n",
    "print(min_value)"
   ]
  }
 ],
 "metadata": {
  "kernelspec": {
   "display_name": "base",
   "language": "python",
   "name": "python3"
  },
  "language_info": {
   "codemirror_mode": {
    "name": "ipython",
    "version": 3
   },
   "file_extension": ".py",
   "mimetype": "text/x-python",
   "name": "python",
   "nbconvert_exporter": "python",
   "pygments_lexer": "ipython3",
   "version": "3.11.7"
  }
 },
 "nbformat": 4,
 "nbformat_minor": 2
}

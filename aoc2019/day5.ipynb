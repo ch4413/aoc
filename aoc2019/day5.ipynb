{
 "cells": [
  {
   "cell_type": "code",
   "execution_count": 21,
   "metadata": {},
   "outputs": [],
   "source": [
    "with open('input2.txt', \"r\") as file:\n",
    "        values = list(map(int, file.read().strip().split(',')))"
   ]
  },
  {
   "cell_type": "code",
   "execution_count": 26,
   "metadata": {},
   "outputs": [],
   "source": [
    "def intcode(values, i):\n",
    "    if i > len(values):\n",
    "        return values\n",
    "    command = values[i]\n",
    "    if command == 1:\n",
    "        val_ind1 = values[i+1]\n",
    "        val_ind2 = values[i+2]\n",
    "        ind_write = values[i+3]\n",
    "        values[ind_write] = values[val_ind1] + values[val_ind2]\n",
    "    elif command == 2:\n",
    "        val_ind1 = values[i+1]\n",
    "        val_ind2 = values[i+2]\n",
    "        ind_write = values[i+3]\n",
    "        values[ind_write] = values[val_ind1] * values[val_ind2]\n",
    "    elif command == 99:\n",
    "        return values\n",
    "    \n",
    "    i += 4\n",
    "    return intcode(values, i)\n",
    "values_copy = values.copy()\n",
    "list_vals = intcode(values_copy, 0)"
   ]
  },
  {
   "cell_type": "code",
   "execution_count": 28,
   "metadata": {},
   "outputs": [
    {
     "data": {
      "text/plain": [
       "797822"
      ]
     },
     "execution_count": 28,
     "metadata": {},
     "output_type": "execute_result"
    }
   ],
   "source": [
    "list_vals[0]"
   ]
  },
  {
   "cell_type": "code",
   "execution_count": null,
   "metadata": {},
   "outputs": [],
   "source": []
  }
 ],
 "metadata": {
  "kernelspec": {
   "display_name": "base",
   "language": "python",
   "name": "python3"
  },
  "language_info": {
   "codemirror_mode": {
    "name": "ipython",
    "version": 3
   },
   "file_extension": ".py",
   "mimetype": "text/x-python",
   "name": "python",
   "nbconvert_exporter": "python",
   "pygments_lexer": "ipython3",
   "version": "3.11.7"
  }
 },
 "nbformat": 4,
 "nbformat_minor": 2
}

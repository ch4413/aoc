{
 "cells": [
  {
   "cell_type": "code",
   "execution_count": 50,
   "metadata": {},
   "outputs": [],
   "source": [
    "with open('input2.txt', \"r\") as file:\n",
    "        values = list(map(int, file.read().strip().split(',')))"
   ]
  },
  {
   "cell_type": "code",
   "execution_count": 76,
   "metadata": {},
   "outputs": [
    {
     "data": {
      "text/plain": [
       "19690720"
      ]
     },
     "execution_count": 76,
     "metadata": {},
     "output_type": "execute_result"
    }
   ],
   "source": [
    "with open('input2.txt', \"r\") as file:\n",
    "        values = list(map(int, file.read().strip().split(',')))\n",
    "\n",
    "values[1] = 82\n",
    "values[2] = 98\n",
    "for i in range(0, len(values), 4):\n",
    "    command = values[i]\n",
    "    if command == 1:\n",
    "        val_ind1 = values[i+1]\n",
    "        val_ind2 = values[i+2]\n",
    "        ind_write = values[i+3]\n",
    "        values[ind_write] = values[val_ind1] + values[val_ind2]\n",
    "    elif values[i] == 2:\n",
    "        val_ind1 = values[i+1]\n",
    "        val_ind2 = values[i+2]\n",
    "        ind_write = values[i+3]\n",
    "        values[ind_write] = values[val_ind1] * values[val_ind2]\n",
    "    elif values[i] == 99:\n",
    "        break\n",
    "values[0]"
   ]
  },
  {
   "cell_type": "code",
   "execution_count": 77,
   "metadata": {},
   "outputs": [
    {
     "data": {
      "text/plain": [
       "8298"
      ]
     },
     "execution_count": 77,
     "metadata": {},
     "output_type": "execute_result"
    }
   ],
   "source": [
    "# Part 2\n",
    "(100 * 82) + 98"
   ]
  }
 ],
 "metadata": {
  "kernelspec": {
   "display_name": "base",
   "language": "python",
   "name": "python3"
  },
  "language_info": {
   "codemirror_mode": {
    "name": "ipython",
    "version": 3
   },
   "file_extension": ".py",
   "mimetype": "text/x-python",
   "name": "python",
   "nbconvert_exporter": "python",
   "pygments_lexer": "ipython3",
   "version": "3.11.7"
  }
 },
 "nbformat": 4,
 "nbformat_minor": 2
}

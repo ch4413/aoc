{
 "cells": [
  {
   "cell_type": "code",
   "execution_count": 12,
   "metadata": {},
   "outputs": [],
   "source": [
    "import pandas as pd\n",
    "aa = pd.read_csv('input2.txt', sep='\\t', header=None)"
   ]
  },
  {
   "cell_type": "code",
   "execution_count": 13,
   "metadata": {},
   "outputs": [
    {
     "data": {
      "text/plain": [
       "37923"
      ]
     },
     "execution_count": 13,
     "metadata": {},
     "output_type": "execute_result"
    }
   ],
   "source": [
    "# part 1\n",
    "aa.apply(lambda x: x.max() - x.min(), axis=1).sum()"
   ]
  },
  {
   "cell_type": "code",
   "execution_count": 14,
   "metadata": {},
   "outputs": [],
   "source": [
    "def find_factors_in_list(numbers):\n",
    "    # Sort the list to optimize the process\n",
    "    numbers.sort()\n",
    "    \n",
    "    # Store the factors\n",
    "    factors = []\n",
    "    \n",
    "    # Compare each pair of numbers\n",
    "    for i in range(len(numbers)):\n",
    "        for j in range(i+1, len(numbers)):\n",
    "            if numbers[j] % numbers[i] == 0:\n",
    "                facts = [numbers[i], numbers[j]]\n",
    "                facts.sort(reverse=True)\n",
    "                factors.extend(facts)\n",
    "                break  # No need to check further for this number\n",
    "    return factors"
   ]
  },
  {
   "cell_type": "code",
   "execution_count": 15,
   "metadata": {},
   "outputs": [
    {
     "data": {
      "text/plain": [
       "263"
      ]
     },
     "execution_count": 15,
     "metadata": {},
     "output_type": "execute_result"
    }
   ],
   "source": [
    "# Part 2\n",
    "bb = [find_factors_in_list(aa.iloc[a].tolist()) for a in range(aa.shape[0])]\n",
    "sum([int((x[0] / x[1])) for x in bb])"
   ]
  }
 ],
 "metadata": {
  "kernelspec": {
   "display_name": "chgen",
   "language": "python",
   "name": "python3"
  },
  "language_info": {
   "codemirror_mode": {
    "name": "ipython",
    "version": 3
   },
   "file_extension": ".py",
   "mimetype": "text/x-python",
   "name": "python",
   "nbconvert_exporter": "python",
   "pygments_lexer": "ipython3",
   "version": "3.11.7"
  }
 },
 "nbformat": 4,
 "nbformat_minor": 2
}

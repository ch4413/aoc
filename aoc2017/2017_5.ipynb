{
 "cells": [
  {
   "cell_type": "code",
   "execution_count": 46,
   "metadata": {},
   "outputs": [
    {
     "data": {
      "text/plain": [
       "(31150702, 1092)"
      ]
     },
     "execution_count": 46,
     "metadata": {},
     "output_type": "execute_result"
    }
   ],
   "source": [
    "with open('input5.txt', \"r\") as file:\n",
    "        text = file.read().strip().split('\\n')\n",
    "        text = list(map(int, text))\n",
    "#values = [0, 3, 0, 1, -3]\n",
    "index = 0\n",
    "count = 0\n",
    "values = text\n",
    "while 0 <= index < len(values):\n",
    "    jump = values[index]\n",
    "    new_index = index + jump\n",
    "    if jump > 2:\n",
    "          values[index] -= 1\n",
    "    else:\n",
    "          values[index] += 1\n",
    "    index = new_index\n",
    "    count += 1\n",
    "count, index"
   ]
  }
 ],
 "metadata": {
  "kernelspec": {
   "display_name": "base",
   "language": "python",
   "name": "python3"
  },
  "language_info": {
   "codemirror_mode": {
    "name": "ipython",
    "version": 3
   },
   "file_extension": ".py",
   "mimetype": "text/x-python",
   "name": "python",
   "nbconvert_exporter": "python",
   "pygments_lexer": "ipython3",
   "version": "3.11.7"
  }
 },
 "nbformat": 4,
 "nbformat_minor": 2
}

{
 "cells": [
  {
   "cell_type": "code",
   "execution_count": 152,
   "metadata": {},
   "outputs": [],
   "source": [
    "import re"
   ]
  },
  {
   "cell_type": "code",
   "execution_count": 153,
   "metadata": {},
   "outputs": [],
   "source": [
    "with open('input7.txt', \"r\") as file:\n",
    "        text = file.read().strip().split('\\n')"
   ]
  },
  {
   "cell_type": "code",
   "execution_count": 173,
   "metadata": {},
   "outputs": [
    {
     "name": "stdout",
     "output_type": "stream",
     "text": [
      "vmpywg\n"
     ]
    }
   ],
   "source": [
    "# Create dict graph\n",
    "network = {}\n",
    "for i in text:\n",
    "    names = re.findall('\\w+', i)\n",
    "    network[names[0]] ={'weight': int(names[1]), 'connections': names[2:]}\n",
    "# all connected\n",
    "list_a = []\n",
    "for i in [network[key]['connections'] for key in network]:\n",
    "    list_a.extend(i)\n",
    "# Find missing value from connections\n",
    "for i in network.keys():\n",
    "    if i not in list_a:\n",
    "        print(i)"
   ]
  },
  {
   "cell_type": "code",
   "execution_count": 174,
   "metadata": {},
   "outputs": [],
   "source": [
    "def find_connection_weight(node, network):\n",
    "    if network[node]['connections'] == []:\n",
    "        return network[node]['weight']\n",
    "    else:\n",
    "        sum_strand = 0\n",
    "        sum_strand += network[node]['weight']\n",
    "        for i in network[node]['connections']:\n",
    "            sum_strand += find_connection_weight(i, network)\n",
    "        return sum_strand"
   ]
  },
  {
   "cell_type": "code",
   "execution_count": 175,
   "metadata": {},
   "outputs": [],
   "source": [
    "# Get tower total\n",
    "for i in network.keys():\n",
    "    network[i]['total_below'] = find_connection_weight(i, network)"
   ]
  },
  {
   "cell_type": "code",
   "execution_count": 188,
   "metadata": {},
   "outputs": [
    {
     "data": {
      "text/plain": [
       "'orflty'"
      ]
     },
     "execution_count": 188,
     "metadata": {},
     "output_type": "execute_result"
    }
   ],
   "source": [
    "# Find wonky\n",
    "bad_weights = []\n",
    "for i in network.keys():\n",
    "    connections = network[i]['connections']\n",
    "    if len(connections) > 0:\n",
    "        vals = [network[i]['total_below'] for i in connections]\n",
    "        if sum(vals) / (max(vals) * len(vals)) != 1:\n",
    "            bad_weights.append(i)\n",
    "lowest = ''\n",
    "weight = 100000\n",
    "for i in bad_weights:\n",
    "    if network[i]['total_below'] < weight:\n",
    "        weight = network[i]['total_below']\n",
    "        lowest = i\n",
    "lowest"
   ]
  },
  {
   "cell_type": "code",
   "execution_count": 189,
   "metadata": {},
   "outputs": [
    {
     "name": "stdout",
     "output_type": "stream",
     "text": [
      "2574\n",
      "2574\n",
      "2574\n",
      "2574\n",
      "2579\n"
     ]
    }
   ],
   "source": [
    "for i in network[lowest]['connections']:\n",
    "    print(network[i]['total_below'])"
   ]
  },
  {
   "cell_type": "code",
   "execution_count": null,
   "metadata": {},
   "outputs": [],
   "source": []
  }
 ],
 "metadata": {
  "kernelspec": {
   "display_name": "base",
   "language": "python",
   "name": "python3"
  },
  "language_info": {
   "codemirror_mode": {
    "name": "ipython",
    "version": 3
   },
   "file_extension": ".py",
   "mimetype": "text/x-python",
   "name": "python",
   "nbconvert_exporter": "python",
   "pygments_lexer": "ipython3",
   "version": "3.11.7"
  }
 },
 "nbformat": 4,
 "nbformat_minor": 2
}

{
 "cells": [
  {
   "cell_type": "code",
   "execution_count": 75,
   "metadata": {},
   "outputs": [
    {
     "name": "stdout",
     "output_type": "stream",
     "text": [
      "7864\n",
      "1695\n"
     ]
    }
   ],
   "source": [
    "with open('input6.txt', \"r\") as file:\n",
    "        config = list(map(int, file.read().strip().split('\\t')))\n",
    "list_of_configs = []\n",
    "match = False\n",
    "while match == False:\n",
    "    str_conf = ''.join(map(str, config))\n",
    "    if str_conf in list_of_configs:\n",
    "        match = True\n",
    "    else:\n",
    "        list_of_configs.append(str_conf)\n",
    "        max_value = max(config)\n",
    "        max_index = config.index(max_value)\n",
    "        config[max_index] = 0\n",
    "        while max_value > 0:\n",
    "            max_index += 1\n",
    "            config[max_index % len(config)] += 1\n",
    "            max_value -= 1\n",
    "print(len(list_of_configs))\n",
    "print(len(list_of_configs) - list_of_configs.index(''.join(map(str, config))))"
   ]
  },
  {
   "cell_type": "code",
   "execution_count": null,
   "metadata": {},
   "outputs": [],
   "source": []
  }
 ],
 "metadata": {
  "kernelspec": {
   "display_name": "base",
   "language": "python",
   "name": "python3"
  },
  "language_info": {
   "codemirror_mode": {
    "name": "ipython",
    "version": 3
   },
   "file_extension": ".py",
   "mimetype": "text/x-python",
   "name": "python",
   "nbconvert_exporter": "python",
   "pygments_lexer": "ipython3",
   "version": "3.11.7"
  }
 },
 "nbformat": 4,
 "nbformat_minor": 2
}

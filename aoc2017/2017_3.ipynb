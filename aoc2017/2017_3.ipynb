{
 "cells": [
  {
   "cell_type": "code",
   "execution_count": 2,
   "metadata": {},
   "outputs": [],
   "source": [
    "import numpy as np"
   ]
  },
  {
   "cell_type": "code",
   "execution_count": 19,
   "metadata": {},
   "outputs": [
    {
     "data": {
      "text/plain": [
       "371"
      ]
     },
     "execution_count": 19,
     "metadata": {},
     "output_type": "execute_result"
    }
   ],
   "source": [
    "grid_input = 368078\n",
    "squares = [1]\n",
    "square = 1\n",
    "dim = 1\n",
    "while square < grid_input:\n",
    "    dim += 2\n",
    "    square = dim*dim\n",
    "    squares.append(square)\n",
    "4*dim - 4 + squares[-2] - grid_input"
   ]
  },
  {
   "cell_type": "code",
   "execution_count": 8,
   "metadata": {},
   "outputs": [],
   "source": [
    "def sum_dict_values(d, keys):\n",
    "    return sum(d.get(key, 0) for key in keys)\n",
    "\n",
    "def surrounding_coordinates(x, y):\n",
    "    # Generate the 8 surrounding coordinates\n",
    "    coordinates = [(x + dx, y + dy) \n",
    "                   for dx in [-1, 0, 1] \n",
    "                   for dy in [-1, 0, 1] \n",
    "                   if not (dx == 0 and dy == 0)]\n",
    "    return coordinates"
   ]
  },
  {
   "cell_type": "code",
   "execution_count": 25,
   "metadata": {},
   "outputs": [],
   "source": [
    "def generate_spiral(n):\n",
    "    x, y = 0, 0\n",
    "    dx, dy = 1, 0\n",
    "    boundaries = {'right': 1, 'up': 1, 'left': -1, 'down': -1}\n",
    "    spiral_coordinates_dict = {(x, y) : 1}\n",
    "    \n",
    "    sum_tot = 1\n",
    "    while sum_tot < n:\n",
    "        x += dx\n",
    "        y += dy\n",
    "        surrounding = surrounding_coordinates(x, y)\n",
    "        sum_tot = sum_dict_values(spiral_coordinates_dict, surrounding)\n",
    "        spiral_coordinates_dict[(x, y)] = sum_tot\n",
    "        \n",
    "        # Check if we need to change direction\n",
    "        if dx == 1 and x == boundaries['right']:  # Moving right\n",
    "            dx, dy = 0, 1  # Change direction to up\n",
    "            boundaries['right'] += 1  # Extend the right boundary\n",
    "        elif dy == 1 and y == boundaries['up']:  # Moving up\n",
    "            dx, dy = -1, 0  # Change direction to left\n",
    "            boundaries['up'] += 1  # Extend the upper boundary\n",
    "        elif dx == -1 and x == boundaries['left']:  # Moving left\n",
    "            dx, dy = 0, -1  # Change direction to down\n",
    "            boundaries['left'] -= 1  # Extend the left boundary\n",
    "        elif dy == -1 and y == boundaries['down']:  # Moving down\n",
    "            dx, dy = 1, 0  # Change direction to right\n",
    "            boundaries['down'] -= 1  # Extend the lower boundary\n",
    "            \n",
    "    return spiral_coordinates_dict"
   ]
  },
  {
   "cell_type": "code",
   "execution_count": 33,
   "metadata": {},
   "outputs": [
    {
     "data": {
      "text/plain": [
       "369601"
      ]
     },
     "execution_count": 33,
     "metadata": {},
     "output_type": "execute_result"
    }
   ],
   "source": [
    "max(generate_spiral(368078).values())"
   ]
  }
 ],
 "metadata": {
  "kernelspec": {
   "display_name": "base",
   "language": "python",
   "name": "python3"
  },
  "language_info": {
   "codemirror_mode": {
    "name": "ipython",
    "version": 3
   },
   "file_extension": ".py",
   "mimetype": "text/x-python",
   "name": "python",
   "nbconvert_exporter": "python",
   "pygments_lexer": "ipython3",
   "version": "3.11.7"
  }
 },
 "nbformat": 4,
 "nbformat_minor": 2
}

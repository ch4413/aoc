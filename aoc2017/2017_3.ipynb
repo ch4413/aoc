{
 "cells": [
  {
   "cell_type": "code",
   "execution_count": 2,
   "metadata": {},
   "outputs": [],
   "source": [
    "import numpy as np"
   ]
  },
  {
   "cell_type": "code",
   "execution_count": 19,
   "metadata": {},
   "outputs": [
    {
     "data": {
      "text/plain": [
       "371"
      ]
     },
     "execution_count": 19,
     "metadata": {},
     "output_type": "execute_result"
    }
   ],
   "source": [
    "grid_input = 368078\n",
    "squares = [1]\n",
    "square = 1\n",
    "dim = 1\n",
    "while square < grid_input:\n",
    "    dim += 2\n",
    "    square = dim*dim\n",
    "    squares.append(square)\n",
    "4*dim - 4 + squares[-2] - grid_input"
   ]
  },
  {
   "cell_type": "code",
   "execution_count": 8,
   "metadata": {},
   "outputs": [],
   "source": [
    "def sum_dict_values(d, keys):\n",
    "    return sum(d.get(key, 0) for key in keys)\n",
    "\n",
    "def surrounding_coordinates(x, y):\n",
    "    # Generate the 8 surrounding coordinates\n",
    "    coordinates = [(x + dx, y + dy) \n",
    "                   for dx in [-1, 0, 1] \n",
    "                   for dy in [-1, 0, 1] \n",
    "                   if not (dx == 0 and dy == 0)]\n",
    "    return coordinates"
   ]
  },
  {
   "cell_type": "code",
   "execution_count": 17,
   "metadata": {},
   "outputs": [
    {
     "name": "stdout",
     "output_type": "stream",
     "text": [
      "{(0, 0): 1, (1, 0): 1, (1, 1): 2, (0, 1): 4, (-1, 1): 5, (-1, 0): 10, (-1, -1): 11, (0, -1): 23, (1, -1): 25}\n"
     ]
    }
   ],
   "source": [
    "def generate_spiral(n):\n",
    "    # Start from (0, 0)\n",
    "    x, y = 0, 0\n",
    "    # Initial direction is to the right\n",
    "    dx, dy = 1, 0\n",
    "    # Track the boundaries of the spiral\n",
    "    boundaries = {'right': 1, 'up': 1, 'left': -1, 'down': -1}\n",
    "    # The coordinates to return\n",
    "    spiral_coordinates_dict = {(x, y) : 1}\n",
    "    \n",
    "    # Move in the spiral pattern\n",
    "    #for _ in range(1, n):\n",
    "    sum_tot = 1\n",
    "    while sum_tot < n:\n",
    "        # Move in the current direction\n",
    "        x += dx\n",
    "        y += dy\n",
    "        surrounding = surrounding_coordinates(x, y)\n",
    "        sum_tot = sum_dict_values(spiral_coordinates_dict, surrounding)\n",
    "\n",
    "        spiral_coordinates_dict[(x, y)] = sum_tot\n",
    "        \n",
    "        # Check if we need to change direction\n",
    "        if dx == 1 and x == boundaries['right']:  # Moving right\n",
    "            dx, dy = 0, 1  # Change direction to up\n",
    "            boundaries['right'] += 1  # Extend the right boundary\n",
    "        elif dy == 1 and y == boundaries['up']:  # Moving up\n",
    "            dx, dy = -1, 0  # Change direction to left\n",
    "            boundaries['up'] += 1  # Extend the upper boundary\n",
    "        elif dx == -1 and x == boundaries['left']:  # Moving left\n",
    "            dx, dy = 0, -1  # Change direction to down\n",
    "            boundaries['left'] -= 1  # Extend the left boundary\n",
    "        elif dy == -1 and y == boundaries['down']:  # Moving down\n",
    "            dx, dy = 1, 0  # Change direction to right\n",
    "            boundaries['down'] -= 1  # Extend the lower boundary\n",
    "            \n",
    "    return spiral_coordinates_dict\n",
    "\n",
    "# Example usage:\n",
    "n = 25  # Generate 25 steps in the spiral\n",
    "spiral = generate_spiral(n)\n",
    "print(spiral)"
   ]
  },
  {
   "cell_type": "code",
   "execution_count": 18,
   "metadata": {},
   "outputs": [
    {
     "data": {
      "text/plain": [
       "{(0, 0): 1,\n",
       " (1, 0): 1,\n",
       " (1, 1): 2,\n",
       " (0, 1): 4,\n",
       " (-1, 1): 5,\n",
       " (-1, 0): 10,\n",
       " (-1, -1): 11,\n",
       " (0, -1): 23,\n",
       " (1, -1): 25,\n",
       " (2, -1): 26,\n",
       " (2, 0): 54,\n",
       " (2, 1): 57,\n",
       " (2, 2): 59,\n",
       " (1, 2): 122,\n",
       " (0, 2): 133,\n",
       " (-1, 2): 142,\n",
       " (-2, 2): 147,\n",
       " (-2, 1): 304,\n",
       " (-2, 0): 330,\n",
       " (-2, -1): 351,\n",
       " (-2, -2): 362,\n",
       " (-1, -2): 747,\n",
       " (0, -2): 806,\n",
       " (1, -2): 880,\n",
       " (2, -2): 931,\n",
       " (3, -2): 957,\n",
       " (3, -1): 1968,\n",
       " (3, 0): 2105,\n",
       " (3, 1): 2275,\n",
       " (3, 2): 2391,\n",
       " (3, 3): 2450,\n",
       " (2, 3): 5022,\n",
       " (1, 3): 5336,\n",
       " (0, 3): 5733,\n",
       " (-1, 3): 6155,\n",
       " (-2, 3): 6444,\n",
       " (-3, 3): 6591,\n",
       " (-3, 2): 13486,\n",
       " (-3, 1): 14267,\n",
       " (-3, 0): 15252,\n",
       " (-3, -1): 16295,\n",
       " (-3, -2): 17008,\n",
       " (-3, -3): 17370,\n",
       " (-2, -3): 35487,\n",
       " (-1, -3): 37402,\n",
       " (0, -3): 39835,\n",
       " (1, -3): 42452,\n",
       " (2, -3): 45220,\n",
       " (3, -3): 47108,\n",
       " (4, -3): 48065,\n",
       " (4, -2): 98098,\n",
       " (4, -1): 103128,\n",
       " (4, 0): 109476,\n",
       " (4, 1): 116247,\n",
       " (4, 2): 123363,\n",
       " (4, 3): 128204,\n",
       " (4, 4): 130654,\n",
       " (3, 4): 266330,\n",
       " (2, 4): 279138,\n",
       " (1, 4): 295229,\n",
       " (0, 4): 312453,\n",
       " (-1, 4): 330785,\n",
       " (-2, 4): 349975,\n",
       " (-3, 4): 363010,\n",
       " (-4, 4): 369601}"
      ]
     },
     "execution_count": 18,
     "metadata": {},
     "output_type": "execute_result"
    }
   ],
   "source": [
    "generate_spiral(368078)"
   ]
  }
 ],
 "metadata": {
  "kernelspec": {
   "display_name": "base",
   "language": "python",
   "name": "python3"
  },
  "language_info": {
   "codemirror_mode": {
    "name": "ipython",
    "version": 3
   },
   "file_extension": ".py",
   "mimetype": "text/x-python",
   "name": "python",
   "nbconvert_exporter": "python",
   "pygments_lexer": "ipython3",
   "version": "3.11.7"
  }
 },
 "nbformat": 4,
 "nbformat_minor": 2
}

{
 "cells": [
  {
   "cell_type": "code",
   "execution_count": 18,
   "metadata": {},
   "outputs": [],
   "source": [
    "import re"
   ]
  },
  {
   "cell_type": "code",
   "execution_count": 1,
   "metadata": {},
   "outputs": [],
   "source": [
    "# with open('input9.txt', \"r\") as file:\n",
    "#         text = file.read()"
   ]
  },
  {
   "cell_type": "code",
   "execution_count": 4,
   "metadata": {},
   "outputs": [
    {
     "name": "stdout",
     "output_type": "stream",
     "text": [
      "Part 1:    12505\n",
      "Part 1:    6671\n"
     ]
    }
   ],
   "source": [
    "def day_9():\n",
    "    with open('input9.txt', \"r\") as file:\n",
    "        line = file.read()\n",
    "        \n",
    "    score = 0\n",
    "    garbage_score = 0\n",
    "    current_depth = 0\n",
    "    inside_garbage = False\n",
    "    skip_char = False\n",
    "    for char in line:\n",
    "        if inside_garbage:\n",
    "            if skip_char:\n",
    "                skip_char = False\n",
    "            elif char == \"!\":\n",
    "                skip_char = True\n",
    "            elif char == \">\":\n",
    "                inside_garbage = False\n",
    "            else:\n",
    "                garbage_score += 1\n",
    "        else:  # when inside group, not garbage\n",
    "            if char == \"{\":\n",
    "                current_depth += 1\n",
    "            elif char == \"}\":\n",
    "                score += current_depth\n",
    "                current_depth -= 1\n",
    "            elif char == \"<\":\n",
    "                inside_garbage = True\n",
    "    \n",
    "    print(\"Part 1:   \", score)\n",
    "    print(\"Part 1:   \", garbage_score)\n",
    "\n",
    "\n",
    "day_9()"
   ]
  }
 ],
 "metadata": {
  "kernelspec": {
   "display_name": "base",
   "language": "python",
   "name": "python3"
  },
  "language_info": {
   "codemirror_mode": {
    "name": "ipython",
    "version": 3
   },
   "file_extension": ".py",
   "mimetype": "text/x-python",
   "name": "python",
   "nbconvert_exporter": "python",
   "pygments_lexer": "ipython3",
   "version": "3.11.7"
  }
 },
 "nbformat": 4,
 "nbformat_minor": 2
}

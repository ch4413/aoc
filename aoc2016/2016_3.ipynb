{
 "cells": [
  {
   "cell_type": "code",
   "execution_count": 6,
   "metadata": {},
   "outputs": [],
   "source": [
    "import re"
   ]
  },
  {
   "cell_type": "code",
   "execution_count": 9,
   "metadata": {},
   "outputs": [],
   "source": [
    "with open('input3.txt', \"r\") as file:\n",
    "    text = file.read().strip().split('\\n')"
   ]
  },
  {
   "cell_type": "code",
   "execution_count": 11,
   "metadata": {},
   "outputs": [
    {
     "data": {
      "text/plain": [
       "983"
      ]
     },
     "execution_count": 11,
     "metadata": {},
     "output_type": "execute_result"
    }
   ],
   "source": [
    "count = 0\n",
    "for i in text:\n",
    "    sides = [int(x) for x in re.findall('\\d+', i)]\n",
    "    cond1 = sides[0] + sides[1] > sides[2]\n",
    "    cond2 = sides[0] + sides[2] > sides[1]\n",
    "    cond3 = sides[1] + sides[2] > sides[0]\n",
    "    if cond1 and cond2 and cond3:\n",
    "        count += 1\n",
    "count"
   ]
  },
  {
   "cell_type": "code",
   "execution_count": 40,
   "metadata": {},
   "outputs": [],
   "source": [
    "# part 2\n",
    "values = []\n",
    "col1 = []\n",
    "col2 = []\n",
    "col3 = []\n",
    "for i in text:\n",
    "    sides = [int(x) for x in re.findall('\\d+', i)]\n",
    "    col1.append(sides[0])\n",
    "    col2.append(sides[1])\n",
    "    col3.append(sides[2])\n",
    "values.extend(col1)\n",
    "values.extend(col2)\n",
    "values.extend(col3)"
   ]
  },
  {
   "cell_type": "code",
   "execution_count": 41,
   "metadata": {},
   "outputs": [
    {
     "data": {
      "text/plain": [
       "1836"
      ]
     },
     "execution_count": 41,
     "metadata": {},
     "output_type": "execute_result"
    }
   ],
   "source": [
    "count = 0\n",
    "for i in range(0, len(values), 3):\n",
    "    cond1 = values[i] + values[i + 1] > values[i + 2]\n",
    "    cond2 = values[i] + values[i + 2] > values[i + 1]\n",
    "    cond3 = values[i + 1] + values[i + 2] > values[i]\n",
    "    if cond1 and cond2 and cond3:\n",
    "        count += 1\n",
    "count"
   ]
  }
 ],
 "metadata": {
  "kernelspec": {
   "display_name": "chgen",
   "language": "python",
   "name": "python3"
  },
  "language_info": {
   "codemirror_mode": {
    "name": "ipython",
    "version": 3
   },
   "file_extension": ".py",
   "mimetype": "text/x-python",
   "name": "python",
   "nbconvert_exporter": "python",
   "pygments_lexer": "ipython3",
   "version": "3.11.7"
  }
 },
 "nbformat": 4,
 "nbformat_minor": 2
}

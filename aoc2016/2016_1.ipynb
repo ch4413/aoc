{
 "cells": [
  {
   "cell_type": "code",
   "execution_count": 131,
   "metadata": {},
   "outputs": [],
   "source": [
    "import itertools\n",
    "import re"
   ]
  },
  {
   "cell_type": "code",
   "execution_count": 142,
   "metadata": {},
   "outputs": [],
   "source": [
    "with open('input1.txt', \"r\") as file:\n",
    "    text = file.read()\n",
    "    #text = re.findall('[LR]\\d+', text)"
   ]
  },
  {
   "cell_type": "code",
   "execution_count": 133,
   "metadata": {},
   "outputs": [],
   "source": [
    "angle = 0\n",
    "coord = [0, 0]\n",
    "for i in text:\n",
    "    angle_change = i[0]\n",
    "    value = int(re.findall('\\d+', i)[0])\n",
    "    if angle_change == 'L':\n",
    "        angle -= 90\n",
    "    if angle_change == 'R':\n",
    "        angle += 90\n",
    "    angle = angle % 360\n",
    "    if angle == 0:\n",
    "        coord[1] += value\n",
    "    if angle == 90:\n",
    "        coord[0] += value\n",
    "    if angle == 180:\n",
    "        coord[1] -= value\n",
    "    if angle == 270:\n",
    "        coord[0] -= value"
   ]
  },
  {
   "cell_type": "code",
   "execution_count": 134,
   "metadata": {},
   "outputs": [
    {
     "data": {
      "text/plain": [
       "253"
      ]
     },
     "execution_count": 134,
     "metadata": {},
     "output_type": "execute_result"
    }
   ],
   "source": [
    "# Part 1\n",
    "sum(coord)"
   ]
  },
  {
   "cell_type": "code",
   "execution_count": 135,
   "metadata": {},
   "outputs": [],
   "source": [
    "angle = 0\n",
    "coord = [0, 0]\n",
    "coord_list = [(0, 0)]\n",
    "for i in text:\n",
    "    angle_change = i[0]\n",
    "    value = int(re.findall('\\d+', i)[0])\n",
    "    if angle_change == 'L':\n",
    "        angle -= 90\n",
    "    if angle_change == 'R':\n",
    "        angle += 90\n",
    "    angle = angle % 360\n",
    "    if angle == 0:\n",
    "        combinations = list(itertools.product([coord[0]], list(range(coord[1] + 1, coord[1] + value + 1))))\n",
    "        coord[1] += value\n",
    "    if angle == 90:\n",
    "        combinations = list(itertools.product(list(range(coord[0] + 1, coord[0] + value + 1)), [coord[1]]))\n",
    "        coord[0] += value\n",
    "    if angle == 180:\n",
    "        combinations = list(itertools.product([coord[0]], list(range(coord[1] - value, coord[1]))))\n",
    "        coord[1] -= value\n",
    "    if angle == 270:\n",
    "        combinations = list(itertools.product(list(range(coord[0] - value, coord[0])), [coord[1]]))\n",
    "        coord[0] -= value\n",
    "    coord_list.extend(combinations)\n",
    "    "
   ]
  },
  {
   "cell_type": "code",
   "execution_count": 139,
   "metadata": {},
   "outputs": [
    {
     "name": "stdout",
     "output_type": "stream",
     "text": [
      "126\n"
     ]
    }
   ],
   "source": [
    "# Part 2\n",
    "fill_list = []\n",
    "for i in coord_list:\n",
    "    if i in fill_list:\n",
    "        print(sum(i))\n",
    "        break\n",
    "    else:\n",
    "        fill_list.append(i)"
   ]
  },
  {
   "cell_type": "code",
   "execution_count": 143,
   "metadata": {},
   "outputs": [
    {
     "name": "stdout",
     "output_type": "stream",
     "text": [
      "126.0\n"
     ]
    }
   ],
   "source": [
    "PART2 = True\n",
    "#inp = \"R8, R4, R4, R8\"  # paste your input here\n",
    "inp = text\n",
    "inp2 = [(s[0], int(s[1:])) for s in inp.split(\", \")]\n",
    "dirs = [0+1j, 1+0j, 0-1j, -1+0j]\n",
    "cur_dir = 0\n",
    "cur_pos = 0+0j\n",
    "seen = {cur_pos}\n",
    "for direction, num in inp2:\n",
    "    cur_dir = (cur_dir + 2*(direction == \"L\") - 1) % 4\n",
    "    for i in range(num):\n",
    "        cur_pos += dirs[cur_dir]\n",
    "        if PART2 and cur_pos in seen:\n",
    "            break\n",
    "        seen.add(cur_pos)\n",
    "    else:\n",
    "        continue\n",
    "    break\n",
    "print(abs(cur_pos.imag) + abs(cur_pos.real))"
   ]
  },
  {
   "cell_type": "code",
   "execution_count": null,
   "metadata": {},
   "outputs": [],
   "source": []
  }
 ],
 "metadata": {
  "kernelspec": {
   "display_name": "chgen",
   "language": "python",
   "name": "python3"
  },
  "language_info": {
   "codemirror_mode": {
    "name": "ipython",
    "version": 3
   },
   "file_extension": ".py",
   "mimetype": "text/x-python",
   "name": "python",
   "nbconvert_exporter": "python",
   "pygments_lexer": "ipython3",
   "version": "3.11.7"
  }
 },
 "nbformat": 4,
 "nbformat_minor": 2
}

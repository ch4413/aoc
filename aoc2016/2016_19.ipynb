{
 "cells": [
  {
   "cell_type": "code",
   "execution_count": 70,
   "metadata": {},
   "outputs": [
    {
     "name": "stdout",
     "output_type": "stream",
     "text": [
      "[1830117]\n"
     ]
    }
   ],
   "source": [
    "aa = list(range(1, 3012210 + 1))\n",
    "while len(aa) != 1:\n",
    "    if len(aa) % 2 != 0:\n",
    "        aa = [aa[-1]] + aa[:-1:2]\n",
    "    else:\n",
    "        aa = aa[::2]\n",
    "print(aa)"
   ]
  },
  {
   "cell_type": "code",
   "execution_count": 78,
   "metadata": {},
   "outputs": [],
   "source": [
    "#!/bin/python3\n",
    "import collections\n",
    "\n",
    "ELF_COUNT = 3012210\n",
    "def solve_parttwo():\n",
    "    left = collections.deque()\n",
    "    right = collections.deque()\n",
    "    for i in range(1, ELF_COUNT+1):\n",
    "        if i < (ELF_COUNT // 2) + 1:\n",
    "            left.append(i)\n",
    "        else:\n",
    "            right.appendleft(i)\n",
    "\n",
    "    while left and right:\n",
    "        if len(left) > len(right):\n",
    "            left.pop()\n",
    "        else:\n",
    "            right.pop()\n",
    "\n",
    "        # rotate\n",
    "        right.appendleft(left.popleft())\n",
    "        left.append(right.pop())\n",
    "    return left[0] or right[0]"
   ]
  },
  {
   "cell_type": "code",
   "execution_count": 77,
   "metadata": {},
   "outputs": [
    {
     "data": {
      "text/plain": [
       "2"
      ]
     },
     "execution_count": 77,
     "metadata": {},
     "output_type": "execute_result"
    }
   ],
   "source": [
    "solve_parttwo()"
   ]
  },
  {
   "cell_type": "code",
   "execution_count": 79,
   "metadata": {},
   "outputs": [
    {
     "name": "stdout",
     "output_type": "stream",
     "text": [
      "1417887\n"
     ]
    }
   ],
   "source": [
    "target = 3012210\n",
    "i = 1\n",
    "\n",
    "while i * 3 < target:\n",
    "    i *= 3\n",
    "\n",
    "print(target - i)"
   ]
  }
 ],
 "metadata": {
  "kernelspec": {
   "display_name": "chgen",
   "language": "python",
   "name": "python3"
  },
  "language_info": {
   "codemirror_mode": {
    "name": "ipython",
    "version": 3
   },
   "file_extension": ".py",
   "mimetype": "text/x-python",
   "name": "python",
   "nbconvert_exporter": "python",
   "pygments_lexer": "ipython3",
   "version": "3.10.14"
  }
 },
 "nbformat": 4,
 "nbformat_minor": 2
}

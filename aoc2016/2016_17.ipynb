{
 "cells": [
  {
   "cell_type": "code",
   "execution_count": 1,
   "metadata": {},
   "outputs": [
    {
     "name": "stdout",
     "output_type": "stream",
     "text": [
      "('DRDRULRDRD', 384)\n"
     ]
    }
   ],
   "source": [
    "from hashlib import md5\n",
    "from itertools import compress\n",
    "\n",
    "input = \"vwbaicqe\"\n",
    "moves = {\n",
    "    'U': lambda x, y: (x, y - 1),\n",
    "    'D': lambda x, y: (x, y + 1),\n",
    "    'L': lambda x, y: (x - 1, y),\n",
    "    'R': lambda x, y: (x + 1, y)\n",
    "}\n",
    "\n",
    "def doors(path):\n",
    "    string = (input + ''.join(path)).encode('utf-8')\n",
    "    return (int(x, 16) > 10 for x in md5(string).hexdigest()[:4])\n",
    "\n",
    "def bfs(start, goal):\n",
    "    queue = [(start, [start], [])]\n",
    "    while queue:\n",
    "        (x, y), path, dirs = queue.pop(0)#\n",
    "        #print(dirs)\n",
    "        for dir in compress('UDLR', doors(dirs)):\n",
    "            next = moves[dir](x, y)\n",
    "            nx, ny = next\n",
    "            if not (0 <= nx < 4 and 0 <= ny < 4):\n",
    "                continue\n",
    "            elif next == goal:\n",
    "                yield dirs + [dir]\n",
    "                #return dirs + [dir]\n",
    "            else:\n",
    "                queue.append((next, path + [next], dirs + [dir]))\n",
    "\n",
    "def day17():\n",
    "    paths = list(bfs((0, 0), (3, 3)))\n",
    "    return ''.join(paths[0]), len(paths[-1])\n",
    "\n",
    "print(day17())"
   ]
  }
 ],
 "metadata": {
  "kernelspec": {
   "display_name": "chgen",
   "language": "python",
   "name": "python3"
  },
  "language_info": {
   "codemirror_mode": {
    "name": "ipython",
    "version": 3
   },
   "file_extension": ".py",
   "mimetype": "text/x-python",
   "name": "python",
   "nbconvert_exporter": "python",
   "pygments_lexer": "ipython3",
   "version": "3.10.14"
  }
 },
 "nbformat": 4,
 "nbformat_minor": 2
}

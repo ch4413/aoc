{
 "cells": [
  {
   "cell_type": "code",
   "execution_count": 61,
   "metadata": {},
   "outputs": [],
   "source": [
    "import numpy as np\n",
    "from functools import reduce"
   ]
  },
  {
   "cell_type": "code",
   "execution_count": 149,
   "metadata": {},
   "outputs": [],
   "source": [
    "with open('input15.txt', \"r\") as file:\n",
    "        text = file.read().strip().split('\\n')"
   ]
  },
  {
   "cell_type": "code",
   "execution_count": 162,
   "metadata": {},
   "outputs": [
    {
     "data": {
      "text/plain": [
       "5"
      ]
     },
     "execution_count": 162,
     "metadata": {},
     "output_type": "execute_result"
    }
   ],
   "source": [
    "n = 1000\n",
    "values = [[-(4 + 1) + i * 5 for i in range(n)],\n",
    "        [-(1 + 2) + i * 2 for i in range(n)],\n",
    "        ]\n",
    "common_elements = reduce(np.intersect1d, values)\n",
    "common_elements.min()"
   ]
  },
  {
   "cell_type": "code",
   "execution_count": 163,
   "metadata": {},
   "outputs": [
    {
     "data": {
      "text/plain": [
       "2353212"
      ]
     },
     "execution_count": 163,
     "metadata": {},
     "output_type": "execute_result"
    }
   ],
   "source": [
    "#[(5, 2), (13, 7), (17, 10), (3, 2), (19, 9), (7, 0)]\n",
    "n = 1000000\n",
    "values = [[-(2 + 1) + i * 5 for i in range(n)],\n",
    "        [-(7 + 2) + i * 13 for i in range(n)],\n",
    "         [-(10 + 3) + i * 17 for i in range(n)],\n",
    "        [-(2 + 4) + i * 3 for i in range(n)],\n",
    "        [-(9 + 5) + i * 19 for i in range(n)],\n",
    "        [-(0 + 6) + i * 7 for i in range(n)],\n",
    "        [-(0 + 7) + i * 11 for i in range(n)]\n",
    "        ]\n",
    "common_elements = reduce(np.intersect1d, values)\n",
    "common_elements.min()"
   ]
  },
  {
   "cell_type": "code",
   "execution_count": 164,
   "metadata": {},
   "outputs": [],
   "source": [
    "def get_disc(line):\n",
    "\tspl = line.split()\n",
    "\treturn int(spl[3]), int(spl[-1][:-1])\n",
    "\n",
    "def can_pass(t, discs):\n",
    "\tfor c in range(len(discs)):\n",
    "\t\tsz, ini = discs[c]\n",
    "\t\tif (ini + t+c+1) % sz != 0:\n",
    "\t\t\treturn False\n",
    "\treturn True\n",
    "\n",
    "def solve(lines, part=2):\n",
    "\tdiscs = list(map(get_disc, lines))\n",
    "\tif part==2:\n",
    "\t\tdiscs.append((11, 0))\n",
    "\tt = 0\n",
    "\twhile not can_pass(t, discs):\n",
    "\t\tt += 1\n",
    "\treturn t\n",
    "\n",
    "fname = 'input15.txt'\n",
    "lines = [line.strip() for line in open(fname).readlines()]"
   ]
  },
  {
   "cell_type": "code",
   "execution_count": 165,
   "metadata": {},
   "outputs": [
    {
     "name": "stdout",
     "output_type": "stream",
     "text": [
      "148737 2353212\n"
     ]
    }
   ],
   "source": [
    "print(solve(lines, 1), solve(lines, 2))"
   ]
  }
 ],
 "metadata": {
  "kernelspec": {
   "display_name": "chgen",
   "language": "python",
   "name": "python3"
  },
  "language_info": {
   "codemirror_mode": {
    "name": "ipython",
    "version": 3
   },
   "file_extension": ".py",
   "mimetype": "text/x-python",
   "name": "python",
   "nbconvert_exporter": "python",
   "pygments_lexer": "ipython3",
   "version": "3.10.14"
  }
 },
 "nbformat": 4,
 "nbformat_minor": 2
}

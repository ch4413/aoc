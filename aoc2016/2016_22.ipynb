{
 "cells": [
  {
   "cell_type": "code",
   "execution_count": 32,
   "metadata": {},
   "outputs": [],
   "source": [
    "import pandas as pd"
   ]
  },
  {
   "cell_type": "code",
   "execution_count": 33,
   "metadata": {},
   "outputs": [],
   "source": [
    "df = pd.read_fwf('input22.txt', skiprows=1)\n",
    "df['Used'] = df['Used'].str[:-1].astype(int)\n",
    "df['Avail'] = df['Avail'].str[:-1].astype(int)"
   ]
  },
  {
   "cell_type": "code",
   "execution_count": 34,
   "metadata": {},
   "outputs": [
    {
     "data": {
      "text/plain": [
       "967"
      ]
     },
     "execution_count": 34,
     "metadata": {},
     "output_type": "execute_result"
    }
   ],
   "source": [
    "tot = 0\n",
    "for index, i in df.iterrows():\n",
    "    if i['Used'] > 0:\n",
    "        needed_space = i['Used']\n",
    "        available_spaces = df['Avail'].drop(index).tolist()\n",
    "        tot += sum([needed_space <= available for available in available_spaces])\n",
    "tot"
   ]
  },
  {
   "cell_type": "code",
   "execution_count": 5,
   "metadata": {},
   "outputs": [
    {
     "name": "stdout",
     "output_type": "stream",
     "text": [
      "967\n",
      "[]............................................................(){}\n",
      "..............................................................()..\n",
      "..............................................................()..\n",
      "..............................................................()..\n",
      "..............................................................()..\n",
      "..............................................................()..\n",
      "..............................................................()..\n",
      "..............................................................()..\n",
      "....................()()()()()()()()()()()()()()()()()()()()()()..\n",
      "....................()############################################\n",
      "....................()............................................\n",
      "....................()............................................\n",
      "....................()()()()()()()()()()()()()()()__..............\n",
      "..................................................................\n",
      "..................................................................\n",
      "..................................................................\n",
      "..................................................................\n",
      "..................................................................\n",
      "..................................................................\n",
      "..................................................................\n",
      "..................................................................\n",
      "..................................................................\n",
      "..................................................................\n",
      "..................................................................\n",
      "..................................................................\n",
      "..................................................................\n",
      "..................................................................\n",
      "..................................................................\n",
      "..................................................................\n",
      "..................................................................\n",
      "\n"
     ]
    }
   ],
   "source": [
    "#!/usr/bin/env python3\n",
    "\n",
    "import re #, os\n",
    "\n",
    "# read nodes in a dictionary\n",
    "d_nodes = {}\n",
    "with open(\"input22.txt\", 'r') as f:\n",
    "    for line in f:\n",
    "        if line[0] != '/':\n",
    "            continue\n",
    "        x, y, size, used, avail, perc = map(int, re.findall(r'\\d+', line))\n",
    "        d_nodes[(x, y)] = {'used': used, 'avail': avail}\n",
    "\n",
    "lx = max([val[0] for val in d_nodes.keys()])+1\n",
    "ly = max([val[1] for val in d_nodes.keys()])+1\n",
    "\n",
    "# puzzle1 - count viable pairs\n",
    "cnt = 0\n",
    "vals = list(d_nodes.values())\n",
    "for i in range(len(vals)):\n",
    "    for j in range(i+1, len(vals)):\n",
    "        if vals[i]['used'] != 0 and vals[i]['used'] <= vals[j]['avail']:\n",
    "            cnt += 1 \n",
    "        if vals[j]['used'] != 0 and vals[j]['used'] <= vals[i]['avail']:\n",
    "            cnt += 1\n",
    "print(cnt)\n",
    "\n",
    "def print_map(path = []):\n",
    "    for y in range(ly):\n",
    "        for x in range(lx):\n",
    "            if (x, y) == goal:\n",
    "                c = '{}'\n",
    "            elif (x, y) == start:\n",
    "                c = '[]'\n",
    "            elif (x, y) == empty:\n",
    "                c = '__'\n",
    "            elif (x, y) in path:\n",
    "                c = '()'\n",
    "            else:\n",
    "                c = '..' if d_nodes[(x, y)]['used'] < 100  else '##'\n",
    "            print(c, end='')\n",
    "        print(\"\")\n",
    "    print(\"\")\n",
    "    \n",
    "\n",
    "def find_path(start, end, obst=None):\n",
    "    # reset BFS\n",
    "    for value in d_nodes.values():\n",
    "        value['dist'] = float('inf')\n",
    "        value['prev'] = None\n",
    "    # do the actual BFS\n",
    "    queue = [start]\n",
    "    d_nodes[start]['dist'] = 0\n",
    "    while len(queue) > 0:\n",
    "        n = queue.pop(0)\n",
    "        for x, y in [(n[0]+1, n[1]), (n[0]-1, n[1]), (n[0], n[1]+1), (n[0], n[1]-1)]:\n",
    "            if 0<=x<lx and 0<=y<ly and d_nodes[(x,y)]['used'] < 100 and (x, y) != obst:\n",
    "                if d_nodes[(x, y)]['dist'] > d_nodes[n]['dist'] + 1:\n",
    "                    d_nodes[(x, y)]['dist'] = d_nodes[n]['dist'] + 1\n",
    "                    d_nodes[(x, y)]['prev'] = n\n",
    "                    queue.append((x, y))\n",
    "                if (x, y) == end:\n",
    "                    path = [(x, y)]\n",
    "                    while d_nodes[path[-1]]['prev'] != None:\n",
    "                        path.append(d_nodes[path[-1]]['prev'])\n",
    "                    return path[-2::-1] # reverse, don't include start\n",
    "\n",
    "\n",
    "\n",
    "start = (0, 0)\n",
    "goal = (lx-1, 0)\n",
    "empty = (None, None)\n",
    "for key in d_nodes:\n",
    "    if d_nodes[key]['used'] == 0:\n",
    "        empty = key\n",
    "        break\n",
    "# algorithm (S = start, G = goal)\n",
    "# 1. find shortest path pGS from G to S\n",
    "# 2. find shortest path p_ from _ to pG[0]\n",
    "# 3. cnt += len(p_) + 1 (+1 is for swapping G <-> _ in the next step)\n",
    "# 4. _ = G, G = pG.pop(0)\n",
    "# 5. repeat until G = S\n",
    "pathGS = find_path(goal, start)\n",
    "cnt = 0\n",
    "while goal != start:\n",
    "    path_ = find_path(empty, pathGS.pop(0), obst=goal)\n",
    "    cnt += len(path_) + 1\n",
    "    # while len(path_) > 1:\n",
    "    #     os.system('clear')\n",
    "    #     empty = path_.pop(0)\n",
    "    #     print_map(path_)\n",
    "    #     input()\n",
    "    empty = goal\n",
    "    goal = path_[-1]\n",
    "    # os.system('clear')\n",
    "    # print_map()\n",
    "    # input()\n",
    "print(cnt)"
   ]
  },
  {
   "cell_type": "code",
   "execution_count": null,
   "metadata": {},
   "outputs": [],
   "source": []
  }
 ],
 "metadata": {
  "kernelspec": {
   "display_name": "chgen",
   "language": "python",
   "name": "python3"
  },
  "language_info": {
   "codemirror_mode": {
    "name": "ipython",
    "version": 3
   },
   "file_extension": ".py",
   "mimetype": "text/x-python",
   "name": "python",
   "nbconvert_exporter": "python",
   "pygments_lexer": "ipython3",
   "version": "3.10.14"
  }
 },
 "nbformat": 4,
 "nbformat_minor": 2
}

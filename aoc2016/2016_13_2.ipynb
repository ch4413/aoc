{
 "cells": [
  {
   "cell_type": "code",
   "execution_count": 3,
   "metadata": {},
   "outputs": [],
   "source": [
    "import numpy as np\n",
    "from collections import deque"
   ]
  },
  {
   "cell_type": "code",
   "execution_count": 4,
   "metadata": {},
   "outputs": [],
   "source": [
    "start = (1, 1)\n",
    "goal = (39, 31)\n",
    "\n",
    "maze = np.zeros([42, 42])\n",
    "magic = 1350\n",
    "\n",
    "for y in range(maze.shape[0]):\n",
    "    for x in range(maze.shape[1]):\n",
    "        eq = x*x + 3*x + 2*x*y + y + y*y + magic\n",
    "        ones = sum([int(x) for x in bin(eq)[2:]])\n",
    "        if ones % 2 == 0:\n",
    "            maze[y, x] = 0\n",
    "        else:\n",
    "            maze[y, x] = 1"
   ]
  },
  {
   "cell_type": "code",
   "execution_count": 10,
   "metadata": {},
   "outputs": [],
   "source": [
    "def bfs(grid, start, target):\n",
    "    # Dimensions of the grid\n",
    "    rows, cols = len(grid), len(grid[0])\n",
    "    \n",
    "    # Directions for moving up, down, left, right\n",
    "    directions = [(-1, 0), (1, 0), (0, -1), (0, 1)]\n",
    "    distances = np.zeros([rows, cols]) + -1\n",
    "    distances[start[0]][start[1]] = 0\n",
    "    \n",
    "    # Queue for BFS: stores tuples of (current position, distance from start)\n",
    "    queue = deque([(start, 0)])\n",
    "    # Set to track visited cells\n",
    "    visited = set()\n",
    "    visited.add(start)\n",
    "    \n",
    "    while queue:\n",
    "        (current_row, current_col), distance = queue.popleft()\n",
    "        # If we reach the target, return the distance\n",
    "        if target != 0:\n",
    "            if (current_row, current_col) == target:\n",
    "                return distance, distances\n",
    "        # Explore the neighbors\n",
    "        for direction in directions:\n",
    "            next_row, next_col = current_row + direction[0], current_col + direction[1]\n",
    "            # \n",
    "            if 0 <= next_row < rows and 0 <= next_col < cols and grid[next_row][next_col] == 0 and (next_row, next_col) not in visited:\n",
    "                distances[next_row][next_col] = distance + 1\n",
    "                queue.append(((next_row, next_col), distance + 1))\n",
    "                visited.add((next_row, next_col))\n",
    "    \n",
    "    # If the target is not reachable\n",
    "    return -1, distances"
   ]
  },
  {
   "cell_type": "code",
   "execution_count": 11,
   "metadata": {},
   "outputs": [],
   "source": [
    "result, distances = bfs(maze, start, goal)"
   ]
  },
  {
   "cell_type": "code",
   "execution_count": 12,
   "metadata": {},
   "outputs": [
    {
     "data": {
      "text/plain": [
       "124"
      ]
     },
     "execution_count": 12,
     "metadata": {},
     "output_type": "execute_result"
    }
   ],
   "source": [
    "((distances > -1) & (distances < 51)).sum()"
   ]
  },
  {
   "cell_type": "code",
   "execution_count": 13,
   "metadata": {},
   "outputs": [],
   "source": [
    "result, distances = bfs(maze, start, -1)"
   ]
  },
  {
   "cell_type": "code",
   "execution_count": 14,
   "metadata": {},
   "outputs": [
    {
     "data": {
      "text/plain": [
       "(19909.0, 135.0)"
      ]
     },
     "execution_count": 14,
     "metadata": {},
     "output_type": "execute_result"
    }
   ],
   "source": [
    "distances.sum(), distances.max()"
   ]
  }
 ],
 "metadata": {
  "kernelspec": {
   "display_name": "chgen",
   "language": "python",
   "name": "python3"
  },
  "language_info": {
   "codemirror_mode": {
    "name": "ipython",
    "version": 3
   },
   "file_extension": ".py",
   "mimetype": "text/x-python",
   "name": "python",
   "nbconvert_exporter": "python",
   "pygments_lexer": "ipython3",
   "version": "3.10.14"
  }
 },
 "nbformat": 4,
 "nbformat_minor": 2
}

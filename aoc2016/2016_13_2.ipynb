{
 "cells": [
  {
   "cell_type": "code",
   "execution_count": 38,
   "metadata": {},
   "outputs": [],
   "source": [
    "import numpy as np"
   ]
  },
  {
   "cell_type": "code",
   "execution_count": 39,
   "metadata": {},
   "outputs": [],
   "source": [
    "maze = np.zeros([100, 100])\n",
    "magic = 1350\n",
    "#magic = 10\n",
    "\n",
    "for y in range(maze.shape[0]):\n",
    "    for x in range(maze.shape[1]):\n",
    "        eq = x*x + 3*x + 2*x*y + y + y*y + magic\n",
    "        ones = sum([int(x) for x in bin(eq)[2:]])\n",
    "        if ones % 2 == 0:\n",
    "            maze[y, x] = 1\n",
    "        else:\n",
    "            maze[y, x] = 0"
   ]
  },
  {
   "cell_type": "code",
   "execution_count": 44,
   "metadata": {},
   "outputs": [],
   "source": [
    "start = (1, 1)\n",
    "goal = (39, 31)"
   ]
  },
  {
   "cell_type": "code",
   "execution_count": 45,
   "metadata": {},
   "outputs": [
    {
     "name": "stdout",
     "output_type": "stream",
     "text": [
      "Shortest path length: 92\n"
     ]
    }
   ],
   "source": [
    "from collections import deque\n",
    "\n",
    "def bfs(grid, start, target):\n",
    "    # Dimensions of the grid\n",
    "    rows, cols = len(grid), len(grid[0])\n",
    "    \n",
    "    # Directions for moving up, down, left, right\n",
    "    directions = [(-1, 0), (1, 0), (0, -1), (0, 1)]\n",
    "    \n",
    "    # Queue for BFS: stores tuples of (current position, distance from start)\n",
    "    queue = deque([(start, 0)])\n",
    "    \n",
    "    # Set to track visited cells\n",
    "    visited = set()\n",
    "    visited.add(start)\n",
    "    \n",
    "    while queue:\n",
    "        (current_row, current_col), distance = queue.popleft()\n",
    "        \n",
    "        # If we reach the target, return the distance\n",
    "        if (current_row, current_col) == target:\n",
    "            return distance, visited\n",
    "        \n",
    "        # Explore the neighbors\n",
    "        for direction in directions:\n",
    "            next_row, next_col = current_row + direction[0], current_col + direction[1]\n",
    "            \n",
    "            # Check if the next cell is within bounds and is passable and not visited\n",
    "            if 0 <= next_row < rows and 0 <= next_col < cols and grid[next_row][next_col] == 0 and (next_row, next_col) not in visited:\n",
    "                queue.append(((next_row, next_col), distance + 1))\n",
    "                visited.add((next_row, next_col))\n",
    "    \n",
    "    # If the target is not reachable\n",
    "    return -1\n",
    "\n",
    "maze_inv = (maze == 0).astype('int')\n",
    "\n",
    "start = (1, 1)\n",
    "target = (39, 31)\n",
    "\n",
    "result, visited = bfs(maze_inv, start, target)\n",
    "print(\"Shortest path length:\", result)\n"
   ]
  },
  {
   "cell_type": "code",
   "execution_count": 46,
   "metadata": {},
   "outputs": [],
   "source": [
    "from collections import deque\n",
    "\n",
    "def bfs_with_distances(grid, start):\n",
    "    # Dimensions of the grid\n",
    "    rows, cols = len(grid[1]), len(grid[0])\n",
    "    \n",
    "    # Directions for moving up, down, left, right\n",
    "    directions = [(-1, 0), (1, 0), (0, -1), (0, 1)]\n",
    "    \n",
    "    # Queue for BFS: stores tuples of (current position, distance from start)\n",
    "    queue = deque([(start, 0)])\n",
    "    \n",
    "    # Initialize distances with -1 (unreachable) and set start position to 0\n",
    "    distances = [[-1] * cols for _ in range(rows)]\n",
    "    distances[start[0]][start[1]] = 0\n",
    "    \n",
    "    while queue:\n",
    "        (current_row, current_col), distance = queue.popleft()\n",
    "        \n",
    "        # Explore the neighbors\n",
    "        for direction in directions:\n",
    "            next_row, next_col = current_row + direction[0], current_col + direction[1]\n",
    "            \n",
    "            # Check if the next cell is within bounds and is passable\n",
    "            if 0 <= next_row < rows and 0 <= next_col < cols and grid[next_row][next_col] == 0:\n",
    "                # If the cell hasn't been visited yet (distance is still -1)\n",
    "                if distances[next_row][next_col] == -1:\n",
    "                    # Update the distance and add the cell to the queue\n",
    "                    distances[next_row][next_col] = distance + 1\n",
    "                    queue.append(((next_row, next_col), distance + 1))\n",
    "    \n",
    "    return distances"
   ]
  },
  {
   "cell_type": "code",
   "execution_count": 47,
   "metadata": {},
   "outputs": [],
   "source": [
    "distances = bfs_with_distances(maze_inv, start)\n",
    "distances = np.array(distances)"
   ]
  },
  {
   "cell_type": "code",
   "execution_count": 48,
   "metadata": {},
   "outputs": [
    {
     "data": {
      "text/plain": [
       "124"
      ]
     },
     "execution_count": 48,
     "metadata": {},
     "output_type": "execute_result"
    }
   ],
   "source": [
    "((distances > -1) & (distances < 51)).sum()"
   ]
  }
 ],
 "metadata": {
  "kernelspec": {
   "display_name": "chgen",
   "language": "python",
   "name": "python3"
  },
  "language_info": {
   "codemirror_mode": {
    "name": "ipython",
    "version": 3
   },
   "file_extension": ".py",
   "mimetype": "text/x-python",
   "name": "python",
   "nbconvert_exporter": "python",
   "pygments_lexer": "ipython3",
   "version": "3.10.14"
  }
 },
 "nbformat": 4,
 "nbformat_minor": 2
}

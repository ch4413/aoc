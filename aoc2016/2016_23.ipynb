{
 "cells": [
  {
   "cell_type": "code",
   "execution_count": 2,
   "metadata": {},
   "outputs": [],
   "source": [
    "with open('input23.txt', \"r\") as file:\n",
    "        text = file.read().strip().split('\\n')"
   ]
  },
  {
   "cell_type": "code",
   "execution_count": 3,
   "metadata": {},
   "outputs": [],
   "source": [
    "text = ['cpy 2 a', 'tgl a', 'tgl a',\n",
    "'tgl a', 'cpy 1 a', 'dec a', 'dec a']"
   ]
  },
  {
   "cell_type": "code",
   "execution_count": 4,
   "metadata": {},
   "outputs": [
    {
     "name": "stdout",
     "output_type": "stream",
     "text": [
      "0 0 0 0\n",
      "2 0 0 0\n"
     ]
    },
    {
     "ename": "TypeError",
     "evalue": "BunnyInterpreter.tgl() missing 1 required positional argument: 'dist'",
     "output_type": "error",
     "traceback": [
      "\u001b[1;31m---------------------------------------------------------------------------\u001b[0m",
      "\u001b[1;31mTypeError\u001b[0m                                 Traceback (most recent call last)",
      "Cell \u001b[1;32mIn[4], line 46\u001b[0m\n\u001b[0;32m     44\u001b[0m b \u001b[38;5;241m=\u001b[39m BunnyInterpreter(text)\n\u001b[0;32m     45\u001b[0m c \u001b[38;5;241m=\u001b[39m BunnyInterpreter(text, c\u001b[38;5;241m=\u001b[39m\u001b[38;5;241m1\u001b[39m)\n\u001b[1;32m---> 46\u001b[0m b\u001b[38;5;241m.\u001b[39mrun()\n\u001b[0;32m     47\u001b[0m c\u001b[38;5;241m.\u001b[39mrun()\n\u001b[0;32m     48\u001b[0m \u001b[38;5;28mprint\u001b[39m(\u001b[38;5;124m'\u001b[39m\u001b[38;5;124mstar one: \u001b[39m\u001b[38;5;132;01m{}\u001b[39;00m\u001b[38;5;124m'\u001b[39m\u001b[38;5;241m.\u001b[39mformat(b\u001b[38;5;241m.\u001b[39ma))\n",
      "Cell \u001b[1;32mIn[4], line 42\u001b[0m, in \u001b[0;36mBunnyInterpreter.run\u001b[1;34m(self)\u001b[0m\n\u001b[0;32m     40\u001b[0m \u001b[38;5;28;01mwhile\u001b[39;00m \u001b[38;5;28mself\u001b[39m\u001b[38;5;241m.\u001b[39mpointer \u001b[38;5;241m<\u001b[39m \u001b[38;5;28mlen\u001b[39m(\u001b[38;5;28mself\u001b[39m\u001b[38;5;241m.\u001b[39minstructions):\n\u001b[0;32m     41\u001b[0m     \u001b[38;5;28mprint\u001b[39m(\u001b[38;5;28mself\u001b[39m\u001b[38;5;241m.\u001b[39ma, \u001b[38;5;28mself\u001b[39m\u001b[38;5;241m.\u001b[39mb, \u001b[38;5;28mself\u001b[39m\u001b[38;5;241m.\u001b[39mc, \u001b[38;5;28mself\u001b[39m\u001b[38;5;241m.\u001b[39md)\n\u001b[1;32m---> 42\u001b[0m     \u001b[38;5;28mself\u001b[39m\u001b[38;5;241m.\u001b[39mparse(\u001b[38;5;28mself\u001b[39m\u001b[38;5;241m.\u001b[39minstructions[\u001b[38;5;28mself\u001b[39m\u001b[38;5;241m.\u001b[39mpointer])\n",
      "Cell \u001b[1;32mIn[4], line 35\u001b[0m, in \u001b[0;36mBunnyInterpreter.parse\u001b[1;34m(self, ins)\u001b[0m\n\u001b[0;32m     33\u001b[0m \u001b[38;5;28;01mdef\u001b[39;00m \u001b[38;5;21mparse\u001b[39m(\u001b[38;5;28mself\u001b[39m, ins):\n\u001b[0;32m     34\u001b[0m     op, \u001b[38;5;241m*\u001b[39margs \u001b[38;5;241m=\u001b[39m ins\u001b[38;5;241m.\u001b[39msplit()\n\u001b[1;32m---> 35\u001b[0m     \u001b[38;5;28mgetattr\u001b[39m(\u001b[38;5;28mself\u001b[39m, op)(\u001b[38;5;241m*\u001b[39margs)\n\u001b[0;32m     36\u001b[0m     \u001b[38;5;28;01mif\u001b[39;00m op \u001b[38;5;241m!=\u001b[39m \u001b[38;5;124m'\u001b[39m\u001b[38;5;124mtgl\u001b[39m\u001b[38;5;124m'\u001b[39m:\n\u001b[0;32m     37\u001b[0m         \u001b[38;5;28mself\u001b[39m\u001b[38;5;241m.\u001b[39mpointer \u001b[38;5;241m+\u001b[39m\u001b[38;5;241m=\u001b[39m \u001b[38;5;241m1\u001b[39m\n",
      "\u001b[1;31mTypeError\u001b[0m: BunnyInterpreter.tgl() missing 1 required positional argument: 'dist'"
     ]
    }
   ],
   "source": [
    "class BunnyInterpreter:\n",
    "\n",
    "    def __init__(self, instructions, a=0, b=0, c=0, d=0):\n",
    "        self.a = a\n",
    "        self.b = b\n",
    "        self.c = c\n",
    "        self.d = d\n",
    "        self.instructions = instructions\n",
    "        self.pointer = 0\n",
    "\n",
    "    def grab(self, x):\n",
    "        if x in 'abcd':\n",
    "            return getattr(self, x)\n",
    "        return int(x)\n",
    "\n",
    "    def cpy(self, source, dest):\n",
    "        setattr(self, dest, self.grab(source))\n",
    "\n",
    "    def inc(self, register):\n",
    "        temp = getattr(self, register)\n",
    "        setattr(self, register, temp+1)\n",
    "\n",
    "    def dec(self, register):\n",
    "        temp = getattr(self, register)\n",
    "        setattr(self, register, temp-1)\n",
    "\n",
    "    def tgl(self, c, dist):\n",
    "        if self.grab(c) != 0:\n",
    "            self.pointer += int(dist)\n",
    "        else:\n",
    "            self.pointer += 1\n",
    "\n",
    "    def parse(self, ins):\n",
    "        op, *args = ins.split()\n",
    "        getattr(self, op)(*args)\n",
    "        if op != 'tgl':\n",
    "            self.pointer += 1\n",
    "\n",
    "    def run(self):\n",
    "        while self.pointer < len(self.instructions):\n",
    "            print(self.a, self.b, self.c, self.d)\n",
    "            self.parse(self.instructions[self.pointer])\n",
    "\n",
    "b = BunnyInterpreter(text)\n",
    "c = BunnyInterpreter(text, c=1)\n",
    "b.run()\n",
    "c.run()\n",
    "print('star one: {}'.format(b.a))\n",
    "print('star two: {}'.format(c.a))"
   ]
  },
  {
   "cell_type": "code",
   "execution_count": null,
   "metadata": {},
   "outputs": [],
   "source": []
  }
 ],
 "metadata": {
  "kernelspec": {
   "display_name": "chgen",
   "language": "python",
   "name": "python3"
  },
  "language_info": {
   "codemirror_mode": {
    "name": "ipython",
    "version": 3
   },
   "file_extension": ".py",
   "mimetype": "text/x-python",
   "name": "python",
   "nbconvert_exporter": "python",
   "pygments_lexer": "ipython3",
   "version": "3.11.7"
  }
 },
 "nbformat": 4,
 "nbformat_minor": 2
}

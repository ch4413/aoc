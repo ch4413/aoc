{
 "cells": [
  {
   "cell_type": "code",
   "execution_count": 58,
   "metadata": {},
   "outputs": [],
   "source": [
    "import hashlib\n",
    "import re"
   ]
  },
  {
   "cell_type": "code",
   "execution_count": 59,
   "metadata": {},
   "outputs": [],
   "source": [
    "def string_to_md5(input_string):\n",
    "    # Create an MD5 hash object\n",
    "    md5_hash = hashlib.md5()\n",
    "    # Update the hash object with the bytes of the input string\n",
    "    md5_hash.update(input_string.encode())\n",
    "    # Get the hexadecimal representation of the hash\n",
    "    hex_digest = md5_hash.hexdigest()\n",
    "    return hex_digest"
   ]
  },
  {
   "cell_type": "code",
   "execution_count": 60,
   "metadata": {},
   "outputs": [
    {
     "name": "stdout",
     "output_type": "stream",
     "text": [
      "000008bfb72caf77542c32b53a73439b\n",
      "0000004ed0ede071d293b5f33de2dc2f\n",
      "0000012be6057b2554c26bfddab18b08\n",
      "00000bf3f1ca8d1f229aa50b3093b2be\n",
      "00000512874cc40b764728993dd71ffb\n",
      "0000069710beec5f9a1943a610be52d8\n",
      "00000a8da36ee9b7e193f956cf701911\n",
      "00000776b6ff41a7e30ed2d4b6663351\n",
      "801b56a7\n"
     ]
    }
   ],
   "source": [
    "# Example usage\n",
    "list_char = [] \n",
    "i = 0\n",
    "while len(list_char) < 8:\n",
    "    md5_hex = string_to_md5('abbhdwsy' + str(i))\n",
    "    if md5_hex[:5] == '00000':\n",
    "        print(md5_hex)\n",
    "        list_char += md5_hex[5]\n",
    "    i += 1\n",
    "print(''.join(list_char))"
   ]
  },
  {
   "cell_type": "code",
   "execution_count": 66,
   "metadata": {},
   "outputs": [
    {
     "name": "stdout",
     "output_type": "stream",
     "text": [
      "0000004ed0ede071d293b5f33de2dc2f\n",
      "0000012be6057b2554c26bfddab18b08\n",
      "00000512874cc40b764728993dd71ffb\n",
      "0000069710beec5f9a1943a610be52d8\n",
      "00000776b6ff41a7e30ed2d4b6663351\n",
      "0000024cc74f8456ee0a717f3d9446c3\n",
      "0000040cbee050fc9d43ebef7823c70e\n",
      "000003af31f09c411f2d74a7c8f41831\n",
      "424a0197\n"
     ]
    }
   ],
   "source": [
    "# Example usage\n",
    "list_char = ['', '', '', '', '', '', '', ''] \n",
    "i = 0\n",
    "while '' in list_char:\n",
    "    md5_hex = string_to_md5('abbhdwsy' + str(i))\n",
    "    if md5_hex[:5] == '00000' and len(re.findall('\\d+', md5_hex[5])) == 1:\n",
    "        if (0 <= int(md5_hex[5]) < 8) and list_char[int(md5_hex[5])] == '':\n",
    "            print(md5_hex)\n",
    "            list_char[int(md5_hex[5])] = md5_hex[6]\n",
    "    i += 1\n",
    "print(''.join(list_char))"
   ]
  }
 ],
 "metadata": {
  "kernelspec": {
   "display_name": "chgen",
   "language": "python",
   "name": "python3"
  },
  "language_info": {
   "codemirror_mode": {
    "name": "ipython",
    "version": 3
   },
   "file_extension": ".py",
   "mimetype": "text/x-python",
   "name": "python",
   "nbconvert_exporter": "python",
   "pygments_lexer": "ipython3",
   "version": "3.11.7"
  }
 },
 "nbformat": 4,
 "nbformat_minor": 2
}

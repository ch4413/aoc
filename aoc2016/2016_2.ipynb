{
 "cells": [
  {
   "cell_type": "code",
   "execution_count": 131,
   "metadata": {},
   "outputs": [],
   "source": [
    "import itertools\n",
    "import re\n",
    "import numpy as np"
   ]
  },
  {
   "cell_type": "code",
   "execution_count": 33,
   "metadata": {},
   "outputs": [],
   "source": [
    "with open('input2.txt', \"r\") as file:\n",
    "    text = file.read().split()\n",
    "    #text = re.findall('[LR]\\d+', text)"
   ]
  },
  {
   "cell_type": "code",
   "execution_count": 47,
   "metadata": {},
   "outputs": [],
   "source": [
    "keypad = np.array([[1, 2, 3], [4, 5, 6], [7, 8, 9]])"
   ]
  },
  {
   "cell_type": "code",
   "execution_count": 49,
   "metadata": {},
   "outputs": [
    {
     "name": "stdout",
     "output_type": "stream",
     "text": [
      "4\n",
      "4\n",
      "5\n",
      "5\n",
      "8\n"
     ]
    }
   ],
   "source": [
    "position = [1, 1]\n",
    "#test = ['ULL', 'RRDDD', 'LURDL', 'UUUUD']\n",
    "for line in text:\n",
    "    for char in list(line):\n",
    "        if char == 'D':\n",
    "            position[0] = min(position[0] + 1, 2)\n",
    "        if char == 'U':\n",
    "            position[0] = max(position[0] - 1, 0)\n",
    "        if char == 'L':\n",
    "            position[1] = max(position[1] - 1, 0)\n",
    "        if char == 'R':\n",
    "            position[1] = min(position[1] + 1, 2)\n",
    "    print(keypad[position[0], position[1]])"
   ]
  },
  {
   "cell_type": "code",
   "execution_count": 53,
   "metadata": {},
   "outputs": [],
   "source": [
    "keypad = np.array([[0, 0, 1, 0, 0], [0, 2, 3, 4, 0], [5, 6, 7, 8, 9],\n",
    "                   [0, 'A', 'B', 'C', 0], [0, 0, 'D', 0, 0]])"
   ]
  },
  {
   "cell_type": "code",
   "execution_count": 58,
   "metadata": {},
   "outputs": [
    {
     "name": "stdout",
     "output_type": "stream",
     "text": [
      "6\n",
      "B\n",
      "B\n",
      "A\n",
      "D\n"
     ]
    }
   ],
   "source": [
    "position = [2, 0]\n",
    "test = ['ULL', 'RRDDD', 'LURDL', 'UUUUD']\n",
    "for line in text:\n",
    "    for char in list(line):\n",
    "        if char == 'D':\n",
    "            new_coord = [min(position[0] + 1, 4), position[1]]\n",
    "            if keypad[new_coord[0], new_coord[1]] != '0':\n",
    "                position = new_coord\n",
    "        if char == 'U':\n",
    "            new_coord = [max(position[0] - 1, 0), position[1]]\n",
    "            if keypad[new_coord[0], new_coord[1]] != '0':\n",
    "                position = new_coord\n",
    "        if char == 'L':\n",
    "            new_coord = [position[0], max(position[1] - 1, 0)]\n",
    "            if keypad[new_coord[0], new_coord[1]] != '0':\n",
    "                position = new_coord\n",
    "        if char == 'R':\n",
    "            new_coord = [position[0], min(position[1] + 1, 4)]\n",
    "            if keypad[new_coord[0], new_coord[1]] != '0':\n",
    "                position = new_coord\n",
    "    print(keypad[position[0], position[1]])"
   ]
  },
  {
   "cell_type": "code",
   "execution_count": null,
   "metadata": {},
   "outputs": [],
   "source": []
  }
 ],
 "metadata": {
  "kernelspec": {
   "display_name": "chgen",
   "language": "python",
   "name": "python3"
  },
  "language_info": {
   "codemirror_mode": {
    "name": "ipython",
    "version": 3
   },
   "file_extension": ".py",
   "mimetype": "text/x-python",
   "name": "python",
   "nbconvert_exporter": "python",
   "pygments_lexer": "ipython3",
   "version": "3.11.7"
  }
 },
 "nbformat": 4,
 "nbformat_minor": 2
}

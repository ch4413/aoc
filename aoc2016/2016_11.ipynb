{
 "cells": [
  {
   "cell_type": "code",
   "execution_count": 3,
   "metadata": {},
   "outputs": [],
   "source": [
    "import re"
   ]
  },
  {
   "cell_type": "code",
   "execution_count": 4,
   "metadata": {},
   "outputs": [],
   "source": [
    "with open('input11.txt', \"r\") as file:\n",
    "    text = file.read().strip().split('\\n')"
   ]
  },
  {
   "cell_type": "code",
   "execution_count": 5,
   "metadata": {},
   "outputs": [],
   "source": [
    "#1. Chips can only be left with generators if they are with their corresponding generator\n",
    "#2. Must stop at each floor\n",
    "#3. Must move 1 or 2 items each time\n",
    "#4 All items to the top floor"
   ]
  },
  {
   "cell_type": "code",
   "execution_count": 7,
   "metadata": {},
   "outputs": [
    {
     "name": "stdout",
     "output_type": "stream",
     "text": [
      "The first floor contains a polonium generator, a thulium generator, a thulium-compatible microchip, a promethium generator, a ruthenium generator, a ruthenium-compatible microchip, a cobalt generator, and a cobalt-compatible microchip.\n",
      "The second floor contains a polonium-compatible microchip and a promethium-compatible microchip.\n",
      "The third floor contains nothing relevant.\n",
      "The fourth floor contains nothing relevant.\n"
     ]
    }
   ],
   "source": [
    "for i in text:\n",
    "    print(i)"
   ]
  },
  {
   "cell_type": "code",
   "execution_count": 8,
   "metadata": {},
   "outputs": [],
   "source": [
    "import numpy as np"
   ]
  },
  {
   "cell_type": "code",
   "execution_count": 11,
   "metadata": {},
   "outputs": [],
   "source": [
    "# state_dict = {'PoM': 2, 'PrM': 2, \n",
    "#                'PoG': 1, 'ThG': 1, 'ThM': 1, 'PrG': 1, 'RuG': 1, 'RuM': 1,\n",
    "#                'CoG': 1, 'CoM': 1}"
   ]
  },
  {
   "cell_type": "code",
   "execution_count": 12,
   "metadata": {},
   "outputs": [],
   "source": [
    "floor_dict = {'4': [],\n",
    "              '3': [],\n",
    "              '2': ['PoM', 'PrM'],\n",
    "              '1': ['PoG', 'ThG', 'ThM', 'PrG', 'RuG', 'RuM', 'CoG', 'CoM']}"
   ]
  },
  {
   "cell_type": "code",
   "execution_count": 13,
   "metadata": {},
   "outputs": [],
   "source": [
    "elevator_state = 1"
   ]
  },
  {
   "cell_type": "code",
   "execution_count": 25,
   "metadata": {},
   "outputs": [
    {
     "name": "stdout",
     "output_type": "stream",
     "text": [
      "[8, 2, 0, 0] 0\n",
      "[0, 10, 0, 0] 13\n",
      "[0, 0, 10, 0] 30\n",
      "47\n",
      "[12, 2, 0, 0] 0\n",
      "[0, 14, 0, 0] 21\n",
      "[0, 0, 14, 0] 46\n",
      "71\n"
     ]
    }
   ],
   "source": [
    "items_part_one = [8, 2, 0, 0]\n",
    "items_part_two = [12, 2, 0, 0]\n",
    "\n",
    "def get_moves(items):\n",
    "    \"\"\"\n",
    "    Through playing around with bolts and nuts,\n",
    "    I came across the optimal strategy, move things up a floor at a time\n",
    "\n",
    "    I also discovered to move n items up 1 floor,\n",
    "        it requires 2 * (n - 1) - 1 moves\n",
    "\n",
    "    So assuming a \"good\" start state, it doesn't matter what is on what floor\n",
    "    Just the number of things per floor\n",
    "    \"\"\"\n",
    "    moves = 0\n",
    "    while items[-1] != sum(items):\n",
    "        print(items, moves)\n",
    "        # print moves, items\n",
    "        lowest_floor = 0\n",
    "        while items[lowest_floor] == 0:\n",
    "            lowest_floor += 1\n",
    "        moves += 2 * (items[lowest_floor] - 1) - 1\n",
    "        items[lowest_floor + 1] += items[lowest_floor]\n",
    "        items[lowest_floor] = 0\n",
    "    return moves\n",
    "\n",
    "print (get_moves(items_part_one))\n",
    "print (get_moves(items_part_two))"
   ]
  }
 ],
 "metadata": {
  "kernelspec": {
   "display_name": "chgen",
   "language": "python",
   "name": "python3"
  },
  "language_info": {
   "codemirror_mode": {
    "name": "ipython",
    "version": 3
   },
   "file_extension": ".py",
   "mimetype": "text/x-python",
   "name": "python",
   "nbconvert_exporter": "python",
   "pygments_lexer": "ipython3",
   "version": "3.11.7"
  }
 },
 "nbformat": 4,
 "nbformat_minor": 2
}

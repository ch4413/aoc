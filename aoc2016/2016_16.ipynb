{
 "cells": [
  {
   "cell_type": "code",
   "execution_count": 1,
   "metadata": {},
   "outputs": [],
   "source": [
    "val = '01000100010010111'"
   ]
  },
  {
   "cell_type": "code",
   "execution_count": 40,
   "metadata": {},
   "outputs": [],
   "source": [
    "def dragon_code(a):\n",
    "    b = a[::-1]\n",
    "    translation_table = str.maketrans(\"01\", \"10\")\n",
    "    b = b.translate(translation_table)\n",
    "    return f'{a}0{b}'\n",
    "\n",
    "def check_sum(test):\n",
    "    def odd(test):\n",
    "        if test in ['11', '00']:\n",
    "            return '1'\n",
    "        else:\n",
    "            return '0'\n",
    "    \n",
    "    return ''.join([ odd(test[x:x+2]) for x in range(0, len(test), 2)])"
   ]
  },
  {
   "cell_type": "code",
   "execution_count": 49,
   "metadata": {},
   "outputs": [],
   "source": [
    "def return_ans(string_one, n):\n",
    "    while len(string_one) < n:\n",
    "        string_one = dragon_code(string_one)\n",
    "    string_output = string_one[:n]\n",
    "    string_output\n",
    "    while len(string_output) % 2 == 0:\n",
    "        string_output = check_sum(string_output)\n",
    "    return string_output"
   ]
  },
  {
   "cell_type": "code",
   "execution_count": 54,
   "metadata": {},
   "outputs": [
    {
     "data": {
      "text/plain": [
       "'10010010110011010'"
      ]
     },
     "execution_count": 54,
     "metadata": {},
     "output_type": "execute_result"
    }
   ],
   "source": [
    "return_ans('01000100010010111', 272)"
   ]
  },
  {
   "cell_type": "code",
   "execution_count": 55,
   "metadata": {},
   "outputs": [
    {
     "data": {
      "text/plain": [
       "'01010100101011100'"
      ]
     },
     "execution_count": 55,
     "metadata": {},
     "output_type": "execute_result"
    }
   ],
   "source": [
    "return_ans('01000100010010111', 35651584)"
   ]
  }
 ],
 "metadata": {
  "kernelspec": {
   "display_name": "chgen",
   "language": "python",
   "name": "python3"
  },
  "language_info": {
   "codemirror_mode": {
    "name": "ipython",
    "version": 3
   },
   "file_extension": ".py",
   "mimetype": "text/x-python",
   "name": "python",
   "nbconvert_exporter": "python",
   "pygments_lexer": "ipython3",
   "version": "3.10.14"
  }
 },
 "nbformat": 4,
 "nbformat_minor": 2
}

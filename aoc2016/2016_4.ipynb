{
 "cells": [
  {
   "cell_type": "code",
   "execution_count": 24,
   "metadata": {},
   "outputs": [],
   "source": [
    "import re\n",
    "from collections import Counter"
   ]
  },
  {
   "cell_type": "code",
   "execution_count": 43,
   "metadata": {},
   "outputs": [],
   "source": [
    "with open('input4.txt', \"r\") as file:\n",
    "    text = file.read().strip().split('\\n')"
   ]
  },
  {
   "cell_type": "code",
   "execution_count": 84,
   "metadata": {},
   "outputs": [
    {
     "data": {
      "text/plain": [
       "158835"
      ]
     },
     "execution_count": 84,
     "metadata": {},
     "output_type": "execute_result"
    }
   ],
   "source": [
    "total = 0\n",
    "good_list = []\n",
    "for i in text:\n",
    "    counter = Counter(re.findall(r'[a-z]', i[:-7]))\n",
    "    sorted_items = sorted(counter.items(), key=lambda item: (-item[1], item[0]))\n",
    "    if ''.join([x[0] for x in sorted_items[:5]]) == i[-6:-1]:\n",
    "        total += int(re.findall('\\d+', i)[0])\n",
    "        good_list.append(i)\n",
    "total"
   ]
  },
  {
   "cell_type": "code",
   "execution_count": 51,
   "metadata": {},
   "outputs": [],
   "source": [
    "def find_indices(lst, value):\n",
    "    return [index for index, element in enumerate(lst) if element == value][0]"
   ]
  },
  {
   "cell_type": "code",
   "execution_count": 60,
   "metadata": {},
   "outputs": [],
   "source": [
    "def decrypt_letter(letter, decrypt_value):\n",
    "    letters = ['a', 'b', 'c', 'd', 'e', 'f', 'g', 'h', 'i', 'j', 'k', 'l',\n",
    " 'm', 'n', 'o', 'p', 'q', 'r', 's','t', 'u', 'v', 'w', 'x', 'y', 'z']\n",
    "    index = find_indices(letters, letter)\n",
    "    return letters[(decrypt_value + index) % 26]\n"
   ]
  },
  {
   "cell_type": "code",
   "execution_count": 86,
   "metadata": {},
   "outputs": [],
   "source": [
    "def decrypt_string(string):\n",
    "    decrypt_value = int(re.findall(r'\\d+', string)[0])\n",
    "    new_string = []\n",
    "    for i in re.findall('[a-z]', string[:-10]):\n",
    "        new_string += decrypt_letter(i, decrypt_value)\n",
    "    return ''.join(new_string), decrypt_value"
   ]
  },
  {
   "cell_type": "code",
   "execution_count": 91,
   "metadata": {},
   "outputs": [
    {
     "name": "stdout",
     "output_type": "stream",
     "text": [
      "northpoleobjectstorage 993\n"
     ]
    }
   ],
   "source": [
    "for i in good_list:\n",
    "    string, num = decrypt_string(i)\n",
    "    if 'north' in string:\n",
    "        print(string, num)"
   ]
  }
 ],
 "metadata": {
  "kernelspec": {
   "display_name": "chgen",
   "language": "python",
   "name": "python3"
  },
  "language_info": {
   "codemirror_mode": {
    "name": "ipython",
    "version": 3
   },
   "file_extension": ".py",
   "mimetype": "text/x-python",
   "name": "python",
   "nbconvert_exporter": "python",
   "pygments_lexer": "ipython3",
   "version": "3.11.7"
  }
 },
 "nbformat": 4,
 "nbformat_minor": 2
}

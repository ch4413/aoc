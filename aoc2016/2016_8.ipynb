{
 "cells": [
  {
   "cell_type": "code",
   "execution_count": 2,
   "metadata": {},
   "outputs": [],
   "source": [
    "import re\n",
    "import numpy as np"
   ]
  },
  {
   "cell_type": "code",
   "execution_count": 3,
   "metadata": {},
   "outputs": [],
   "source": [
    "with open('input8.txt', \"r\") as file:\n",
    "    text = file.read().strip().split('\\n')"
   ]
  },
  {
   "cell_type": "code",
   "execution_count": 46,
   "metadata": {},
   "outputs": [],
   "source": [
    "blank = np.zeros([6, 50])\n",
    "for i in text:\n",
    "    a, b = re.findall('\\d+', i)\n",
    "    stuff = i.split(' ')\n",
    "    a = int(a)\n",
    "    b = int(b)\n",
    "    if stuff[0].strip() == 'rect':\n",
    "        blank[:b, :a] = 1\n",
    "    elif stuff[0].strip() == 'rotate':\n",
    "        if stuff[1].strip() == 'row':\n",
    "            blank[a, :] = np.roll(blank[a, :], b)\n",
    "        elif stuff[1].strip() == 'column':\n",
    "            blank[:, a] = np.roll(blank[:, a], b)\n",
    "        else:\n",
    "            print('rect error')\n",
    "    else:\n",
    "        print('read error')"
   ]
  },
  {
   "cell_type": "code",
   "execution_count": 57,
   "metadata": {},
   "outputs": [
    {
     "data": {
      "text/plain": [
       "115.0"
      ]
     },
     "execution_count": 57,
     "metadata": {},
     "output_type": "execute_result"
    }
   ],
   "source": [
    "# Part 1\n",
    "blank.sum()"
   ]
  },
  {
   "cell_type": "code",
   "execution_count": 56,
   "metadata": {},
   "outputs": [
    {
     "name": "stdout",
     "output_type": "stream",
     "text": [
      "[[1. 1. 1. 1. 0.]\n",
      " [1. 0. 0. 0. 0.]\n",
      " [1. 1. 1. 0. 0.]\n",
      " [1. 0. 0. 0. 0.]\n",
      " [1. 0. 0. 0. 0.]\n",
      " [1. 1. 1. 1. 0.]]\n",
      " \n",
      "[[1. 1. 1. 1. 0.]\n",
      " [1. 0. 0. 0. 0.]\n",
      " [1. 1. 1. 0. 0.]\n",
      " [1. 0. 0. 0. 0.]\n",
      " [1. 0. 0. 0. 0.]\n",
      " [1. 0. 0. 0. 0.]]\n",
      " \n",
      "[[1. 1. 1. 1. 0.]\n",
      " [1. 0. 0. 0. 0.]\n",
      " [1. 1. 1. 0. 0.]\n",
      " [1. 0. 0. 0. 0.]\n",
      " [1. 0. 0. 0. 0.]\n",
      " [1. 1. 1. 1. 0.]]\n",
      " \n",
      "[[1. 0. 0. 0. 1.]\n",
      " [1. 0. 0. 0. 1.]\n",
      " [0. 1. 0. 1. 0.]\n",
      " [0. 0. 1. 0. 0.]\n",
      " [0. 0. 1. 0. 0.]\n",
      " [0. 0. 1. 0. 0.]]\n",
      " \n",
      "[[1. 0. 0. 1. 0.]\n",
      " [1. 0. 1. 0. 0.]\n",
      " [1. 1. 0. 0. 0.]\n",
      " [1. 0. 1. 0. 0.]\n",
      " [1. 0. 1. 0. 0.]\n",
      " [1. 0. 0. 1. 0.]]\n",
      " \n",
      "[[1. 1. 1. 1. 0.]\n",
      " [1. 0. 0. 0. 0.]\n",
      " [1. 1. 1. 0. 0.]\n",
      " [1. 0. 0. 0. 0.]\n",
      " [1. 0. 0. 0. 0.]\n",
      " [1. 0. 0. 0. 0.]]\n",
      " \n",
      "[[1. 1. 1. 0. 0.]\n",
      " [1. 0. 0. 1. 0.]\n",
      " [1. 0. 0. 1. 0.]\n",
      " [1. 1. 1. 0. 0.]\n",
      " [1. 0. 1. 0. 0.]\n",
      " [1. 0. 0. 1. 0.]]\n",
      " \n",
      "[[1. 1. 1. 1. 0.]\n",
      " [1. 0. 0. 0. 0.]\n",
      " [1. 1. 1. 0. 0.]\n",
      " [1. 0. 0. 0. 0.]\n",
      " [1. 0. 0. 0. 0.]\n",
      " [1. 0. 0. 0. 0.]]\n",
      " \n",
      "[[0. 1. 1. 1. 0.]\n",
      " [0. 0. 1. 0. 0.]\n",
      " [0. 0. 1. 0. 0.]\n",
      " [0. 0. 1. 0. 0.]\n",
      " [0. 0. 1. 0. 0.]\n",
      " [0. 1. 1. 1. 0.]]\n",
      " \n",
      "[[0. 0. 1. 1. 0.]\n",
      " [0. 0. 0. 1. 0.]\n",
      " [0. 0. 0. 1. 0.]\n",
      " [0. 0. 0. 1. 0.]\n",
      " [1. 0. 0. 1. 0.]\n",
      " [0. 1. 1. 0. 0.]]\n",
      " \n"
     ]
    }
   ],
   "source": [
    "# Part 2 - could add grid to letter ML\n",
    "for i in range(0, blank.shape[1], 5):\n",
    "    print(blank[:6, i: i + 5])\n",
    "    print(' ') # EFEYKFRFIJ"
   ]
  },
  {
   "cell_type": "code",
   "execution_count": null,
   "metadata": {},
   "outputs": [],
   "source": []
  }
 ],
 "metadata": {
  "kernelspec": {
   "display_name": "chgen",
   "language": "python",
   "name": "python3"
  },
  "language_info": {
   "codemirror_mode": {
    "name": "ipython",
    "version": 3
   },
   "file_extension": ".py",
   "mimetype": "text/x-python",
   "name": "python",
   "nbconvert_exporter": "python",
   "pygments_lexer": "ipython3",
   "version": "3.11.7"
  }
 },
 "nbformat": 4,
 "nbformat_minor": 2
}

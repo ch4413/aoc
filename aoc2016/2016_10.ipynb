{
 "cells": [
  {
   "cell_type": "code",
   "execution_count": 3,
   "metadata": {},
   "outputs": [],
   "source": [
    "import re"
   ]
  },
  {
   "cell_type": "code",
   "execution_count": 4,
   "metadata": {},
   "outputs": [],
   "source": [
    "with open('input10.txt', \"r\") as file:\n",
    "    text = file.read().strip().split('\\n')"
   ]
  },
  {
   "cell_type": "code",
   "execution_count": 5,
   "metadata": {},
   "outputs": [],
   "source": [
    "def create_bot_stats(bot, low, high):\n",
    "    return {bot: {'low': low, 'high': high, 'chips': []}}"
   ]
  },
  {
   "cell_type": "code",
   "execution_count": 6,
   "metadata": {},
   "outputs": [],
   "source": [
    "details = ['value 5 goes to bot 2',\n",
    "'bot 2 gives low to bot 1 and high to bot 0',\n",
    "'value 3 goes to bot 1',\n",
    "'bot 1 gives low to output 1 and high to bot 0',\n",
    "'bot 0 gives low to output 2 and high to output 0',\n",
    "'value 2 goes to bot 2']"
   ]
  },
  {
   "cell_type": "code",
   "execution_count": 10,
   "metadata": {},
   "outputs": [],
   "source": [
    "def pass_chip(bot, bot_dict):\n",
    "    if 'output' in bot:\n",
    "        return\n",
    "    if (len(bot_dict[bot]['chips']) < 2):\n",
    "        return\n",
    "    else:\n",
    "        high = max(bot_dict[bot]['chips'])\n",
    "        low = min(bot_dict[bot]['chips'])\n",
    "        high_dict = bot_dict[bot]['high']\n",
    "        low_dict = bot_dict[bot]['low']\n",
    "\n",
    "        if 'output' in high_dict:\n",
    "            bot_dict[high_dict] = high\n",
    "        else:\n",
    "            bot_dict[high_dict]['chips'].append(high)\n",
    "        if 'output' in low_dict:\n",
    "            bot_dict[low_dict] = low\n",
    "        else:\n",
    "            bot_dict[low_dict]['chips'].append(low)\n",
    "\n",
    "        if set(bot_dict[bot]['chips']) == set([17, 61]):\n",
    "            print(bot, bot_dict[bot]['chips']) \n",
    "        bot_dict[bot]['chips'] = []\n",
    "        return pass_chip(high_dict, bot_dict), pass_chip(low_dict, bot_dict)"
   ]
  },
  {
   "cell_type": "code",
   "execution_count": 11,
   "metadata": {},
   "outputs": [
    {
     "name": "stdout",
     "output_type": "stream",
     "text": [
      "bot 73 [17, 61]\n"
     ]
    }
   ],
   "source": [
    "text2 = sorted(text)\n",
    "bot_dict = {}\n",
    "for i in text2:\n",
    "    if re.findall(r'\\w+', i)[0] == 'value':\n",
    "        value, bot = re.findall(r'\\d+', i)\n",
    "        bot_dict[f'bot {bot}']['chips'].append(int(value))\n",
    "        pass_chip(f'bot {bot}', bot_dict)\n",
    "    else:\n",
    "        values = re.findall('bot \\d+|output \\d+', i)\n",
    "        bot_dict.update(create_bot_stats(values[0], values[1], values[2]))"
   ]
  },
  {
   "cell_type": "code",
   "execution_count": 12,
   "metadata": {},
   "outputs": [
    {
     "data": {
      "text/plain": [
       "3965"
      ]
     },
     "execution_count": 12,
     "metadata": {},
     "output_type": "execute_result"
    }
   ],
   "source": [
    "bot_dict['output 0'] * bot_dict['output 1'] * bot_dict['output 2']"
   ]
  },
  {
   "cell_type": "code",
   "execution_count": 100,
   "metadata": {},
   "outputs": [],
   "source": [
    "# from collections import defaultdict\n",
    "# class Bot(object):\n",
    "#     def __init__(self):\n",
    "#         self.values = []\n",
    "#         self.number = 0\n",
    "#         self.low = None\n",
    "#         self.high = None\n",
    "\n",
    "#     def receive(self, value):\n",
    "#         self.values.append(value)\n",
    "#         self.check()\n",
    "\n",
    "#     def check(self):\n",
    "#         print(self.number, self.values)\n",
    "#         if self.low and self.high and len(self.values) == 2:\n",
    "#             self.low.receive(min(self.values))\n",
    "#             self.high.receive(max(self.values))\n",
    "#             self.values = []\n",
    "\n",
    "# bots = defaultdict(Bot)\n",
    "\n",
    "# class OutputBin(object):\n",
    "#     def __init__(self):\n",
    "#         self.values = []\n",
    "\n",
    "#     def receive(self, value):\n",
    "#         self.values.append(value)\n",
    "\n",
    "#     def __str__(self):\n",
    "#         return 'Bin with ' + ', '.join(map(str, self.values))\n",
    "    \n",
    "# outputs = defaultdict(OutputBin)"
   ]
  },
  {
   "cell_type": "code",
   "execution_count": 75,
   "metadata": {},
   "outputs": [],
   "source": [
    "# for command in text2:\n",
    "#     terms = command.split()\n",
    "#     if terms[0] == 'value':\n",
    "#         bots[int(terms[5])].number = int(terms[5])\n",
    "#         bots[int(terms[5])].receive(int(terms[1]))\n",
    "#     else: \n",
    "#         lower_dict = bots if terms[5] == 'bot' else outputs\n",
    "#         higher_dict = bots if terms[10] == 'bot' else outputs\n",
    "#         lower = lower_dict[int(terms[6])]\n",
    "#         higher = higher_dict[int(terms[11])]\n",
    "#         bots[int(terms[1])].number = int(terms[1])\n",
    "#         bots[int(terms[1])].low = lower\n",
    "#         bots[int(terms[1])].high = higher\n",
    "#         bots[int(terms[1])].check()"
   ]
  }
 ],
 "metadata": {
  "kernelspec": {
   "display_name": "chgen",
   "language": "python",
   "name": "python3"
  },
  "language_info": {
   "codemirror_mode": {
    "name": "ipython",
    "version": 3
   },
   "file_extension": ".py",
   "mimetype": "text/x-python",
   "name": "python",
   "nbconvert_exporter": "python",
   "pygments_lexer": "ipython3",
   "version": "3.11.7"
  }
 },
 "nbformat": 4,
 "nbformat_minor": 2
}

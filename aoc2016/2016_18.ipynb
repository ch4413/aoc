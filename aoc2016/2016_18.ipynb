{
 "cells": [
  {
   "cell_type": "code",
   "execution_count": 41,
   "metadata": {},
   "outputs": [],
   "source": [
    "import numpy as np"
   ]
  },
  {
   "cell_type": "code",
   "execution_count": 99,
   "metadata": {},
   "outputs": [],
   "source": [
    "with open('input18.txt', \"r\") as file:\n",
    "        text = file.read().strip().split('\\n')[0]"
   ]
  },
  {
   "cell_type": "code",
   "execution_count": 102,
   "metadata": {},
   "outputs": [],
   "source": [
    "def find_spaces(rows, first_row):\n",
    "    # Created padded starter grid\n",
    "    row1 = list(first_row.replace('.', '0').replace('^', '1'))\n",
    "    map = np.full([rows, len(row1)], '0')\n",
    "    map[0, :] = row1\n",
    "    padded_map = np.pad(map, pad_width=1, mode='constant', constant_values='0')\n",
    "\n",
    "    for y in range(2, rows+1):\n",
    "        for x in range(1, 101):\n",
    "            # Find values l, c, r\n",
    "            left = padded_map[y-1, x-1]\n",
    "            centre = padded_map[y-1, x]\n",
    "            right = padded_map[y-1, x+1]\n",
    "            pattern = ''.join([left, centre, right])\n",
    "            # Compare patters\n",
    "            if pattern in ('110', '011', '100', '001'):\n",
    "                padded_map[y, x] = '1'\n",
    "    # Remove padding\n",
    "    map_rm_pad = padded_map[1:rows+1, 1:101]\n",
    "    return (map_rm_pad == '0').sum()"
   ]
  },
  {
   "cell_type": "code",
   "execution_count": 103,
   "metadata": {},
   "outputs": [
    {
     "data": {
      "text/plain": [
       "1987"
      ]
     },
     "execution_count": 103,
     "metadata": {},
     "output_type": "execute_result"
    }
   ],
   "source": [
    "# Part 1\n",
    "find_spaces(40, text)"
   ]
  },
  {
   "cell_type": "code",
   "execution_count": 104,
   "metadata": {},
   "outputs": [
    {
     "data": {
      "text/plain": [
       "19984714"
      ]
     },
     "execution_count": 104,
     "metadata": {},
     "output_type": "execute_result"
    }
   ],
   "source": [
    "# Part 2\n",
    "find_spaces(400000, text)"
   ]
  }
 ],
 "metadata": {
  "kernelspec": {
   "display_name": "chgen",
   "language": "python",
   "name": "python3"
  },
  "language_info": {
   "codemirror_mode": {
    "name": "ipython",
    "version": 3
   },
   "file_extension": ".py",
   "mimetype": "text/x-python",
   "name": "python",
   "nbconvert_exporter": "python",
   "pygments_lexer": "ipython3",
   "version": "3.10.14"
  }
 },
 "nbformat": 4,
 "nbformat_minor": 2
}

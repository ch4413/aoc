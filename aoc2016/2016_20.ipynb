{
 "cells": [
  {
   "cell_type": "code",
   "execution_count": 2,
   "metadata": {},
   "outputs": [],
   "source": [
    "import pandas as pd"
   ]
  },
  {
   "cell_type": "code",
   "execution_count": 3,
   "metadata": {},
   "outputs": [],
   "source": [
    "with open('input20.txt', \"r\") as file:\n",
    "        text = file.read().strip().split('\\n')\n",
    "val_pairs = [list(map(int, x.split('-'))) for x in text]\n",
    "val_pairs = pd.DataFrame(val_pairs).sort_values(0)"
   ]
  },
  {
   "cell_type": "code",
   "execution_count": 4,
   "metadata": {},
   "outputs": [
    {
     "name": "stdout",
     "output_type": "stream",
     "text": [
      "17348574 104\n"
     ]
    }
   ],
   "source": [
    "lower = 0\n",
    "upper = 0\n",
    "lowest = []\n",
    "ips = 0\n",
    "for _, row in val_pairs.iterrows():\n",
    "    if  (lower <= row[0] <= upper) and upper < row[1]:\n",
    "        #print(f'inclusive range {lower}-{upper} extended to {lower}-{row[1]}')\n",
    "        upper = row[1]\n",
    "    elif row[0] > upper:\n",
    "        lowest.append(row[0] - 1)\n",
    "        #print(f'{row[0] - 1} is value outside of {lower}-{upper} and {row[0]}')\n",
    "        ips += len(range(upper, row[0])) - 1\n",
    "        upper = row[1]\n",
    "    # else:\n",
    "    #     #print(f'{row[0]}-{row[1]} inclusive of {lower}-{upper}')\n",
    "    #     continue\n",
    "print(lowest[0], ips)"
   ]
  }
 ],
 "metadata": {
  "kernelspec": {
   "display_name": "chgen",
   "language": "python",
   "name": "python3"
  },
  "language_info": {
   "codemirror_mode": {
    "name": "ipython",
    "version": 3
   },
   "file_extension": ".py",
   "mimetype": "text/x-python",
   "name": "python",
   "nbconvert_exporter": "python",
   "pygments_lexer": "ipython3",
   "version": "3.10.14"
  }
 },
 "nbformat": 4,
 "nbformat_minor": 2
}

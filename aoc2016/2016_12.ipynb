{
 "cells": [
  {
   "cell_type": "code",
   "execution_count": 2,
   "metadata": {},
   "outputs": [],
   "source": [
    "with open('input12.txt', \"r\") as file:\n",
    "        text = file.read().strip().split('\\n')"
   ]
  },
  {
   "cell_type": "code",
   "execution_count": 3,
   "metadata": {},
   "outputs": [],
   "source": [
    "a= text[10].split(' ')"
   ]
  },
  {
   "cell_type": "code",
   "execution_count": 4,
   "metadata": {},
   "outputs": [],
   "source": [
    "# def read_commands(text, dict_values):\n",
    "#     def update_ab(text, dict_values):\n",
    "#         index = dict_values['index']\n",
    "#         if index > len(text) - 1:\n",
    "#             print(f\"Final Values: b is {dict_values['b']}, a is {dict_values['a']}, c is {dict_values['c']}, d is {dict_values['d']}\")\n",
    "#             return\n",
    "#         print(f\"{dict_values['a']}, {dict_values['b']}, {dict_values['c']}, {dict_values['d']} and the next command is {text[index]}\")\n",
    "#         cmd1 = text[index].split(' ')[0]\n",
    "#         if cmd1 == 'cpy':\n",
    "#             cmd1, cmd2, cmd3 = text[index].split(' ')\n",
    "#             if cmd2.isdigit():\n",
    "#                 dict_values[cmd3] = int(cmd2)\n",
    "#             else:\n",
    "#                 dict_values[cmd3] = dict_values[cmd2]\n",
    "#             dict_values['index'] += 1\n",
    "#         elif cmd1 == 'inc':\n",
    "#             cmd1, cmd2= text[index].split(' ')\n",
    "#             dict_values[cmd2] += 1\n",
    "#             dict_values['index'] += 1\n",
    "#         elif cmd1 == 'dec':\n",
    "#             cmd1, cmd2= text[index].split(' ')\n",
    "#             dict_values[cmd2] -= 1\n",
    "#             dict_values['index'] += 1\n",
    "#         elif cmd1 == 'jnz':\n",
    "#             cmd1, cmd2, cmd3 = text[index].split(' ')\n",
    "#             if cmd2.isdigit():\n",
    "#                 if cmd2 != 0:\n",
    "#                     dict_values['index'] += int(cmd3)\n",
    "#                 else:\n",
    "#                     dict_values['index'] += 1\n",
    "#             elif not cmd2.isdigit():\n",
    "#                 if dict_values[cmd2] != 0:\n",
    "#                     dict_values['index'] += int(cmd3)\n",
    "#                 else:\n",
    "#                     dict_values['index'] += 1\n",
    "#         else:\n",
    "#             print('failure')\n",
    "#         print(dict_values['index'])\n",
    "#         return update_ab(text, dict_values)\n",
    "#     update_ab(text, dict_values)"
   ]
  },
  {
   "cell_type": "code",
   "execution_count": 5,
   "metadata": {},
   "outputs": [],
   "source": [
    "# dict_values = {'a': 0, 'b': 0, 'c': 0, 'd': 0,'index': 0}\n",
    "# read_commands(text, dict_values)"
   ]
  },
  {
   "cell_type": "code",
   "execution_count": 6,
   "metadata": {},
   "outputs": [
    {
     "name": "stdout",
     "output_type": "stream",
     "text": [
      "star one: 318003\n",
      "star two: 9227657\n"
     ]
    }
   ],
   "source": [
    "class BunnyInterpreter:\n",
    "\n",
    "    def __init__(self, instructions, a=0, b=0, c=0, d=0):\n",
    "        self.a = a\n",
    "        self.b = b\n",
    "        self.c = c\n",
    "        self.d = d\n",
    "        self.instructions = instructions\n",
    "        self.pointer = 0\n",
    "\n",
    "    def grab(self, x):\n",
    "        if x in 'abcd':\n",
    "            return getattr(self, x)\n",
    "        return int(x)\n",
    "\n",
    "    def cpy(self, source, dest):\n",
    "        setattr(self, dest, self.grab(source))\n",
    "\n",
    "    def inc(self, register):\n",
    "        temp = getattr(self, register)\n",
    "        setattr(self, register, temp+1)\n",
    "\n",
    "    def dec(self, register):\n",
    "        temp = getattr(self, register)\n",
    "        setattr(self, register, temp-1)\n",
    "\n",
    "    def jnz(self, c, dist):\n",
    "        if self.grab(c) != 0:\n",
    "            self.pointer += int(dist)\n",
    "        else:\n",
    "            self.pointer += 1\n",
    "\n",
    "    def parse(self, ins):\n",
    "        op, *args = ins.split()\n",
    "        getattr(self, op)(*args)\n",
    "        if op != 'jnz':\n",
    "            self.pointer += 1\n",
    "\n",
    "    def run(self):\n",
    "        while self.pointer < len(self.instructions):\n",
    "            self.parse(self.instructions[self.pointer])\n",
    "\n",
    "b = BunnyInterpreter(text)\n",
    "c = BunnyInterpreter(text, c=1)\n",
    "b.run()\n",
    "c.run()\n",
    "print('star one: {}'.format(b.a))\n",
    "print('star two: {}'.format(c.a))"
   ]
  },
  {
   "cell_type": "code",
   "execution_count": null,
   "metadata": {},
   "outputs": [],
   "source": []
  }
 ],
 "metadata": {
  "kernelspec": {
   "display_name": "chgen",
   "language": "python",
   "name": "python3"
  },
  "language_info": {
   "codemirror_mode": {
    "name": "ipython",
    "version": 3
   },
   "file_extension": ".py",
   "mimetype": "text/x-python",
   "name": "python",
   "nbconvert_exporter": "python",
   "pygments_lexer": "ipython3",
   "version": "3.11.7"
  }
 },
 "nbformat": 4,
 "nbformat_minor": 2
}

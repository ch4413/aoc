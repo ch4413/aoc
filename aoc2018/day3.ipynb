{
 "cells": [
  {
   "cell_type": "code",
   "execution_count": 1,
   "metadata": {},
   "outputs": [],
   "source": [
    "import pandas as pd"
   ]
  },
  {
   "cell_type": "code",
   "execution_count": 2,
   "metadata": {},
   "outputs": [],
   "source": [
    "with open('input2.txt', \"r\") as file:\n",
    "        text = file.read().strip().split('\\n')"
   ]
  },
  {
   "cell_type": "code",
   "execution_count": 3,
   "metadata": {},
   "outputs": [
    {
     "data": {
      "text/plain": [
       "6642"
      ]
     },
     "execution_count": 3,
     "metadata": {},
     "output_type": "execute_result"
    }
   ],
   "source": [
    "count_twos = 0\n",
    "count_threes = 0\n",
    "for i in text:\n",
    "    count_twos += any(pd.Series(list(i)).value_counts() == 2)\n",
    "    count_threes += any(pd.Series(list(i)).value_counts() == 3)\n",
    "count_twos * count_threes"
   ]
  },
  {
   "cell_type": "code",
   "execution_count": 4,
   "metadata": {},
   "outputs": [
    {
     "name": "stdout",
     "output_type": "stream",
     "text": [
      "cvqlbidheyujgtrswxmckqnap\n",
      "cvqlbidheyujgtrswxmckqnap\n"
     ]
    }
   ],
   "source": [
    "for i in text:\n",
    "    for j in text:\n",
    "        list1 = list(i)\n",
    "        list2 = list(j)\n",
    "        comparison = [a == b for a, b in zip(list1, list2)]\n",
    "        if sum(comparison) == 25:\n",
    "            list1.pop(comparison.index(False))\n",
    "            print(''.join(list1))"
   ]
  }
 ],
 "metadata": {
  "kernelspec": {
   "display_name": "base",
   "language": "python",
   "name": "python3"
  },
  "language_info": {
   "codemirror_mode": {
    "name": "ipython",
    "version": 3
   },
   "file_extension": ".py",
   "mimetype": "text/x-python",
   "name": "python",
   "nbconvert_exporter": "python",
   "pygments_lexer": "ipython3",
   "version": "3.11.7"
  }
 },
 "nbformat": 4,
 "nbformat_minor": 2
}
